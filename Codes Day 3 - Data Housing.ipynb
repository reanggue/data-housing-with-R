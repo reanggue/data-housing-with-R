{
 "cells": [
  {
   "cell_type": "code",
   "execution_count": 8,
   "metadata": {
    "collapsed": true
   },
   "outputs": [],
   "source": [
    "data_housing <- read.csv(\"housing.csv\")"
   ]
  },
  {
   "cell_type": "code",
   "execution_count": null,
   "metadata": {
    "collapsed": true
   },
   "outputs": [],
   "source": []
  },
  {
   "cell_type": "code",
   "execution_count": 3,
   "metadata": {
    "collapsed": false
   },
   "outputs": [
    {
     "name": "stdout",
     "output_type": "stream",
     "text": [
      "'data.frame':\t1460 obs. of  25 variables:\n",
      " $ MSSubClass   : int  60 20 60 70 60 50 20 60 50 190 ...\n",
      " $ LotFrontage  : int  65 80 68 60 84 85 75 NA 51 50 ...\n",
      " $ LotArea      : int  8450 9600 11250 9550 14260 14115 10084 10382 6120 7420 ...\n",
      " $ OverallQual  : int  7 6 7 7 8 5 8 7 7 5 ...\n",
      " $ OverallCond  : int  5 8 5 5 5 5 5 6 5 6 ...\n",
      " $ YearBuilt    : int  2003 1976 2001 1915 2000 1993 2004 1973 1931 1939 ...\n",
      " $ YearRemodAdd : int  2003 1976 2002 1970 2000 1995 2005 1973 1950 1950 ...\n",
      " $ MasVnrArea   : int  196 0 162 0 350 0 186 240 0 0 ...\n",
      " $ TotalBsmtSF  : int  856 1262 920 756 1145 796 1686 1107 952 991 ...\n",
      " $ X1stFlrSF    : int  856 1262 920 961 1145 796 1694 1107 1022 1077 ...\n",
      " $ X2ndFlrSF    : int  854 0 866 756 1053 566 0 983 752 0 ...\n",
      " $ GrLivArea    : int  1710 1262 1786 1717 2198 1362 1694 2090 1774 1077 ...\n",
      " $ BedroomAbvGr : int  3 3 3 3 4 1 3 3 2 2 ...\n",
      " $ KitchenAbvGr : int  1 1 1 1 1 1 1 1 2 2 ...\n",
      " $ TotRmsAbvGrd : int  8 6 6 7 9 5 7 7 8 5 ...\n",
      " $ GarageArea   : int  548 460 608 642 836 480 636 484 468 205 ...\n",
      " $ WoodDeckSF   : int  0 298 0 0 192 40 255 235 90 0 ...\n",
      " $ OpenPorchSF  : int  61 0 42 35 84 30 57 204 0 4 ...\n",
      " $ EnclosedPorch: int  0 0 0 272 0 0 0 228 205 0 ...\n",
      " $ X3SsnPorch   : int  0 0 0 0 0 320 0 0 0 0 ...\n",
      " $ ScreenPorch  : int  0 0 0 0 0 0 0 0 0 0 ...\n",
      " $ PoolArea     : int  0 0 0 0 0 0 0 0 0 0 ...\n",
      " $ MoSold       : int  2 5 9 2 12 10 8 11 4 1 ...\n",
      " $ YrSold       : int  2008 2007 2008 2006 2008 2009 2007 2009 2008 2008 ...\n",
      " $ SalePrice    : int  208500 181500 223500 140000 250000 143000 307000 200000 129900 118000 ...\n"
     ]
    }
   ],
   "source": [
    "str(data_housing)"
   ]
  },
  {
   "cell_type": "code",
   "execution_count": null,
   "metadata": {
    "collapsed": true
   },
   "outputs": [],
   "source": []
  },
  {
   "cell_type": "code",
   "execution_count": null,
   "metadata": {
    "collapsed": true
   },
   "outputs": [],
   "source": []
  },
  {
   "cell_type": "markdown",
   "metadata": {},
   "source": [
    "### Add Missing Value"
   ]
  },
  {
   "cell_type": "code",
   "execution_count": 4,
   "metadata": {
    "collapsed": false
   },
   "outputs": [
    {
     "data": {
      "text/html": [
       "<dl class=dl-horizontal>\n",
       "\t<dt>MSSubClass</dt>\n",
       "\t\t<dd>0</dd>\n",
       "\t<dt>LotFrontage</dt>\n",
       "\t\t<dd>259</dd>\n",
       "\t<dt>LotArea</dt>\n",
       "\t\t<dd>0</dd>\n",
       "\t<dt>OverallQual</dt>\n",
       "\t\t<dd>0</dd>\n",
       "\t<dt>OverallCond</dt>\n",
       "\t\t<dd>0</dd>\n",
       "\t<dt>YearBuilt</dt>\n",
       "\t\t<dd>0</dd>\n",
       "\t<dt>YearRemodAdd</dt>\n",
       "\t\t<dd>0</dd>\n",
       "\t<dt>MasVnrArea</dt>\n",
       "\t\t<dd>8</dd>\n",
       "\t<dt>TotalBsmtSF</dt>\n",
       "\t\t<dd>0</dd>\n",
       "\t<dt>X1stFlrSF</dt>\n",
       "\t\t<dd>0</dd>\n",
       "\t<dt>X2ndFlrSF</dt>\n",
       "\t\t<dd>0</dd>\n",
       "\t<dt>GrLivArea</dt>\n",
       "\t\t<dd>0</dd>\n",
       "\t<dt>BedroomAbvGr</dt>\n",
       "\t\t<dd>0</dd>\n",
       "\t<dt>KitchenAbvGr</dt>\n",
       "\t\t<dd>0</dd>\n",
       "\t<dt>TotRmsAbvGrd</dt>\n",
       "\t\t<dd>0</dd>\n",
       "\t<dt>GarageArea</dt>\n",
       "\t\t<dd>0</dd>\n",
       "\t<dt>WoodDeckSF</dt>\n",
       "\t\t<dd>0</dd>\n",
       "\t<dt>OpenPorchSF</dt>\n",
       "\t\t<dd>0</dd>\n",
       "\t<dt>EnclosedPorch</dt>\n",
       "\t\t<dd>0</dd>\n",
       "\t<dt>X3SsnPorch</dt>\n",
       "\t\t<dd>0</dd>\n",
       "\t<dt>ScreenPorch</dt>\n",
       "\t\t<dd>0</dd>\n",
       "\t<dt>PoolArea</dt>\n",
       "\t\t<dd>0</dd>\n",
       "\t<dt>MoSold</dt>\n",
       "\t\t<dd>0</dd>\n",
       "\t<dt>YrSold</dt>\n",
       "\t\t<dd>0</dd>\n",
       "\t<dt>SalePrice</dt>\n",
       "\t\t<dd>0</dd>\n",
       "</dl>\n"
      ],
      "text/latex": [
       "\\begin{description*}\n",
       "\\item[MSSubClass] 0\n",
       "\\item[LotFrontage] 259\n",
       "\\item[LotArea] 0\n",
       "\\item[OverallQual] 0\n",
       "\\item[OverallCond] 0\n",
       "\\item[YearBuilt] 0\n",
       "\\item[YearRemodAdd] 0\n",
       "\\item[MasVnrArea] 8\n",
       "\\item[TotalBsmtSF] 0\n",
       "\\item[X1stFlrSF] 0\n",
       "\\item[X2ndFlrSF] 0\n",
       "\\item[GrLivArea] 0\n",
       "\\item[BedroomAbvGr] 0\n",
       "\\item[KitchenAbvGr] 0\n",
       "\\item[TotRmsAbvGrd] 0\n",
       "\\item[GarageArea] 0\n",
       "\\item[WoodDeckSF] 0\n",
       "\\item[OpenPorchSF] 0\n",
       "\\item[EnclosedPorch] 0\n",
       "\\item[X3SsnPorch] 0\n",
       "\\item[ScreenPorch] 0\n",
       "\\item[PoolArea] 0\n",
       "\\item[MoSold] 0\n",
       "\\item[YrSold] 0\n",
       "\\item[SalePrice] 0\n",
       "\\end{description*}\n"
      ],
      "text/markdown": [
       "MSSubClass\n",
       ":   0LotFrontage\n",
       ":   259LotArea\n",
       ":   0OverallQual\n",
       ":   0OverallCond\n",
       ":   0YearBuilt\n",
       ":   0YearRemodAdd\n",
       ":   0MasVnrArea\n",
       ":   8TotalBsmtSF\n",
       ":   0X1stFlrSF\n",
       ":   0X2ndFlrSF\n",
       ":   0GrLivArea\n",
       ":   0BedroomAbvGr\n",
       ":   0KitchenAbvGr\n",
       ":   0TotRmsAbvGrd\n",
       ":   0GarageArea\n",
       ":   0WoodDeckSF\n",
       ":   0OpenPorchSF\n",
       ":   0EnclosedPorch\n",
       ":   0X3SsnPorch\n",
       ":   0ScreenPorch\n",
       ":   0PoolArea\n",
       ":   0MoSold\n",
       ":   0YrSold\n",
       ":   0SalePrice\n",
       ":   0\n",
       "\n"
      ],
      "text/plain": [
       "   MSSubClass   LotFrontage       LotArea   OverallQual   OverallCond \n",
       "            0           259             0             0             0 \n",
       "    YearBuilt  YearRemodAdd    MasVnrArea   TotalBsmtSF     X1stFlrSF \n",
       "            0             0             8             0             0 \n",
       "    X2ndFlrSF     GrLivArea  BedroomAbvGr  KitchenAbvGr  TotRmsAbvGrd \n",
       "            0             0             0             0             0 \n",
       "   GarageArea    WoodDeckSF   OpenPorchSF EnclosedPorch    X3SsnPorch \n",
       "            0             0             0             0             0 \n",
       "  ScreenPorch      PoolArea        MoSold        YrSold     SalePrice \n",
       "            0             0             0             0             0 "
      ]
     },
     "metadata": {},
     "output_type": "display_data"
    }
   ],
   "source": [
    "colSums(is.na(data_housing))"
   ]
  },
  {
   "cell_type": "code",
   "execution_count": 9,
   "metadata": {
    "collapsed": true
   },
   "outputs": [],
   "source": [
    "data_housing$LotFrontage[is.na(data_housing$LotFrontage)] <- median(data_housing$LotFrontage, na.rm=TRUE)\n",
    "data_housing$MasVnrArea[is.na(data_housing$MasVnrArea)] <- median(data_housing$MasVnrArea, na.rm=TRUE)\n",
    "## karena median lebih robust dibandingkan dengan mean"
   ]
  },
  {
   "cell_type": "code",
   "execution_count": 10,
   "metadata": {
    "collapsed": false
   },
   "outputs": [
    {
     "data": {
      "text/html": [
       "<dl class=dl-horizontal>\n",
       "\t<dt>MSSubClass</dt>\n",
       "\t\t<dd>0</dd>\n",
       "\t<dt>LotFrontage</dt>\n",
       "\t\t<dd>0</dd>\n",
       "\t<dt>LotArea</dt>\n",
       "\t\t<dd>0</dd>\n",
       "\t<dt>OverallQual</dt>\n",
       "\t\t<dd>0</dd>\n",
       "\t<dt>OverallCond</dt>\n",
       "\t\t<dd>0</dd>\n",
       "\t<dt>YearBuilt</dt>\n",
       "\t\t<dd>0</dd>\n",
       "\t<dt>YearRemodAdd</dt>\n",
       "\t\t<dd>0</dd>\n",
       "\t<dt>MasVnrArea</dt>\n",
       "\t\t<dd>0</dd>\n",
       "\t<dt>TotalBsmtSF</dt>\n",
       "\t\t<dd>0</dd>\n",
       "\t<dt>X1stFlrSF</dt>\n",
       "\t\t<dd>0</dd>\n",
       "\t<dt>X2ndFlrSF</dt>\n",
       "\t\t<dd>0</dd>\n",
       "\t<dt>GrLivArea</dt>\n",
       "\t\t<dd>0</dd>\n",
       "\t<dt>BedroomAbvGr</dt>\n",
       "\t\t<dd>0</dd>\n",
       "\t<dt>KitchenAbvGr</dt>\n",
       "\t\t<dd>0</dd>\n",
       "\t<dt>TotRmsAbvGrd</dt>\n",
       "\t\t<dd>0</dd>\n",
       "\t<dt>GarageArea</dt>\n",
       "\t\t<dd>0</dd>\n",
       "\t<dt>WoodDeckSF</dt>\n",
       "\t\t<dd>0</dd>\n",
       "\t<dt>OpenPorchSF</dt>\n",
       "\t\t<dd>0</dd>\n",
       "\t<dt>EnclosedPorch</dt>\n",
       "\t\t<dd>0</dd>\n",
       "\t<dt>X3SsnPorch</dt>\n",
       "\t\t<dd>0</dd>\n",
       "\t<dt>ScreenPorch</dt>\n",
       "\t\t<dd>0</dd>\n",
       "\t<dt>PoolArea</dt>\n",
       "\t\t<dd>0</dd>\n",
       "\t<dt>MoSold</dt>\n",
       "\t\t<dd>0</dd>\n",
       "\t<dt>YrSold</dt>\n",
       "\t\t<dd>0</dd>\n",
       "\t<dt>SalePrice</dt>\n",
       "\t\t<dd>0</dd>\n",
       "</dl>\n"
      ],
      "text/latex": [
       "\\begin{description*}\n",
       "\\item[MSSubClass] 0\n",
       "\\item[LotFrontage] 0\n",
       "\\item[LotArea] 0\n",
       "\\item[OverallQual] 0\n",
       "\\item[OverallCond] 0\n",
       "\\item[YearBuilt] 0\n",
       "\\item[YearRemodAdd] 0\n",
       "\\item[MasVnrArea] 0\n",
       "\\item[TotalBsmtSF] 0\n",
       "\\item[X1stFlrSF] 0\n",
       "\\item[X2ndFlrSF] 0\n",
       "\\item[GrLivArea] 0\n",
       "\\item[BedroomAbvGr] 0\n",
       "\\item[KitchenAbvGr] 0\n",
       "\\item[TotRmsAbvGrd] 0\n",
       "\\item[GarageArea] 0\n",
       "\\item[WoodDeckSF] 0\n",
       "\\item[OpenPorchSF] 0\n",
       "\\item[EnclosedPorch] 0\n",
       "\\item[X3SsnPorch] 0\n",
       "\\item[ScreenPorch] 0\n",
       "\\item[PoolArea] 0\n",
       "\\item[MoSold] 0\n",
       "\\item[YrSold] 0\n",
       "\\item[SalePrice] 0\n",
       "\\end{description*}\n"
      ],
      "text/markdown": [
       "MSSubClass\n",
       ":   0LotFrontage\n",
       ":   0LotArea\n",
       ":   0OverallQual\n",
       ":   0OverallCond\n",
       ":   0YearBuilt\n",
       ":   0YearRemodAdd\n",
       ":   0MasVnrArea\n",
       ":   0TotalBsmtSF\n",
       ":   0X1stFlrSF\n",
       ":   0X2ndFlrSF\n",
       ":   0GrLivArea\n",
       ":   0BedroomAbvGr\n",
       ":   0KitchenAbvGr\n",
       ":   0TotRmsAbvGrd\n",
       ":   0GarageArea\n",
       ":   0WoodDeckSF\n",
       ":   0OpenPorchSF\n",
       ":   0EnclosedPorch\n",
       ":   0X3SsnPorch\n",
       ":   0ScreenPorch\n",
       ":   0PoolArea\n",
       ":   0MoSold\n",
       ":   0YrSold\n",
       ":   0SalePrice\n",
       ":   0\n",
       "\n"
      ],
      "text/plain": [
       "   MSSubClass   LotFrontage       LotArea   OverallQual   OverallCond \n",
       "            0             0             0             0             0 \n",
       "    YearBuilt  YearRemodAdd    MasVnrArea   TotalBsmtSF     X1stFlrSF \n",
       "            0             0             0             0             0 \n",
       "    X2ndFlrSF     GrLivArea  BedroomAbvGr  KitchenAbvGr  TotRmsAbvGrd \n",
       "            0             0             0             0             0 \n",
       "   GarageArea    WoodDeckSF   OpenPorchSF EnclosedPorch    X3SsnPorch \n",
       "            0             0             0             0             0 \n",
       "  ScreenPorch      PoolArea        MoSold        YrSold     SalePrice \n",
       "            0             0             0             0             0 "
      ]
     },
     "metadata": {},
     "output_type": "display_data"
    }
   ],
   "source": [
    "colSums(is.na(data_housing))"
   ]
  },
  {
   "cell_type": "code",
   "execution_count": 12,
   "metadata": {
    "collapsed": true
   },
   "outputs": [],
   "source": [
    "library(ggplot2)"
   ]
  },
  {
   "cell_type": "code",
   "execution_count": 24,
   "metadata": {
    "collapsed": false
   },
   "outputs": [
    {
     "name": "stderr",
     "output_type": "stream",
     "text": [
      "`stat_bin()` using `bins = 30`. Pick better value with `binwidth`.\n"
     ]
    },
    {
     "data": {},
     "metadata": {},
     "output_type": "display_data"
    },
    {
     "data": {
      "image/png": "[encoded data removed]",
      "text/plain": [
       "plot without title"
      ]
     },
     "metadata": {},
     "output_type": "display_data"
    }
   ],
   "source": [
    "options(repr.plot.width=10, repr.plot.height=4) # Mengatur panjang dan lebar dari plot yang akan dibuat\n",
    "qplot(data_housing$SalePrice)"
   ]
  },
  {
   "cell_type": "code",
   "execution_count": 25,
   "metadata": {
    "collapsed": true
   },
   "outputs": [],
   "source": [
    "SalePrice <- data_housing$SalePrice\n",
    "data_housing$SalePrice <- log(data_housing$SalePrice)"
   ]
  },
  {
   "cell_type": "code",
   "execution_count": 26,
   "metadata": {
    "collapsed": false
   },
   "outputs": [
    {
     "name": "stderr",
     "output_type": "stream",
     "text": [
      "`stat_bin()` using `bins = 30`. Pick better value with `binwidth`.\n"
     ]
    },
    {
     "data": {},
     "metadata": {},
     "output_type": "display_data"
    },
    {
     "data": {
      "image/png": "[encoded data removed]",
      "text/plain": [
       "plot without title"
      ]
     },
     "metadata": {},
     "output_type": "display_data"
    }
   ],
   "source": [
    "options(repr.plot.width=10, repr.plot.height=4) # Mengatur panjang dan lebar dari plot yang akan dibuat\n",
    "qplot(data_housing$SalePrice)"
   ]
  },
  {
   "cell_type": "code",
   "execution_count": 37,
   "metadata": {
    "collapsed": false
   },
   "outputs": [
    {
     "name": "stderr",
     "output_type": "stream",
     "text": [
      "`stat_bin()` using `bins = 30`. Pick better value with `binwidth`.\n"
     ]
    },
    {
     "data": {},
     "metadata": {},
     "output_type": "display_data"
    },
    {
     "data": {
      "image/png": "[encoded data removed]",
      "text/plain": [
       "plot without title"
      ]
     },
     "metadata": {},
     "output_type": "display_data"
    }
   ],
   "source": [
    "options(repr.plot.width=10, repr.plot.height=4) # Mengatur panjang dan lebar dari plot yang akan dibuat\n",
    "qplot((SalePrice)^(0.05))"
   ]
  },
  {
   "cell_type": "code",
   "execution_count": null,
   "metadata": {
    "collapsed": true
   },
   "outputs": [],
   "source": []
  },
  {
   "cell_type": "code",
   "execution_count": null,
   "metadata": {
    "collapsed": true
   },
   "outputs": [],
   "source": []
  },
  {
   "cell_type": "code",
   "execution_count": null,
   "metadata": {
    "collapsed": true
   },
   "outputs": [],
   "source": []
  },
  {
   "cell_type": "markdown",
   "metadata": {},
   "source": [
    "### Linear Regression"
   ]
  },
  {
   "cell_type": "code",
   "execution_count": 38,
   "metadata": {
    "collapsed": false,
    "scrolled": false
   },
   "outputs": [
    {
     "data": {
      "text/plain": [
       "\n",
       "Call:\n",
       "lm(formula = SalePrice ~ ., data = data_housing)\n",
       "\n",
       "Residuals:\n",
       "     Min       1Q   Median       3Q      Max \n",
       "-2.11715 -0.06900  0.00510  0.08144  0.51917 \n",
       "\n",
       "Coefficients:\n",
       "                Estimate Std. Error t value Pr(>|t|)    \n",
       "(Intercept)    1.344e+01  6.258e+00   2.147 0.031971 *  \n",
       "MSSubClass    -4.722e-04  1.218e-04  -3.878 0.000110 ***\n",
       "LotFrontage   -1.095e-04  2.291e-04  -0.478 0.632886    \n",
       "LotArea        2.777e-06  4.458e-07   6.228 6.18e-10 ***\n",
       "OverallQual    8.840e-02  5.127e-03  17.241  < 2e-16 ***\n",
       "OverallCond    5.059e-02  4.467e-03  11.326  < 2e-16 ***\n",
       "YearBuilt      3.585e-03  2.471e-04  14.512  < 2e-16 ***\n",
       "YearRemodAdd   9.916e-04  2.858e-04   3.469 0.000537 ***\n",
       "MasVnrArea     1.394e-06  2.614e-05   0.053 0.957491    \n",
       "TotalBsmtSF    6.925e-05  1.775e-05   3.901 0.000100 ***\n",
       "X1stFlrSF      1.355e-04  8.911e-05   1.520 0.128705    \n",
       "X2ndFlrSF      9.663e-05  8.744e-05   1.105 0.269299    \n",
       "GrLivArea      1.197e-04  8.760e-05   1.367 0.171857    \n",
       "BedroomAbvGr  -9.136e-03  7.371e-03  -1.239 0.215411    \n",
       "KitchenAbvGr  -6.246e-02  2.258e-02  -2.766 0.005754 ** \n",
       "TotRmsAbvGrd   1.739e-02  5.470e-03   3.178 0.001512 ** \n",
       "GarageArea     2.085e-04  2.580e-05   8.084 1.32e-15 ***\n",
       "WoodDeckSF     1.727e-04  3.521e-05   4.903 1.05e-06 ***\n",
       "OpenPorchSF   -3.655e-05  6.699e-05  -0.546 0.585392    \n",
       "EnclosedPorch  1.908e-04  7.486e-05   2.549 0.010901 *  \n",
       "X3SsnPorch     2.335e-04  1.396e-04   1.672 0.094647 .  \n",
       "ScreenPorch    4.690e-04  7.530e-05   6.228 6.17e-10 ***\n",
       "PoolArea      -3.878e-04  1.054e-04  -3.681 0.000241 ***\n",
       "MoSold         6.258e-04  1.534e-03   0.408 0.683297    \n",
       "YrSold        -5.907e-03  3.116e-03  -1.895 0.058250 .  \n",
       "---\n",
       "Signif. codes:  0 '***' 0.001 '**' 0.01 '*' 0.05 '.' 0.1 ' ' 1\n",
       "\n",
       "Residual standard error: 0.1548 on 1435 degrees of freedom\n",
       "Multiple R-squared:  0.8522,\tAdjusted R-squared:  0.8498 \n",
       "F-statistic: 344.8 on 24 and 1435 DF,  p-value: < 2.2e-16\n"
      ]
     },
     "metadata": {},
     "output_type": "display_data"
    }
   ],
   "source": [
    "model <- lm(SalePrice ~ ., data = data_housing)\n",
    "summary(model)"
   ]
  },
  {
   "cell_type": "code",
   "execution_count": null,
   "metadata": {
    "collapsed": true
   },
   "outputs": [],
   "source": []
  },
  {
   "cell_type": "markdown",
   "metadata": {},
   "source": [
    "### Bootstrap"
   ]
  },
  {
   "cell_type": "markdown",
   "metadata": {},
   "source": [
    "Panggil Library \"boot\", jika belum diinstall : install.packages(\"boot\")"
   ]
  },
  {
   "cell_type": "code",
   "execution_count": 39,
   "metadata": {
    "collapsed": true
   },
   "outputs": [],
   "source": [
    "library(boot)"
   ]
  },
  {
   "cell_type": "markdown",
   "metadata": {},
   "source": [
    "Buat function untuk membuat bootstrap linear regression"
   ]
  },
  {
   "cell_type": "code",
   "execution_count": 40,
   "metadata": {
    "collapsed": true
   },
   "outputs": [],
   "source": [
    "coef.reg <- function(formula, data, indices) {\n",
    "    d <- data[indices,] \n",
    "    fit <- lm(formula, data = d)\n",
    "    return(fit$coefficients)\n",
    "    } "
   ]
  },
  {
   "cell_type": "code",
   "execution_count": 41,
   "metadata": {
    "collapsed": true
   },
   "outputs": [],
   "source": [
    "# bootstrapping with 1000 replications \n",
    "set.seed(1)\n",
    "results <- boot(data = data_housing, statistic = coef.reg, R = 1000,\n",
    "                formula = SalePrice ~ .)\n"
   ]
  },
  {
   "cell_type": "code",
   "execution_count": 42,
   "metadata": {
    "collapsed": false
   },
   "outputs": [
    {
     "data": {
      "text/plain": [
       "\n",
       "ORDINARY NONPARAMETRIC BOOTSTRAP\n",
       "\n",
       "\n",
       "Call:\n",
       "boot(data = data_housing, statistic = coef.reg, R = 1000, formula = SalePrice ~ \n",
       "    .)\n",
       "\n",
       "\n",
       "Bootstrap Statistics :\n",
       "          original        bias     std. error\n",
       "t1*   1.343601e+01 -4.861476e-01 5.792652e+00\n",
       "t2*  -4.722259e-04  5.948717e-05 2.128860e-04\n",
       "t3*  -1.094584e-04  1.817338e-04 6.207578e-04\n",
       "t4*   2.776688e-06  8.199624e-08 6.036237e-07\n",
       "t5*   8.839591e-02 -2.702151e-03 9.837254e-03\n",
       "t6*   5.059486e-02  7.513807e-04 5.195868e-03\n",
       "t7*   3.585471e-03 -9.195409e-06 2.586607e-04\n",
       "t8*   9.915596e-04 -1.055397e-05 2.854134e-04\n",
       "t9*   1.393631e-06  1.085895e-06 2.502301e-05\n",
       "t10*  6.925262e-05  1.551787e-05 4.995122e-05\n",
       "t11*  1.354510e-04  9.270046e-06 7.895307e-05\n",
       "t12*  9.662914e-05  1.570173e-05 8.379849e-05\n",
       "t13*  1.197491e-04 -6.021441e-06 7.093979e-05\n",
       "t14* -9.135908e-03 -1.940394e-03 1.174560e-02\n",
       "t15* -6.246084e-02 -3.270502e-03 2.399611e-02\n",
       "t16*  1.738526e-02 -1.159085e-03 6.940458e-03\n",
       "t17*  2.085264e-04 -2.184006e-06 3.012858e-05\n",
       "t18*  1.726648e-04 -1.164806e-05 4.446666e-05\n",
       "t19* -3.655102e-05  6.268872e-06 1.105678e-04\n",
       "t20*  1.908245e-04 -9.861246e-06 8.763473e-05\n",
       "t21*  2.334576e-04 -7.325001e-06 1.578941e-04\n",
       "t22*  4.689934e-04 -1.886684e-05 9.222149e-05\n",
       "t23* -3.877969e-04 -1.730935e-05 5.788627e-04\n",
       "t24*  6.257859e-04 -2.285053e-04 1.553764e-03\n",
       "t25* -5.906749e-03  2.577099e-04 2.922385e-03"
      ]
     },
     "metadata": {},
     "output_type": "display_data"
    }
   ],
   "source": [
    "results"
   ]
  },
  {
   "cell_type": "code",
   "execution_count": 43,
   "metadata": {
    "collapsed": false
   },
   "outputs": [
    {
     "data": {
      "text/html": [
       "<dl class=dl-horizontal>\n",
       "\t<dt>(Intercept)</dt>\n",
       "\t\t<dd>13.436008005481</dd>\n",
       "\t<dt>MSSubClass</dt>\n",
       "\t\t<dd>-0.000472225919280389</dd>\n",
       "\t<dt>LotFrontage</dt>\n",
       "\t\t<dd>-0.000109458412620866</dd>\n",
       "\t<dt>LotArea</dt>\n",
       "\t\t<dd>2.77668844772162e-06</dd>\n",
       "\t<dt>OverallQual</dt>\n",
       "\t\t<dd>0.0883959058247416</dd>\n",
       "\t<dt>OverallCond</dt>\n",
       "\t\t<dd>0.0505948617194927</dd>\n",
       "\t<dt>YearBuilt</dt>\n",
       "\t\t<dd>0.0035854714330421</dd>\n",
       "\t<dt>YearRemodAdd</dt>\n",
       "\t\t<dd>0.000991559620577243</dd>\n",
       "\t<dt>MasVnrArea</dt>\n",
       "\t\t<dd>1.39363116021325e-06</dd>\n",
       "\t<dt>TotalBsmtSF</dt>\n",
       "\t\t<dd>6.92526235778876e-05</dd>\n",
       "\t<dt>X1stFlrSF</dt>\n",
       "\t\t<dd>0.00013545101643467</dd>\n",
       "\t<dt>X2ndFlrSF</dt>\n",
       "\t\t<dd>9.66291379729687e-05</dd>\n",
       "\t<dt>GrLivArea</dt>\n",
       "\t\t<dd>0.000119749142268231</dd>\n",
       "\t<dt>BedroomAbvGr</dt>\n",
       "\t\t<dd>-0.00913590776341583</dd>\n",
       "\t<dt>KitchenAbvGr</dt>\n",
       "\t\t<dd>-0.0624608400005253</dd>\n",
       "\t<dt>TotRmsAbvGrd</dt>\n",
       "\t\t<dd>0.0173852613638154</dd>\n",
       "\t<dt>GarageArea</dt>\n",
       "\t\t<dd>0.000208526433599606</dd>\n",
       "\t<dt>WoodDeckSF</dt>\n",
       "\t\t<dd>0.000172664829606877</dd>\n",
       "\t<dt>OpenPorchSF</dt>\n",
       "\t\t<dd>-3.65510160170606e-05</dd>\n",
       "\t<dt>EnclosedPorch</dt>\n",
       "\t\t<dd>0.000190824517438798</dd>\n",
       "\t<dt>X3SsnPorch</dt>\n",
       "\t\t<dd>0.000233457643094755</dd>\n",
       "\t<dt>ScreenPorch</dt>\n",
       "\t\t<dd>0.000468993399895362</dd>\n",
       "\t<dt>PoolArea</dt>\n",
       "\t\t<dd>-0.00038779691081943</dd>\n",
       "\t<dt>MoSold</dt>\n",
       "\t\t<dd>0.000625785936378612</dd>\n",
       "\t<dt>YrSold</dt>\n",
       "\t\t<dd>-0.00590674909357317</dd>\n",
       "</dl>\n"
      ],
      "text/latex": [
       "\\begin{description*}\n",
       "\\item[(Intercept)] 13.436008005481\n",
       "\\item[MSSubClass] -0.000472225919280389\n",
       "\\item[LotFrontage] -0.000109458412620866\n",
       "\\item[LotArea] 2.77668844772162e-06\n",
       "\\item[OverallQual] 0.0883959058247416\n",
       "\\item[OverallCond] 0.0505948617194927\n",
       "\\item[YearBuilt] 0.0035854714330421\n",
       "\\item[YearRemodAdd] 0.000991559620577243\n",
       "\\item[MasVnrArea] 1.39363116021325e-06\n",
       "\\item[TotalBsmtSF] 6.92526235778876e-05\n",
       "\\item[X1stFlrSF] 0.00013545101643467\n",
       "\\item[X2ndFlrSF] 9.66291379729687e-05\n",
       "\\item[GrLivArea] 0.000119749142268231\n",
       "\\item[BedroomAbvGr] -0.00913590776341583\n",
       "\\item[KitchenAbvGr] -0.0624608400005253\n",
       "\\item[TotRmsAbvGrd] 0.0173852613638154\n",
       "\\item[GarageArea] 0.000208526433599606\n",
       "\\item[WoodDeckSF] 0.000172664829606877\n",
       "\\item[OpenPorchSF] -3.65510160170606e-05\n",
       "\\item[EnclosedPorch] 0.000190824517438798\n",
       "\\item[X3SsnPorch] 0.000233457643094755\n",
       "\\item[ScreenPorch] 0.000468993399895362\n",
       "\\item[PoolArea] -0.00038779691081943\n",
       "\\item[MoSold] 0.000625785936378612\n",
       "\\item[YrSold] -0.00590674909357317\n",
       "\\end{description*}\n"
      ],
      "text/markdown": [
       "(Intercept)\n",
       ":   13.436008005481MSSubClass\n",
       ":   -0.000472225919280389LotFrontage\n",
       ":   -0.000109458412620866LotArea\n",
       ":   2.77668844772162e-06OverallQual\n",
       ":   0.0883959058247416OverallCond\n",
       ":   0.0505948617194927YearBuilt\n",
       ":   0.0035854714330421YearRemodAdd\n",
       ":   0.000991559620577243MasVnrArea\n",
       ":   1.39363116021325e-06TotalBsmtSF\n",
       ":   6.92526235778876e-05X1stFlrSF\n",
       ":   0.00013545101643467X2ndFlrSF\n",
       ":   9.66291379729687e-05GrLivArea\n",
       ":   0.000119749142268231BedroomAbvGr\n",
       ":   -0.00913590776341583KitchenAbvGr\n",
       ":   -0.0624608400005253TotRmsAbvGrd\n",
       ":   0.0173852613638154GarageArea\n",
       ":   0.000208526433599606WoodDeckSF\n",
       ":   0.000172664829606877OpenPorchSF\n",
       ":   -3.65510160170606e-05EnclosedPorch\n",
       ":   0.000190824517438798X3SsnPorch\n",
       ":   0.000233457643094755ScreenPorch\n",
       ":   0.000468993399895362PoolArea\n",
       ":   -0.00038779691081943MoSold\n",
       ":   0.000625785936378612YrSold\n",
       ":   -0.00590674909357317\n",
       "\n"
      ],
      "text/plain": [
       "  (Intercept)    MSSubClass   LotFrontage       LotArea   OverallQual \n",
       " 1.343601e+01 -4.722259e-04 -1.094584e-04  2.776688e-06  8.839591e-02 \n",
       "  OverallCond     YearBuilt  YearRemodAdd    MasVnrArea   TotalBsmtSF \n",
       " 5.059486e-02  3.585471e-03  9.915596e-04  1.393631e-06  6.925262e-05 \n",
       "    X1stFlrSF     X2ndFlrSF     GrLivArea  BedroomAbvGr  KitchenAbvGr \n",
       " 1.354510e-04  9.662914e-05  1.197491e-04 -9.135908e-03 -6.246084e-02 \n",
       " TotRmsAbvGrd    GarageArea    WoodDeckSF   OpenPorchSF EnclosedPorch \n",
       " 1.738526e-02  2.085264e-04  1.726648e-04 -3.655102e-05  1.908245e-04 \n",
       "   X3SsnPorch   ScreenPorch      PoolArea        MoSold        YrSold \n",
       " 2.334576e-04  4.689934e-04 -3.877969e-04  6.257859e-04 -5.906749e-03 "
      ]
     },
     "metadata": {},
     "output_type": "display_data"
    }
   ],
   "source": [
    "results$t0"
   ]
  },
  {
   "cell_type": "code",
   "execution_count": 44,
   "metadata": {
    "collapsed": false,
    "scrolled": true
   },
   "outputs": [
    {
     "data": {
      "text/html": [
       "<table>\n",
       "<tbody>\n",
       "\t<tr><td> 9.597642    </td><td>-2.106557e-04</td><td> 5.258064e-04</td><td>5.352987e-06 </td><td>0.07783448   </td><td>0.06086395   </td><td>0.003630229  </td><td>0.0008641679 </td><td>-1.342476e-05</td><td> 1.600600e-04</td><td>...          </td><td>0.017115703  </td><td>0.0001967321 </td><td>8.304406e-05 </td><td>-1.767137e-04</td><td>-2.746076e-05</td><td>-2.606325e-05</td><td>0.0003460861 </td><td> 2.921245e-05</td><td>-0.0001601132</td><td>-0.0039527832</td></tr>\n",
       "\t<tr><td>22.093346    </td><td>-6.846355e-04</td><td>-3.724472e-04</td><td>2.827169e-06 </td><td>0.09939308   </td><td>0.04619381   </td><td>0.003353357  </td><td>0.0013046233 </td><td> 1.524191e-05</td><td> 4.030459e-05</td><td>...          </td><td>0.019051959  </td><td>0.0002166862 </td><td>1.493849e-04 </td><td> 8.670969e-06</td><td> 8.730961e-05</td><td> 2.334982e-04</td><td>0.0005777336 </td><td>-8.911412e-04</td><td> 0.0022652716</td><td>-0.0102761209</td></tr>\n",
       "\t<tr><td> 6.745540    </td><td>-6.749043e-04</td><td>-8.242015e-04</td><td>2.331238e-06 </td><td>0.08876109   </td><td>0.04953012   </td><td>0.003967921  </td><td>0.0005695471 </td><td> 1.742854e-05</td><td> 3.016953e-05</td><td>...          </td><td>0.029429366  </td><td>0.0001921949 </td><td>2.358173e-04 </td><td>-4.634231e-05</td><td> 2.385357e-04</td><td> 2.751364e-04</td><td>0.0005427212 </td><td>-3.757971e-04</td><td> 0.0021728443</td><td>-0.0024997766</td></tr>\n",
       "\t<tr><td>16.820844    </td><td>-4.846554e-04</td><td>-9.280913e-05</td><td>2.984081e-06 </td><td>0.09390176   </td><td>0.05079523   </td><td>0.003766224  </td><td>0.0008860347 </td><td>-2.395760e-05</td><td> 5.228769e-05</td><td>...          </td><td>0.014489636  </td><td>0.0002136472 </td><td>1.999815e-04 </td><td>-1.379658e-04</td><td> 8.616468e-05</td><td> 2.627481e-04</td><td>0.0003148024 </td><td>-1.983174e-03</td><td> 0.0014941339</td><td>-0.0077237501</td></tr>\n",
       "\t<tr><td> 4.118738    </td><td>-5.335114e-04</td><td>-3.115645e-04</td><td>2.373980e-06 </td><td>0.09528071   </td><td>0.05145404   </td><td>0.003686281  </td><td>0.0004196887 </td><td>-1.195436e-05</td><td> 4.268393e-05</td><td>...          </td><td>0.019766112  </td><td>0.0002740965 </td><td>2.582524e-04 </td><td>-1.090086e-04</td><td> 1.920979e-04</td><td> 3.671610e-04</td><td>0.0004315737 </td><td>-1.214165e-04</td><td>-0.0008969053</td><td>-0.0008267905</td></tr>\n",
       "\t<tr><td>14.672351    </td><td>-6.410610e-04</td><td>-5.035354e-04</td><td>2.483388e-06 </td><td>0.09850749   </td><td>0.05361673   </td><td>0.003326644  </td><td>0.0008271850 </td><td> 3.358474e-05</td><td> 9.502836e-06</td><td>...          </td><td>0.022686447  </td><td>0.0002285273 </td><td>2.740480e-04 </td><td> 1.856708e-05</td><td> 1.067310e-04</td><td> 1.484940e-04</td><td>0.0005079555 </td><td>-5.868157e-04</td><td> 0.0024274404</td><td>-0.0061345229</td></tr>\n",
       "\t<tr><td>22.898154    </td><td>-1.489643e-04</td><td> 1.216823e-03</td><td>2.551512e-06 </td><td>0.07198312   </td><td>0.04978902   </td><td>0.003558769  </td><td>0.0012154965 </td><td>-6.224851e-06</td><td> 1.202327e-04</td><td>...          </td><td>0.004424697  </td><td>0.0002158008 </td><td>1.163439e-04 </td><td>-1.419439e-04</td><td> 1.262910e-04</td><td> 1.789327e-04</td><td>0.0004445278 </td><td>-2.874218e-04</td><td> 0.0004784505</td><td>-0.0108120816</td></tr>\n",
       "\t<tr><td>24.245073    </td><td>-7.755379e-04</td><td>-1.157279e-03</td><td>2.074509e-06 </td><td>0.09073591   </td><td>0.05125611   </td><td>0.003991639  </td><td>0.0006398138 </td><td> 5.512402e-05</td><td> 1.839591e-05</td><td>...          </td><td>0.019406083  </td><td>0.0002089925 </td><td>2.004097e-04 </td><td> 1.256011e-04</td><td> 1.398576e-04</td><td> 3.447708e-04</td><td>0.0005675059 </td><td>-6.989736e-04</td><td> 0.0038425702</td><td>-0.0113145218</td></tr>\n",
       "\t<tr><td>14.779315    </td><td>-4.103992e-04</td><td>-6.230648e-04</td><td>2.605525e-06 </td><td>0.10826286   </td><td>0.04774009   </td><td>0.003382882  </td><td>0.0007840446 </td><td> 2.280978e-06</td><td>-1.885825e-05</td><td>...          </td><td>0.020410945  </td><td>0.0002217348 </td><td>2.191930e-04 </td><td>-3.765909e-05</td><td> 2.228913e-04</td><td> 3.991871e-04</td><td>0.0005399044 </td><td>-4.755939e-04</td><td>-0.0004888101</td><td>-0.0062189950</td></tr>\n",
       "\t<tr><td>10.504260    </td><td>-5.331369e-04</td><td>-8.982294e-04</td><td>3.185872e-06 </td><td>0.10440426   </td><td>0.05296320   </td><td>0.003808923  </td><td>0.0010185090 </td><td> 2.383843e-05</td><td>-1.075407e-05</td><td>...          </td><td>0.012138803  </td><td>0.0001968847 </td><td>2.366368e-04 </td><td> 5.761600e-05</td><td> 3.354461e-04</td><td> 5.249008e-04</td><td>0.0005967401 </td><td>-6.650856e-04</td><td> 0.0012244974</td><td>-0.0046828288</td></tr>\n",
       "\t<tr><td>20.690634    </td><td>-4.356984e-04</td><td> 2.166175e-04</td><td>2.825879e-06 </td><td>0.08240224   </td><td>0.05322080   </td><td>0.003852024  </td><td>0.0010448833 </td><td> 2.940558e-05</td><td> 1.140315e-04</td><td>...          </td><td>0.011770188  </td><td>0.0001844929 </td><td>1.508531e-04 </td><td>-2.783390e-05</td><td> 2.983082e-04</td><td> 2.070564e-04</td><td>0.0004442931 </td><td>-1.065234e-03</td><td> 0.0005530902</td><td>-0.0098185514</td></tr>\n",
       "\t<tr><td>19.664872    </td><td>-4.296279e-04</td><td> 7.595171e-04</td><td>2.913799e-06 </td><td>0.06714247   </td><td>0.05592378   </td><td>0.003521363  </td><td>0.0009002687 </td><td> 4.235767e-05</td><td> 1.702458e-04</td><td>...          </td><td>0.019820264  </td><td>0.0001737165 </td><td>1.449139e-04 </td><td> 1.878155e-04</td><td> 1.113557e-04</td><td> 1.530514e-04</td><td>0.0003601929 </td><td> 1.619874e-04</td><td> 0.0004061084</td><td>-0.0088701329</td></tr>\n",
       "\t<tr><td>11.868242    </td><td>-6.148313e-04</td><td>-9.661461e-04</td><td>2.940418e-06 </td><td>0.09044022   </td><td>0.05033668   </td><td>0.004011312  </td><td>0.0007484865 </td><td> 2.572735e-05</td><td>-1.883637e-05</td><td>...          </td><td>0.024199979  </td><td>0.0002135838 </td><td>2.410507e-04 </td><td>-3.736053e-05</td><td> 3.744648e-04</td><td> 3.582551e-04</td><td>0.0005884765 </td><td>-6.802063e-04</td><td> 0.0043234487</td><td>-0.0052561604</td></tr>\n",
       "\t<tr><td>20.362118    </td><td>-2.845845e-04</td><td> 6.760074e-05</td><td>2.880100e-06 </td><td>0.08280258   </td><td>0.04941706   </td><td>0.003406435  </td><td>0.0006754626 </td><td> 3.061786e-05</td><td> 7.537379e-05</td><td>...          </td><td>0.025198817  </td><td>0.0001874620 </td><td>2.244731e-04 </td><td>-3.827265e-06</td><td> 1.901781e-04</td><td> 1.588118e-04</td><td>0.0004179811 </td><td>-4.940290e-04</td><td>-0.0001519190</td><td>-0.0088608830</td></tr>\n",
       "\t<tr><td>10.503975    </td><td>-9.623649e-06</td><td> 1.020661e-03</td><td>2.520302e-06 </td><td>0.08824691   </td><td>0.04665329   </td><td>0.003470154  </td><td>0.0009642327 </td><td>-2.802824e-05</td><td> 1.140392e-04</td><td>...          </td><td>0.017365093  </td><td>0.0002129868 </td><td>1.237168e-04 </td><td>-1.319522e-04</td><td> 2.306851e-04</td><td> 2.402560e-04</td><td>0.0003936714 </td><td> 1.225832e-04</td><td>-0.0016725579</td><td>-0.0043512625</td></tr>\n",
       "\t<tr><td>17.108496    </td><td>-4.962005e-04</td><td>-5.278295e-04</td><td>3.072679e-06 </td><td>0.08990379   </td><td>0.05766014   </td><td>0.003646090  </td><td>0.0006350706 </td><td>-1.619629e-05</td><td> 6.961633e-05</td><td>...          </td><td>0.020934341  </td><td>0.0002594534 </td><td>1.702415e-04 </td><td>-1.632433e-05</td><td> 2.573136e-04</td><td> 5.043903e-05</td><td>0.0004233193 </td><td>-7.317726e-04</td><td>-0.0010612265</td><td>-0.0074519541</td></tr>\n",
       "\t<tr><td> 6.323985    </td><td>-4.392493e-04</td><td> 1.005471e-04</td><td>2.148101e-06 </td><td>0.09351134   </td><td>0.04643766   </td><td>0.003378708  </td><td>0.0010528967 </td><td>-1.715848e-05</td><td> 7.073027e-05</td><td>...          </td><td>0.018313930  </td><td>0.0002173701 </td><td>1.580234e-04 </td><td>-6.168229e-05</td><td> 2.347481e-04</td><td>-3.663378e-05</td><td>0.0004911999 </td><td>-2.181071e-04</td><td> 0.0003941649</td><td>-0.0022154992</td></tr>\n",
       "\t<tr><td>16.567257    </td><td>-2.403951e-04</td><td> 4.780715e-04</td><td>2.194503e-06 </td><td>0.07778773   </td><td>0.05124193   </td><td>0.003477436  </td><td>0.0008634311 </td><td>-4.941094e-05</td><td> 1.473002e-04</td><td>...          </td><td>0.006284209  </td><td>0.0002274294 </td><td>1.076968e-04 </td><td>-6.213028e-06</td><td> 1.493628e-04</td><td> 3.180728e-04</td><td>0.0004763523 </td><td>-1.049644e-04</td><td> 0.0016464618</td><td>-0.0072583891</td></tr>\n",
       "\t<tr><td> 2.665495    </td><td>-4.864136e-04</td><td> 9.456260e-05</td><td>2.914272e-06 </td><td>0.08182950   </td><td>0.04810881   </td><td>0.003649436  </td><td>0.0009891645 </td><td> 7.869619e-06</td><td> 1.068593e-04</td><td>...          </td><td>0.028535973  </td><td>0.0002209785 </td><td>1.630713e-04 </td><td>-6.630806e-05</td><td> 1.387045e-04</td><td> 1.089676e-04</td><td>0.0004548907 </td><td>-1.014790e-03</td><td> 0.0008542175</td><td>-0.0005853685</td></tr>\n",
       "\t<tr><td>15.242527    </td><td>-7.108826e-04</td><td>-6.101712e-04</td><td>2.914510e-06 </td><td>0.08090244   </td><td>0.05638461   </td><td>0.003886576  </td><td>0.0009808436 </td><td> 1.816226e-05</td><td> 6.892374e-05</td><td>...          </td><td>0.012912699  </td><td>0.0001895995 </td><td>2.034101e-04 </td><td> 5.904815e-05</td><td> 1.260618e-04</td><td> 4.253754e-05</td><td>0.0004695430 </td><td>-3.100807e-04</td><td>-0.0015347360</td><td>-0.0070688275</td></tr>\n",
       "\t<tr><td> 6.349106    </td><td>-4.157640e-04</td><td> 1.466342e-04</td><td>2.403368e-06 </td><td>0.09269602   </td><td>0.05138229   </td><td>0.003583815  </td><td>0.0011864475 </td><td>-5.317819e-05</td><td> 8.848923e-05</td><td>...          </td><td>0.017960257  </td><td>0.0001871832 </td><td>1.181642e-04 </td><td>-1.510237e-04</td><td> 1.401737e-04</td><td> 2.472921e-04</td><td>0.0005079322 </td><td>-4.143568e-04</td><td> 0.0010163432</td><td>-0.0026193833</td></tr>\n",
       "\t<tr><td>14.282273    </td><td>-3.152419e-04</td><td> 7.981539e-04</td><td>2.720195e-06 </td><td>0.08929427   </td><td>0.05341211   </td><td>0.003147029  </td><td>0.0007725920 </td><td> 4.053230e-07</td><td> 1.190857e-04</td><td>...          </td><td>0.017538718  </td><td>0.0002673407 </td><td>7.350203e-05 </td><td>-7.744339e-05</td><td>-1.721480e-05</td><td> 5.313936e-05</td><td>0.0002890498 </td><td> 2.459761e-05</td><td>-0.0016880804</td><td>-0.0057060229</td></tr>\n",
       "\t<tr><td>21.618940    </td><td>-4.161399e-04</td><td>-5.464525e-04</td><td>2.044767e-06 </td><td>0.10133968   </td><td>0.05229349   </td><td>0.003752714  </td><td>0.0005714329 </td><td>-2.496106e-05</td><td> 1.488184e-05</td><td>...          </td><td>0.020999121  </td><td>0.0002258299 </td><td>2.066553e-04 </td><td> 5.384744e-05</td><td> 2.580145e-04</td><td> 2.190239e-04</td><td>0.0005458657 </td><td>-2.473906e-04</td><td> 0.0008395338</td><td>-0.0097865196</td></tr>\n",
       "\t<tr><td>16.835929    </td><td>-4.842141e-04</td><td>-7.452736e-04</td><td>2.973535e-06 </td><td>0.10299854   </td><td>0.05654386   </td><td>0.003545234  </td><td>0.0012950626 </td><td> 3.310953e-05</td><td> 5.108115e-05</td><td>...          </td><td>0.017224139  </td><td>0.0002165339 </td><td>1.344268e-04 </td><td>-3.729720e-04</td><td> 1.936416e-04</td><td> 2.608884e-04</td><td>0.0005449086 </td><td>-1.093930e-03</td><td>-0.0007957432</td><td>-0.0078872678</td></tr>\n",
       "\t<tr><td>19.164070    </td><td>-5.246417e-04</td><td> 1.582247e-04</td><td>2.510976e-06 </td><td>0.08317421   </td><td>0.04842263   </td><td>0.003380491  </td><td>0.0007094633 </td><td> 1.773911e-05</td><td> 1.101660e-04</td><td>...          </td><td>0.004739371  </td><td>0.0001696618 </td><td>1.606975e-04 </td><td> 1.209038e-04</td><td> 5.535310e-05</td><td> 2.374440e-04</td><td>0.0004532519 </td><td>-1.838099e-03</td><td>-0.0005652256</td><td>-0.0082613183</td></tr>\n",
       "\t<tr><td>14.561196    </td><td>-4.515586e-04</td><td> 1.399882e-04</td><td>2.646079e-06 </td><td>0.08437944   </td><td>0.05030927   </td><td>0.003412695  </td><td>0.0009867468 </td><td>-3.039319e-05</td><td> 1.100907e-04</td><td>...          </td><td>0.013964280  </td><td>0.0001903040 </td><td>1.367503e-04 </td><td> 4.741466e-05</td><td> 1.534664e-04</td><td> 8.674146e-05</td><td>0.0003531167 </td><td>-8.649379e-04</td><td> 0.0023684075</td><td>-0.0062986849</td></tr>\n",
       "\t<tr><td>18.383290    </td><td>-3.680298e-04</td><td>-2.272968e-04</td><td>3.170488e-06 </td><td>0.09414905   </td><td>0.05510153   </td><td>0.003656185  </td><td>0.0009981331 </td><td> 2.174657e-05</td><td> 6.558289e-05</td><td>...          </td><td>0.020371289  </td><td>0.0002069827 </td><td>1.805515e-04 </td><td>-1.300691e-04</td><td> 2.047085e-04</td><td> 2.964734e-04</td><td>0.0004022321 </td><td>-3.987415e-04</td><td> 0.0013643476</td><td>-0.0084997516</td></tr>\n",
       "\t<tr><td>12.805937    </td><td>-3.005856e-04</td><td> 2.193748e-04</td><td>3.566111e-06 </td><td>0.08591954   </td><td>0.04903045   </td><td>0.003320704  </td><td>0.0011247378 </td><td> 2.806334e-05</td><td> 7.351126e-05</td><td>...          </td><td>0.017409482  </td><td>0.0001938831 </td><td>1.374038e-04 </td><td> 5.447122e-05</td><td> 2.339559e-04</td><td> 2.860495e-04</td><td>0.0003979308 </td><td>-2.246647e-03</td><td> 0.0023026428</td><td>-0.0054591840</td></tr>\n",
       "\t<tr><td>12.281889    </td><td>-7.276233e-04</td><td>-9.330806e-04</td><td>2.907887e-06 </td><td>0.09358381   </td><td>0.04955857   </td><td>0.003715237  </td><td>0.0008706454 </td><td> 1.187416e-05</td><td> 3.809493e-05</td><td>...          </td><td>0.015312875  </td><td>0.0002026820 </td><td>1.918469e-04 </td><td> 2.888878e-06</td><td> 3.202591e-04</td><td> 1.851638e-04</td><td>0.0005929875 </td><td>-6.052765e-04</td><td> 0.0025960455</td><td>-0.0053292954</td></tr>\n",
       "\t<tr><td>-2.242654    </td><td>-4.656901e-04</td><td>-1.995057e-04</td><td>1.689744e-06 </td><td>0.09747680   </td><td>0.05034405   </td><td>0.003491925  </td><td>0.0011321996 </td><td>-4.693763e-05</td><td> 4.117117e-05</td><td>...          </td><td>0.019574083  </td><td>0.0002604996 </td><td>2.028575e-04 </td><td>-1.508612e-04</td><td> 2.585822e-04</td><td> 4.714635e-04</td><td>0.0005594009 </td><td>-5.071847e-04</td><td> 0.0008856177</td><td> 0.0018493323</td></tr>\n",
       "\t<tr><td>...</td><td>...</td><td>...</td><td>...</td><td>...</td><td>...</td><td>...</td><td>...</td><td>...</td><td>...</td><td>   </td><td>...</td><td>...</td><td>...</td><td>...</td><td>...</td><td>...</td><td>...</td><td>...</td><td>...</td><td>...</td></tr>\n",
       "\t<tr><td>10.61571198  </td><td>-0.0006002197</td><td>-8.404706e-04</td><td> 3.006277e-06</td><td>0.09120399   </td><td>0.04149023   </td><td>0.003588784  </td><td>0.0010936934 </td><td>-1.719768e-05</td><td> 6.252415e-05</td><td>...          </td><td>0.02566014   </td><td>0.0001900331 </td><td>0.0002608138 </td><td> 6.938958e-05</td><td>1.309212e-04 </td><td> 3.055603e-04</td><td>0.0005166276 </td><td>-1.211398e-03</td><td> 0.0034284267</td><td>-0.004549421 </td></tr>\n",
       "\t<tr><td>10.79002503  </td><td>-0.0005208106</td><td> 3.085094e-04</td><td> 2.259335e-06</td><td>0.10230014   </td><td>0.04369469   </td><td>0.003193776  </td><td>0.0012858504 </td><td>-5.875284e-05</td><td> 7.661704e-05</td><td>...          </td><td>0.01127108   </td><td>0.0002654938 </td><td>0.0001584039 </td><td>-2.535887e-04</td><td>4.831231e-05 </td><td> 3.133519e-04</td><td>0.0005320744 </td><td>-5.299113e-04</td><td>-0.0021899855</td><td>-0.004498160 </td></tr>\n",
       "\t<tr><td>11.79835404  </td><td>-0.0001597750</td><td> 1.260760e-03</td><td> 2.604423e-06</td><td>0.07079051   </td><td>0.05223060   </td><td>0.003451021  </td><td>0.0012323328 </td><td> 1.364036e-05</td><td> 1.197869e-04</td><td>...          </td><td>0.01482976   </td><td>0.0001662422 </td><td>0.0001025538 </td><td> 1.628011e-05</td><td>2.671710e-04 </td><td> 1.053562e-04</td><td>0.0004973660 </td><td>-6.027690e-05</td><td>-0.0002393257</td><td>-0.005197400 </td></tr>\n",
       "\t<tr><td>-0.07789557  </td><td>-0.0002682267</td><td> 5.366584e-04</td><td> 2.975691e-06</td><td>0.07414387   </td><td>0.05068448   </td><td>0.003529131  </td><td>0.0005906892 </td><td> 1.569713e-06</td><td> 1.663587e-04</td><td>...          </td><td>0.01031239   </td><td>0.0001665326 </td><td>0.0001284138 </td><td> 1.768088e-04</td><td>1.119013e-04 </td><td> 9.901140e-05</td><td>0.0003881686 </td><td> 2.153698e-04</td><td> 0.0005675190</td><td> 0.001279635 </td></tr>\n",
       "\t<tr><td>13.51113617  </td><td>-0.0003462542</td><td> 4.812897e-04</td><td> 3.612969e-06</td><td>0.08006404   </td><td>0.05460309   </td><td>0.003453635  </td><td>0.0011247278 </td><td>-3.188710e-05</td><td> 1.293729e-04</td><td>...          </td><td>0.02159880   </td><td>0.0002464000 </td><td>0.0001124679 </td><td>-1.237753e-04</td><td>2.121574e-04 </td><td> 3.576948e-04</td><td>0.0004625584 </td><td> 3.058417e-04</td><td>-0.0016490729</td><td>-0.005972344 </td></tr>\n",
       "\t<tr><td>11.85322978  </td><td>-0.0005712506</td><td> 2.278699e-04</td><td> 2.796950e-06</td><td>0.09393341   </td><td>0.05446705   </td><td>0.004018507  </td><td>0.0007918800 </td><td> 1.055346e-05</td><td> 4.892176e-05</td><td>...          </td><td>0.02198360   </td><td>0.0001552657 </td><td>0.0001931533 </td><td>-1.396204e-04</td><td>2.613786e-04 </td><td> 8.725921e-06</td><td>0.0005272979 </td><td>-1.530594e-04</td><td> 0.0008334508</td><td>-0.005360722 </td></tr>\n",
       "\t<tr><td>11.49259675  </td><td>-0.0002274296</td><td> 7.615998e-04</td><td> 2.833527e-06</td><td>0.07097979   </td><td>0.05003807   </td><td>0.003443405  </td><td>0.0011208257 </td><td>-1.958422e-05</td><td> 1.191916e-04</td><td>...          </td><td>0.01550786   </td><td>0.0001807269 </td><td>0.0001110627 </td><td> 5.180401e-06</td><td>1.194229e-04 </td><td> 7.723684e-05</td><td>0.0004088161 </td><td>-1.784866e-04</td><td>-0.0029073466</td><td>-0.004904054 </td></tr>\n",
       "\t<tr><td> 8.08603841  </td><td>-0.0005199159</td><td>-5.600313e-04</td><td> 1.999476e-06</td><td>0.09291029   </td><td>0.04879889   </td><td>0.003846401  </td><td>0.0008177484 </td><td>-1.161664e-05</td><td>-3.052722e-06</td><td>...          </td><td>0.01342218   </td><td>0.0001871910 </td><td>0.0002177638 </td><td> 1.508378e-05</td><td>2.641633e-04 </td><td> 5.448989e-04</td><td>0.0004857888 </td><td>-4.260632e-04</td><td> 0.0039512363</td><td>-0.003334971 </td></tr>\n",
       "\t<tr><td>11.52475364  </td><td>-0.0007656605</td><td>-9.131756e-04</td><td>-4.659611e-07</td><td>0.10134944   </td><td>0.04218233   </td><td>0.003101970  </td><td>0.0014441591 </td><td> 1.510102e-05</td><td>-1.190578e-05</td><td>...          </td><td>0.02861850   </td><td>0.0003119749 </td><td>0.0002525440 </td><td> 1.439543e-04</td><td>3.896261e-04 </td><td> 4.069490e-04</td><td>0.0006103056 </td><td>-5.053767e-04</td><td> 0.0025102588</td><td>-0.004905612 </td></tr>\n",
       "\t<tr><td> 9.81135398  </td><td>-0.0005395132</td><td>-1.652046e-04</td><td> 2.695739e-06</td><td>0.09449126   </td><td>0.05461124   </td><td>0.003745418  </td><td>0.0006942236 </td><td>-1.552427e-06</td><td> 7.480562e-05</td><td>...          </td><td>0.01536262   </td><td>0.0002159635 </td><td>0.0001378305 </td><td>-6.884686e-05</td><td>2.275226e-04 </td><td> 1.507301e-04</td><td>0.0004232292 </td><td>-5.109517e-04</td><td> 0.0010531859</td><td>-0.003977383 </td></tr>\n",
       "\t<tr><td>14.55475492  </td><td>-0.0006202821</td><td> 5.554805e-05</td><td> 2.387849e-06</td><td>0.08408286   </td><td>0.05297409   </td><td>0.003958857  </td><td>0.0006956676 </td><td>-2.896701e-05</td><td> 7.392183e-05</td><td>...          </td><td>0.01448958   </td><td>0.0002340896 </td><td>0.0002460141 </td><td> 7.107102e-06</td><td>2.243171e-04 </td><td> 1.426097e-04</td><td>0.0005463432 </td><td>-1.871136e-04</td><td>-0.0001685474</td><td>-0.006537001 </td></tr>\n",
       "\t<tr><td>21.05852815  </td><td>-0.0004263418</td><td>-5.441131e-04</td><td> 2.408028e-06</td><td>0.08244785   </td><td>0.05525635   </td><td>0.003901967  </td><td>0.0011135207 </td><td>-3.524087e-06</td><td> 8.553763e-05</td><td>...          </td><td>0.02073602   </td><td>0.0002027688 </td><td>0.0001679150 </td><td>-1.059054e-04</td><td>2.936896e-04 </td><td> 1.931793e-05</td><td>0.0004705269 </td><td>-5.060404e-04</td><td> 0.0018083461</td><td>-0.010164184 </td></tr>\n",
       "\t<tr><td>12.96469560  </td><td>-0.0003186403</td><td> 7.286788e-04</td><td> 2.871227e-06</td><td>0.07575364   </td><td>0.05572728   </td><td>0.003568770  </td><td>0.0010846772 </td><td> 3.107930e-05</td><td> 1.437300e-04</td><td>...          </td><td>0.01261123   </td><td>0.0001800180 </td><td>0.0001182508 </td><td>-8.583242e-05</td><td>8.247126e-05 </td><td> 3.414224e-04</td><td>0.0004235416 </td><td> 6.293562e-05</td><td>-0.0001082069</td><td>-0.005750049 </td></tr>\n",
       "\t<tr><td>14.95407475  </td><td>-0.0002303807</td><td> 1.923417e-04</td><td> 3.224015e-06</td><td>0.08250477   </td><td>0.05844353   </td><td>0.003550981  </td><td>0.0008254092 </td><td>-1.333137e-05</td><td> 1.314111e-04</td><td>...          </td><td>0.01843658   </td><td>0.0001798819 </td><td>0.0001266990 </td><td> 2.752328e-05</td><td>8.847980e-05 </td><td> 2.944313e-04</td><td>0.0004576637 </td><td> 8.733640e-05</td><td>-0.0005005449</td><td>-0.006501685 </td></tr>\n",
       "\t<tr><td>22.35683963  </td><td>-0.0008953828</td><td>-9.949177e-04</td><td> 1.899726e-06</td><td>0.10424896   </td><td>0.04395989   </td><td>0.003651993  </td><td>0.0017444208 </td><td>-1.361791e-05</td><td>-1.695811e-05</td><td>...          </td><td>0.01297449   </td><td>0.0001803889 </td><td>0.0003333082 </td><td>-5.957776e-06</td><td>3.248530e-04 </td><td> 3.036549e-04</td><td>0.0005511489 </td><td>-5.774885e-04</td><td> 0.0000715044</td><td>-0.011134255 </td></tr>\n",
       "\t<tr><td>21.70555510  </td><td>-0.0006195383</td><td>-4.911690e-04</td><td> 3.039372e-06</td><td>0.08980516   </td><td>0.04255285   </td><td>0.003162255  </td><td>0.0011009233 </td><td>-9.987602e-06</td><td> 1.056570e-04</td><td>...          </td><td>0.01938874   </td><td>0.0002166429 </td><td>0.0002015692 </td><td>-1.276118e-04</td><td>1.596154e-04 </td><td> 2.202368e-04</td><td>0.0004612784 </td><td>-5.952891e-04</td><td>-0.0006458175</td><td>-0.009648800 </td></tr>\n",
       "\t<tr><td>13.70021577  </td><td>-0.0004042739</td><td> 6.417705e-04</td><td> 2.536992e-06</td><td>0.08487367   </td><td>0.05119960   </td><td>0.003169979  </td><td>0.0013187239 </td><td> 7.350725e-06</td><td> 1.214174e-04</td><td>...          </td><td>0.01384713   </td><td>0.0002221539 </td><td>0.0001611208 </td><td>-2.147950e-07</td><td>2.464078e-04 </td><td> 2.375047e-04</td><td>0.0004198028 </td><td> 7.117962e-05</td><td>-0.0015116748</td><td>-0.005952192 </td></tr>\n",
       "\t<tr><td>19.60426156  </td><td>-0.0004308331</td><td>-1.810635e-06</td><td> 2.887949e-06</td><td>0.08079548   </td><td>0.05426535   </td><td>0.004005765  </td><td>0.0006463523 </td><td>-7.604139e-07</td><td> 7.790849e-05</td><td>...          </td><td>0.02089342   </td><td>0.0001673279 </td><td>0.0001560040 </td><td> 1.069053e-04</td><td>2.112436e-04 </td><td> 2.951086e-04</td><td>0.0005130395 </td><td>-1.180476e-03</td><td> 0.0002544581</td><td>-0.009039343 </td></tr>\n",
       "\t<tr><td>17.79524079  </td><td>-0.0004542906</td><td>-2.044659e-04</td><td> 2.173963e-06</td><td>0.09825118   </td><td>0.05513457   </td><td>0.003270787  </td><td>0.0007613565 </td><td>-2.048828e-05</td><td> 7.732195e-05</td><td>...          </td><td>0.01477768   </td><td>0.0002372571 </td><td>0.0001754797 </td><td>-4.451563e-06</td><td>1.208292e-04 </td><td> 4.045112e-04</td><td>0.0004456406 </td><td>-1.730121e-04</td><td>-0.0005201738</td><td>-0.007590716 </td></tr>\n",
       "\t<tr><td>10.97874300  </td><td>-0.0006542022</td><td>-5.594355e-04</td><td> 2.449511e-06</td><td>0.09837289   </td><td>0.04771547   </td><td>0.003391528  </td><td>0.0014061048 </td><td>-2.216794e-05</td><td> 1.966117e-05</td><td>...          </td><td>0.02466039   </td><td>0.0002437543 </td><td>0.0001873023 </td><td>-7.287912e-05</td><td>1.530918e-04 </td><td> 4.644369e-04</td><td>0.0005748075 </td><td>-5.734449e-04</td><td> 0.0007444680</td><td>-0.004881683 </td></tr>\n",
       "\t<tr><td>12.03887965  </td><td>-0.0006970216</td><td>-7.760696e-04</td><td> 2.357687e-06</td><td>0.08489981   </td><td>0.04964777   </td><td>0.003807884  </td><td>0.0011825999 </td><td> 1.466183e-05</td><td> 1.721244e-05</td><td>...          </td><td>0.02122003   </td><td>0.0002025175 </td><td>0.0001781463 </td><td> 2.801737e-05</td><td>2.043329e-04 </td><td> 2.659798e-04</td><td>0.0005620981 </td><td>-1.268752e-03</td><td> 0.0035846792</td><td>-0.005595397 </td></tr>\n",
       "\t<tr><td> 9.90914518  </td><td>-0.0004554680</td><td>-1.222450e-04</td><td> 3.287168e-06</td><td>0.08038871   </td><td>0.05677193   </td><td>0.004099384  </td><td>0.0009238207 </td><td>-4.869332e-05</td><td> 6.442450e-05</td><td>...          </td><td>0.01294180   </td><td>0.0001899020 </td><td>0.0001333116 </td><td>-9.614135e-05</td><td>1.972854e-04 </td><td> 6.897956e-04</td><td>0.0005493307 </td><td>-7.633763e-04</td><td> 0.0010755578</td><td>-0.004582542 </td></tr>\n",
       "\t<tr><td> 9.37362214  </td><td>-0.0005870907</td><td>-1.671441e-04</td><td> 2.541163e-06</td><td>0.09293935   </td><td>0.04383833   </td><td>0.003293816  </td><td>0.0007804836 </td><td> 1.452927e-05</td><td> 5.373267e-05</td><td>...          </td><td>0.00984532   </td><td>0.0002344084 </td><td>0.0001785080 </td><td>-2.740786e-05</td><td>2.051686e-04 </td><td> 8.225610e-05</td><td>0.0004105772 </td><td>-1.782467e-04</td><td> 0.0006092339</td><td>-0.003357300 </td></tr>\n",
       "\t<tr><td>19.52208997  </td><td>-0.0007177958</td><td>-8.897570e-04</td><td> 2.463000e-06</td><td>0.09460511   </td><td>0.04504705   </td><td>0.003362184  </td><td>0.0016213729 </td><td>-2.980764e-06</td><td> 2.975220e-05</td><td>...          </td><td>0.02770939   </td><td>0.0002321812 </td><td>0.0001749776 </td><td>-1.879498e-04</td><td>1.803484e-04 </td><td> 2.075266e-04</td><td>0.0005160981 </td><td>-8.103213e-04</td><td> 0.0014674112</td><td>-0.009293402 </td></tr>\n",
       "\t<tr><td>14.11411368  </td><td>-0.0003138305</td><td> 7.970937e-04</td><td> 3.102558e-06</td><td>0.07469041   </td><td>0.05698348   </td><td>0.003734166  </td><td>0.0003972669 </td><td>-1.471409e-05</td><td> 1.676858e-04</td><td>...          </td><td>0.01132144   </td><td>0.0001858277 </td><td>0.0001940475 </td><td>-1.595680e-05</td><td>2.419826e-04 </td><td> 2.817206e-04</td><td>0.0003879441 </td><td>-1.736315e-04</td><td> 0.0020552779</td><td>-0.005844657 </td></tr>\n",
       "\t<tr><td>18.31194652  </td><td>-0.0005144201</td><td>-2.742492e-04</td><td> 2.525880e-06</td><td>0.09345010   </td><td>0.05465533   </td><td>0.003948426  </td><td>0.0008329261 </td><td> 1.183039e-05</td><td> 5.512340e-05</td><td>...          </td><td>0.02220157   </td><td>0.0002251614 </td><td>0.0001728234 </td><td>-9.323251e-05</td><td>2.065474e-04 </td><td>-6.861920e-05</td><td>0.0004637525 </td><td>-1.048908e-03</td><td> 0.0012983723</td><td>-0.008566244 </td></tr>\n",
       "\t<tr><td>12.22291424  </td><td>-0.0003172097</td><td>-7.099780e-04</td><td> 3.004295e-06</td><td>0.10035672   </td><td>0.04511986   </td><td>0.003360797  </td><td>0.0010356285 </td><td>-3.748322e-06</td><td> 2.982670e-05</td><td>...          </td><td>0.03150574   </td><td>0.0001584340 </td><td>0.0002045588 </td><td> 7.650982e-05</td><td>2.560807e-04 </td><td> 1.540904e-04</td><td>0.0005372208 </td><td>-5.009735e-04</td><td>-0.0001662963</td><td>-0.005115872 </td></tr>\n",
       "\t<tr><td>17.49770475  </td><td>-0.0004681539</td><td>-6.120432e-05</td><td> 2.674503e-06</td><td>0.08893408   </td><td>0.04279138   </td><td>0.003035846  </td><td>0.0009819637 </td><td>-2.747577e-05</td><td> 6.152962e-05</td><td>...          </td><td>0.01572647   </td><td>0.0002630615 </td><td>0.0002164259 </td><td>-9.858540e-06</td><td>1.377706e-04 </td><td> 3.088687e-04</td><td>0.0004802998 </td><td>-2.078275e-04</td><td>-0.0003202147</td><td>-0.007343822 </td></tr>\n",
       "\t<tr><td>15.89388171  </td><td>-0.0004173623</td><td>-2.655506e-04</td><td> 2.731914e-06</td><td>0.08681281   </td><td>0.05324689   </td><td>0.003456025  </td><td>0.0008242141 </td><td>-1.412646e-05</td><td> 6.748756e-05</td><td>...          </td><td>0.03079592   </td><td>0.0002206528 </td><td>0.0001503103 </td><td> 3.567191e-05</td><td>2.866203e-04 </td><td> 9.098882e-05</td><td>0.0005647176 </td><td>-7.498103e-05</td><td> 0.0001598545</td><td>-0.006833479 </td></tr>\n",
       "\t<tr><td> 8.96407303  </td><td>-0.0006492170</td><td>-1.089424e-03</td><td> 2.767805e-06</td><td>0.10088003   </td><td>0.04974326   </td><td>0.003907020  </td><td>0.0008542073 </td><td> 3.683157e-05</td><td> 2.834446e-06</td><td>...          </td><td>0.02030678   </td><td>0.0002189068 </td><td>0.0001545440 </td><td>-1.351658e-04</td><td>2.832917e-04 </td><td> 2.852900e-04</td><td>0.0005221978 </td><td>-6.355809e-04</td><td> 0.0008973031</td><td>-0.003867483 </td></tr>\n",
       "</tbody>\n",
       "</table>\n"
      ],
      "text/latex": [
       "\\begin{tabular}{lllllllllllllllllllllllll}\n",
       "\t  9.597642     & -2.106557e-04 &  5.258064e-04 & 5.352987e-06  & 0.07783448    & 0.06086395    & 0.003630229   & 0.0008641679  & -1.342476e-05 &  1.600600e-04 & ...           & 0.017115703   & 0.0001967321  & 8.304406e-05  & -1.767137e-04 & -2.746076e-05 & -2.606325e-05 & 0.0003460861  &  2.921245e-05 & -0.0001601132 & -0.0039527832\\\\\n",
       "\t 22.093346     & -6.846355e-04 & -3.724472e-04 & 2.827169e-06  & 0.09939308    & 0.04619381    & 0.003353357   & 0.0013046233  &  1.524191e-05 &  4.030459e-05 & ...           & 0.019051959   & 0.0002166862  & 1.493849e-04  &  8.670969e-06 &  8.730961e-05 &  2.334982e-04 & 0.0005777336  & -8.911412e-04 &  0.0022652716 & -0.0102761209\\\\\n",
       "\t  6.745540     & -6.749043e-04 & -8.242015e-04 & 2.331238e-06  & 0.08876109    & 0.04953012    & 0.003967921   & 0.0005695471  &  1.742854e-05 &  3.016953e-05 & ...           & 0.029429366   & 0.0001921949  & 2.358173e-04  & -4.634231e-05 &  2.385357e-04 &  2.751364e-04 & 0.0005427212  & -3.757971e-04 &  0.0021728443 & -0.0024997766\\\\\n",
       "\t 16.820844     & -4.846554e-04 & -9.280913e-05 & 2.984081e-06  & 0.09390176    & 0.05079523    & 0.003766224   & 0.0008860347  & -2.395760e-05 &  5.228769e-05 & ...           & 0.014489636   & 0.0002136472  & 1.999815e-04  & -1.379658e-04 &  8.616468e-05 &  2.627481e-04 & 0.0003148024  & -1.983174e-03 &  0.0014941339 & -0.0077237501\\\\\n",
       "\t  4.118738     & -5.335114e-04 & -3.115645e-04 & 2.373980e-06  & 0.09528071    & 0.05145404    & 0.003686281   & 0.0004196887  & -1.195436e-05 &  4.268393e-05 & ...           & 0.019766112   & 0.0002740965  & 2.582524e-04  & -1.090086e-04 &  1.920979e-04 &  3.671610e-04 & 0.0004315737  & -1.214165e-04 & -0.0008969053 & -0.0008267905\\\\\n",
       "\t 14.672351     & -6.410610e-04 & -5.035354e-04 & 2.483388e-06  & 0.09850749    & 0.05361673    & 0.003326644   & 0.0008271850  &  3.358474e-05 &  9.502836e-06 & ...           & 0.022686447   & 0.0002285273  & 2.740480e-04  &  1.856708e-05 &  1.067310e-04 &  1.484940e-04 & 0.0005079555  & -5.868157e-04 &  0.0024274404 & -0.0061345229\\\\\n",
       "\t 22.898154     & -1.489643e-04 &  1.216823e-03 & 2.551512e-06  & 0.07198312    & 0.04978902    & 0.003558769   & 0.0012154965  & -6.224851e-06 &  1.202327e-04 & ...           & 0.004424697   & 0.0002158008  & 1.163439e-04  & -1.419439e-04 &  1.262910e-04 &  1.789327e-04 & 0.0004445278  & -2.874218e-04 &  0.0004784505 & -0.0108120816\\\\\n",
       "\t 24.245073     & -7.755379e-04 & -1.157279e-03 & 2.074509e-06  & 0.09073591    & 0.05125611    & 0.003991639   & 0.0006398138  &  5.512402e-05 &  1.839591e-05 & ...           & 0.019406083   & 0.0002089925  & 2.004097e-04  &  1.256011e-04 &  1.398576e-04 &  3.447708e-04 & 0.0005675059  & -6.989736e-04 &  0.0038425702 & -0.0113145218\\\\\n",
       "\t 14.779315     & -4.103992e-04 & -6.230648e-04 & 2.605525e-06  & 0.10826286    & 0.04774009    & 0.003382882   & 0.0007840446  &  2.280978e-06 & -1.885825e-05 & ...           & 0.020410945   & 0.0002217348  & 2.191930e-04  & -3.765909e-05 &  2.228913e-04 &  3.991871e-04 & 0.0005399044  & -4.755939e-04 & -0.0004888101 & -0.0062189950\\\\\n",
       "\t 10.504260     & -5.331369e-04 & -8.982294e-04 & 3.185872e-06  & 0.10440426    & 0.05296320    & 0.003808923   & 0.0010185090  &  2.383843e-05 & -1.075407e-05 & ...           & 0.012138803   & 0.0001968847  & 2.366368e-04  &  5.761600e-05 &  3.354461e-04 &  5.249008e-04 & 0.0005967401  & -6.650856e-04 &  0.0012244974 & -0.0046828288\\\\\n",
       "\t 20.690634     & -4.356984e-04 &  2.166175e-04 & 2.825879e-06  & 0.08240224    & 0.05322080    & 0.003852024   & 0.0010448833  &  2.940558e-05 &  1.140315e-04 & ...           & 0.011770188   & 0.0001844929  & 1.508531e-04  & -2.783390e-05 &  2.983082e-04 &  2.070564e-04 & 0.0004442931  & -1.065234e-03 &  0.0005530902 & -0.0098185514\\\\\n",
       "\t 19.664872     & -4.296279e-04 &  7.595171e-04 & 2.913799e-06  & 0.06714247    & 0.05592378    & 0.003521363   & 0.0009002687  &  4.235767e-05 &  1.702458e-04 & ...           & 0.019820264   & 0.0001737165  & 1.449139e-04  &  1.878155e-04 &  1.113557e-04 &  1.530514e-04 & 0.0003601929  &  1.619874e-04 &  0.0004061084 & -0.0088701329\\\\\n",
       "\t 11.868242     & -6.148313e-04 & -9.661461e-04 & 2.940418e-06  & 0.09044022    & 0.05033668    & 0.004011312   & 0.0007484865  &  2.572735e-05 & -1.883637e-05 & ...           & 0.024199979   & 0.0002135838  & 2.410507e-04  & -3.736053e-05 &  3.744648e-04 &  3.582551e-04 & 0.0005884765  & -6.802063e-04 &  0.0043234487 & -0.0052561604\\\\\n",
       "\t 20.362118     & -2.845845e-04 &  6.760074e-05 & 2.880100e-06  & 0.08280258    & 0.04941706    & 0.003406435   & 0.0006754626  &  3.061786e-05 &  7.537379e-05 & ...           & 0.025198817   & 0.0001874620  & 2.244731e-04  & -3.827265e-06 &  1.901781e-04 &  1.588118e-04 & 0.0004179811  & -4.940290e-04 & -0.0001519190 & -0.0088608830\\\\\n",
       "\t 10.503975     & -9.623649e-06 &  1.020661e-03 & 2.520302e-06  & 0.08824691    & 0.04665329    & 0.003470154   & 0.0009642327  & -2.802824e-05 &  1.140392e-04 & ...           & 0.017365093   & 0.0002129868  & 1.237168e-04  & -1.319522e-04 &  2.306851e-04 &  2.402560e-04 & 0.0003936714  &  1.225832e-04 & -0.0016725579 & -0.0043512625\\\\\n",
       "\t 17.108496     & -4.962005e-04 & -5.278295e-04 & 3.072679e-06  & 0.08990379    & 0.05766014    & 0.003646090   & 0.0006350706  & -1.619629e-05 &  6.961633e-05 & ...           & 0.020934341   & 0.0002594534  & 1.702415e-04  & -1.632433e-05 &  2.573136e-04 &  5.043903e-05 & 0.0004233193  & -7.317726e-04 & -0.0010612265 & -0.0074519541\\\\\n",
       "\t  6.323985     & -4.392493e-04 &  1.005471e-04 & 2.148101e-06  & 0.09351134    & 0.04643766    & 0.003378708   & 0.0010528967  & -1.715848e-05 &  7.073027e-05 & ...           & 0.018313930   & 0.0002173701  & 1.580234e-04  & -6.168229e-05 &  2.347481e-04 & -3.663378e-05 & 0.0004911999  & -2.181071e-04 &  0.0003941649 & -0.0022154992\\\\\n",
       "\t 16.567257     & -2.403951e-04 &  4.780715e-04 & 2.194503e-06  & 0.07778773    & 0.05124193    & 0.003477436   & 0.0008634311  & -4.941094e-05 &  1.473002e-04 & ...           & 0.006284209   & 0.0002274294  & 1.076968e-04  & -6.213028e-06 &  1.493628e-04 &  3.180728e-04 & 0.0004763523  & -1.049644e-04 &  0.0016464618 & -0.0072583891\\\\\n",
       "\t  2.665495     & -4.864136e-04 &  9.456260e-05 & 2.914272e-06  & 0.08182950    & 0.04810881    & 0.003649436   & 0.0009891645  &  7.869619e-06 &  1.068593e-04 & ...           & 0.028535973   & 0.0002209785  & 1.630713e-04  & -6.630806e-05 &  1.387045e-04 &  1.089676e-04 & 0.0004548907  & -1.014790e-03 &  0.0008542175 & -0.0005853685\\\\\n",
       "\t 15.242527     & -7.108826e-04 & -6.101712e-04 & 2.914510e-06  & 0.08090244    & 0.05638461    & 0.003886576   & 0.0009808436  &  1.816226e-05 &  6.892374e-05 & ...           & 0.012912699   & 0.0001895995  & 2.034101e-04  &  5.904815e-05 &  1.260618e-04 &  4.253754e-05 & 0.0004695430  & -3.100807e-04 & -0.0015347360 & -0.0070688275\\\\\n",
       "\t  6.349106     & -4.157640e-04 &  1.466342e-04 & 2.403368e-06  & 0.09269602    & 0.05138229    & 0.003583815   & 0.0011864475  & -5.317819e-05 &  8.848923e-05 & ...           & 0.017960257   & 0.0001871832  & 1.181642e-04  & -1.510237e-04 &  1.401737e-04 &  2.472921e-04 & 0.0005079322  & -4.143568e-04 &  0.0010163432 & -0.0026193833\\\\\n",
       "\t 14.282273     & -3.152419e-04 &  7.981539e-04 & 2.720195e-06  & 0.08929427    & 0.05341211    & 0.003147029   & 0.0007725920  &  4.053230e-07 &  1.190857e-04 & ...           & 0.017538718   & 0.0002673407  & 7.350203e-05  & -7.744339e-05 & -1.721480e-05 &  5.313936e-05 & 0.0002890498  &  2.459761e-05 & -0.0016880804 & -0.0057060229\\\\\n",
       "\t 21.618940     & -4.161399e-04 & -5.464525e-04 & 2.044767e-06  & 0.10133968    & 0.05229349    & 0.003752714   & 0.0005714329  & -2.496106e-05 &  1.488184e-05 & ...           & 0.020999121   & 0.0002258299  & 2.066553e-04  &  5.384744e-05 &  2.580145e-04 &  2.190239e-04 & 0.0005458657  & -2.473906e-04 &  0.0008395338 & -0.0097865196\\\\\n",
       "\t 16.835929     & -4.842141e-04 & -7.452736e-04 & 2.973535e-06  & 0.10299854    & 0.05654386    & 0.003545234   & 0.0012950626  &  3.310953e-05 &  5.108115e-05 & ...           & 0.017224139   & 0.0002165339  & 1.344268e-04  & -3.729720e-04 &  1.936416e-04 &  2.608884e-04 & 0.0005449086  & -1.093930e-03 & -0.0007957432 & -0.0078872678\\\\\n",
       "\t 19.164070     & -5.246417e-04 &  1.582247e-04 & 2.510976e-06  & 0.08317421    & 0.04842263    & 0.003380491   & 0.0007094633  &  1.773911e-05 &  1.101660e-04 & ...           & 0.004739371   & 0.0001696618  & 1.606975e-04  &  1.209038e-04 &  5.535310e-05 &  2.374440e-04 & 0.0004532519  & -1.838099e-03 & -0.0005652256 & -0.0082613183\\\\\n",
       "\t 14.561196     & -4.515586e-04 &  1.399882e-04 & 2.646079e-06  & 0.08437944    & 0.05030927    & 0.003412695   & 0.0009867468  & -3.039319e-05 &  1.100907e-04 & ...           & 0.013964280   & 0.0001903040  & 1.367503e-04  &  4.741466e-05 &  1.534664e-04 &  8.674146e-05 & 0.0003531167  & -8.649379e-04 &  0.0023684075 & -0.0062986849\\\\\n",
       "\t 18.383290     & -3.680298e-04 & -2.272968e-04 & 3.170488e-06  & 0.09414905    & 0.05510153    & 0.003656185   & 0.0009981331  &  2.174657e-05 &  6.558289e-05 & ...           & 0.020371289   & 0.0002069827  & 1.805515e-04  & -1.300691e-04 &  2.047085e-04 &  2.964734e-04 & 0.0004022321  & -3.987415e-04 &  0.0013643476 & -0.0084997516\\\\\n",
       "\t 12.805937     & -3.005856e-04 &  2.193748e-04 & 3.566111e-06  & 0.08591954    & 0.04903045    & 0.003320704   & 0.0011247378  &  2.806334e-05 &  7.351126e-05 & ...           & 0.017409482   & 0.0001938831  & 1.374038e-04  &  5.447122e-05 &  2.339559e-04 &  2.860495e-04 & 0.0003979308  & -2.246647e-03 &  0.0023026428 & -0.0054591840\\\\\n",
       "\t 12.281889     & -7.276233e-04 & -9.330806e-04 & 2.907887e-06  & 0.09358381    & 0.04955857    & 0.003715237   & 0.0008706454  &  1.187416e-05 &  3.809493e-05 & ...           & 0.015312875   & 0.0002026820  & 1.918469e-04  &  2.888878e-06 &  3.202591e-04 &  1.851638e-04 & 0.0005929875  & -6.052765e-04 &  0.0025960455 & -0.0053292954\\\\\n",
       "\t -2.242654     & -4.656901e-04 & -1.995057e-04 & 1.689744e-06  & 0.09747680    & 0.05034405    & 0.003491925   & 0.0011321996  & -4.693763e-05 &  4.117117e-05 & ...           & 0.019574083   & 0.0002604996  & 2.028575e-04  & -1.508612e-04 &  2.585822e-04 &  4.714635e-04 & 0.0005594009  & -5.071847e-04 &  0.0008856177 &  0.0018493323\\\\\n",
       "\t ... & ... & ... & ... & ... & ... & ... & ... & ... & ... &     & ... & ... & ... & ... & ... & ... & ... & ... & ... & ...\\\\\n",
       "\t 10.61571198   & -0.0006002197 & -8.404706e-04 &  3.006277e-06 & 0.09120399    & 0.04149023    & 0.003588784   & 0.0010936934  & -1.719768e-05 &  6.252415e-05 & ...           & 0.02566014    & 0.0001900331  & 0.0002608138  &  6.938958e-05 & 1.309212e-04  &  3.055603e-04 & 0.0005166276  & -1.211398e-03 &  0.0034284267 & -0.004549421 \\\\\n",
       "\t 10.79002503   & -0.0005208106 &  3.085094e-04 &  2.259335e-06 & 0.10230014    & 0.04369469    & 0.003193776   & 0.0012858504  & -5.875284e-05 &  7.661704e-05 & ...           & 0.01127108    & 0.0002654938  & 0.0001584039  & -2.535887e-04 & 4.831231e-05  &  3.133519e-04 & 0.0005320744  & -5.299113e-04 & -0.0021899855 & -0.004498160 \\\\\n",
       "\t 11.79835404   & -0.0001597750 &  1.260760e-03 &  2.604423e-06 & 0.07079051    & 0.05223060    & 0.003451021   & 0.0012323328  &  1.364036e-05 &  1.197869e-04 & ...           & 0.01482976    & 0.0001662422  & 0.0001025538  &  1.628011e-05 & 2.671710e-04  &  1.053562e-04 & 0.0004973660  & -6.027690e-05 & -0.0002393257 & -0.005197400 \\\\\n",
       "\t -0.07789557   & -0.0002682267 &  5.366584e-04 &  2.975691e-06 & 0.07414387    & 0.05068448    & 0.003529131   & 0.0005906892  &  1.569713e-06 &  1.663587e-04 & ...           & 0.01031239    & 0.0001665326  & 0.0001284138  &  1.768088e-04 & 1.119013e-04  &  9.901140e-05 & 0.0003881686  &  2.153698e-04 &  0.0005675190 &  0.001279635 \\\\\n",
       "\t 13.51113617   & -0.0003462542 &  4.812897e-04 &  3.612969e-06 & 0.08006404    & 0.05460309    & 0.003453635   & 0.0011247278  & -3.188710e-05 &  1.293729e-04 & ...           & 0.02159880    & 0.0002464000  & 0.0001124679  & -1.237753e-04 & 2.121574e-04  &  3.576948e-04 & 0.0004625584  &  3.058417e-04 & -0.0016490729 & -0.005972344 \\\\\n",
       "\t 11.85322978   & -0.0005712506 &  2.278699e-04 &  2.796950e-06 & 0.09393341    & 0.05446705    & 0.004018507   & 0.0007918800  &  1.055346e-05 &  4.892176e-05 & ...           & 0.02198360    & 0.0001552657  & 0.0001931533  & -1.396204e-04 & 2.613786e-04  &  8.725921e-06 & 0.0005272979  & -1.530594e-04 &  0.0008334508 & -0.005360722 \\\\\n",
       "\t 11.49259675   & -0.0002274296 &  7.615998e-04 &  2.833527e-06 & 0.07097979    & 0.05003807    & 0.003443405   & 0.0011208257  & -1.958422e-05 &  1.191916e-04 & ...           & 0.01550786    & 0.0001807269  & 0.0001110627  &  5.180401e-06 & 1.194229e-04  &  7.723684e-05 & 0.0004088161  & -1.784866e-04 & -0.0029073466 & -0.004904054 \\\\\n",
       "\t  8.08603841   & -0.0005199159 & -5.600313e-04 &  1.999476e-06 & 0.09291029    & 0.04879889    & 0.003846401   & 0.0008177484  & -1.161664e-05 & -3.052722e-06 & ...           & 0.01342218    & 0.0001871910  & 0.0002177638  &  1.508378e-05 & 2.641633e-04  &  5.448989e-04 & 0.0004857888  & -4.260632e-04 &  0.0039512363 & -0.003334971 \\\\\n",
       "\t 11.52475364   & -0.0007656605 & -9.131756e-04 & -4.659611e-07 & 0.10134944    & 0.04218233    & 0.003101970   & 0.0014441591  &  1.510102e-05 & -1.190578e-05 & ...           & 0.02861850    & 0.0003119749  & 0.0002525440  &  1.439543e-04 & 3.896261e-04  &  4.069490e-04 & 0.0006103056  & -5.053767e-04 &  0.0025102588 & -0.004905612 \\\\\n",
       "\t  9.81135398   & -0.0005395132 & -1.652046e-04 &  2.695739e-06 & 0.09449126    & 0.05461124    & 0.003745418   & 0.0006942236  & -1.552427e-06 &  7.480562e-05 & ...           & 0.01536262    & 0.0002159635  & 0.0001378305  & -6.884686e-05 & 2.275226e-04  &  1.507301e-04 & 0.0004232292  & -5.109517e-04 &  0.0010531859 & -0.003977383 \\\\\n",
       "\t 14.55475492   & -0.0006202821 &  5.554805e-05 &  2.387849e-06 & 0.08408286    & 0.05297409    & 0.003958857   & 0.0006956676  & -2.896701e-05 &  7.392183e-05 & ...           & 0.01448958    & 0.0002340896  & 0.0002460141  &  7.107102e-06 & 2.243171e-04  &  1.426097e-04 & 0.0005463432  & -1.871136e-04 & -0.0001685474 & -0.006537001 \\\\\n",
       "\t 21.05852815   & -0.0004263418 & -5.441131e-04 &  2.408028e-06 & 0.08244785    & 0.05525635    & 0.003901967   & 0.0011135207  & -3.524087e-06 &  8.553763e-05 & ...           & 0.02073602    & 0.0002027688  & 0.0001679150  & -1.059054e-04 & 2.936896e-04  &  1.931793e-05 & 0.0004705269  & -5.060404e-04 &  0.0018083461 & -0.010164184 \\\\\n",
       "\t 12.96469560   & -0.0003186403 &  7.286788e-04 &  2.871227e-06 & 0.07575364    & 0.05572728    & 0.003568770   & 0.0010846772  &  3.107930e-05 &  1.437300e-04 & ...           & 0.01261123    & 0.0001800180  & 0.0001182508  & -8.583242e-05 & 8.247126e-05  &  3.414224e-04 & 0.0004235416  &  6.293562e-05 & -0.0001082069 & -0.005750049 \\\\\n",
       "\t 14.95407475   & -0.0002303807 &  1.923417e-04 &  3.224015e-06 & 0.08250477    & 0.05844353    & 0.003550981   & 0.0008254092  & -1.333137e-05 &  1.314111e-04 & ...           & 0.01843658    & 0.0001798819  & 0.0001266990  &  2.752328e-05 & 8.847980e-05  &  2.944313e-04 & 0.0004576637  &  8.733640e-05 & -0.0005005449 & -0.006501685 \\\\\n",
       "\t 22.35683963   & -0.0008953828 & -9.949177e-04 &  1.899726e-06 & 0.10424896    & 0.04395989    & 0.003651993   & 0.0017444208  & -1.361791e-05 & -1.695811e-05 & ...           & 0.01297449    & 0.0001803889  & 0.0003333082  & -5.957776e-06 & 3.248530e-04  &  3.036549e-04 & 0.0005511489  & -5.774885e-04 &  0.0000715044 & -0.011134255 \\\\\n",
       "\t 21.70555510   & -0.0006195383 & -4.911690e-04 &  3.039372e-06 & 0.08980516    & 0.04255285    & 0.003162255   & 0.0011009233  & -9.987602e-06 &  1.056570e-04 & ...           & 0.01938874    & 0.0002166429  & 0.0002015692  & -1.276118e-04 & 1.596154e-04  &  2.202368e-04 & 0.0004612784  & -5.952891e-04 & -0.0006458175 & -0.009648800 \\\\\n",
       "\t 13.70021577   & -0.0004042739 &  6.417705e-04 &  2.536992e-06 & 0.08487367    & 0.05119960    & 0.003169979   & 0.0013187239  &  7.350725e-06 &  1.214174e-04 & ...           & 0.01384713    & 0.0002221539  & 0.0001611208  & -2.147950e-07 & 2.464078e-04  &  2.375047e-04 & 0.0004198028  &  7.117962e-05 & -0.0015116748 & -0.005952192 \\\\\n",
       "\t 19.60426156   & -0.0004308331 & -1.810635e-06 &  2.887949e-06 & 0.08079548    & 0.05426535    & 0.004005765   & 0.0006463523  & -7.604139e-07 &  7.790849e-05 & ...           & 0.02089342    & 0.0001673279  & 0.0001560040  &  1.069053e-04 & 2.112436e-04  &  2.951086e-04 & 0.0005130395  & -1.180476e-03 &  0.0002544581 & -0.009039343 \\\\\n",
       "\t 17.79524079   & -0.0004542906 & -2.044659e-04 &  2.173963e-06 & 0.09825118    & 0.05513457    & 0.003270787   & 0.0007613565  & -2.048828e-05 &  7.732195e-05 & ...           & 0.01477768    & 0.0002372571  & 0.0001754797  & -4.451563e-06 & 1.208292e-04  &  4.045112e-04 & 0.0004456406  & -1.730121e-04 & -0.0005201738 & -0.007590716 \\\\\n",
       "\t 10.97874300   & -0.0006542022 & -5.594355e-04 &  2.449511e-06 & 0.09837289    & 0.04771547    & 0.003391528   & 0.0014061048  & -2.216794e-05 &  1.966117e-05 & ...           & 0.02466039    & 0.0002437543  & 0.0001873023  & -7.287912e-05 & 1.530918e-04  &  4.644369e-04 & 0.0005748075  & -5.734449e-04 &  0.0007444680 & -0.004881683 \\\\\n",
       "\t 12.03887965   & -0.0006970216 & -7.760696e-04 &  2.357687e-06 & 0.08489981    & 0.04964777    & 0.003807884   & 0.0011825999  &  1.466183e-05 &  1.721244e-05 & ...           & 0.02122003    & 0.0002025175  & 0.0001781463  &  2.801737e-05 & 2.043329e-04  &  2.659798e-04 & 0.0005620981  & -1.268752e-03 &  0.0035846792 & -0.005595397 \\\\\n",
       "\t  9.90914518   & -0.0004554680 & -1.222450e-04 &  3.287168e-06 & 0.08038871    & 0.05677193    & 0.004099384   & 0.0009238207  & -4.869332e-05 &  6.442450e-05 & ...           & 0.01294180    & 0.0001899020  & 0.0001333116  & -9.614135e-05 & 1.972854e-04  &  6.897956e-04 & 0.0005493307  & -7.633763e-04 &  0.0010755578 & -0.004582542 \\\\\n",
       "\t  9.37362214   & -0.0005870907 & -1.671441e-04 &  2.541163e-06 & 0.09293935    & 0.04383833    & 0.003293816   & 0.0007804836  &  1.452927e-05 &  5.373267e-05 & ...           & 0.00984532    & 0.0002344084  & 0.0001785080  & -2.740786e-05 & 2.051686e-04  &  8.225610e-05 & 0.0004105772  & -1.782467e-04 &  0.0006092339 & -0.003357300 \\\\\n",
       "\t 19.52208997   & -0.0007177958 & -8.897570e-04 &  2.463000e-06 & 0.09460511    & 0.04504705    & 0.003362184   & 0.0016213729  & -2.980764e-06 &  2.975220e-05 & ...           & 0.02770939    & 0.0002321812  & 0.0001749776  & -1.879498e-04 & 1.803484e-04  &  2.075266e-04 & 0.0005160981  & -8.103213e-04 &  0.0014674112 & -0.009293402 \\\\\n",
       "\t 14.11411368   & -0.0003138305 &  7.970937e-04 &  3.102558e-06 & 0.07469041    & 0.05698348    & 0.003734166   & 0.0003972669  & -1.471409e-05 &  1.676858e-04 & ...           & 0.01132144    & 0.0001858277  & 0.0001940475  & -1.595680e-05 & 2.419826e-04  &  2.817206e-04 & 0.0003879441  & -1.736315e-04 &  0.0020552779 & -0.005844657 \\\\\n",
       "\t 18.31194652   & -0.0005144201 & -2.742492e-04 &  2.525880e-06 & 0.09345010    & 0.05465533    & 0.003948426   & 0.0008329261  &  1.183039e-05 &  5.512340e-05 & ...           & 0.02220157    & 0.0002251614  & 0.0001728234  & -9.323251e-05 & 2.065474e-04  & -6.861920e-05 & 0.0004637525  & -1.048908e-03 &  0.0012983723 & -0.008566244 \\\\\n",
       "\t 12.22291424   & -0.0003172097 & -7.099780e-04 &  3.004295e-06 & 0.10035672    & 0.04511986    & 0.003360797   & 0.0010356285  & -3.748322e-06 &  2.982670e-05 & ...           & 0.03150574    & 0.0001584340  & 0.0002045588  &  7.650982e-05 & 2.560807e-04  &  1.540904e-04 & 0.0005372208  & -5.009735e-04 & -0.0001662963 & -0.005115872 \\\\\n",
       "\t 17.49770475   & -0.0004681539 & -6.120432e-05 &  2.674503e-06 & 0.08893408    & 0.04279138    & 0.003035846   & 0.0009819637  & -2.747577e-05 &  6.152962e-05 & ...           & 0.01572647    & 0.0002630615  & 0.0002164259  & -9.858540e-06 & 1.377706e-04  &  3.088687e-04 & 0.0004802998  & -2.078275e-04 & -0.0003202147 & -0.007343822 \\\\\n",
       "\t 15.89388171   & -0.0004173623 & -2.655506e-04 &  2.731914e-06 & 0.08681281    & 0.05324689    & 0.003456025   & 0.0008242141  & -1.412646e-05 &  6.748756e-05 & ...           & 0.03079592    & 0.0002206528  & 0.0001503103  &  3.567191e-05 & 2.866203e-04  &  9.098882e-05 & 0.0005647176  & -7.498103e-05 &  0.0001598545 & -0.006833479 \\\\\n",
       "\t  8.96407303   & -0.0006492170 & -1.089424e-03 &  2.767805e-06 & 0.10088003    & 0.04974326    & 0.003907020   & 0.0008542073  &  3.683157e-05 &  2.834446e-06 & ...           & 0.02030678    & 0.0002189068  & 0.0001545440  & -1.351658e-04 & 2.832917e-04  &  2.852900e-04 & 0.0005221978  & -6.355809e-04 &  0.0008973031 & -0.003867483 \\\\\n",
       "\\end{tabular}\n"
      ],
      "text/markdown": [
       "\n",
       "|  9.597642     | -2.106557e-04 |  5.258064e-04 | 5.352987e-06  | 0.07783448    | 0.06086395    | 0.003630229   | 0.0008641679  | -1.342476e-05 |  1.600600e-04 | ...           | 0.017115703   | 0.0001967321  | 8.304406e-05  | -1.767137e-04 | -2.746076e-05 | -2.606325e-05 | 0.0003460861  |  2.921245e-05 | -0.0001601132 | -0.0039527832 | \n",
       "| 22.093346     | -6.846355e-04 | -3.724472e-04 | 2.827169e-06  | 0.09939308    | 0.04619381    | 0.003353357   | 0.0013046233  |  1.524191e-05 |  4.030459e-05 | ...           | 0.019051959   | 0.0002166862  | 1.493849e-04  |  8.670969e-06 |  8.730961e-05 |  2.334982e-04 | 0.0005777336  | -8.911412e-04 |  0.0022652716 | -0.0102761209 | \n",
       "|  6.745540     | -6.749043e-04 | -8.242015e-04 | 2.331238e-06  | 0.08876109    | 0.04953012    | 0.003967921   | 0.0005695471  |  1.742854e-05 |  3.016953e-05 | ...           | 0.029429366   | 0.0001921949  | 2.358173e-04  | -4.634231e-05 |  2.385357e-04 |  2.751364e-04 | 0.0005427212  | -3.757971e-04 |  0.0021728443 | -0.0024997766 | \n",
       "| 16.820844     | -4.846554e-04 | -9.280913e-05 | 2.984081e-06  | 0.09390176    | 0.05079523    | 0.003766224   | 0.0008860347  | -2.395760e-05 |  5.228769e-05 | ...           | 0.014489636   | 0.0002136472  | 1.999815e-04  | -1.379658e-04 |  8.616468e-05 |  2.627481e-04 | 0.0003148024  | -1.983174e-03 |  0.0014941339 | -0.0077237501 | \n",
       "|  4.118738     | -5.335114e-04 | -3.115645e-04 | 2.373980e-06  | 0.09528071    | 0.05145404    | 0.003686281   | 0.0004196887  | -1.195436e-05 |  4.268393e-05 | ...           | 0.019766112   | 0.0002740965  | 2.582524e-04  | -1.090086e-04 |  1.920979e-04 |  3.671610e-04 | 0.0004315737  | -1.214165e-04 | -0.0008969053 | -0.0008267905 | \n",
       "| 14.672351     | -6.410610e-04 | -5.035354e-04 | 2.483388e-06  | 0.09850749    | 0.05361673    | 0.003326644   | 0.0008271850  |  3.358474e-05 |  9.502836e-06 | ...           | 0.022686447   | 0.0002285273  | 2.740480e-04  |  1.856708e-05 |  1.067310e-04 |  1.484940e-04 | 0.0005079555  | -5.868157e-04 |  0.0024274404 | -0.0061345229 | \n",
       "| 22.898154     | -1.489643e-04 |  1.216823e-03 | 2.551512e-06  | 0.07198312    | 0.04978902    | 0.003558769   | 0.0012154965  | -6.224851e-06 |  1.202327e-04 | ...           | 0.004424697   | 0.0002158008  | 1.163439e-04  | -1.419439e-04 |  1.262910e-04 |  1.789327e-04 | 0.0004445278  | -2.874218e-04 |  0.0004784505 | -0.0108120816 | \n",
       "| 24.245073     | -7.755379e-04 | -1.157279e-03 | 2.074509e-06  | 0.09073591    | 0.05125611    | 0.003991639   | 0.0006398138  |  5.512402e-05 |  1.839591e-05 | ...           | 0.019406083   | 0.0002089925  | 2.004097e-04  |  1.256011e-04 |  1.398576e-04 |  3.447708e-04 | 0.0005675059  | -6.989736e-04 |  0.0038425702 | -0.0113145218 | \n",
       "| 14.779315     | -4.103992e-04 | -6.230648e-04 | 2.605525e-06  | 0.10826286    | 0.04774009    | 0.003382882   | 0.0007840446  |  2.280978e-06 | -1.885825e-05 | ...           | 0.020410945   | 0.0002217348  | 2.191930e-04  | -3.765909e-05 |  2.228913e-04 |  3.991871e-04 | 0.0005399044  | -4.755939e-04 | -0.0004888101 | -0.0062189950 | \n",
       "| 10.504260     | -5.331369e-04 | -8.982294e-04 | 3.185872e-06  | 0.10440426    | 0.05296320    | 0.003808923   | 0.0010185090  |  2.383843e-05 | -1.075407e-05 | ...           | 0.012138803   | 0.0001968847  | 2.366368e-04  |  5.761600e-05 |  3.354461e-04 |  5.249008e-04 | 0.0005967401  | -6.650856e-04 |  0.0012244974 | -0.0046828288 | \n",
       "| 20.690634     | -4.356984e-04 |  2.166175e-04 | 2.825879e-06  | 0.08240224    | 0.05322080    | 0.003852024   | 0.0010448833  |  2.940558e-05 |  1.140315e-04 | ...           | 0.011770188   | 0.0001844929  | 1.508531e-04  | -2.783390e-05 |  2.983082e-04 |  2.070564e-04 | 0.0004442931  | -1.065234e-03 |  0.0005530902 | -0.0098185514 | \n",
       "| 19.664872     | -4.296279e-04 |  7.595171e-04 | 2.913799e-06  | 0.06714247    | 0.05592378    | 0.003521363   | 0.0009002687  |  4.235767e-05 |  1.702458e-04 | ...           | 0.019820264   | 0.0001737165  | 1.449139e-04  |  1.878155e-04 |  1.113557e-04 |  1.530514e-04 | 0.0003601929  |  1.619874e-04 |  0.0004061084 | -0.0088701329 | \n",
       "| 11.868242     | -6.148313e-04 | -9.661461e-04 | 2.940418e-06  | 0.09044022    | 0.05033668    | 0.004011312   | 0.0007484865  |  2.572735e-05 | -1.883637e-05 | ...           | 0.024199979   | 0.0002135838  | 2.410507e-04  | -3.736053e-05 |  3.744648e-04 |  3.582551e-04 | 0.0005884765  | -6.802063e-04 |  0.0043234487 | -0.0052561604 | \n",
       "| 20.362118     | -2.845845e-04 |  6.760074e-05 | 2.880100e-06  | 0.08280258    | 0.04941706    | 0.003406435   | 0.0006754626  |  3.061786e-05 |  7.537379e-05 | ...           | 0.025198817   | 0.0001874620  | 2.244731e-04  | -3.827265e-06 |  1.901781e-04 |  1.588118e-04 | 0.0004179811  | -4.940290e-04 | -0.0001519190 | -0.0088608830 | \n",
       "| 10.503975     | -9.623649e-06 |  1.020661e-03 | 2.520302e-06  | 0.08824691    | 0.04665329    | 0.003470154   | 0.0009642327  | -2.802824e-05 |  1.140392e-04 | ...           | 0.017365093   | 0.0002129868  | 1.237168e-04  | -1.319522e-04 |  2.306851e-04 |  2.402560e-04 | 0.0003936714  |  1.225832e-04 | -0.0016725579 | -0.0043512625 | \n",
       "| 17.108496     | -4.962005e-04 | -5.278295e-04 | 3.072679e-06  | 0.08990379    | 0.05766014    | 0.003646090   | 0.0006350706  | -1.619629e-05 |  6.961633e-05 | ...           | 0.020934341   | 0.0002594534  | 1.702415e-04  | -1.632433e-05 |  2.573136e-04 |  5.043903e-05 | 0.0004233193  | -7.317726e-04 | -0.0010612265 | -0.0074519541 | \n",
       "|  6.323985     | -4.392493e-04 |  1.005471e-04 | 2.148101e-06  | 0.09351134    | 0.04643766    | 0.003378708   | 0.0010528967  | -1.715848e-05 |  7.073027e-05 | ...           | 0.018313930   | 0.0002173701  | 1.580234e-04  | -6.168229e-05 |  2.347481e-04 | -3.663378e-05 | 0.0004911999  | -2.181071e-04 |  0.0003941649 | -0.0022154992 | \n",
       "| 16.567257     | -2.403951e-04 |  4.780715e-04 | 2.194503e-06  | 0.07778773    | 0.05124193    | 0.003477436   | 0.0008634311  | -4.941094e-05 |  1.473002e-04 | ...           | 0.006284209   | 0.0002274294  | 1.076968e-04  | -6.213028e-06 |  1.493628e-04 |  3.180728e-04 | 0.0004763523  | -1.049644e-04 |  0.0016464618 | -0.0072583891 | \n",
       "|  2.665495     | -4.864136e-04 |  9.456260e-05 | 2.914272e-06  | 0.08182950    | 0.04810881    | 0.003649436   | 0.0009891645  |  7.869619e-06 |  1.068593e-04 | ...           | 0.028535973   | 0.0002209785  | 1.630713e-04  | -6.630806e-05 |  1.387045e-04 |  1.089676e-04 | 0.0004548907  | -1.014790e-03 |  0.0008542175 | -0.0005853685 | \n",
       "| 15.242527     | -7.108826e-04 | -6.101712e-04 | 2.914510e-06  | 0.08090244    | 0.05638461    | 0.003886576   | 0.0009808436  |  1.816226e-05 |  6.892374e-05 | ...           | 0.012912699   | 0.0001895995  | 2.034101e-04  |  5.904815e-05 |  1.260618e-04 |  4.253754e-05 | 0.0004695430  | -3.100807e-04 | -0.0015347360 | -0.0070688275 | \n",
       "|  6.349106     | -4.157640e-04 |  1.466342e-04 | 2.403368e-06  | 0.09269602    | 0.05138229    | 0.003583815   | 0.0011864475  | -5.317819e-05 |  8.848923e-05 | ...           | 0.017960257   | 0.0001871832  | 1.181642e-04  | -1.510237e-04 |  1.401737e-04 |  2.472921e-04 | 0.0005079322  | -4.143568e-04 |  0.0010163432 | -0.0026193833 | \n",
       "| 14.282273     | -3.152419e-04 |  7.981539e-04 | 2.720195e-06  | 0.08929427    | 0.05341211    | 0.003147029   | 0.0007725920  |  4.053230e-07 |  1.190857e-04 | ...           | 0.017538718   | 0.0002673407  | 7.350203e-05  | -7.744339e-05 | -1.721480e-05 |  5.313936e-05 | 0.0002890498  |  2.459761e-05 | -0.0016880804 | -0.0057060229 | \n",
       "| 21.618940     | -4.161399e-04 | -5.464525e-04 | 2.044767e-06  | 0.10133968    | 0.05229349    | 0.003752714   | 0.0005714329  | -2.496106e-05 |  1.488184e-05 | ...           | 0.020999121   | 0.0002258299  | 2.066553e-04  |  5.384744e-05 |  2.580145e-04 |  2.190239e-04 | 0.0005458657  | -2.473906e-04 |  0.0008395338 | -0.0097865196 | \n",
       "| 16.835929     | -4.842141e-04 | -7.452736e-04 | 2.973535e-06  | 0.10299854    | 0.05654386    | 0.003545234   | 0.0012950626  |  3.310953e-05 |  5.108115e-05 | ...           | 0.017224139   | 0.0002165339  | 1.344268e-04  | -3.729720e-04 |  1.936416e-04 |  2.608884e-04 | 0.0005449086  | -1.093930e-03 | -0.0007957432 | -0.0078872678 | \n",
       "| 19.164070     | -5.246417e-04 |  1.582247e-04 | 2.510976e-06  | 0.08317421    | 0.04842263    | 0.003380491   | 0.0007094633  |  1.773911e-05 |  1.101660e-04 | ...           | 0.004739371   | 0.0001696618  | 1.606975e-04  |  1.209038e-04 |  5.535310e-05 |  2.374440e-04 | 0.0004532519  | -1.838099e-03 | -0.0005652256 | -0.0082613183 | \n",
       "| 14.561196     | -4.515586e-04 |  1.399882e-04 | 2.646079e-06  | 0.08437944    | 0.05030927    | 0.003412695   | 0.0009867468  | -3.039319e-05 |  1.100907e-04 | ...           | 0.013964280   | 0.0001903040  | 1.367503e-04  |  4.741466e-05 |  1.534664e-04 |  8.674146e-05 | 0.0003531167  | -8.649379e-04 |  0.0023684075 | -0.0062986849 | \n",
       "| 18.383290     | -3.680298e-04 | -2.272968e-04 | 3.170488e-06  | 0.09414905    | 0.05510153    | 0.003656185   | 0.0009981331  |  2.174657e-05 |  6.558289e-05 | ...           | 0.020371289   | 0.0002069827  | 1.805515e-04  | -1.300691e-04 |  2.047085e-04 |  2.964734e-04 | 0.0004022321  | -3.987415e-04 |  0.0013643476 | -0.0084997516 | \n",
       "| 12.805937     | -3.005856e-04 |  2.193748e-04 | 3.566111e-06  | 0.08591954    | 0.04903045    | 0.003320704   | 0.0011247378  |  2.806334e-05 |  7.351126e-05 | ...           | 0.017409482   | 0.0001938831  | 1.374038e-04  |  5.447122e-05 |  2.339559e-04 |  2.860495e-04 | 0.0003979308  | -2.246647e-03 |  0.0023026428 | -0.0054591840 | \n",
       "| 12.281889     | -7.276233e-04 | -9.330806e-04 | 2.907887e-06  | 0.09358381    | 0.04955857    | 0.003715237   | 0.0008706454  |  1.187416e-05 |  3.809493e-05 | ...           | 0.015312875   | 0.0002026820  | 1.918469e-04  |  2.888878e-06 |  3.202591e-04 |  1.851638e-04 | 0.0005929875  | -6.052765e-04 |  0.0025960455 | -0.0053292954 | \n",
       "| -2.242654     | -4.656901e-04 | -1.995057e-04 | 1.689744e-06  | 0.09747680    | 0.05034405    | 0.003491925   | 0.0011321996  | -4.693763e-05 |  4.117117e-05 | ...           | 0.019574083   | 0.0002604996  | 2.028575e-04  | -1.508612e-04 |  2.585822e-04 |  4.714635e-04 | 0.0005594009  | -5.071847e-04 |  0.0008856177 |  0.0018493323 | \n",
       "| ... | ... | ... | ... | ... | ... | ... | ... | ... | ... |     | ... | ... | ... | ... | ... | ... | ... | ... | ... | ... | \n",
       "| 10.61571198   | -0.0006002197 | -8.404706e-04 |  3.006277e-06 | 0.09120399    | 0.04149023    | 0.003588784   | 0.0010936934  | -1.719768e-05 |  6.252415e-05 | ...           | 0.02566014    | 0.0001900331  | 0.0002608138  |  6.938958e-05 | 1.309212e-04  |  3.055603e-04 | 0.0005166276  | -1.211398e-03 |  0.0034284267 | -0.004549421  | \n",
       "| 10.79002503   | -0.0005208106 |  3.085094e-04 |  2.259335e-06 | 0.10230014    | 0.04369469    | 0.003193776   | 0.0012858504  | -5.875284e-05 |  7.661704e-05 | ...           | 0.01127108    | 0.0002654938  | 0.0001584039  | -2.535887e-04 | 4.831231e-05  |  3.133519e-04 | 0.0005320744  | -5.299113e-04 | -0.0021899855 | -0.004498160  | \n",
       "| 11.79835404   | -0.0001597750 |  1.260760e-03 |  2.604423e-06 | 0.07079051    | 0.05223060    | 0.003451021   | 0.0012323328  |  1.364036e-05 |  1.197869e-04 | ...           | 0.01482976    | 0.0001662422  | 0.0001025538  |  1.628011e-05 | 2.671710e-04  |  1.053562e-04 | 0.0004973660  | -6.027690e-05 | -0.0002393257 | -0.005197400  | \n",
       "| -0.07789557   | -0.0002682267 |  5.366584e-04 |  2.975691e-06 | 0.07414387    | 0.05068448    | 0.003529131   | 0.0005906892  |  1.569713e-06 |  1.663587e-04 | ...           | 0.01031239    | 0.0001665326  | 0.0001284138  |  1.768088e-04 | 1.119013e-04  |  9.901140e-05 | 0.0003881686  |  2.153698e-04 |  0.0005675190 |  0.001279635  | \n",
       "| 13.51113617   | -0.0003462542 |  4.812897e-04 |  3.612969e-06 | 0.08006404    | 0.05460309    | 0.003453635   | 0.0011247278  | -3.188710e-05 |  1.293729e-04 | ...           | 0.02159880    | 0.0002464000  | 0.0001124679  | -1.237753e-04 | 2.121574e-04  |  3.576948e-04 | 0.0004625584  |  3.058417e-04 | -0.0016490729 | -0.005972344  | \n",
       "| 11.85322978   | -0.0005712506 |  2.278699e-04 |  2.796950e-06 | 0.09393341    | 0.05446705    | 0.004018507   | 0.0007918800  |  1.055346e-05 |  4.892176e-05 | ...           | 0.02198360    | 0.0001552657  | 0.0001931533  | -1.396204e-04 | 2.613786e-04  |  8.725921e-06 | 0.0005272979  | -1.530594e-04 |  0.0008334508 | -0.005360722  | \n",
       "| 11.49259675   | -0.0002274296 |  7.615998e-04 |  2.833527e-06 | 0.07097979    | 0.05003807    | 0.003443405   | 0.0011208257  | -1.958422e-05 |  1.191916e-04 | ...           | 0.01550786    | 0.0001807269  | 0.0001110627  |  5.180401e-06 | 1.194229e-04  |  7.723684e-05 | 0.0004088161  | -1.784866e-04 | -0.0029073466 | -0.004904054  | \n",
       "|  8.08603841   | -0.0005199159 | -5.600313e-04 |  1.999476e-06 | 0.09291029    | 0.04879889    | 0.003846401   | 0.0008177484  | -1.161664e-05 | -3.052722e-06 | ...           | 0.01342218    | 0.0001871910  | 0.0002177638  |  1.508378e-05 | 2.641633e-04  |  5.448989e-04 | 0.0004857888  | -4.260632e-04 |  0.0039512363 | -0.003334971  | \n",
       "| 11.52475364   | -0.0007656605 | -9.131756e-04 | -4.659611e-07 | 0.10134944    | 0.04218233    | 0.003101970   | 0.0014441591  |  1.510102e-05 | -1.190578e-05 | ...           | 0.02861850    | 0.0003119749  | 0.0002525440  |  1.439543e-04 | 3.896261e-04  |  4.069490e-04 | 0.0006103056  | -5.053767e-04 |  0.0025102588 | -0.004905612  | \n",
       "|  9.81135398   | -0.0005395132 | -1.652046e-04 |  2.695739e-06 | 0.09449126    | 0.05461124    | 0.003745418   | 0.0006942236  | -1.552427e-06 |  7.480562e-05 | ...           | 0.01536262    | 0.0002159635  | 0.0001378305  | -6.884686e-05 | 2.275226e-04  |  1.507301e-04 | 0.0004232292  | -5.109517e-04 |  0.0010531859 | -0.003977383  | \n",
       "| 14.55475492   | -0.0006202821 |  5.554805e-05 |  2.387849e-06 | 0.08408286    | 0.05297409    | 0.003958857   | 0.0006956676  | -2.896701e-05 |  7.392183e-05 | ...           | 0.01448958    | 0.0002340896  | 0.0002460141  |  7.107102e-06 | 2.243171e-04  |  1.426097e-04 | 0.0005463432  | -1.871136e-04 | -0.0001685474 | -0.006537001  | \n",
       "| 21.05852815   | -0.0004263418 | -5.441131e-04 |  2.408028e-06 | 0.08244785    | 0.05525635    | 0.003901967   | 0.0011135207  | -3.524087e-06 |  8.553763e-05 | ...           | 0.02073602    | 0.0002027688  | 0.0001679150  | -1.059054e-04 | 2.936896e-04  |  1.931793e-05 | 0.0004705269  | -5.060404e-04 |  0.0018083461 | -0.010164184  | \n",
       "| 12.96469560   | -0.0003186403 |  7.286788e-04 |  2.871227e-06 | 0.07575364    | 0.05572728    | 0.003568770   | 0.0010846772  |  3.107930e-05 |  1.437300e-04 | ...           | 0.01261123    | 0.0001800180  | 0.0001182508  | -8.583242e-05 | 8.247126e-05  |  3.414224e-04 | 0.0004235416  |  6.293562e-05 | -0.0001082069 | -0.005750049  | \n",
       "| 14.95407475   | -0.0002303807 |  1.923417e-04 |  3.224015e-06 | 0.08250477    | 0.05844353    | 0.003550981   | 0.0008254092  | -1.333137e-05 |  1.314111e-04 | ...           | 0.01843658    | 0.0001798819  | 0.0001266990  |  2.752328e-05 | 8.847980e-05  |  2.944313e-04 | 0.0004576637  |  8.733640e-05 | -0.0005005449 | -0.006501685  | \n",
       "| 22.35683963   | -0.0008953828 | -9.949177e-04 |  1.899726e-06 | 0.10424896    | 0.04395989    | 0.003651993   | 0.0017444208  | -1.361791e-05 | -1.695811e-05 | ...           | 0.01297449    | 0.0001803889  | 0.0003333082  | -5.957776e-06 | 3.248530e-04  |  3.036549e-04 | 0.0005511489  | -5.774885e-04 |  0.0000715044 | -0.011134255  | \n",
       "| 21.70555510   | -0.0006195383 | -4.911690e-04 |  3.039372e-06 | 0.08980516    | 0.04255285    | 0.003162255   | 0.0011009233  | -9.987602e-06 |  1.056570e-04 | ...           | 0.01938874    | 0.0002166429  | 0.0002015692  | -1.276118e-04 | 1.596154e-04  |  2.202368e-04 | 0.0004612784  | -5.952891e-04 | -0.0006458175 | -0.009648800  | \n",
       "| 13.70021577   | -0.0004042739 |  6.417705e-04 |  2.536992e-06 | 0.08487367    | 0.05119960    | 0.003169979   | 0.0013187239  |  7.350725e-06 |  1.214174e-04 | ...           | 0.01384713    | 0.0002221539  | 0.0001611208  | -2.147950e-07 | 2.464078e-04  |  2.375047e-04 | 0.0004198028  |  7.117962e-05 | -0.0015116748 | -0.005952192  | \n",
       "| 19.60426156   | -0.0004308331 | -1.810635e-06 |  2.887949e-06 | 0.08079548    | 0.05426535    | 0.004005765   | 0.0006463523  | -7.604139e-07 |  7.790849e-05 | ...           | 0.02089342    | 0.0001673279  | 0.0001560040  |  1.069053e-04 | 2.112436e-04  |  2.951086e-04 | 0.0005130395  | -1.180476e-03 |  0.0002544581 | -0.009039343  | \n",
       "| 17.79524079   | -0.0004542906 | -2.044659e-04 |  2.173963e-06 | 0.09825118    | 0.05513457    | 0.003270787   | 0.0007613565  | -2.048828e-05 |  7.732195e-05 | ...           | 0.01477768    | 0.0002372571  | 0.0001754797  | -4.451563e-06 | 1.208292e-04  |  4.045112e-04 | 0.0004456406  | -1.730121e-04 | -0.0005201738 | -0.007590716  | \n",
       "| 10.97874300   | -0.0006542022 | -5.594355e-04 |  2.449511e-06 | 0.09837289    | 0.04771547    | 0.003391528   | 0.0014061048  | -2.216794e-05 |  1.966117e-05 | ...           | 0.02466039    | 0.0002437543  | 0.0001873023  | -7.287912e-05 | 1.530918e-04  |  4.644369e-04 | 0.0005748075  | -5.734449e-04 |  0.0007444680 | -0.004881683  | \n",
       "| 12.03887965   | -0.0006970216 | -7.760696e-04 |  2.357687e-06 | 0.08489981    | 0.04964777    | 0.003807884   | 0.0011825999  |  1.466183e-05 |  1.721244e-05 | ...           | 0.02122003    | 0.0002025175  | 0.0001781463  |  2.801737e-05 | 2.043329e-04  |  2.659798e-04 | 0.0005620981  | -1.268752e-03 |  0.0035846792 | -0.005595397  | \n",
       "|  9.90914518   | -0.0004554680 | -1.222450e-04 |  3.287168e-06 | 0.08038871    | 0.05677193    | 0.004099384   | 0.0009238207  | -4.869332e-05 |  6.442450e-05 | ...           | 0.01294180    | 0.0001899020  | 0.0001333116  | -9.614135e-05 | 1.972854e-04  |  6.897956e-04 | 0.0005493307  | -7.633763e-04 |  0.0010755578 | -0.004582542  | \n",
       "|  9.37362214   | -0.0005870907 | -1.671441e-04 |  2.541163e-06 | 0.09293935    | 0.04383833    | 0.003293816   | 0.0007804836  |  1.452927e-05 |  5.373267e-05 | ...           | 0.00984532    | 0.0002344084  | 0.0001785080  | -2.740786e-05 | 2.051686e-04  |  8.225610e-05 | 0.0004105772  | -1.782467e-04 |  0.0006092339 | -0.003357300  | \n",
       "| 19.52208997   | -0.0007177958 | -8.897570e-04 |  2.463000e-06 | 0.09460511    | 0.04504705    | 0.003362184   | 0.0016213729  | -2.980764e-06 |  2.975220e-05 | ...           | 0.02770939    | 0.0002321812  | 0.0001749776  | -1.879498e-04 | 1.803484e-04  |  2.075266e-04 | 0.0005160981  | -8.103213e-04 |  0.0014674112 | -0.009293402  | \n",
       "| 14.11411368   | -0.0003138305 |  7.970937e-04 |  3.102558e-06 | 0.07469041    | 0.05698348    | 0.003734166   | 0.0003972669  | -1.471409e-05 |  1.676858e-04 | ...           | 0.01132144    | 0.0001858277  | 0.0001940475  | -1.595680e-05 | 2.419826e-04  |  2.817206e-04 | 0.0003879441  | -1.736315e-04 |  0.0020552779 | -0.005844657  | \n",
       "| 18.31194652   | -0.0005144201 | -2.742492e-04 |  2.525880e-06 | 0.09345010    | 0.05465533    | 0.003948426   | 0.0008329261  |  1.183039e-05 |  5.512340e-05 | ...           | 0.02220157    | 0.0002251614  | 0.0001728234  | -9.323251e-05 | 2.065474e-04  | -6.861920e-05 | 0.0004637525  | -1.048908e-03 |  0.0012983723 | -0.008566244  | \n",
       "| 12.22291424   | -0.0003172097 | -7.099780e-04 |  3.004295e-06 | 0.10035672    | 0.04511986    | 0.003360797   | 0.0010356285  | -3.748322e-06 |  2.982670e-05 | ...           | 0.03150574    | 0.0001584340  | 0.0002045588  |  7.650982e-05 | 2.560807e-04  |  1.540904e-04 | 0.0005372208  | -5.009735e-04 | -0.0001662963 | -0.005115872  | \n",
       "| 17.49770475   | -0.0004681539 | -6.120432e-05 |  2.674503e-06 | 0.08893408    | 0.04279138    | 0.003035846   | 0.0009819637  | -2.747577e-05 |  6.152962e-05 | ...           | 0.01572647    | 0.0002630615  | 0.0002164259  | -9.858540e-06 | 1.377706e-04  |  3.088687e-04 | 0.0004802998  | -2.078275e-04 | -0.0003202147 | -0.007343822  | \n",
       "| 15.89388171   | -0.0004173623 | -2.655506e-04 |  2.731914e-06 | 0.08681281    | 0.05324689    | 0.003456025   | 0.0008242141  | -1.412646e-05 |  6.748756e-05 | ...           | 0.03079592    | 0.0002206528  | 0.0001503103  |  3.567191e-05 | 2.866203e-04  |  9.098882e-05 | 0.0005647176  | -7.498103e-05 |  0.0001598545 | -0.006833479  | \n",
       "|  8.96407303   | -0.0006492170 | -1.089424e-03 |  2.767805e-06 | 0.10088003    | 0.04974326    | 0.003907020   | 0.0008542073  |  3.683157e-05 |  2.834446e-06 | ...           | 0.02030678    | 0.0002189068  | 0.0001545440  | -1.351658e-04 | 2.832917e-04  |  2.852900e-04 | 0.0005221978  | -6.355809e-04 |  0.0008973031 | -0.003867483  | \n",
       "\n",
       "\n"
      ],
      "text/plain": [
       "      [,1]        [,2]          [,3]          [,4]          [,5]      \n",
       " [1,]  9.597642   -2.106557e-04  5.258064e-04 5.352987e-06  0.07783448\n",
       " [2,] 22.093346   -6.846355e-04 -3.724472e-04 2.827169e-06  0.09939308\n",
       " [3,]  6.745540   -6.749043e-04 -8.242015e-04 2.331238e-06  0.08876109\n",
       " [4,] 16.820844   -4.846554e-04 -9.280913e-05 2.984081e-06  0.09390176\n",
       " [5,]  4.118738   -5.335114e-04 -3.115645e-04 2.373980e-06  0.09528071\n",
       " [6,] 14.672351   -6.410610e-04 -5.035354e-04 2.483388e-06  0.09850749\n",
       " [7,] 22.898154   -1.489643e-04  1.216823e-03 2.551512e-06  0.07198312\n",
       " [8,] 24.245073   -7.755379e-04 -1.157279e-03 2.074509e-06  0.09073591\n",
       " [9,] 14.779315   -4.103992e-04 -6.230648e-04 2.605525e-06  0.10826286\n",
       "[10,] 10.504260   -5.331369e-04 -8.982294e-04 3.185872e-06  0.10440426\n",
       "[11,] 20.690634   -4.356984e-04  2.166175e-04 2.825879e-06  0.08240224\n",
       "[12,] 19.664872   -4.296279e-04  7.595171e-04 2.913799e-06  0.06714247\n",
       "[13,] 11.868242   -6.148313e-04 -9.661461e-04 2.940418e-06  0.09044022\n",
       "[14,] 20.362118   -2.845845e-04  6.760074e-05 2.880100e-06  0.08280258\n",
       "[15,] 10.503975   -9.623649e-06  1.020661e-03 2.520302e-06  0.08824691\n",
       "[16,] 17.108496   -4.962005e-04 -5.278295e-04 3.072679e-06  0.08990379\n",
       "[17,]  6.323985   -4.392493e-04  1.005471e-04 2.148101e-06  0.09351134\n",
       "[18,] 16.567257   -2.403951e-04  4.780715e-04 2.194503e-06  0.07778773\n",
       "[19,]  2.665495   -4.864136e-04  9.456260e-05 2.914272e-06  0.08182950\n",
       "[20,] 15.242527   -7.108826e-04 -6.101712e-04 2.914510e-06  0.08090244\n",
       "[21,]  6.349106   -4.157640e-04  1.466342e-04 2.403368e-06  0.09269602\n",
       "[22,] 14.282273   -3.152419e-04  7.981539e-04 2.720195e-06  0.08929427\n",
       "[23,] 21.618940   -4.161399e-04 -5.464525e-04 2.044767e-06  0.10133968\n",
       "[24,] 16.835929   -4.842141e-04 -7.452736e-04 2.973535e-06  0.10299854\n",
       "[25,] 19.164070   -5.246417e-04  1.582247e-04 2.510976e-06  0.08317421\n",
       "[26,] 14.561196   -4.515586e-04  1.399882e-04 2.646079e-06  0.08437944\n",
       "[27,] 18.383290   -3.680298e-04 -2.272968e-04 3.170488e-06  0.09414905\n",
       "[28,] 12.805937   -3.005856e-04  2.193748e-04 3.566111e-06  0.08591954\n",
       "[29,] 12.281889   -7.276233e-04 -9.330806e-04 2.907887e-06  0.09358381\n",
       "[30,] -2.242654   -4.656901e-04 -1.995057e-04 1.689744e-06  0.09747680\n",
       "[31,] ...         ...           ...           ...           ...       \n",
       "[32,] 10.61571198 -0.0006002197 -8.404706e-04  3.006277e-06 0.09120399\n",
       "[33,] 10.79002503 -0.0005208106  3.085094e-04  2.259335e-06 0.10230014\n",
       "[34,] 11.79835404 -0.0001597750  1.260760e-03  2.604423e-06 0.07079051\n",
       "[35,] -0.07789557 -0.0002682267  5.366584e-04  2.975691e-06 0.07414387\n",
       "[36,] 13.51113617 -0.0003462542  4.812897e-04  3.612969e-06 0.08006404\n",
       "[37,] 11.85322978 -0.0005712506  2.278699e-04  2.796950e-06 0.09393341\n",
       "[38,] 11.49259675 -0.0002274296  7.615998e-04  2.833527e-06 0.07097979\n",
       "[39,]  8.08603841 -0.0005199159 -5.600313e-04  1.999476e-06 0.09291029\n",
       "[40,] 11.52475364 -0.0007656605 -9.131756e-04 -4.659611e-07 0.10134944\n",
       "[41,]  9.81135398 -0.0005395132 -1.652046e-04  2.695739e-06 0.09449126\n",
       "[42,] 14.55475492 -0.0006202821  5.554805e-05  2.387849e-06 0.08408286\n",
       "[43,] 21.05852815 -0.0004263418 -5.441131e-04  2.408028e-06 0.08244785\n",
       "[44,] 12.96469560 -0.0003186403  7.286788e-04  2.871227e-06 0.07575364\n",
       "[45,] 14.95407475 -0.0002303807  1.923417e-04  3.224015e-06 0.08250477\n",
       "[46,] 22.35683963 -0.0008953828 -9.949177e-04  1.899726e-06 0.10424896\n",
       "[47,] 21.70555510 -0.0006195383 -4.911690e-04  3.039372e-06 0.08980516\n",
       "[48,] 13.70021577 -0.0004042739  6.417705e-04  2.536992e-06 0.08487367\n",
       "[49,] 19.60426156 -0.0004308331 -1.810635e-06  2.887949e-06 0.08079548\n",
       "[50,] 17.79524079 -0.0004542906 -2.044659e-04  2.173963e-06 0.09825118\n",
       "[51,] 10.97874300 -0.0006542022 -5.594355e-04  2.449511e-06 0.09837289\n",
       "[52,] 12.03887965 -0.0006970216 -7.760696e-04  2.357687e-06 0.08489981\n",
       "[53,]  9.90914518 -0.0004554680 -1.222450e-04  3.287168e-06 0.08038871\n",
       "[54,]  9.37362214 -0.0005870907 -1.671441e-04  2.541163e-06 0.09293935\n",
       "[55,] 19.52208997 -0.0007177958 -8.897570e-04  2.463000e-06 0.09460511\n",
       "[56,] 14.11411368 -0.0003138305  7.970937e-04  3.102558e-06 0.07469041\n",
       "[57,] 18.31194652 -0.0005144201 -2.742492e-04  2.525880e-06 0.09345010\n",
       "[58,] 12.22291424 -0.0003172097 -7.099780e-04  3.004295e-06 0.10035672\n",
       "[59,] 17.49770475 -0.0004681539 -6.120432e-05  2.674503e-06 0.08893408\n",
       "[60,] 15.89388171 -0.0004173623 -2.655506e-04  2.731914e-06 0.08681281\n",
       "[61,]  8.96407303 -0.0006492170 -1.089424e-03  2.767805e-06 0.10088003\n",
       "      [,6]       [,7]        [,8]         [,9]          [,10]         [,11]\n",
       " [1,] 0.06086395 0.003630229 0.0008641679 -1.342476e-05  1.600600e-04 ...  \n",
       " [2,] 0.04619381 0.003353357 0.0013046233  1.524191e-05  4.030459e-05 ...  \n",
       " [3,] 0.04953012 0.003967921 0.0005695471  1.742854e-05  3.016953e-05 ...  \n",
       " [4,] 0.05079523 0.003766224 0.0008860347 -2.395760e-05  5.228769e-05 ...  \n",
       " [5,] 0.05145404 0.003686281 0.0004196887 -1.195436e-05  4.268393e-05 ...  \n",
       " [6,] 0.05361673 0.003326644 0.0008271850  3.358474e-05  9.502836e-06 ...  \n",
       " [7,] 0.04978902 0.003558769 0.0012154965 -6.224851e-06  1.202327e-04 ...  \n",
       " [8,] 0.05125611 0.003991639 0.0006398138  5.512402e-05  1.839591e-05 ...  \n",
       " [9,] 0.04774009 0.003382882 0.0007840446  2.280978e-06 -1.885825e-05 ...  \n",
       "[10,] 0.05296320 0.003808923 0.0010185090  2.383843e-05 -1.075407e-05 ...  \n",
       "[11,] 0.05322080 0.003852024 0.0010448833  2.940558e-05  1.140315e-04 ...  \n",
       "[12,] 0.05592378 0.003521363 0.0009002687  4.235767e-05  1.702458e-04 ...  \n",
       "[13,] 0.05033668 0.004011312 0.0007484865  2.572735e-05 -1.883637e-05 ...  \n",
       "[14,] 0.04941706 0.003406435 0.0006754626  3.061786e-05  7.537379e-05 ...  \n",
       "[15,] 0.04665329 0.003470154 0.0009642327 -2.802824e-05  1.140392e-04 ...  \n",
       "[16,] 0.05766014 0.003646090 0.0006350706 -1.619629e-05  6.961633e-05 ...  \n",
       "[17,] 0.04643766 0.003378708 0.0010528967 -1.715848e-05  7.073027e-05 ...  \n",
       "[18,] 0.05124193 0.003477436 0.0008634311 -4.941094e-05  1.473002e-04 ...  \n",
       "[19,] 0.04810881 0.003649436 0.0009891645  7.869619e-06  1.068593e-04 ...  \n",
       "[20,] 0.05638461 0.003886576 0.0009808436  1.816226e-05  6.892374e-05 ...  \n",
       "[21,] 0.05138229 0.003583815 0.0011864475 -5.317819e-05  8.848923e-05 ...  \n",
       "[22,] 0.05341211 0.003147029 0.0007725920  4.053230e-07  1.190857e-04 ...  \n",
       "[23,] 0.05229349 0.003752714 0.0005714329 -2.496106e-05  1.488184e-05 ...  \n",
       "[24,] 0.05654386 0.003545234 0.0012950626  3.310953e-05  5.108115e-05 ...  \n",
       "[25,] 0.04842263 0.003380491 0.0007094633  1.773911e-05  1.101660e-04 ...  \n",
       "[26,] 0.05030927 0.003412695 0.0009867468 -3.039319e-05  1.100907e-04 ...  \n",
       "[27,] 0.05510153 0.003656185 0.0009981331  2.174657e-05  6.558289e-05 ...  \n",
       "[28,] 0.04903045 0.003320704 0.0011247378  2.806334e-05  7.351126e-05 ...  \n",
       "[29,] 0.04955857 0.003715237 0.0008706454  1.187416e-05  3.809493e-05 ...  \n",
       "[30,] 0.05034405 0.003491925 0.0011321996 -4.693763e-05  4.117117e-05 ...  \n",
       "[31,] ...        ...         ...          ...           ...                \n",
       "[32,] 0.04149023 0.003588784 0.0010936934 -1.719768e-05  6.252415e-05 ...  \n",
       "[33,] 0.04369469 0.003193776 0.0012858504 -5.875284e-05  7.661704e-05 ...  \n",
       "[34,] 0.05223060 0.003451021 0.0012323328  1.364036e-05  1.197869e-04 ...  \n",
       "[35,] 0.05068448 0.003529131 0.0005906892  1.569713e-06  1.663587e-04 ...  \n",
       "[36,] 0.05460309 0.003453635 0.0011247278 -3.188710e-05  1.293729e-04 ...  \n",
       "[37,] 0.05446705 0.004018507 0.0007918800  1.055346e-05  4.892176e-05 ...  \n",
       "[38,] 0.05003807 0.003443405 0.0011208257 -1.958422e-05  1.191916e-04 ...  \n",
       "[39,] 0.04879889 0.003846401 0.0008177484 -1.161664e-05 -3.052722e-06 ...  \n",
       "[40,] 0.04218233 0.003101970 0.0014441591  1.510102e-05 -1.190578e-05 ...  \n",
       "[41,] 0.05461124 0.003745418 0.0006942236 -1.552427e-06  7.480562e-05 ...  \n",
       "[42,] 0.05297409 0.003958857 0.0006956676 -2.896701e-05  7.392183e-05 ...  \n",
       "[43,] 0.05525635 0.003901967 0.0011135207 -3.524087e-06  8.553763e-05 ...  \n",
       "[44,] 0.05572728 0.003568770 0.0010846772  3.107930e-05  1.437300e-04 ...  \n",
       "[45,] 0.05844353 0.003550981 0.0008254092 -1.333137e-05  1.314111e-04 ...  \n",
       "[46,] 0.04395989 0.003651993 0.0017444208 -1.361791e-05 -1.695811e-05 ...  \n",
       "[47,] 0.04255285 0.003162255 0.0011009233 -9.987602e-06  1.056570e-04 ...  \n",
       "[48,] 0.05119960 0.003169979 0.0013187239  7.350725e-06  1.214174e-04 ...  \n",
       "[49,] 0.05426535 0.004005765 0.0006463523 -7.604139e-07  7.790849e-05 ...  \n",
       "[50,] 0.05513457 0.003270787 0.0007613565 -2.048828e-05  7.732195e-05 ...  \n",
       "[51,] 0.04771547 0.003391528 0.0014061048 -2.216794e-05  1.966117e-05 ...  \n",
       "[52,] 0.04964777 0.003807884 0.0011825999  1.466183e-05  1.721244e-05 ...  \n",
       "[53,] 0.05677193 0.004099384 0.0009238207 -4.869332e-05  6.442450e-05 ...  \n",
       "[54,] 0.04383833 0.003293816 0.0007804836  1.452927e-05  5.373267e-05 ...  \n",
       "[55,] 0.04504705 0.003362184 0.0016213729 -2.980764e-06  2.975220e-05 ...  \n",
       "[56,] 0.05698348 0.003734166 0.0003972669 -1.471409e-05  1.676858e-04 ...  \n",
       "[57,] 0.05465533 0.003948426 0.0008329261  1.183039e-05  5.512340e-05 ...  \n",
       "[58,] 0.04511986 0.003360797 0.0010356285 -3.748322e-06  2.982670e-05 ...  \n",
       "[59,] 0.04279138 0.003035846 0.0009819637 -2.747577e-05  6.152962e-05 ...  \n",
       "[60,] 0.05324689 0.003456025 0.0008242141 -1.412646e-05  6.748756e-05 ...  \n",
       "[61,] 0.04974326 0.003907020 0.0008542073  3.683157e-05  2.834446e-06 ...  \n",
       "      [,12]       [,13]        [,14]        [,15]         [,16]        \n",
       " [1,] 0.017115703 0.0001967321 8.304406e-05 -1.767137e-04 -2.746076e-05\n",
       " [2,] 0.019051959 0.0002166862 1.493849e-04  8.670969e-06  8.730961e-05\n",
       " [3,] 0.029429366 0.0001921949 2.358173e-04 -4.634231e-05  2.385357e-04\n",
       " [4,] 0.014489636 0.0002136472 1.999815e-04 -1.379658e-04  8.616468e-05\n",
       " [5,] 0.019766112 0.0002740965 2.582524e-04 -1.090086e-04  1.920979e-04\n",
       " [6,] 0.022686447 0.0002285273 2.740480e-04  1.856708e-05  1.067310e-04\n",
       " [7,] 0.004424697 0.0002158008 1.163439e-04 -1.419439e-04  1.262910e-04\n",
       " [8,] 0.019406083 0.0002089925 2.004097e-04  1.256011e-04  1.398576e-04\n",
       " [9,] 0.020410945 0.0002217348 2.191930e-04 -3.765909e-05  2.228913e-04\n",
       "[10,] 0.012138803 0.0001968847 2.366368e-04  5.761600e-05  3.354461e-04\n",
       "[11,] 0.011770188 0.0001844929 1.508531e-04 -2.783390e-05  2.983082e-04\n",
       "[12,] 0.019820264 0.0001737165 1.449139e-04  1.878155e-04  1.113557e-04\n",
       "[13,] 0.024199979 0.0002135838 2.410507e-04 -3.736053e-05  3.744648e-04\n",
       "[14,] 0.025198817 0.0001874620 2.244731e-04 -3.827265e-06  1.901781e-04\n",
       "[15,] 0.017365093 0.0002129868 1.237168e-04 -1.319522e-04  2.306851e-04\n",
       "[16,] 0.020934341 0.0002594534 1.702415e-04 -1.632433e-05  2.573136e-04\n",
       "[17,] 0.018313930 0.0002173701 1.580234e-04 -6.168229e-05  2.347481e-04\n",
       "[18,] 0.006284209 0.0002274294 1.076968e-04 -6.213028e-06  1.493628e-04\n",
       "[19,] 0.028535973 0.0002209785 1.630713e-04 -6.630806e-05  1.387045e-04\n",
       "[20,] 0.012912699 0.0001895995 2.034101e-04  5.904815e-05  1.260618e-04\n",
       "[21,] 0.017960257 0.0001871832 1.181642e-04 -1.510237e-04  1.401737e-04\n",
       "[22,] 0.017538718 0.0002673407 7.350203e-05 -7.744339e-05 -1.721480e-05\n",
       "[23,] 0.020999121 0.0002258299 2.066553e-04  5.384744e-05  2.580145e-04\n",
       "[24,] 0.017224139 0.0002165339 1.344268e-04 -3.729720e-04  1.936416e-04\n",
       "[25,] 0.004739371 0.0001696618 1.606975e-04  1.209038e-04  5.535310e-05\n",
       "[26,] 0.013964280 0.0001903040 1.367503e-04  4.741466e-05  1.534664e-04\n",
       "[27,] 0.020371289 0.0002069827 1.805515e-04 -1.300691e-04  2.047085e-04\n",
       "[28,] 0.017409482 0.0001938831 1.374038e-04  5.447122e-05  2.339559e-04\n",
       "[29,] 0.015312875 0.0002026820 1.918469e-04  2.888878e-06  3.202591e-04\n",
       "[30,] 0.019574083 0.0002604996 2.028575e-04 -1.508612e-04  2.585822e-04\n",
       "[31,] ...         ...          ...          ...           ...          \n",
       "[32,] 0.02566014  0.0001900331 0.0002608138  6.938958e-05 1.309212e-04 \n",
       "[33,] 0.01127108  0.0002654938 0.0001584039 -2.535887e-04 4.831231e-05 \n",
       "[34,] 0.01482976  0.0001662422 0.0001025538  1.628011e-05 2.671710e-04 \n",
       "[35,] 0.01031239  0.0001665326 0.0001284138  1.768088e-04 1.119013e-04 \n",
       "[36,] 0.02159880  0.0002464000 0.0001124679 -1.237753e-04 2.121574e-04 \n",
       "[37,] 0.02198360  0.0001552657 0.0001931533 -1.396204e-04 2.613786e-04 \n",
       "[38,] 0.01550786  0.0001807269 0.0001110627  5.180401e-06 1.194229e-04 \n",
       "[39,] 0.01342218  0.0001871910 0.0002177638  1.508378e-05 2.641633e-04 \n",
       "[40,] 0.02861850  0.0003119749 0.0002525440  1.439543e-04 3.896261e-04 \n",
       "[41,] 0.01536262  0.0002159635 0.0001378305 -6.884686e-05 2.275226e-04 \n",
       "[42,] 0.01448958  0.0002340896 0.0002460141  7.107102e-06 2.243171e-04 \n",
       "[43,] 0.02073602  0.0002027688 0.0001679150 -1.059054e-04 2.936896e-04 \n",
       "[44,] 0.01261123  0.0001800180 0.0001182508 -8.583242e-05 8.247126e-05 \n",
       "[45,] 0.01843658  0.0001798819 0.0001266990  2.752328e-05 8.847980e-05 \n",
       "[46,] 0.01297449  0.0001803889 0.0003333082 -5.957776e-06 3.248530e-04 \n",
       "[47,] 0.01938874  0.0002166429 0.0002015692 -1.276118e-04 1.596154e-04 \n",
       "[48,] 0.01384713  0.0002221539 0.0001611208 -2.147950e-07 2.464078e-04 \n",
       "[49,] 0.02089342  0.0001673279 0.0001560040  1.069053e-04 2.112436e-04 \n",
       "[50,] 0.01477768  0.0002372571 0.0001754797 -4.451563e-06 1.208292e-04 \n",
       "[51,] 0.02466039  0.0002437543 0.0001873023 -7.287912e-05 1.530918e-04 \n",
       "[52,] 0.02122003  0.0002025175 0.0001781463  2.801737e-05 2.043329e-04 \n",
       "[53,] 0.01294180  0.0001899020 0.0001333116 -9.614135e-05 1.972854e-04 \n",
       "[54,] 0.00984532  0.0002344084 0.0001785080 -2.740786e-05 2.051686e-04 \n",
       "[55,] 0.02770939  0.0002321812 0.0001749776 -1.879498e-04 1.803484e-04 \n",
       "[56,] 0.01132144  0.0001858277 0.0001940475 -1.595680e-05 2.419826e-04 \n",
       "[57,] 0.02220157  0.0002251614 0.0001728234 -9.323251e-05 2.065474e-04 \n",
       "[58,] 0.03150574  0.0001584340 0.0002045588  7.650982e-05 2.560807e-04 \n",
       "[59,] 0.01572647  0.0002630615 0.0002164259 -9.858540e-06 1.377706e-04 \n",
       "[60,] 0.03079592  0.0002206528 0.0001503103  3.567191e-05 2.866203e-04 \n",
       "[61,] 0.02030678  0.0002189068 0.0001545440 -1.351658e-04 2.832917e-04 \n",
       "      [,17]         [,18]        [,19]         [,20]         [,21]        \n",
       " [1,] -2.606325e-05 0.0003460861  2.921245e-05 -0.0001601132 -0.0039527832\n",
       " [2,]  2.334982e-04 0.0005777336 -8.911412e-04  0.0022652716 -0.0102761209\n",
       " [3,]  2.751364e-04 0.0005427212 -3.757971e-04  0.0021728443 -0.0024997766\n",
       " [4,]  2.627481e-04 0.0003148024 -1.983174e-03  0.0014941339 -0.0077237501\n",
       " [5,]  3.671610e-04 0.0004315737 -1.214165e-04 -0.0008969053 -0.0008267905\n",
       " [6,]  1.484940e-04 0.0005079555 -5.868157e-04  0.0024274404 -0.0061345229\n",
       " [7,]  1.789327e-04 0.0004445278 -2.874218e-04  0.0004784505 -0.0108120816\n",
       " [8,]  3.447708e-04 0.0005675059 -6.989736e-04  0.0038425702 -0.0113145218\n",
       " [9,]  3.991871e-04 0.0005399044 -4.755939e-04 -0.0004888101 -0.0062189950\n",
       "[10,]  5.249008e-04 0.0005967401 -6.650856e-04  0.0012244974 -0.0046828288\n",
       "[11,]  2.070564e-04 0.0004442931 -1.065234e-03  0.0005530902 -0.0098185514\n",
       "[12,]  1.530514e-04 0.0003601929  1.619874e-04  0.0004061084 -0.0088701329\n",
       "[13,]  3.582551e-04 0.0005884765 -6.802063e-04  0.0043234487 -0.0052561604\n",
       "[14,]  1.588118e-04 0.0004179811 -4.940290e-04 -0.0001519190 -0.0088608830\n",
       "[15,]  2.402560e-04 0.0003936714  1.225832e-04 -0.0016725579 -0.0043512625\n",
       "[16,]  5.043903e-05 0.0004233193 -7.317726e-04 -0.0010612265 -0.0074519541\n",
       "[17,] -3.663378e-05 0.0004911999 -2.181071e-04  0.0003941649 -0.0022154992\n",
       "[18,]  3.180728e-04 0.0004763523 -1.049644e-04  0.0016464618 -0.0072583891\n",
       "[19,]  1.089676e-04 0.0004548907 -1.014790e-03  0.0008542175 -0.0005853685\n",
       "[20,]  4.253754e-05 0.0004695430 -3.100807e-04 -0.0015347360 -0.0070688275\n",
       "[21,]  2.472921e-04 0.0005079322 -4.143568e-04  0.0010163432 -0.0026193833\n",
       "[22,]  5.313936e-05 0.0002890498  2.459761e-05 -0.0016880804 -0.0057060229\n",
       "[23,]  2.190239e-04 0.0005458657 -2.473906e-04  0.0008395338 -0.0097865196\n",
       "[24,]  2.608884e-04 0.0005449086 -1.093930e-03 -0.0007957432 -0.0078872678\n",
       "[25,]  2.374440e-04 0.0004532519 -1.838099e-03 -0.0005652256 -0.0082613183\n",
       "[26,]  8.674146e-05 0.0003531167 -8.649379e-04  0.0023684075 -0.0062986849\n",
       "[27,]  2.964734e-04 0.0004022321 -3.987415e-04  0.0013643476 -0.0084997516\n",
       "[28,]  2.860495e-04 0.0003979308 -2.246647e-03  0.0023026428 -0.0054591840\n",
       "[29,]  1.851638e-04 0.0005929875 -6.052765e-04  0.0025960455 -0.0053292954\n",
       "[30,]  4.714635e-04 0.0005594009 -5.071847e-04  0.0008856177  0.0018493323\n",
       "[31,] ...           ...          ...           ...           ...          \n",
       "[32,]  3.055603e-04 0.0005166276 -1.211398e-03  0.0034284267 -0.004549421 \n",
       "[33,]  3.133519e-04 0.0005320744 -5.299113e-04 -0.0021899855 -0.004498160 \n",
       "[34,]  1.053562e-04 0.0004973660 -6.027690e-05 -0.0002393257 -0.005197400 \n",
       "[35,]  9.901140e-05 0.0003881686  2.153698e-04  0.0005675190  0.001279635 \n",
       "[36,]  3.576948e-04 0.0004625584  3.058417e-04 -0.0016490729 -0.005972344 \n",
       "[37,]  8.725921e-06 0.0005272979 -1.530594e-04  0.0008334508 -0.005360722 \n",
       "[38,]  7.723684e-05 0.0004088161 -1.784866e-04 -0.0029073466 -0.004904054 \n",
       "[39,]  5.448989e-04 0.0004857888 -4.260632e-04  0.0039512363 -0.003334971 \n",
       "[40,]  4.069490e-04 0.0006103056 -5.053767e-04  0.0025102588 -0.004905612 \n",
       "[41,]  1.507301e-04 0.0004232292 -5.109517e-04  0.0010531859 -0.003977383 \n",
       "[42,]  1.426097e-04 0.0005463432 -1.871136e-04 -0.0001685474 -0.006537001 \n",
       "[43,]  1.931793e-05 0.0004705269 -5.060404e-04  0.0018083461 -0.010164184 \n",
       "[44,]  3.414224e-04 0.0004235416  6.293562e-05 -0.0001082069 -0.005750049 \n",
       "[45,]  2.944313e-04 0.0004576637  8.733640e-05 -0.0005005449 -0.006501685 \n",
       "[46,]  3.036549e-04 0.0005511489 -5.774885e-04  0.0000715044 -0.011134255 \n",
       "[47,]  2.202368e-04 0.0004612784 -5.952891e-04 -0.0006458175 -0.009648800 \n",
       "[48,]  2.375047e-04 0.0004198028  7.117962e-05 -0.0015116748 -0.005952192 \n",
       "[49,]  2.951086e-04 0.0005130395 -1.180476e-03  0.0002544581 -0.009039343 \n",
       "[50,]  4.045112e-04 0.0004456406 -1.730121e-04 -0.0005201738 -0.007590716 \n",
       "[51,]  4.644369e-04 0.0005748075 -5.734449e-04  0.0007444680 -0.004881683 \n",
       "[52,]  2.659798e-04 0.0005620981 -1.268752e-03  0.0035846792 -0.005595397 \n",
       "[53,]  6.897956e-04 0.0005493307 -7.633763e-04  0.0010755578 -0.004582542 \n",
       "[54,]  8.225610e-05 0.0004105772 -1.782467e-04  0.0006092339 -0.003357300 \n",
       "[55,]  2.075266e-04 0.0005160981 -8.103213e-04  0.0014674112 -0.009293402 \n",
       "[56,]  2.817206e-04 0.0003879441 -1.736315e-04  0.0020552779 -0.005844657 \n",
       "[57,] -6.861920e-05 0.0004637525 -1.048908e-03  0.0012983723 -0.008566244 \n",
       "[58,]  1.540904e-04 0.0005372208 -5.009735e-04 -0.0001662963 -0.005115872 \n",
       "[59,]  3.088687e-04 0.0004802998 -2.078275e-04 -0.0003202147 -0.007343822 \n",
       "[60,]  9.098882e-05 0.0005647176 -7.498103e-05  0.0001598545 -0.006833479 \n",
       "[61,]  2.852900e-04 0.0005221978 -6.355809e-04  0.0008973031 -0.003867483 "
      ]
     },
     "metadata": {},
     "output_type": "display_data"
    }
   ],
   "source": [
    "results$t"
   ]
  },
  {
   "cell_type": "code",
   "execution_count": 45,
   "metadata": {
    "collapsed": true
   },
   "outputs": [],
   "source": [
    "colnames(results$t) <- names(results$t0)"
   ]
  },
  {
   "cell_type": "code",
   "execution_count": 47,
   "metadata": {
    "collapsed": false
   },
   "outputs": [
    {
     "data": {
      "text/html": [
       "<table>\n",
       "<thead><tr><th scope=col>(Intercept)</th><th scope=col>MSSubClass</th><th scope=col>LotFrontage</th><th scope=col>LotArea</th><th scope=col>OverallQual</th><th scope=col>OverallCond</th><th scope=col>YearBuilt</th><th scope=col>YearRemodAdd</th><th scope=col>MasVnrArea</th><th scope=col>TotalBsmtSF</th><th scope=col>...</th><th scope=col>TotRmsAbvGrd</th><th scope=col>GarageArea</th><th scope=col>WoodDeckSF</th><th scope=col>OpenPorchSF</th><th scope=col>EnclosedPorch</th><th scope=col>X3SsnPorch</th><th scope=col>ScreenPorch</th><th scope=col>PoolArea</th><th scope=col>MoSold</th><th scope=col>YrSold</th></tr></thead>\n",
       "<tbody>\n",
       "\t<tr><td> 9.597642    </td><td>-0.0002106557</td><td> 5.258064e-04</td><td>5.352987e-06 </td><td>0.07783448   </td><td>0.06086395   </td><td>0.003630229  </td><td>0.0008641679 </td><td>-1.342476e-05</td><td>1.600600e-04 </td><td>...          </td><td>0.01711570   </td><td>0.0001967321 </td><td>8.304406e-05 </td><td>-1.767137e-04</td><td>-2.746076e-05</td><td>-2.606325e-05</td><td>0.0003460861 </td><td> 2.921245e-05</td><td>-0.0001601132</td><td>-0.0039527832</td></tr>\n",
       "\t<tr><td>22.093346    </td><td>-0.0006846355</td><td>-3.724472e-04</td><td>2.827169e-06 </td><td>0.09939308   </td><td>0.04619381   </td><td>0.003353357  </td><td>0.0013046233 </td><td> 1.524191e-05</td><td>4.030459e-05 </td><td>...          </td><td>0.01905196   </td><td>0.0002166862 </td><td>1.493849e-04 </td><td> 8.670969e-06</td><td> 8.730961e-05</td><td> 2.334982e-04</td><td>0.0005777336 </td><td>-8.911412e-04</td><td> 0.0022652716</td><td>-0.0102761209</td></tr>\n",
       "\t<tr><td> 6.745540    </td><td>-0.0006749043</td><td>-8.242015e-04</td><td>2.331238e-06 </td><td>0.08876109   </td><td>0.04953012   </td><td>0.003967921  </td><td>0.0005695471 </td><td> 1.742854e-05</td><td>3.016953e-05 </td><td>...          </td><td>0.02942937   </td><td>0.0001921949 </td><td>2.358173e-04 </td><td>-4.634231e-05</td><td> 2.385357e-04</td><td> 2.751364e-04</td><td>0.0005427212 </td><td>-3.757971e-04</td><td> 0.0021728443</td><td>-0.0024997766</td></tr>\n",
       "\t<tr><td>16.820844    </td><td>-0.0004846554</td><td>-9.280913e-05</td><td>2.984081e-06 </td><td>0.09390176   </td><td>0.05079523   </td><td>0.003766224  </td><td>0.0008860347 </td><td>-2.395760e-05</td><td>5.228769e-05 </td><td>...          </td><td>0.01448964   </td><td>0.0002136472 </td><td>1.999815e-04 </td><td>-1.379658e-04</td><td> 8.616468e-05</td><td> 2.627481e-04</td><td>0.0003148024 </td><td>-1.983174e-03</td><td> 0.0014941339</td><td>-0.0077237501</td></tr>\n",
       "\t<tr><td> 4.118738    </td><td>-0.0005335114</td><td>-3.115645e-04</td><td>2.373980e-06 </td><td>0.09528071   </td><td>0.05145404   </td><td>0.003686281  </td><td>0.0004196887 </td><td>-1.195436e-05</td><td>4.268393e-05 </td><td>...          </td><td>0.01976611   </td><td>0.0002740965 </td><td>2.582524e-04 </td><td>-1.090086e-04</td><td> 1.920979e-04</td><td> 3.671610e-04</td><td>0.0004315737 </td><td>-1.214165e-04</td><td>-0.0008969053</td><td>-0.0008267905</td></tr>\n",
       "\t<tr><td>14.672351    </td><td>-0.0006410610</td><td>-5.035354e-04</td><td>2.483388e-06 </td><td>0.09850749   </td><td>0.05361673   </td><td>0.003326644  </td><td>0.0008271850 </td><td> 3.358474e-05</td><td>9.502836e-06 </td><td>...          </td><td>0.02268645   </td><td>0.0002285273 </td><td>2.740480e-04 </td><td> 1.856708e-05</td><td> 1.067310e-04</td><td> 1.484940e-04</td><td>0.0005079555 </td><td>-5.868157e-04</td><td> 0.0024274404</td><td>-0.0061345229</td></tr>\n",
       "</tbody>\n",
       "</table>\n"
      ],
      "text/latex": [
       "\\begin{tabular}{lllllllllllllllllllllllll}\n",
       " (Intercept) & MSSubClass & LotFrontage & LotArea & OverallQual & OverallCond & YearBuilt & YearRemodAdd & MasVnrArea & TotalBsmtSF & ... & TotRmsAbvGrd & GarageArea & WoodDeckSF & OpenPorchSF & EnclosedPorch & X3SsnPorch & ScreenPorch & PoolArea & MoSold & YrSold\\\\\n",
       "\\hline\n",
       "\t  9.597642     & -0.0002106557 &  5.258064e-04 & 5.352987e-06  & 0.07783448    & 0.06086395    & 0.003630229   & 0.0008641679  & -1.342476e-05 & 1.600600e-04  & ...           & 0.01711570    & 0.0001967321  & 8.304406e-05  & -1.767137e-04 & -2.746076e-05 & -2.606325e-05 & 0.0003460861  &  2.921245e-05 & -0.0001601132 & -0.0039527832\\\\\n",
       "\t 22.093346     & -0.0006846355 & -3.724472e-04 & 2.827169e-06  & 0.09939308    & 0.04619381    & 0.003353357   & 0.0013046233  &  1.524191e-05 & 4.030459e-05  & ...           & 0.01905196    & 0.0002166862  & 1.493849e-04  &  8.670969e-06 &  8.730961e-05 &  2.334982e-04 & 0.0005777336  & -8.911412e-04 &  0.0022652716 & -0.0102761209\\\\\n",
       "\t  6.745540     & -0.0006749043 & -8.242015e-04 & 2.331238e-06  & 0.08876109    & 0.04953012    & 0.003967921   & 0.0005695471  &  1.742854e-05 & 3.016953e-05  & ...           & 0.02942937    & 0.0001921949  & 2.358173e-04  & -4.634231e-05 &  2.385357e-04 &  2.751364e-04 & 0.0005427212  & -3.757971e-04 &  0.0021728443 & -0.0024997766\\\\\n",
       "\t 16.820844     & -0.0004846554 & -9.280913e-05 & 2.984081e-06  & 0.09390176    & 0.05079523    & 0.003766224   & 0.0008860347  & -2.395760e-05 & 5.228769e-05  & ...           & 0.01448964    & 0.0002136472  & 1.999815e-04  & -1.379658e-04 &  8.616468e-05 &  2.627481e-04 & 0.0003148024  & -1.983174e-03 &  0.0014941339 & -0.0077237501\\\\\n",
       "\t  4.118738     & -0.0005335114 & -3.115645e-04 & 2.373980e-06  & 0.09528071    & 0.05145404    & 0.003686281   & 0.0004196887  & -1.195436e-05 & 4.268393e-05  & ...           & 0.01976611    & 0.0002740965  & 2.582524e-04  & -1.090086e-04 &  1.920979e-04 &  3.671610e-04 & 0.0004315737  & -1.214165e-04 & -0.0008969053 & -0.0008267905\\\\\n",
       "\t 14.672351     & -0.0006410610 & -5.035354e-04 & 2.483388e-06  & 0.09850749    & 0.05361673    & 0.003326644   & 0.0008271850  &  3.358474e-05 & 9.502836e-06  & ...           & 0.02268645    & 0.0002285273  & 2.740480e-04  &  1.856708e-05 &  1.067310e-04 &  1.484940e-04 & 0.0005079555  & -5.868157e-04 &  0.0024274404 & -0.0061345229\\\\\n",
       "\\end{tabular}\n"
      ],
      "text/markdown": [
       "\n",
       "(Intercept) | MSSubClass | LotFrontage | LotArea | OverallQual | OverallCond | YearBuilt | YearRemodAdd | MasVnrArea | TotalBsmtSF | ... | TotRmsAbvGrd | GarageArea | WoodDeckSF | OpenPorchSF | EnclosedPorch | X3SsnPorch | ScreenPorch | PoolArea | MoSold | YrSold | \n",
       "|---|---|---|---|---|---|\n",
       "|  9.597642     | -0.0002106557 |  5.258064e-04 | 5.352987e-06  | 0.07783448    | 0.06086395    | 0.003630229   | 0.0008641679  | -1.342476e-05 | 1.600600e-04  | ...           | 0.01711570    | 0.0001967321  | 8.304406e-05  | -1.767137e-04 | -2.746076e-05 | -2.606325e-05 | 0.0003460861  |  2.921245e-05 | -0.0001601132 | -0.0039527832 | \n",
       "| 22.093346     | -0.0006846355 | -3.724472e-04 | 2.827169e-06  | 0.09939308    | 0.04619381    | 0.003353357   | 0.0013046233  |  1.524191e-05 | 4.030459e-05  | ...           | 0.01905196    | 0.0002166862  | 1.493849e-04  |  8.670969e-06 |  8.730961e-05 |  2.334982e-04 | 0.0005777336  | -8.911412e-04 |  0.0022652716 | -0.0102761209 | \n",
       "|  6.745540     | -0.0006749043 | -8.242015e-04 | 2.331238e-06  | 0.08876109    | 0.04953012    | 0.003967921   | 0.0005695471  |  1.742854e-05 | 3.016953e-05  | ...           | 0.02942937    | 0.0001921949  | 2.358173e-04  | -4.634231e-05 |  2.385357e-04 |  2.751364e-04 | 0.0005427212  | -3.757971e-04 |  0.0021728443 | -0.0024997766 | \n",
       "| 16.820844     | -0.0004846554 | -9.280913e-05 | 2.984081e-06  | 0.09390176    | 0.05079523    | 0.003766224   | 0.0008860347  | -2.395760e-05 | 5.228769e-05  | ...           | 0.01448964    | 0.0002136472  | 1.999815e-04  | -1.379658e-04 |  8.616468e-05 |  2.627481e-04 | 0.0003148024  | -1.983174e-03 |  0.0014941339 | -0.0077237501 | \n",
       "|  4.118738     | -0.0005335114 | -3.115645e-04 | 2.373980e-06  | 0.09528071    | 0.05145404    | 0.003686281   | 0.0004196887  | -1.195436e-05 | 4.268393e-05  | ...           | 0.01976611    | 0.0002740965  | 2.582524e-04  | -1.090086e-04 |  1.920979e-04 |  3.671610e-04 | 0.0004315737  | -1.214165e-04 | -0.0008969053 | -0.0008267905 | \n",
       "| 14.672351     | -0.0006410610 | -5.035354e-04 | 2.483388e-06  | 0.09850749    | 0.05361673    | 0.003326644   | 0.0008271850  |  3.358474e-05 | 9.502836e-06  | ...           | 0.02268645    | 0.0002285273  | 2.740480e-04  |  1.856708e-05 |  1.067310e-04 |  1.484940e-04 | 0.0005079555  | -5.868157e-04 |  0.0024274404 | -0.0061345229 | \n",
       "\n",
       "\n"
      ],
      "text/plain": [
       "     (Intercept) MSSubClass    LotFrontage   LotArea      OverallQual\n",
       "[1,]  9.597642   -0.0002106557  5.258064e-04 5.352987e-06 0.07783448 \n",
       "[2,] 22.093346   -0.0006846355 -3.724472e-04 2.827169e-06 0.09939308 \n",
       "[3,]  6.745540   -0.0006749043 -8.242015e-04 2.331238e-06 0.08876109 \n",
       "[4,] 16.820844   -0.0004846554 -9.280913e-05 2.984081e-06 0.09390176 \n",
       "[5,]  4.118738   -0.0005335114 -3.115645e-04 2.373980e-06 0.09528071 \n",
       "[6,] 14.672351   -0.0006410610 -5.035354e-04 2.483388e-06 0.09850749 \n",
       "     OverallCond YearBuilt   YearRemodAdd MasVnrArea    TotalBsmtSF  ...\n",
       "[1,] 0.06086395  0.003630229 0.0008641679 -1.342476e-05 1.600600e-04 ...\n",
       "[2,] 0.04619381  0.003353357 0.0013046233  1.524191e-05 4.030459e-05 ...\n",
       "[3,] 0.04953012  0.003967921 0.0005695471  1.742854e-05 3.016953e-05 ...\n",
       "[4,] 0.05079523  0.003766224 0.0008860347 -2.395760e-05 5.228769e-05 ...\n",
       "[5,] 0.05145404  0.003686281 0.0004196887 -1.195436e-05 4.268393e-05 ...\n",
       "[6,] 0.05361673  0.003326644 0.0008271850  3.358474e-05 9.502836e-06 ...\n",
       "     TotRmsAbvGrd GarageArea   WoodDeckSF   OpenPorchSF   EnclosedPorch\n",
       "[1,] 0.01711570   0.0001967321 8.304406e-05 -1.767137e-04 -2.746076e-05\n",
       "[2,] 0.01905196   0.0002166862 1.493849e-04  8.670969e-06  8.730961e-05\n",
       "[3,] 0.02942937   0.0001921949 2.358173e-04 -4.634231e-05  2.385357e-04\n",
       "[4,] 0.01448964   0.0002136472 1.999815e-04 -1.379658e-04  8.616468e-05\n",
       "[5,] 0.01976611   0.0002740965 2.582524e-04 -1.090086e-04  1.920979e-04\n",
       "[6,] 0.02268645   0.0002285273 2.740480e-04  1.856708e-05  1.067310e-04\n",
       "     X3SsnPorch    ScreenPorch  PoolArea      MoSold        YrSold       \n",
       "[1,] -2.606325e-05 0.0003460861  2.921245e-05 -0.0001601132 -0.0039527832\n",
       "[2,]  2.334982e-04 0.0005777336 -8.911412e-04  0.0022652716 -0.0102761209\n",
       "[3,]  2.751364e-04 0.0005427212 -3.757971e-04  0.0021728443 -0.0024997766\n",
       "[4,]  2.627481e-04 0.0003148024 -1.983174e-03  0.0014941339 -0.0077237501\n",
       "[5,]  3.671610e-04 0.0004315737 -1.214165e-04 -0.0008969053 -0.0008267905\n",
       "[6,]  1.484940e-04 0.0005079555 -5.868157e-04  0.0024274404 -0.0061345229"
      ]
     },
     "metadata": {},
     "output_type": "display_data"
    }
   ],
   "source": [
    "head(results$t)"
   ]
  },
  {
   "cell_type": "code",
   "execution_count": 54,
   "metadata": {
    "collapsed": false
   },
   "outputs": [],
   "source": [
    "# tidak bisa membandingkan, karena scale-nya tidak sama, jadi harus di-standardisasi"
   ]
  },
  {
   "cell_type": "markdown",
   "metadata": {},
   "source": [
    "* Bootstrap Estimates of Regression Coefficient"
   ]
  },
  {
   "cell_type": "code",
   "execution_count": 49,
   "metadata": {
    "collapsed": false
   },
   "outputs": [
    {
     "data": {
      "text/html": [
       "-0.00041273874531117"
      ],
      "text/latex": [
       "-0.00041273874531117"
      ],
      "text/markdown": [
       "-0.00041273874531117"
      ],
      "text/plain": [
       "[1] -0.0004127387"
      ]
     },
     "metadata": {},
     "output_type": "display_data"
    }
   ],
   "source": [
    "coef_MSSubClass <- mean(results$t[, \"MSSubClass\"])\n",
    "coef_MSSubClass"
   ]
  },
  {
   "cell_type": "code",
   "execution_count": 50,
   "metadata": {
    "collapsed": false
   },
   "outputs": [
    {
     "data": {
      "text/html": [
       "8.47704942101244e-05"
      ],
      "text/latex": [
       "8.47704942101244e-05"
      ],
      "text/markdown": [
       "8.47704942101244e-05"
      ],
      "text/plain": [
       "[1] 8.477049e-05"
      ]
     },
     "metadata": {},
     "output_type": "display_data"
    }
   ],
   "source": [
    "coef_TotalBsmtSF <- mean(results$t[, \"TotalBsmtSF\"])\n",
    "coef_TotalBsmtSF"
   ]
  },
  {
   "cell_type": "code",
   "execution_count": 51,
   "metadata": {
    "collapsed": false
   },
   "outputs": [
    {
     "data": {
      "text/html": [
       "0.000113727701076605"
      ],
      "text/latex": [
       "0.000113727701076605"
      ],
      "text/markdown": [
       "0.000113727701076605"
      ],
      "text/plain": [
       "[1] 0.0001137277"
      ]
     },
     "metadata": {},
     "output_type": "display_data"
    }
   ],
   "source": [
    "coef_GrLivArea <- mean(results$t[, \"GrLivArea\"])\n",
    "coef_GrLivArea"
   ]
  },
  {
   "cell_type": "code",
   "execution_count": 52,
   "metadata": {
    "collapsed": false,
    "scrolled": true
   },
   "outputs": [
    {
     "data": {
      "text/html": [
       "-0.000405106264164055"
      ],
      "text/latex": [
       "-0.000405106264164055"
      ],
      "text/markdown": [
       "-0.000405106264164055"
      ],
      "text/plain": [
       "[1] -0.0004051063"
      ]
     },
     "metadata": {},
     "output_type": "display_data"
    }
   ],
   "source": [
    "coef_PoolArea <- mean(results$t[, \"PoolArea\"], na.rm=TRUE)\n",
    "coef_PoolArea"
   ]
  },
  {
   "cell_type": "code",
   "execution_count": 53,
   "metadata": {
    "collapsed": false
   },
   "outputs": [
    {
     "data": {
      "text/html": [
       "-0.00564903917851451"
      ],
      "text/latex": [
       "-0.00564903917851451"
      ],
      "text/markdown": [
       "-0.00564903917851451"
      ],
      "text/plain": [
       "[1] -0.005649039"
      ]
     },
     "metadata": {},
     "output_type": "display_data"
    }
   ],
   "source": [
    "coef_YrSold <- mean(results$t[, \"YrSold\"], na.rm=TRUE)\n",
    "coef_YrSold"
   ]
  },
  {
   "cell_type": "markdown",
   "metadata": {},
   "source": [
    "* Booststrap Estimates of Standard Errors"
   ]
  },
  {
   "cell_type": "code",
   "execution_count": 55,
   "metadata": {
    "collapsed": false
   },
   "outputs": [
    {
     "data": {
      "text/html": [
       "0.000212886037932542"
      ],
      "text/latex": [
       "0.000212886037932542"
      ],
      "text/markdown": [
       "0.000212886037932542"
      ],
      "text/plain": [
       "[1] 0.000212886"
      ]
     },
     "metadata": {},
     "output_type": "display_data"
    }
   ],
   "source": [
    "se_MSSubClass <- sd(results$t[, \"MSSubClass\"])\n",
    "se_MSSubClass"
   ]
  },
  {
   "cell_type": "code",
   "execution_count": 56,
   "metadata": {
    "collapsed": false
   },
   "outputs": [
    {
     "data": {
      "text/html": [
       "4.99512167632523e-05"
      ],
      "text/latex": [
       "4.99512167632523e-05"
      ],
      "text/markdown": [
       "4.99512167632523e-05"
      ],
      "text/plain": [
       "[1] 4.995122e-05"
      ]
     },
     "metadata": {},
     "output_type": "display_data"
    }
   ],
   "source": [
    "se_TotalBsmtSF <- sd(results$t[, \"TotalBsmtSF\"])\n",
    "se_TotalBsmtSF"
   ]
  },
  {
   "cell_type": "code",
   "execution_count": 57,
   "metadata": {
    "collapsed": false
   },
   "outputs": [
    {
     "data": {
      "text/html": [
       "7.09397859225242e-05"
      ],
      "text/latex": [
       "7.09397859225242e-05"
      ],
      "text/markdown": [
       "7.09397859225242e-05"
      ],
      "text/plain": [
       "[1] 7.093979e-05"
      ]
     },
     "metadata": {},
     "output_type": "display_data"
    }
   ],
   "source": [
    "se_GrLivArea <- sd(results$t[, \"GrLivArea\"])\n",
    "se_GrLivArea"
   ]
  },
  {
   "cell_type": "code",
   "execution_count": 58,
   "metadata": {
    "collapsed": false
   },
   "outputs": [
    {
     "data": {
      "text/html": [
       "0.000578862684269956"
      ],
      "text/latex": [
       "0.000578862684269956"
      ],
      "text/markdown": [
       "0.000578862684269956"
      ],
      "text/plain": [
       "[1] 0.0005788627"
      ]
     },
     "metadata": {},
     "output_type": "display_data"
    }
   ],
   "source": [
    "se_PoolArea <- sd(results$t[, \"PoolArea\"], na.rm=TRUE)\n",
    "se_PoolArea"
   ]
  },
  {
   "cell_type": "code",
   "execution_count": 59,
   "metadata": {
    "collapsed": false
   },
   "outputs": [
    {
     "data": {
      "text/html": [
       "0.00292238507179686"
      ],
      "text/latex": [
       "0.00292238507179686"
      ],
      "text/markdown": [
       "0.00292238507179686"
      ],
      "text/plain": [
       "[1] 0.002922385"
      ]
     },
     "metadata": {},
     "output_type": "display_data"
    }
   ],
   "source": [
    "se_YrSold <- sd(results$t[, \"YrSold\"], na.rm=TRUE)\n",
    "se_YrSold"
   ]
  },
  {
   "cell_type": "markdown",
   "metadata": {},
   "source": [
    "* Bootstrap Estimates of Bias"
   ]
  },
  {
   "cell_type": "code",
   "execution_count": 60,
   "metadata": {
    "collapsed": false
   },
   "outputs": [
    {
     "data": {
      "text/html": [
       "<strong>MSSubClass:</strong> -5.94871739692181e-05"
      ],
      "text/latex": [
       "\\textbf{MSSubClass:} -5.94871739692181e-05"
      ],
      "text/markdown": [
       "**MSSubClass:** -5.94871739692181e-05"
      ],
      "text/plain": [
       "   MSSubClass \n",
       "-5.948717e-05 "
      ]
     },
     "metadata": {},
     "output_type": "display_data"
    }
   ],
   "source": [
    "bias_MSSubClass <- results$t0[\"MSSubClass\"] - coef_MSSubClass\n",
    "bias_MSSubClass"
   ]
  },
  {
   "cell_type": "code",
   "execution_count": 61,
   "metadata": {
    "collapsed": false
   },
   "outputs": [
    {
     "data": {
      "text/html": [
       "<strong>TotalBsmtSF:</strong> -1.55178706322368e-05"
      ],
      "text/latex": [
       "\\textbf{TotalBsmtSF:} -1.55178706322368e-05"
      ],
      "text/markdown": [
       "**TotalBsmtSF:** -1.55178706322368e-05"
      ],
      "text/plain": [
       "  TotalBsmtSF \n",
       "-1.551787e-05 "
      ]
     },
     "metadata": {},
     "output_type": "display_data"
    }
   ],
   "source": [
    "bias_TotalBsmtSF <- results$t0[\"TotalBsmtSF\"] - coef_TotalBsmtSF\n",
    "bias_TotalBsmtSF"
   ]
  },
  {
   "cell_type": "code",
   "execution_count": 62,
   "metadata": {
    "collapsed": false
   },
   "outputs": [
    {
     "data": {
      "text/html": [
       "<strong>GrLivArea:</strong> 6.02144119162638e-06"
      ],
      "text/latex": [
       "\\textbf{GrLivArea:} 6.02144119162638e-06"
      ],
      "text/markdown": [
       "**GrLivArea:** 6.02144119162638e-06"
      ],
      "text/plain": [
       "   GrLivArea \n",
       "6.021441e-06 "
      ]
     },
     "metadata": {},
     "output_type": "display_data"
    }
   ],
   "source": [
    "bias_GrLivArea <- results$t0[\"GrLivArea\"] - coef_GrLivArea\n",
    "bias_GrLivArea"
   ]
  },
  {
   "cell_type": "code",
   "execution_count": 63,
   "metadata": {
    "collapsed": false
   },
   "outputs": [
    {
     "data": {
      "text/html": [
       "<strong>PoolArea:</strong> 1.73093533446253e-05"
      ],
      "text/latex": [
       "\\textbf{PoolArea:} 1.73093533446253e-05"
      ],
      "text/markdown": [
       "**PoolArea:** 1.73093533446253e-05"
      ],
      "text/plain": [
       "    PoolArea \n",
       "1.730935e-05 "
      ]
     },
     "metadata": {},
     "output_type": "display_data"
    }
   ],
   "source": [
    "bias_PoolArea <- results$t0[\"PoolArea\"] - coef_PoolArea\n",
    "bias_PoolArea"
   ]
  },
  {
   "cell_type": "code",
   "execution_count": 64,
   "metadata": {
    "collapsed": false
   },
   "outputs": [
    {
     "data": {
      "text/html": [
       "<strong>YrSold:</strong> -0.00025770991505866"
      ],
      "text/latex": [
       "\\textbf{YrSold:} -0.00025770991505866"
      ],
      "text/markdown": [
       "**YrSold:** -0.00025770991505866"
      ],
      "text/plain": [
       "       YrSold \n",
       "-0.0002577099 "
      ]
     },
     "metadata": {},
     "output_type": "display_data"
    }
   ],
   "source": [
    "bias_YrSold <- results$t0[\"YrSold\"] - coef_YrSold\n",
    "bias_YrSold"
   ]
  },
  {
   "cell_type": "code",
   "execution_count": null,
   "metadata": {
    "collapsed": true
   },
   "outputs": [],
   "source": []
  },
  {
   "cell_type": "code",
   "execution_count": 66,
   "metadata": {
    "collapsed": false
   },
   "outputs": [
    {
     "data": {
      "text/html": [
       "-1.93877789882095"
      ],
      "text/latex": [
       "-1.93877789882095"
      ],
      "text/markdown": [
       "-1.93877789882095"
      ],
      "text/plain": [
       "[1] -1.938778"
      ]
     },
     "metadata": {},
     "output_type": "display_data"
    }
   ],
   "source": [
    "coef_MSSubClass/se_MSSubClass"
   ]
  },
  {
   "cell_type": "code",
   "execution_count": 67,
   "metadata": {
    "collapsed": false
   },
   "outputs": [
    {
     "data": {
      "text/html": [
       "1.60315822211264"
      ],
      "text/latex": [
       "1.60315822211264"
      ],
      "text/markdown": [
       "1.60315822211264"
      ],
      "text/plain": [
       "[1] 1.603158"
      ]
     },
     "metadata": {},
     "output_type": "display_data"
    }
   ],
   "source": [
    "coef_GrLivArea/se_GrLivArea"
   ]
  },
  {
   "cell_type": "code",
   "execution_count": 68,
   "metadata": {
    "collapsed": false
   },
   "outputs": [
    {
     "data": {
      "text/html": [
       "-0.69983136790889"
      ],
      "text/latex": [
       "-0.69983136790889"
      ],
      "text/markdown": [
       "-0.69983136790889"
      ],
      "text/plain": [
       "[1] -0.6998314"
      ]
     },
     "metadata": {},
     "output_type": "display_data"
    }
   ],
   "source": [
    "coef_PoolArea/se_PoolArea"
   ]
  },
  {
   "cell_type": "code",
   "execution_count": 69,
   "metadata": {
    "collapsed": false
   },
   "outputs": [
    {
     "data": {
      "text/html": [
       "1.69706565131137"
      ],
      "text/latex": [
       "1.69706565131137"
      ],
      "text/markdown": [
       "1.69706565131137"
      ],
      "text/plain": [
       "[1] 1.697066"
      ]
     },
     "metadata": {},
     "output_type": "display_data"
    }
   ],
   "source": [
    "coef_TotalBsmtSF/se_TotalBsmtSF"
   ]
  },
  {
   "cell_type": "code",
   "execution_count": 70,
   "metadata": {
    "collapsed": false
   },
   "outputs": [
    {
     "data": {
      "text/html": [
       "-1.9330235542988"
      ],
      "text/latex": [
       "-1.9330235542988"
      ],
      "text/markdown": [
       "-1.9330235542988"
      ],
      "text/plain": [
       "[1] -1.933024"
      ]
     },
     "metadata": {},
     "output_type": "display_data"
    }
   ],
   "source": [
    "coef_YrSold/se_YrSold"
   ]
  },
  {
   "cell_type": "code",
   "execution_count": null,
   "metadata": {
    "collapsed": true
   },
   "outputs": [],
   "source": []
  },
  {
   "cell_type": "markdown",
   "metadata": {},
   "source": [
    "### Hypothesis Testing with Bootstrap"
   ]
  },
  {
   "cell_type": "code",
   "execution_count": 65,
   "metadata": {
    "collapsed": true
   },
   "outputs": [],
   "source": [
    "library(ggplot2)"
   ]
  },
  {
   "cell_type": "markdown",
   "metadata": {},
   "source": [
    "CI 95%"
   ]
  },
  {
   "cell_type": "code",
   "execution_count": 72,
   "metadata": {
    "collapsed": true
   },
   "outputs": [
    {
     "data": {
      "text/html": [
       "<ol class=list-inline>\n",
       "\t<li>-0.98952312005037</li>\n",
       "\t<li>-3.21597165528109</li>\n",
       "\t<li>-3.17026084743465</li>\n",
       "\t<li>-2.27659543224983</li>\n",
       "\t<li>-2.50608921438053</li>\n",
       "\t<li>-3.01128698980627</li>\n",
       "\t<li>-0.699737378522514</li>\n",
       "\t<li>-3.64297231607172</li>\n",
       "\t<li>-1.92778817774545</li>\n",
       "\t<li>-2.50433016809716</li>\n",
       "\t<li>-2.04662749586725</li>\n",
       "\t<li>-2.01811194957747</li>\n",
       "\t<li>-2.88807730965104</li>\n",
       "\t<li>-1.33679270218641</li>\n",
       "\t<li>-0.0452056375120463</li>\n",
       "\t<li>-2.33082685955212</li>\n",
       "\t<li>-2.06330714436639</li>\n",
       "\t<li>-1.12921980278266</li>\n",
       "\t<li>-2.28485459571431</li>\n",
       "\t<li>-3.33926359476178</li>\n",
       "\t<li>-1.95298880815486</li>\n",
       "\t<li>-1.48080134763815</li>\n",
       "\t<li>-1.95475414454706</li>\n",
       "\t<li>-2.27452273742138</li>\n",
       "\t<li>-2.4644252277697</li>\n",
       "\t<li>-2.12112848660364</li>\n",
       "\t<li>-1.72876427685841</li>\n",
       "\t<li>-1.41195557903109</li>\n",
       "\t<li>-3.41790068571392</li>\n",
       "\t<li>-2.18750875702544</li>\n",
       "\t<li>-1.88841541718459</li>\n",
       "\t<li>-2.69578403595693</li>\n",
       "\t<li>-2.37039523898854</li>\n",
       "\t<li>-0.883036142061325</li>\n",
       "\t<li>-2.58502335682854</li>\n",
       "\t<li>-1.29905270437397</li>\n",
       "\t<li>-2.25764619535558</li>\n",
       "\t<li>-3.76030399496514</li>\n",
       "\t<li>-3.20936635929399</li>\n",
       "\t<li>-3.47854033398288</li>\n",
       "\t<li>0.0191221971142133</li>\n",
       "\t<li>-1.8987046816549</li>\n",
       "\t<li>-1.3962297407579</li>\n",
       "\t<li>-1.94502264669163</li>\n",
       "\t<li>-3.33871828221774</li>\n",
       "\t<li>-0.749210779804766</li>\n",
       "\t<li>-3.18459236579686</li>\n",
       "\t<li>-2.13624205450651</li>\n",
       "\t<li>-1.43068787408954</li>\n",
       "\t<li>-2.29144235030894</li>\n",
       "\t<li>-0.468954799014386</li>\n",
       "\t<li>-0.734479104853502</li>\n",
       "\t<li>-2.17600538729403</li>\n",
       "\t<li>-1.78842947135587</li>\n",
       "\t<li>-1.91356424893171</li>\n",
       "\t<li>-1.61870830048307</li>\n",
       "\t<li>-0.852275434640657</li>\n",
       "\t<li>-2.14864140895208</li>\n",
       "\t<li>-2.30449545592087</li>\n",
       "\t<li>-3.01355156688308</li>\n",
       "\t<li>-2.63794993285425</li>\n",
       "\t<li>-1.96388881460165</li>\n",
       "\t<li>-1.5033868522143</li>\n",
       "\t<li>-4.02334631287953</li>\n",
       "\t<li>-0.741233773895752</li>\n",
       "\t<li>-3.20369950280196</li>\n",
       "\t<li>-2.5773894610259</li>\n",
       "\t<li>-2.90619032035203</li>\n",
       "\t<li>-3.66253436253807</li>\n",
       "\t<li>-3.85248644988573</li>\n",
       "\t<li>-0.962001778671698</li>\n",
       "\t<li>-2.34560442726246</li>\n",
       "\t<li>-2.61370154761319</li>\n",
       "\t<li>-0.63127769908091</li>\n",
       "\t<li>-0.763407032404764</li>\n",
       "\t<li>-2.12408810477391</li>\n",
       "\t<li>-1.76955718797569</li>\n",
       "\t<li>-0.941248214248794</li>\n",
       "\t<li>-0.730260874704276</li>\n",
       "\t<li>-0.936863713339061</li>\n",
       "\t<li>-2.36405721014118</li>\n",
       "\t<li>-3.22389954356454</li>\n",
       "\t<li>-1.06767112480592</li>\n",
       "\t<li>-2.42632524890519</li>\n",
       "\t<li>-1.31173480573528</li>\n",
       "\t<li>-0.701211311449826</li>\n",
       "\t<li>-2.35390374129815</li>\n",
       "\t<li>-0.805851844364011</li>\n",
       "\t<li>-3.27138297884358</li>\n",
       "\t<li>-1.95065662000445</li>\n",
       "\t<li>-0.766929050384078</li>\n",
       "\t<li>-0.899069226528505</li>\n",
       "\t<li>-1.58209653182394</li>\n",
       "\t<li>-1.29351949320494</li>\n",
       "\t<li>-1.56195253061179</li>\n",
       "\t<li>-1.82461626532597</li>\n",
       "\t<li>-2.63402263581856</li>\n",
       "\t<li>-0.486005154387723</li>\n",
       "\t<li>-2.10325063881771</li>\n",
       "\t<li>-1.12052421607649</li>\n",
       "\t<li>-2.82292780969334</li>\n",
       "\t<li>-0.328813264097244</li>\n",
       "\t<li>-3.03699890143187</li>\n",
       "\t<li>-1.12432359202293</li>\n",
       "\t<li>-1.3749038824254</li>\n",
       "\t<li>-2.43551471742862</li>\n",
       "\t<li>-3.59654439072155</li>\n",
       "\t<li>-0.828208892289734</li>\n",
       "\t<li>-1.54453572912943</li>\n",
       "\t<li>-1.30232707148085</li>\n",
       "\t<li>-0.830793892628223</li>\n",
       "\t<li>-3.34279076052049</li>\n",
       "\t<li>-3.52802086757884</li>\n",
       "\t<li>-1.91198869531857</li>\n",
       "\t<li>-1.20429234423257</li>\n",
       "\t<li>-1.2314144347935</li>\n",
       "\t<li>-0.541924151915985</li>\n",
       "\t<li>-1.1907459593998</li>\n",
       "\t<li>-1.80061593177485</li>\n",
       "\t<li>-3.09052989517858</li>\n",
       "\t<li>-2.18043575252459</li>\n",
       "\t<li>-1.40183642305406</li>\n",
       "\t<li>-2.20115548679222</li>\n",
       "\t<li>-2.18150416723125</li>\n",
       "\t<li>-1.35206211772649</li>\n",
       "\t<li>-1.24193257502168</li>\n",
       "\t<li>-1.0470884678826</li>\n",
       "\t<li>-3.31502583329757</li>\n",
       "\t<li>-0.838322011325693</li>\n",
       "\t<li>-4.10312676739555</li>\n",
       "\t<li>-1.37959852785135</li>\n",
       "\t<li>-1.05265864043875</li>\n",
       "\t<li>-1.62112605477502</li>\n",
       "\t<li>-1.50735026281481</li>\n",
       "\t<li>-1.20479453828918</li>\n",
       "\t<li>-1.55610756921125</li>\n",
       "\t<li>-0.430693754505336</li>\n",
       "\t<li>-1.62856632046281</li>\n",
       "\t<li>-3.66427793909434</li>\n",
       "\t<li>-2.66261976667632</li>\n",
       "\t<li>-2.51625265744902</li>\n",
       "\t<li>-1.75546615856786</li>\n",
       "\t<li>-1.97836672496955</li>\n",
       "\t<li>-2.05909773406839</li>\n",
       "\t<li>-2.18858017183816</li>\n",
       "\t<li>-2.02382689300045</li>\n",
       "\t<li>-1.61380017450359</li>\n",
       "\t<li>-3.69587266993247</li>\n",
       "\t<li>-2.14591072176566</li>\n",
       "\t<li>-0.940234320395696</li>\n",
       "\t<li>-2.14073926852876</li>\n",
       "\t<li>-2.64729367227628</li>\n",
       "\t<li>-2.27425226058729</li>\n",
       "\t<li>-2.6304506416253</li>\n",
       "\t<li>-0.871970147937631</li>\n",
       "\t<li>-0.788344180709964</li>\n",
       "\t<li>-1.4893599058364</li>\n",
       "\t<li>-1.12596940937001</li>\n",
       "\t<li>-0.657426164557811</li>\n",
       "\t<li>-2.22025740915758</li>\n",
       "\t<li>-1.92944033490442</li>\n",
       "\t<li>-3.15071693598945</li>\n",
       "\t<li>-1.03741308602776</li>\n",
       "\t<li>-0.855137307423953</li>\n",
       "\t<li>-0.612776197470179</li>\n",
       "\t<li>-2.0780486300678</li>\n",
       "\t<li>-2.42741148584058</li>\n",
       "\t<li>-0.606770619538068</li>\n",
       "\t<li>-0.787267458683999</li>\n",
       "\t<li>-1.38939419936519</li>\n",
       "\t<li>-1.72300982801346</li>\n",
       "\t<li>-3.34191302853636</li>\n",
       "\t<li>-2.09710873859942</li>\n",
       "\t<li>-2.45604347658131</li>\n",
       "\t<li>-2.11341942928876</li>\n",
       "\t<li>-0.960588213752967</li>\n",
       "\t<li>-2.35889780975308</li>\n",
       "\t<li>-0.984623433825672</li>\n",
       "\t<li>-0.615925449346296</li>\n",
       "\t<li>-1.41027648183197</li>\n",
       "\t<li>-0.211514779308579</li>\n",
       "\t<li>-0.566671927631254</li>\n",
       "\t<li>-3.63744840722258</li>\n",
       "\t<li>-2.98997233008649</li>\n",
       "\t<li>-1.96524894702197</li>\n",
       "\t<li>-0.887188964148493</li>\n",
       "\t<li>-0.846225880344377</li>\n",
       "\t<li>-0.837887129164492</li>\n",
       "\t<li>-2.28620232066222</li>\n",
       "\t<li>-0.467114886633134</li>\n",
       "\t<li>-1.01569527161127</li>\n",
       "\t<li>-2.16449274530966</li>\n",
       "\t<li>-1.16830824851594</li>\n",
       "\t<li>-0.257762697431498</li>\n",
       "\t<li>-1.58690980458131</li>\n",
       "\t<li>-1.44770307508234</li>\n",
       "\t<li>-1.22660443833012</li>\n",
       "\t<li>-2.1905508860788</li>\n",
       "\t<li>-3.41757540645048</li>\n",
       "\t<li>-3.1701857866057</li>\n",
       "\t<li>-3.37179279274389</li>\n",
       "\t<li>-2.25581847111154</li>\n",
       "\t<li>-0.00722452688438097</li>\n",
       "\t<li>-1.29109975620728</li>\n",
       "\t<li>-2.08785656358205</li>\n",
       "\t<li>-0.904376374159317</li>\n",
       "\t<li>-0.784349735481359</li>\n",
       "\t<li>-3.03894346607894</li>\n",
       "\t<li>-1.1688428175591</li>\n",
       "\t<li>-1.79997478830533</li>\n",
       "\t<li>-1.4325116487292</li>\n",
       "\t<li>0.209193933627433</li>\n",
       "\t<li>-3.15874238797528</li>\n",
       "\t<li>-1.55130211703625</li>\n",
       "\t<li>-0.771998939362294</li>\n",
       "\t<li>-2.25235026403023</li>\n",
       "\t<li>-4.09496026487929</li>\n",
       "\t<li>-2.16199289993116</li>\n",
       "\t<li>-0.884586803615922</li>\n",
       "\t<li>-1.09835732417477</li>\n",
       "\t<li>-1.83540089912359</li>\n",
       "\t<li>-0.975157893124075</li>\n",
       "\t<li>-1.88438349672377</li>\n",
       "\t<li>-0.5423216130935</li>\n",
       "\t<li>-3.61157294198561</li>\n",
       "\t<li>-0.859491807946471</li>\n",
       "\t<li>-0.376338540310569</li>\n",
       "\t<li>-1.81239736197645</li>\n",
       "\t<li>-1.38288347118965</li>\n",
       "\t<li>-2.34438939418157</li>\n",
       "\t<li>-0.304621657720905</li>\n",
       "\t<li>-1.42739451419333</li>\n",
       "\t<li>-0.550623851834133</li>\n",
       "\t<li>-2.55788666107381</li>\n",
       "\t<li>-0.614384612672009</li>\n",
       "\t<li>-1.83063296380656</li>\n",
       "\t<li>-2.06912608333858</li>\n",
       "\t<li>-1.33794611139546</li>\n",
       "\t<li>-1.46014788744678</li>\n",
       "\t<li>-1.37078142821182</li>\n",
       "\t<li>-2.75724060190872</li>\n",
       "\t<li>-2.41698412227955</li>\n",
       "\t<li>-1.21915965184334</li>\n",
       "\t<li>-0.927331694615423</li>\n",
       "\t<li>-3.47520440262118</li>\n",
       "\t<li>-1.73426672147073</li>\n",
       "\t<li>-1.43893767959803</li>\n",
       "\t<li>-1.63505343807894</li>\n",
       "\t<li>-2.59540769572283</li>\n",
       "\t<li>-3.31056633884356</li>\n",
       "\t<li>-2.69139785368522</li>\n",
       "\t<li>-1.25746571156231</li>\n",
       "\t<li>-3.75536516489514</li>\n",
       "\t<li>-1.9043503071277</li>\n",
       "\t<li>-0.869185847624816</li>\n",
       "\t<li>-1.24430429225636</li>\n",
       "\t<li>-1.80097705120226</li>\n",
       "\t<li>0.0113180494285569</li>\n",
       "\t<li>-1.87004221331108</li>\n",
       "\t<li>-2.5613270093952</li>\n",
       "\t<li>-2.97317812239695</li>\n",
       "\t<li>-2.40727795938838</li>\n",
       "\t<li>-4.17826607477545</li>\n",
       "\t<li>-3.72745037430837</li>\n",
       "\t<li>-2.44444317973315</li>\n",
       "\t<li>-3.1950970767376</li>\n",
       "\t<li>-0.740169658944841</li>\n",
       "\t<li>-0.227738749060699</li>\n",
       "\t<li>-0.6831730990418</li>\n",
       "\t<li>-1.24518611765467</li>\n",
       "\t<li>-2.94664216533367</li>\n",
       "\t<li>-1.89029378061179</li>\n",
       "\t<li>-1.04139781215418</li>\n",
       "\t<li>-1.26676602923014</li>\n",
       "\t<li>-1.2242587247253</li>\n",
       "\t<li>-2.92548785142678</li>\n",
       "\t<li>-0.420981733749788</li>\n",
       "\t<li>-4.04882787762837</li>\n",
       "\t<li>-0.833685556055447</li>\n",
       "\t<li>-1.29241640041353</li>\n",
       "\t<li>-0.639525108199563</li>\n",
       "\t<li>-2.14678621425829</li>\n",
       "\t<li>-1.79440659851994</li>\n",
       "\t<li>-2.69566899094837</li>\n",
       "\t<li>-3.39128268273942</li>\n",
       "\t<li>-1.77038290208995</li>\n",
       "\t<li>-1.32350356128018</li>\n",
       "\t<li>-1.321889725667</li>\n",
       "\t<li>-3.16628088672632</li>\n",
       "\t<li>-1.57952248649625</li>\n",
       "\t<li>-0.549391429757515</li>\n",
       "\t<li>-0.468650487261965</li>\n",
       "\t<li>-3.51946277420612</li>\n",
       "\t<li>-2.10731264428725</li>\n",
       "\t<li>-1.50026576470183</li>\n",
       "\t<li>-1.5450881893732</li>\n",
       "\t<li>-1.09678750671589</li>\n",
       "\t<li>-3.79393855153952</li>\n",
       "\t<li>-2.53098970669207</li>\n",
       "\t<li>-1.85339554205734</li>\n",
       "\t<li>-0.338839042030108</li>\n",
       "\t<li>-1.80678558491164</li>\n",
       "\t<li>-0.449018407836338</li>\n",
       "\t<li>-1.49590655811388</li>\n",
       "\t<li>-0.49027898768581</li>\n",
       "\t<li>-4.83455505977943</li>\n",
       "\t<li>-2.6185682154092</li>\n",
       "\t<li>-2.1297405770651</li>\n",
       "\t<li>-0.967760292655874</li>\n",
       "\t<li>-1.54619411239066</li>\n",
       "\t<li>-1.43531651481467</li>\n",
       "\t<li>-1.05111829911339</li>\n",
       "\t<li>-2.3233277011758</li>\n",
       "\t<li>-3.63110633476596</li>\n",
       "\t<li>-2.93697999044751</li>\n",
       "\t<li>-3.4123571049529</li>\n",
       "\t<li>-1.01070093475747</li>\n",
       "\t<li>-2.46001185577784</li>\n",
       "\t<li>-2.03706701568473</li>\n",
       "\t<li>-3.00863900685426</li>\n",
       "\t<li>-0.546593138582359</li>\n",
       "\t<li>-2.14086575888562</li>\n",
       "\t<li>-1.03090754035054</li>\n",
       "\t<li>-1.57187679196724</li>\n",
       "\t<li>-3.29025172595939</li>\n",
       "\t<li>-4.07084906702686</li>\n",
       "\t<li>-1.52660769655603</li>\n",
       "\t<li>-2.56558325839417</li>\n",
       "\t<li>-3.23051087059368</li>\n",
       "\t<li>-1.22936082201325</li>\n",
       "\t<li>-2.45172761118521</li>\n",
       "\t<li>-4.74504397967648</li>\n",
       "\t<li>-1.46228647713155</li>\n",
       "\t<li>-3.58891079941395</li>\n",
       "\t<li>-3.3282778004349</li>\n",
       "\t<li>-1.83004851509288</li>\n",
       "\t<li>-2.32494000812816</li>\n",
       "\t<li>-2.84785386874793</li>\n",
       "\t<li>-2.3211018534163</li>\n",
       "\t<li>-2.28303126431936</li>\n",
       "\t<li>-3.39279864513861</li>\n",
       "\t<li>-2.2726555235734</li>\n",
       "\t<li>-1.66735345016169</li>\n",
       "\t<li>-1.75660279487655</li>\n",
       "\t<li>-3.00514888480549</li>\n",
       "\t<li>-1.7285442076416</li>\n",
       "\t<li>-0.977269235565071</li>\n",
       "\t<li>-1.8042801175354</li>\n",
       "\t<li>-1.68581880789523</li>\n",
       "\t<li>-1.11574923467299</li>\n",
       "\t<li>-3.53194787931414</li>\n",
       "\t<li>-2.52695385695122</li>\n",
       "\t<li>-2.78435453605221</li>\n",
       "\t<li>-2.68922420831493</li>\n",
       "\t<li>-2.32689103720966</li>\n",
       "\t<li>-1.93708385840823</li>\n",
       "\t<li>-1.01928036678503</li>\n",
       "\t<li>-3.00566704932787</li>\n",
       "\t<li>-3.25059482276228</li>\n",
       "\t<li>-3.17674190728072</li>\n",
       "\t<li>-2.55372042561258</li>\n",
       "\t<li>-1.96276323859931</li>\n",
       "\t<li>-2.60100506852444</li>\n",
       "\t<li>-2.62136172481642</li>\n",
       "\t<li>-1.61298663931095</li>\n",
       "\t<li>-0.530087480611029</li>\n",
       "\t<li>-3.50740493527494</li>\n",
       "\t<li>-0.30237388289495</li>\n",
       "\t<li>-1.26896899530951</li>\n",
       "\t<li>-2.06517930173382</li>\n",
       "\t<li>-2.75648181643886</li>\n",
       "\t<li>-3.39310968755229</li>\n",
       "\t<li>-1.82670391904661</li>\n",
       "\t<li>-1.06956648168264</li>\n",
       "\t<li>-3.1735135788308</li>\n",
       "\t<li>-2.7856147103248</li>\n",
       "\t<li>-1.1159631109781</li>\n",
       "\t<li>-0.732300391365668</li>\n",
       "\t<li>-1.24565217825668</li>\n",
       "\t<li>-2.33101702454503</li>\n",
       "\t<li>-0.586857780272217</li>\n",
       "\t<li>-2.47846192462697</li>\n",
       "\t<li>-3.94171362334772</li>\n",
       "\t<li>-1.51151282266097</li>\n",
       "\t<li>-2.92519721556749</li>\n",
       "\t<li>-1.43195426211681</li>\n",
       "\t<li>-2.31836236252196</li>\n",
       "\t<li>-3.76656936023954</li>\n",
       "\t<li>-0.817319911691937</li>\n",
       "\t<li>-2.76196638470878</li>\n",
       "\t<li>-2.29428497445685</li>\n",
       "\t<li>-1.73633737481914</li>\n",
       "\t<li>-3.0769395858937</li>\n",
       "\t<li>-1.79780045920691</li>\n",
       "\t<li>-0.810565409265906</li>\n",
       "\t<li>0.0188913728192782</li>\n",
       "\t<li>-3.20580538336577</li>\n",
       "\t<li>-0.518801149375267</li>\n",
       "\t<li>-0.699949847258561</li>\n",
       "\t<li>-0.64799718061424</li>\n",
       "\t<li>-2.08000129374514</li>\n",
       "\t<li>-0.816082387938379</li>\n",
       "\t<li>-2.56026859416912</li>\n",
       "\t<li>-2.35530937205689</li>\n",
       "\t<li>-4.27599381884402</li>\n",
       "\t<li>-2.75926998915239</li>\n",
       "\t<li>-0.905633510061456</li>\n",
       "\t<li>0.171010096923666</li>\n",
       "\t<li>-1.72142239010957</li>\n",
       "\t<li>-1.20414999549709</li>\n",
       "\t<li>-0.257121415757682</li>\n",
       "\t<li>-0.60144167476554</li>\n",
       "\t<li>0.383783631683168</li>\n",
       "\t<li>-2.55521838715475</li>\n",
       "\t<li>-1.7818928432032</li>\n",
       "\t<li>-1.9624293710677</li>\n",
       "\t<li>-3.92723114709438</li>\n",
       "\t<li>-2.10608134913899</li>\n",
       "\t<li>-0.454485991985685</li>\n",
       "\t<li>-2.51132956695856</li>\n",
       "\t<li>-2.3578292037073</li>\n",
       "\t<li>-0.986905354210034</li>\n",
       "\t<li>-1.1358173846633</li>\n",
       "\t<li>-2.21598428663405</li>\n",
       "\t<li>-0.59176131515529</li>\n",
       "\t<li>-1.40738847151315</li>\n",
       "\t<li>-1.24286522270562</li>\n",
       "\t<li>-2.88066155367556</li>\n",
       "\t<li>-0.935359583857401</li>\n",
       "\t<li>-1.71026547617727</li>\n",
       "\t<li>-3.24855569338836</li>\n",
       "\t<li>-0.828382351488839</li>\n",
       "\t<li>-1.43233263053351</li>\n",
       "\t<li>-3.55455303306486</li>\n",
       "\t<li>-2.49400136207598</li>\n",
       "\t<li>-2.84744995802484</li>\n",
       "\t<li>-0.418715311312181</li>\n",
       "\t<li>-1.51631996206424</li>\n",
       "\t<li>-1.70645734259305</li>\n",
       "\t<li>-1.57708065824697</li>\n",
       "\t<li>-2.34056318383328</li>\n",
       "\t<li>-0.473277934208752</li>\n",
       "\t<li>-3.01930242147011</li>\n",
       "\t<li>-2.33119712031931</li>\n",
       "\t<li>-3.0267604565632</li>\n",
       "\t<li>-2.08447354745424</li>\n",
       "\t<li>-3.18272049074801</li>\n",
       "\t<li>-1.30971696017852</li>\n",
       "\t<li>-1.55618286639301</li>\n",
       "\t<li>0.135446253360376</li>\n",
       "\t<li>-0.996859222320937</li>\n",
       "\t<li>-0.943030401729926</li>\n",
       "\t<li>-1.14312031209976</li>\n",
       "\t<li>-3.0877502645042</li>\n",
       "\t<li>-3.03815796150733</li>\n",
       "\t<li>-1.37135758454906</li>\n",
       "\t<li>-0.774244701348581</li>\n",
       "\t<li>-2.21718853172239</li>\n",
       "\t<li>-1.9677180307291</li>\n",
       "\t<li>-0.782720950417818</li>\n",
       "\t<li>-1.84973301035143</li>\n",
       "\t<li>-1.7993466243161</li>\n",
       "\t<li>-1.9968428854799</li>\n",
       "\t<li>-1.82134259971495</li>\n",
       "\t<li>-2.09146678017893</li>\n",
       "\t<li>-4.14018533503481</li>\n",
       "\t<li>-2.3160626388897</li>\n",
       "\t<li>-0.95642915804362</li>\n",
       "\t<li>-2.00592938290698</li>\n",
       "\t<li>-3.03628716595091</li>\n",
       "\t<li>-2.37480137839559</li>\n",
       "\t<li>-2.01587566751066</li>\n",
       "\t<li>-2.59921867507758</li>\n",
       "\t<li>-2.77386976669675</li>\n",
       "\t<li>-0.367766378106579</li>\n",
       "\t<li>-1.13220852583541</li>\n",
       "\t<li>-1.66628925400515</li>\n",
       "\t<li>-1.20296145682258</li>\n",
       "\t<li>-0.356692899985538</li>\n",
       "\t<li>-3.43570030298202</li>\n",
       "\t<li>-1.5670507084626</li>\n",
       "\t<li>-0.604519671818584</li>\n",
       "\t<li>-1.77029904899039</li>\n",
       "\t<li>-3.36131111081958</li>\n",
       "\t<li>-0.485549793370423</li>\n",
       "\t<li>-1.52922027117148</li>\n",
       "\t<li>-2.19150174766176</li>\n",
       "\t<li>-4.85006340385311</li>\n",
       "\t<li>-1.61483313538666</li>\n",
       "\t<li>-3.77158383401712</li>\n",
       "\t<li>-3.33268395162845</li>\n",
       "\t<li>-0.404673809148193</li>\n",
       "\t<li>-3.62149577402996</li>\n",
       "\t<li>-1.87495513934115</li>\n",
       "\t<li>-3.14281614995265</li>\n",
       "\t<li>-2.19586385068899</li>\n",
       "\t<li>-2.06774294095782</li>\n",
       "\t<li>-2.67302242544956</li>\n",
       "\t<li>-0.442268974153144</li>\n",
       "\t<li>-1.84591952699283</li>\n",
       "\t<li>-1.91040107896489</li>\n",
       "\t<li>-0.103792537632215</li>\n",
       "\t<li>-1.19435336921602</li>\n",
       "\t<li>-0.635863405590011</li>\n",
       "\t<li>-0.753263444395737</li>\n",
       "\t<li>-1.06243710608482</li>\n",
       "\t<li>-3.52648400290274</li>\n",
       "\t<li>-0.55231634855242</li>\n",
       "\t<li>-3.39215611653681</li>\n",
       "\t<li>-1.17454147254453</li>\n",
       "\t<li>-0.569619084304356</li>\n",
       "\t<li>-2.80084218656175</li>\n",
       "\t<li>-2.97261042626828</li>\n",
       "\t<li>-1.31743963461678</li>\n",
       "\t<li>-1.59816847136932</li>\n",
       "\t<li>-2.26889421643507</li>\n",
       "\t<li>-2.07515215783477</li>\n",
       "\t<li>-2.7195373132675</li>\n",
       "\t<li>-1.72469361798697</li>\n",
       "\t<li>-1.59825622781175</li>\n",
       "\t<li>-1.96728270058156</li>\n",
       "\t<li>-2.85733646601777</li>\n",
       "\t<li>-1.95419420107522</li>\n",
       "\t<li>-2.36146869518695</li>\n",
       "\t<li>-0.90689415568944</li>\n",
       "\t<li>-1.64195807067335</li>\n",
       "\t<li>-3.92387812433621</li>\n",
       "\t<li>-3.08298004837049</li>\n",
       "\t<li>-2.77683998661386</li>\n",
       "\t<li>-0.214724764636665</li>\n",
       "\t<li>-4.37273433635698</li>\n",
       "\t<li>-0.590435301476175</li>\n",
       "\t<li>-1.87928761364146</li>\n",
       "\t<li>-1.08206197002068</li>\n",
       "\t<li>-1.35327246183591</li>\n",
       "\t<li>-0.5497522944469</li>\n",
       "\t<li>-2.24794551467452</li>\n",
       "\t<li>-1.78286271494367</li>\n",
       "\t<li>-1.84753247789401</li>\n",
       "\t<li>-2.08082813984176</li>\n",
       "\t<li>-0.55202126297711</li>\n",
       "\t<li>-1.91191154320924</li>\n",
       "\t<li>-3.22891327271643</li>\n",
       "\t<li>-1.84351506736691</li>\n",
       "\t<li>-3.9606250247524</li>\n",
       "\t<li>-1.03167347384576</li>\n",
       "\t<li>-0.951384996128967</li>\n",
       "\t<li>-0.281240179495393</li>\n",
       "\t<li>-1.97926517230794</li>\n",
       "\t<li>-2.59114878873893</li>\n",
       "\t<li>-1.41359792432874</li>\n",
       "\t<li>-3.11901976959623</li>\n",
       "\t<li>-2.62922434336667</li>\n",
       "\t<li>-2.00254695543659</li>\n",
       "\t<li>-1.83132319532203</li>\n",
       "\t<li>-2.1542548898165</li>\n",
       "\t<li>-3.85537051544875</li>\n",
       "\t<li>-2.55329933338975</li>\n",
       "\t<li>-2.00288726035658</li>\n",
       "\t<li>-0.862721110967437</li>\n",
       "\t<li>-0.796861555318108</li>\n",
       "\t<li>-0.762980446041342</li>\n",
       "\t<li>-1.13744117670635</li>\n",
       "\t<li>-3.39881022140313</li>\n",
       "\t<li>-1.39659825267317</li>\n",
       "\t<li>-0.754183864001978</li>\n",
       "\t<li>-1.9934507671091</li>\n",
       "\t<li>-1.62752581648098</li>\n",
       "\t<li>-1.30031574882477</li>\n",
       "\t<li>-3.21725825430684</li>\n",
       "\t<li>-3.14095060304154</li>\n",
       "\t<li>-1.19740860146233</li>\n",
       "\t<li>-2.28265510392851</li>\n",
       "\t<li>-1.87747401146326</li>\n",
       "\t<li>-2.36419837150616</li>\n",
       "\t<li>-2.36672917722078</li>\n",
       "\t<li>-1.25290335978624</li>\n",
       "\t<li>-1.92415686104046</li>\n",
       "\t<li>-2.16583438703305</li>\n",
       "\t<li>-0.678473602519959</li>\n",
       "\t<li>-2.96602137565726</li>\n",
       "\t<li>-1.93309692149312</li>\n",
       "\t<li>-2.05546768793946</li>\n",
       "\t<li>-0.631543104447218</li>\n",
       "\t<li>-2.8593201653533</li>\n",
       "\t<li>-1.13066364940679</li>\n",
       "\t<li>-0.276208595258747</li>\n",
       "\t<li>-3.75235085917105</li>\n",
       "\t<li>-1.56550693300529</li>\n",
       "\t<li>-3.50739300998108</li>\n",
       "\t<li>-1.97096558952256</li>\n",
       "\t<li>-0.546169736391817</li>\n",
       "\t<li>-2.5463979821681</li>\n",
       "\t<li>-1.16296755757492</li>\n",
       "\t<li>-2.80206974644792</li>\n",
       "\t<li>-1.10306725364744</li>\n",
       "\t<li>-4.63060692558213</li>\n",
       "\t<li>-3.07950266784941</li>\n",
       "\t<li>-1.85629414766272</li>\n",
       "\t<li>-2.48165592398967</li>\n",
       "\t<li>-1.00763123560824</li>\n",
       "\t<li>-2.0805551183789</li>\n",
       "\t<li>-0.716005616089171</li>\n",
       "\t<li>-2.03937970537778</li>\n",
       "\t<li>-3.0469788876467</li>\n",
       "\t<li>-0.942321938226363</li>\n",
       "\t<li>-3.19148039596691</li>\n",
       "\t<li>-1.77237062805135</li>\n",
       "\t<li>-1.41362604812394</li>\n",
       "\t<li>-1.03081847507369</li>\n",
       "\t<li>-2.63624359119415</li>\n",
       "\t<li>-1.72471287996264</li>\n",
       "\t<li>-1.49722130215753</li>\n",
       "\t<li>-1.43689096650614</li>\n",
       "\t<li>-1.4993913962535</li>\n",
       "\t<li>-2.43369942788978</li>\n",
       "\t<li>-2.73384184836754</li>\n",
       "\t<li>-3.34832876182047</li>\n",
       "\t<li>-2.56211768026851</li>\n",
       "\t<li>-2.28157448480008</li>\n",
       "\t<li>-2.66239610643385</li>\n",
       "\t<li>-2.25916697315833</li>\n",
       "\t<li>-3.45501558519142</li>\n",
       "\t<li>-1.24835430574027</li>\n",
       "\t<li>-3.4713077698279</li>\n",
       "\t<li>-3.38405271582748</li>\n",
       "\t<li>-0.470525649400968</li>\n",
       "\t<li>-0.699816770289766</li>\n",
       "\t<li>-1.32082842347646</li>\n",
       "\t<li>-2.85665599072884</li>\n",
       "\t<li>-2.88083167283131</li>\n",
       "\t<li>-0.483793681263481</li>\n",
       "\t<li>-1.67318916278519</li>\n",
       "\t<li>-3.4035736547911</li>\n",
       "\t<li>-1.56546855179563</li>\n",
       "\t<li>-0.945312634898469</li>\n",
       "\t<li>-1.55714334613871</li>\n",
       "\t<li>-3.11118456140004</li>\n",
       "\t<li>-1.32100133807667</li>\n",
       "\t<li>-3.2489328596669</li>\n",
       "\t<li>-1.09111288877745</li>\n",
       "\t<li>-2.60639381099139</li>\n",
       "\t<li>-2.10060127998127</li>\n",
       "\t<li>-2.12527933957475</li>\n",
       "\t<li>-0.791540275626305</li>\n",
       "\t<li>-1.70923693309756</li>\n",
       "\t<li>-1.84298270372951</li>\n",
       "\t<li>-3.0208677174261</li>\n",
       "\t<li>-1.29226255661222</li>\n",
       "\t<li>-1.6505582892916</li>\n",
       "\t<li>-1.36445510360984</li>\n",
       "\t<li>-4.01309578081374</li>\n",
       "\t<li>-1.47758196701353</li>\n",
       "\t<li>-0.52463380355739</li>\n",
       "\t<li>-1.71702706957304</li>\n",
       "\t<li>-2.29810558777804</li>\n",
       "\t<li>-2.42755355547595</li>\n",
       "\t<li>-1.0990026425376</li>\n",
       "\t<li>-2.38830434757405</li>\n",
       "\t<li>-4.33733889151657</li>\n",
       "\t<li>-2.23878213770826</li>\n",
       "\t<li>-2.0531249145129</li>\n",
       "\t<li>-0.439430907818267</li>\n",
       "\t<li>-0.802886648332796</li>\n",
       "\t<li>-3.07487258416154</li>\n",
       "\t<li>-0.954038358223862</li>\n",
       "\t<li>-1.70462227341649</li>\n",
       "\t<li>-1.10891439843887</li>\n",
       "\t<li>-2.24175629158529</li>\n",
       "\t<li>-4.29122955370418</li>\n",
       "\t<li>-0.240663505973907</li>\n",
       "\t<li>-2.99720869127293</li>\n",
       "\t<li>-1.4778713596604</li>\n",
       "\t<li>-2.50552394362198</li>\n",
       "\t<li>-0.616615381768375</li>\n",
       "\t<li>-3.18378458220657</li>\n",
       "\t<li>-0.53458706502335</li>\n",
       "\t<li>-0.672453079493116</li>\n",
       "\t<li>-1.9836303534629</li>\n",
       "\t<li>-2.17615583810446</li>\n",
       "\t<li>-3.09731881106613</li>\n",
       "\t<li>-2.99102202903222</li>\n",
       "\t<li>-2.77180992972319</li>\n",
       "\t<li>-1.20961511120213</li>\n",
       "\t<li>-2.93167684958281</li>\n",
       "\t<li>-1.88800830676949</li>\n",
       "\t<li>-3.32666162517217</li>\n",
       "\t<li>-0.777900906113297</li>\n",
       "\t<li>-1.06189552919422</li>\n",
       "\t<li>-3.56781101250875</li>\n",
       "\t<li>-1.01555636585508</li>\n",
       "\t<li>-2.30341873304862</li>\n",
       "\t<li>-1.49199696623849</li>\n",
       "\t<li>-3.76646006110876</li>\n",
       "\t<li>-0.435570000775236</li>\n",
       "\t<li>-2.2228826193999</li>\n",
       "\t<li>0.037559886265408</li>\n",
       "\t<li>-1.0076399276789</li>\n",
       "\t<li>-2.02146527252005</li>\n",
       "\t<li>-0.442012585511985</li>\n",
       "\t<li>-2.58184374349354</li>\n",
       "\t<li>-2.88498236637212</li>\n",
       "\t<li>-3.61172758163876</li>\n",
       "\t<li>-2.27585294945207</li>\n",
       "\t<li>0.089413522307368</li>\n",
       "\t<li>-2.25452580593003</li>\n",
       "\t<li>-1.11249870580966</li>\n",
       "\t<li>-0.7049557601455</li>\n",
       "\t<li>-0.916936197591678</li>\n",
       "\t<li>-3.07491182047634</li>\n",
       "\t<li>-1.03649535899363</li>\n",
       "\t<li>-1.74097969990739</li>\n",
       "\t<li>-3.6615757962828</li>\n",
       "\t<li>-3.79119134705387</li>\n",
       "\t<li>-0.817590242169628</li>\n",
       "\t<li>-0.449938706219954</li>\n",
       "\t<li>-3.8805482643372</li>\n",
       "\t<li>-2.26034759819079</li>\n",
       "\t<li>-1.77209459425467</li>\n",
       "\t<li>-0.95023578999658</li>\n",
       "\t<li>-1.62482797202453</li>\n",
       "\t<li>-1.69098198263881</li>\n",
       "\t<li>-1.34931011500875</li>\n",
       "\t<li>-1.38956632831478</li>\n",
       "\t<li>-1.77905274057576</li>\n",
       "\t<li>-2.73294282520067</li>\n",
       "\t<li>-2.54314034871219</li>\n",
       "\t<li>-2.00616390861898</li>\n",
       "\t<li>-3.08464506486881</li>\n",
       "\t<li>-0.541448759572355</li>\n",
       "\t<li>-1.61780799824594</li>\n",
       "\t<li>-0.457365582627074</li>\n",
       "\t<li>-2.28286040678024</li>\n",
       "\t<li>0.253216999225421</li>\n",
       "\t<li>-2.81051394513903</li>\n",
       "\t<li>-1.5571835863814</li>\n",
       "\t<li>-0.598156108810093</li>\n",
       "\t<li>-3.04625215385392</li>\n",
       "\t<li>-1.33974404514394</li>\n",
       "\t<li>-3.58943214014928</li>\n",
       "\t<li>-1.88405450133498</li>\n",
       "\t<li>-1.65631425781977</li>\n",
       "\t<li>-0.984637589588433</li>\n",
       "\t<li>-1.66599434208114</li>\n",
       "\t<li>-2.39081853931578</li>\n",
       "\t<li>-0.873365681115798</li>\n",
       "\t<li>-1.60774230807126</li>\n",
       "\t<li>-1.34258362301673</li>\n",
       "\t<li>-3.35501942877051</li>\n",
       "\t<li>-0.93121160278535</li>\n",
       "\t<li>-3.97329214442795</li>\n",
       "\t<li>-3.10438360796266</li>\n",
       "\t<li>-0.983550920599623</li>\n",
       "\t<li>-2.10507901912779</li>\n",
       "\t<li>-0.510327092759024</li>\n",
       "\t<li>-2.90293907061478</li>\n",
       "\t<li>-0.86640654692339</li>\n",
       "\t<li>-2.00507186259272</li>\n",
       "\t<li>-3.06343432067399</li>\n",
       "\t<li>-1.20234043620373</li>\n",
       "\t<li>-0.435823452881801</li>\n",
       "\t<li>-3.09096442424532</li>\n",
       "\t<li>-1.83482621310625</li>\n",
       "\t<li>-2.06812592543299</li>\n",
       "\t<li>-2.20816341786545</li>\n",
       "\t<li>-3.52863329836381</li>\n",
       "\t<li>-2.69264328391278</li>\n",
       "\t<li>-1.72831808316742</li>\n",
       "\t<li>-2.53988764722382</li>\n",
       "\t<li>-2.848953396144</li>\n",
       "\t<li>-0.962325835268475</li>\n",
       "\t<li>-0.162690332978188</li>\n",
       "\t<li>-1.34772098263451</li>\n",
       "\t<li>-1.22802178758679</li>\n",
       "\t<li>-2.12792626826741</li>\n",
       "\t<li>-2.72678645856219</li>\n",
       "\t<li>-3.61031672442778</li>\n",
       "\t<li>-3.54443562632725</li>\n",
       "\t<li>-1.31865280426423</li>\n",
       "\t<li>-2.52108881706398</li>\n",
       "\t<li>-1.91653475008929</li>\n",
       "\t<li>-1.91572474291279</li>\n",
       "\t<li>-1.08243594578929</li>\n",
       "\t<li>-4.17373593173196</li>\n",
       "\t<li>-3.45009124029024</li>\n",
       "\t<li>-0.80830970619237</li>\n",
       "\t<li>-3.59327503356851</li>\n",
       "\t<li>-1.86694748001208</li>\n",
       "\t<li>-1.39524817216043</li>\n",
       "\t<li>-2.81655739041398</li>\n",
       "\t<li>-0.898586380394352</li>\n",
       "\t<li>-1.84616143158141</li>\n",
       "\t<li>-0.100540970245127</li>\n",
       "\t<li>-1.92239844000902</li>\n",
       "\t<li>-1.47641247759008</li>\n",
       "\t<li>-1.04157096940883</li>\n",
       "\t<li>-1.43501377910437</li>\n",
       "\t<li>-2.60204039655501</li>\n",
       "\t<li>-0.74892538330073</li>\n",
       "\t<li>-1.60982262717605</li>\n",
       "\t<li>-3.2950112623146</li>\n",
       "\t<li>-2.74750290275901</li>\n",
       "\t<li>-0.717947398200386</li>\n",
       "\t<li>-2.26047095199546</li>\n",
       "\t<li>-2.15770912647962</li>\n",
       "\t<li>-0.9128259206378</li>\n",
       "\t<li>-2.77052623135179</li>\n",
       "\t<li>-1.05920159386657</li>\n",
       "\t<li>-2.58465043260493</li>\n",
       "\t<li>-2.03864868356591</li>\n",
       "\t<li>-3.33089365653604</li>\n",
       "\t<li>-1.08499490666503</li>\n",
       "\t<li>-2.03725146673254</li>\n",
       "\t<li>-0.966097655232631</li>\n",
       "\t<li>-3.44771769645414</li>\n",
       "\t<li>-2.49010216006488</li>\n",
       "\t<li>-0.0752199735637785</li>\n",
       "\t<li>-3.94446488600974</li>\n",
       "\t<li>-3.11481778183132</li>\n",
       "\t<li>-3.03913376271556</li>\n",
       "\t<li>0.347003113231872</li>\n",
       "\t<li>-2.83817926665658</li>\n",
       "\t<li>-1.84439173851752</li>\n",
       "\t<li>-2.80396971292558</li>\n",
       "\t<li>-3.11854407898788</li>\n",
       "\t<li>-1.85864372014762</li>\n",
       "\t<li>-2.34493862000779</li>\n",
       "\t<li>-2.2297107738345</li>\n",
       "\t<li>-0.345868228802281</li>\n",
       "\t<li>-2.19393336507302</li>\n",
       "\t<li>-2.3420733816039</li>\n",
       "\t<li>-3.01384653822235</li>\n",
       "\t<li>-2.16854186803312</li>\n",
       "\t<li>-1.10661648364872</li>\n",
       "\t<li>-2.91618006657046</li>\n",
       "\t<li>-3.06890673345054</li>\n",
       "\t<li>-1.91355542590768</li>\n",
       "\t<li>-1.00915272271728</li>\n",
       "\t<li>-2.2211096879007</li>\n",
       "\t<li>-2.78679831436779</li>\n",
       "\t<li>-2.87603703677465</li>\n",
       "\t<li>-3.05614520841252</li>\n",
       "\t<li>-3.32933284776654</li>\n",
       "\t<li>-3.2085215148865</li>\n",
       "\t<li>-0.567056280318631</li>\n",
       "\t<li>-3.07897358262484</li>\n",
       "\t<li>-3.71811775981975</li>\n",
       "\t<li>-0.81784211025514</li>\n",
       "\t<li>-1.29796441577055</li>\n",
       "\t<li>-1.75723168844211</li>\n",
       "\t<li>-0.177095124999007</li>\n",
       "\t<li>-1.90447426870336</li>\n",
       "\t<li>-2.91496663695909</li>\n",
       "\t<li>-3.04647713576044</li>\n",
       "\t<li>-2.73288048098647</li>\n",
       "\t<li>-1.29094410729941</li>\n",
       "\t<li>-0.786678979932537</li>\n",
       "\t<li>-2.47787269953154</li>\n",
       "\t<li>-2.46893069165381</li>\n",
       "\t<li>-0.976396642363891</li>\n",
       "\t<li>-3.30991698987559</li>\n",
       "\t<li>-1.75787265353381</li>\n",
       "\t<li>-2.51162583362431</li>\n",
       "\t<li>-3.04887376690132</li>\n",
       "\t<li>-2.71233824436298</li>\n",
       "\t<li>-2.22466522294194</li>\n",
       "\t<li>-0.611406503177661</li>\n",
       "\t<li>-2.01473905952305</li>\n",
       "\t<li>-3.34467663471326</li>\n",
       "\t<li>-1.61393282911007</li>\n",
       "\t<li>-2.41365606835878</li>\n",
       "\t<li>-2.2122083136479</li>\n",
       "\t<li>-3.20218355746569</li>\n",
       "\t<li>-3.31340217161532</li>\n",
       "\t<li>-2.38324619816194</li>\n",
       "\t<li>-1.73181685631219</li>\n",
       "\t<li>-2.78972597057144</li>\n",
       "\t<li>-1.16064507875825</li>\n",
       "\t<li>-2.71135755854457</li>\n",
       "\t<li>-2.20617253876461</li>\n",
       "\t<li>-0.38013312991434</li>\n",
       "\t<li>-0.660961514695853</li>\n",
       "\t<li>-2.76782850733854</li>\n",
       "\t<li>-0.187270134739082</li>\n",
       "\t<li>-2.43989703759953</li>\n",
       "\t<li>-3.36886001526383</li>\n",
       "\t<li>-2.70376051718103</li>\n",
       "\t<li>-2.43513232971285</li>\n",
       "\t<li>-2.14073258137062</li>\n",
       "\t<li>-2.03793829927255</li>\n",
       "\t<li>-3.03681239564149</li>\n",
       "\t<li>-0.57513845511749</li>\n",
       "\t<li>-2.37318144779529</li>\n",
       "\t<li>-1.20911566015446</li>\n",
       "\t<li>-0.819154445587718</li>\n",
       "\t<li>-0.707913528078251</li>\n",
       "\t<li>-3.37412200962246</li>\n",
       "\t<li>-1.22395002507248</li>\n",
       "\t<li>-1.50733089273444</li>\n",
       "\t<li>-1.89873353257839</li>\n",
       "\t<li>-1.41565256549259</li>\n",
       "\t<li>-3.44310193482896</li>\n",
       "\t<li>-2.64176996644666</li>\n",
       "\t<li>-0.837784686750562</li>\n",
       "\t<li>-2.28287994726203</li>\n",
       "\t<li>-1.23872899251343</li>\n",
       "\t<li>-2.50929662519217</li>\n",
       "\t<li>-3.37744083240951</li>\n",
       "\t<li>-1.10120335060154</li>\n",
       "\t<li>-1.50640228905999</li>\n",
       "\t<li>-1.78467960682518</li>\n",
       "\t<li>-0.508456284709012</li>\n",
       "\t<li>-1.16248781156039</li>\n",
       "\t<li>-3.15113012409763</li>\n",
       "\t<li>-3.17619386882067</li>\n",
       "\t<li>-2.21652010740437</li>\n",
       "\t<li>-2.99553964487588</li>\n",
       "\t<li>-0.5088194711901</li>\n",
       "\t<li>-0.565699789515691</li>\n",
       "\t<li>-3.15107805271266</li>\n",
       "\t<li>-3.02741973913847</li>\n",
       "\t<li>-2.28045642324772</li>\n",
       "\t<li>-2.86616349381227</li>\n",
       "\t<li>-1.02939229296648</li>\n",
       "\t<li>-2.55363709315239</li>\n",
       "\t<li>-1.97751278728361</li>\n",
       "\t<li>-3.32932338501636</li>\n",
       "\t<li>-0.877024953612258</li>\n",
       "\t<li>-2.53236355846663</li>\n",
       "\t<li>-2.70471028050439</li>\n",
       "\t<li>-1.70550360244266</li>\n",
       "\t<li>-0.440095390171073</li>\n",
       "\t<li>-1.85930942527626</li>\n",
       "\t<li>-1.82191438226034</li>\n",
       "\t<li>-1.63558831798418</li>\n",
       "\t<li>-0.877651842773835</li>\n",
       "\t<li>-0.738517005887266</li>\n",
       "\t<li>-0.331842393508974</li>\n",
       "\t<li>-0.218377956080732</li>\n",
       "\t<li>-1.1489489110123</li>\n",
       "\t<li>0.416726848304951</li>\n",
       "\t<li>-1.16291877037075</li>\n",
       "\t<li>-0.493891389586418</li>\n",
       "\t<li>-2.13896949760113</li>\n",
       "\t<li>-2.28575027833438</li>\n",
       "\t<li>-0.869630580857156</li>\n",
       "\t<li>-0.167496953199446</li>\n",
       "\t<li>-1.39848880483514</li>\n",
       "\t<li>-1.9085144576845</li>\n",
       "\t<li>-3.52541946413539</li>\n",
       "\t<li>-2.16423770380093</li>\n",
       "\t<li>-1.96512474872349</li>\n",
       "\t<li>-2.13198710403899</li>\n",
       "\t<li>-1.76282258248068</li>\n",
       "\t<li>-1.24976321682814</li>\n",
       "\t<li>-1.60418036720636</li>\n",
       "\t<li>-2.57696104777402</li>\n",
       "\t<li>-1.90557749452124</li>\n",
       "\t<li>-2.05957990548373</li>\n",
       "\t<li>-1.73301474155728</li>\n",
       "\t<li>-1.1795982615585</li>\n",
       "\t<li>-3.04058825758204</li>\n",
       "\t<li>-1.81782852789751</li>\n",
       "\t<li>-2.32330218722927</li>\n",
       "\t<li>-1.66080860042354</li>\n",
       "\t<li>-1.00723721583358</li>\n",
       "\t<li>-1.18321112013656</li>\n",
       "\t<li>-1.62634352974943</li>\n",
       "\t<li>-1.42606848219275</li>\n",
       "\t<li>-1.55057413562479</li>\n",
       "\t<li>-2.81944155833213</li>\n",
       "\t<li>-2.44642928960674</li>\n",
       "\t<li>-0.750518991081352</li>\n",
       "\t<li>-1.25995442988535</li>\n",
       "\t<li>-1.62647676501844</li>\n",
       "\t<li>-2.6833635308646</li>\n",
       "\t<li>-1.06831614617186</li>\n",
       "\t<li>-2.44222644325335</li>\n",
       "\t<li>-3.59657459958853</li>\n",
       "\t<li>-2.53428195707541</li>\n",
       "\t<li>-2.91368163423196</li>\n",
       "\t<li>-2.00267609219469</li>\n",
       "\t<li>-1.49676479922151</li>\n",
       "\t<li>-1.0821784557191</li>\n",
       "\t<li>-4.20592564912606</li>\n",
       "\t<li>-2.91018777637392</li>\n",
       "\t<li>-1.89901564186419</li>\n",
       "\t<li>-2.02377348888885</li>\n",
       "\t<li>-2.13396145691508</li>\n",
       "\t<li>-3.07301593409331</li>\n",
       "\t<li>-3.27415374984469</li>\n",
       "\t<li>-2.139492273252</li>\n",
       "\t<li>-2.75776975874216</li>\n",
       "\t<li>-3.37173719616403</li>\n",
       "\t<li>-1.47417125179202</li>\n",
       "\t<li>-2.41641053319783</li>\n",
       "\t<li>-1.49004462817299</li>\n",
       "\t<li>-2.1990822087676</li>\n",
       "\t<li>-1.96049635682812</li>\n",
       "\t<li>-3.0495987163707</li>\n",
       "</ol>\n"
      ],
      "text/latex": [
       "\\begin{enumerate*}\n",
       "\\item -0.98952312005037\n",
       "\\item -3.21597165528109\n",
       "\\item -3.17026084743465\n",
       "\\item -2.27659543224983\n",
       "\\item -2.50608921438053\n",
       "\\item -3.01128698980627\n",
       "\\item -0.699737378522514\n",
       "\\item -3.64297231607172\n",
       "\\item -1.92778817774545\n",
       "\\item -2.50433016809716\n",
       "\\item -2.04662749586725\n",
       "\\item -2.01811194957747\n",
       "\\item -2.88807730965104\n",
       "\\item -1.33679270218641\n",
       "\\item -0.0452056375120463\n",
       "\\item -2.33082685955212\n",
       "\\item -2.06330714436639\n",
       "\\item -1.12921980278266\n",
       "\\item -2.28485459571431\n",
       "\\item -3.33926359476178\n",
       "\\item -1.95298880815486\n",
       "\\item -1.48080134763815\n",
       "\\item -1.95475414454706\n",
       "\\item -2.27452273742138\n",
       "\\item -2.4644252277697\n",
       "\\item -2.12112848660364\n",
       "\\item -1.72876427685841\n",
       "\\item -1.41195557903109\n",
       "\\item -3.41790068571392\n",
       "\\item -2.18750875702544\n",
       "\\item -1.88841541718459\n",
       "\\item -2.69578403595693\n",
       "\\item -2.37039523898854\n",
       "\\item -0.883036142061325\n",
       "\\item -2.58502335682854\n",
       "\\item -1.29905270437397\n",
       "\\item -2.25764619535558\n",
       "\\item -3.76030399496514\n",
       "\\item -3.20936635929399\n",
       "\\item -3.47854033398288\n",
       "\\item 0.0191221971142133\n",
       "\\item -1.8987046816549\n",
       "\\item -1.3962297407579\n",
       "\\item -1.94502264669163\n",
       "\\item -3.33871828221774\n",
       "\\item -0.749210779804766\n",
       "\\item -3.18459236579686\n",
       "\\item -2.13624205450651\n",
       "\\item -1.43068787408954\n",
       "\\item -2.29144235030894\n",
       "\\item -0.468954799014386\n",
       "\\item -0.734479104853502\n",
       "\\item -2.17600538729403\n",
       "\\item -1.78842947135587\n",
       "\\item -1.91356424893171\n",
       "\\item -1.61870830048307\n",
       "\\item -0.852275434640657\n",
       "\\item -2.14864140895208\n",
       "\\item -2.30449545592087\n",
       "\\item -3.01355156688308\n",
       "\\item -2.63794993285425\n",
       "\\item -1.96388881460165\n",
       "\\item -1.5033868522143\n",
       "\\item -4.02334631287953\n",
       "\\item -0.741233773895752\n",
       "\\item -3.20369950280196\n",
       "\\item -2.5773894610259\n",
       "\\item -2.90619032035203\n",
       "\\item -3.66253436253807\n",
       "\\item -3.85248644988573\n",
       "\\item -0.962001778671698\n",
       "\\item -2.34560442726246\n",
       "\\item -2.61370154761319\n",
       "\\item -0.63127769908091\n",
       "\\item -0.763407032404764\n",
       "\\item -2.12408810477391\n",
       "\\item -1.76955718797569\n",
       "\\item -0.941248214248794\n",
       "\\item -0.730260874704276\n",
       "\\item -0.936863713339061\n",
       "\\item -2.36405721014118\n",
       "\\item -3.22389954356454\n",
       "\\item -1.06767112480592\n",
       "\\item -2.42632524890519\n",
       "\\item -1.31173480573528\n",
       "\\item -0.701211311449826\n",
       "\\item -2.35390374129815\n",
       "\\item -0.805851844364011\n",
       "\\item -3.27138297884358\n",
       "\\item -1.95065662000445\n",
       "\\item -0.766929050384078\n",
       "\\item -0.899069226528505\n",
       "\\item -1.58209653182394\n",
       "\\item -1.29351949320494\n",
       "\\item -1.56195253061179\n",
       "\\item -1.82461626532597\n",
       "\\item -2.63402263581856\n",
       "\\item -0.486005154387723\n",
       "\\item -2.10325063881771\n",
       "\\item -1.12052421607649\n",
       "\\item -2.82292780969334\n",
       "\\item -0.328813264097244\n",
       "\\item -3.03699890143187\n",
       "\\item -1.12432359202293\n",
       "\\item -1.3749038824254\n",
       "\\item -2.43551471742862\n",
       "\\item -3.59654439072155\n",
       "\\item -0.828208892289734\n",
       "\\item -1.54453572912943\n",
       "\\item -1.30232707148085\n",
       "\\item -0.830793892628223\n",
       "\\item -3.34279076052049\n",
       "\\item -3.52802086757884\n",
       "\\item -1.91198869531857\n",
       "\\item -1.20429234423257\n",
       "\\item -1.2314144347935\n",
       "\\item -0.541924151915985\n",
       "\\item -1.1907459593998\n",
       "\\item -1.80061593177485\n",
       "\\item -3.09052989517858\n",
       "\\item -2.18043575252459\n",
       "\\item -1.40183642305406\n",
       "\\item -2.20115548679222\n",
       "\\item -2.18150416723125\n",
       "\\item -1.35206211772649\n",
       "\\item -1.24193257502168\n",
       "\\item -1.0470884678826\n",
       "\\item -3.31502583329757\n",
       "\\item -0.838322011325693\n",
       "\\item -4.10312676739555\n",
       "\\item -1.37959852785135\n",
       "\\item -1.05265864043875\n",
       "\\item -1.62112605477502\n",
       "\\item -1.50735026281481\n",
       "\\item -1.20479453828918\n",
       "\\item -1.55610756921125\n",
       "\\item -0.430693754505336\n",
       "\\item -1.62856632046281\n",
       "\\item -3.66427793909434\n",
       "\\item -2.66261976667632\n",
       "\\item -2.51625265744902\n",
       "\\item -1.75546615856786\n",
       "\\item -1.97836672496955\n",
       "\\item -2.05909773406839\n",
       "\\item -2.18858017183816\n",
       "\\item -2.02382689300045\n",
       "\\item -1.61380017450359\n",
       "\\item -3.69587266993247\n",
       "\\item -2.14591072176566\n",
       "\\item -0.940234320395696\n",
       "\\item -2.14073926852876\n",
       "\\item -2.64729367227628\n",
       "\\item -2.27425226058729\n",
       "\\item -2.6304506416253\n",
       "\\item -0.871970147937631\n",
       "\\item -0.788344180709964\n",
       "\\item -1.4893599058364\n",
       "\\item -1.12596940937001\n",
       "\\item -0.657426164557811\n",
       "\\item -2.22025740915758\n",
       "\\item -1.92944033490442\n",
       "\\item -3.15071693598945\n",
       "\\item -1.03741308602776\n",
       "\\item -0.855137307423953\n",
       "\\item -0.612776197470179\n",
       "\\item -2.0780486300678\n",
       "\\item -2.42741148584058\n",
       "\\item -0.606770619538068\n",
       "\\item -0.787267458683999\n",
       "\\item -1.38939419936519\n",
       "\\item -1.72300982801346\n",
       "\\item -3.34191302853636\n",
       "\\item -2.09710873859942\n",
       "\\item -2.45604347658131\n",
       "\\item -2.11341942928876\n",
       "\\item -0.960588213752967\n",
       "\\item -2.35889780975308\n",
       "\\item -0.984623433825672\n",
       "\\item -0.615925449346296\n",
       "\\item -1.41027648183197\n",
       "\\item -0.211514779308579\n",
       "\\item -0.566671927631254\n",
       "\\item -3.63744840722258\n",
       "\\item -2.98997233008649\n",
       "\\item -1.96524894702197\n",
       "\\item -0.887188964148493\n",
       "\\item -0.846225880344377\n",
       "\\item -0.837887129164492\n",
       "\\item -2.28620232066222\n",
       "\\item -0.467114886633134\n",
       "\\item -1.01569527161127\n",
       "\\item -2.16449274530966\n",
       "\\item -1.16830824851594\n",
       "\\item -0.257762697431498\n",
       "\\item -1.58690980458131\n",
       "\\item -1.44770307508234\n",
       "\\item -1.22660443833012\n",
       "\\item -2.1905508860788\n",
       "\\item -3.41757540645048\n",
       "\\item -3.1701857866057\n",
       "\\item -3.37179279274389\n",
       "\\item -2.25581847111154\n",
       "\\item -0.00722452688438097\n",
       "\\item -1.29109975620728\n",
       "\\item -2.08785656358205\n",
       "\\item -0.904376374159317\n",
       "\\item -0.784349735481359\n",
       "\\item -3.03894346607894\n",
       "\\item -1.1688428175591\n",
       "\\item -1.79997478830533\n",
       "\\item -1.4325116487292\n",
       "\\item 0.209193933627433\n",
       "\\item -3.15874238797528\n",
       "\\item -1.55130211703625\n",
       "\\item -0.771998939362294\n",
       "\\item -2.25235026403023\n",
       "\\item -4.09496026487929\n",
       "\\item -2.16199289993116\n",
       "\\item -0.884586803615922\n",
       "\\item -1.09835732417477\n",
       "\\item -1.83540089912359\n",
       "\\item -0.975157893124075\n",
       "\\item -1.88438349672377\n",
       "\\item -0.5423216130935\n",
       "\\item -3.61157294198561\n",
       "\\item -0.859491807946471\n",
       "\\item -0.376338540310569\n",
       "\\item -1.81239736197645\n",
       "\\item -1.38288347118965\n",
       "\\item -2.34438939418157\n",
       "\\item -0.304621657720905\n",
       "\\item -1.42739451419333\n",
       "\\item -0.550623851834133\n",
       "\\item -2.55788666107381\n",
       "\\item -0.614384612672009\n",
       "\\item -1.83063296380656\n",
       "\\item -2.06912608333858\n",
       "\\item -1.33794611139546\n",
       "\\item -1.46014788744678\n",
       "\\item -1.37078142821182\n",
       "\\item -2.75724060190872\n",
       "\\item -2.41698412227955\n",
       "\\item -1.21915965184334\n",
       "\\item -0.927331694615423\n",
       "\\item -3.47520440262118\n",
       "\\item -1.73426672147073\n",
       "\\item -1.43893767959803\n",
       "\\item -1.63505343807894\n",
       "\\item -2.59540769572283\n",
       "\\item -3.31056633884356\n",
       "\\item -2.69139785368522\n",
       "\\item -1.25746571156231\n",
       "\\item -3.75536516489514\n",
       "\\item -1.9043503071277\n",
       "\\item -0.869185847624816\n",
       "\\item -1.24430429225636\n",
       "\\item -1.80097705120226\n",
       "\\item 0.0113180494285569\n",
       "\\item -1.87004221331108\n",
       "\\item -2.5613270093952\n",
       "\\item -2.97317812239695\n",
       "\\item -2.40727795938838\n",
       "\\item -4.17826607477545\n",
       "\\item -3.72745037430837\n",
       "\\item -2.44444317973315\n",
       "\\item -3.1950970767376\n",
       "\\item -0.740169658944841\n",
       "\\item -0.227738749060699\n",
       "\\item -0.6831730990418\n",
       "\\item -1.24518611765467\n",
       "\\item -2.94664216533367\n",
       "\\item -1.89029378061179\n",
       "\\item -1.04139781215418\n",
       "\\item -1.26676602923014\n",
       "\\item -1.2242587247253\n",
       "\\item -2.92548785142678\n",
       "\\item -0.420981733749788\n",
       "\\item -4.04882787762837\n",
       "\\item -0.833685556055447\n",
       "\\item -1.29241640041353\n",
       "\\item -0.639525108199563\n",
       "\\item -2.14678621425829\n",
       "\\item -1.79440659851994\n",
       "\\item -2.69566899094837\n",
       "\\item -3.39128268273942\n",
       "\\item -1.77038290208995\n",
       "\\item -1.32350356128018\n",
       "\\item -1.321889725667\n",
       "\\item -3.16628088672632\n",
       "\\item -1.57952248649625\n",
       "\\item -0.549391429757515\n",
       "\\item -0.468650487261965\n",
       "\\item -3.51946277420612\n",
       "\\item -2.10731264428725\n",
       "\\item -1.50026576470183\n",
       "\\item -1.5450881893732\n",
       "\\item -1.09678750671589\n",
       "\\item -3.79393855153952\n",
       "\\item -2.53098970669207\n",
       "\\item -1.85339554205734\n",
       "\\item -0.338839042030108\n",
       "\\item -1.80678558491164\n",
       "\\item -0.449018407836338\n",
       "\\item -1.49590655811388\n",
       "\\item -0.49027898768581\n",
       "\\item -4.83455505977943\n",
       "\\item -2.6185682154092\n",
       "\\item -2.1297405770651\n",
       "\\item -0.967760292655874\n",
       "\\item -1.54619411239066\n",
       "\\item -1.43531651481467\n",
       "\\item -1.05111829911339\n",
       "\\item -2.3233277011758\n",
       "\\item -3.63110633476596\n",
       "\\item -2.93697999044751\n",
       "\\item -3.4123571049529\n",
       "\\item -1.01070093475747\n",
       "\\item -2.46001185577784\n",
       "\\item -2.03706701568473\n",
       "\\item -3.00863900685426\n",
       "\\item -0.546593138582359\n",
       "\\item -2.14086575888562\n",
       "\\item -1.03090754035054\n",
       "\\item -1.57187679196724\n",
       "\\item -3.29025172595939\n",
       "\\item -4.07084906702686\n",
       "\\item -1.52660769655603\n",
       "\\item -2.56558325839417\n",
       "\\item -3.23051087059368\n",
       "\\item -1.22936082201325\n",
       "\\item -2.45172761118521\n",
       "\\item -4.74504397967648\n",
       "\\item -1.46228647713155\n",
       "\\item -3.58891079941395\n",
       "\\item -3.3282778004349\n",
       "\\item -1.83004851509288\n",
       "\\item -2.32494000812816\n",
       "\\item -2.84785386874793\n",
       "\\item -2.3211018534163\n",
       "\\item -2.28303126431936\n",
       "\\item -3.39279864513861\n",
       "\\item -2.2726555235734\n",
       "\\item -1.66735345016169\n",
       "\\item -1.75660279487655\n",
       "\\item -3.00514888480549\n",
       "\\item -1.7285442076416\n",
       "\\item -0.977269235565071\n",
       "\\item -1.8042801175354\n",
       "\\item -1.68581880789523\n",
       "\\item -1.11574923467299\n",
       "\\item -3.53194787931414\n",
       "\\item -2.52695385695122\n",
       "\\item -2.78435453605221\n",
       "\\item -2.68922420831493\n",
       "\\item -2.32689103720966\n",
       "\\item -1.93708385840823\n",
       "\\item -1.01928036678503\n",
       "\\item -3.00566704932787\n",
       "\\item -3.25059482276228\n",
       "\\item -3.17674190728072\n",
       "\\item -2.55372042561258\n",
       "\\item -1.96276323859931\n",
       "\\item -2.60100506852444\n",
       "\\item -2.62136172481642\n",
       "\\item -1.61298663931095\n",
       "\\item -0.530087480611029\n",
       "\\item -3.50740493527494\n",
       "\\item -0.30237388289495\n",
       "\\item -1.26896899530951\n",
       "\\item -2.06517930173382\n",
       "\\item -2.75648181643886\n",
       "\\item -3.39310968755229\n",
       "\\item -1.82670391904661\n",
       "\\item -1.06956648168264\n",
       "\\item -3.1735135788308\n",
       "\\item -2.7856147103248\n",
       "\\item -1.1159631109781\n",
       "\\item -0.732300391365668\n",
       "\\item -1.24565217825668\n",
       "\\item -2.33101702454503\n",
       "\\item -0.586857780272217\n",
       "\\item -2.47846192462697\n",
       "\\item -3.94171362334772\n",
       "\\item -1.51151282266097\n",
       "\\item -2.92519721556749\n",
       "\\item -1.43195426211681\n",
       "\\item -2.31836236252196\n",
       "\\item -3.76656936023954\n",
       "\\item -0.817319911691937\n",
       "\\item -2.76196638470878\n",
       "\\item -2.29428497445685\n",
       "\\item -1.73633737481914\n",
       "\\item -3.0769395858937\n",
       "\\item -1.79780045920691\n",
       "\\item -0.810565409265906\n",
       "\\item 0.0188913728192782\n",
       "\\item -3.20580538336577\n",
       "\\item -0.518801149375267\n",
       "\\item -0.699949847258561\n",
       "\\item -0.64799718061424\n",
       "\\item -2.08000129374514\n",
       "\\item -0.816082387938379\n",
       "\\item -2.56026859416912\n",
       "\\item -2.35530937205689\n",
       "\\item -4.27599381884402\n",
       "\\item -2.75926998915239\n",
       "\\item -0.905633510061456\n",
       "\\item 0.171010096923666\n",
       "\\item -1.72142239010957\n",
       "\\item -1.20414999549709\n",
       "\\item -0.257121415757682\n",
       "\\item -0.60144167476554\n",
       "\\item 0.383783631683168\n",
       "\\item -2.55521838715475\n",
       "\\item -1.7818928432032\n",
       "\\item -1.9624293710677\n",
       "\\item -3.92723114709438\n",
       "\\item -2.10608134913899\n",
       "\\item -0.454485991985685\n",
       "\\item -2.51132956695856\n",
       "\\item -2.3578292037073\n",
       "\\item -0.986905354210034\n",
       "\\item -1.1358173846633\n",
       "\\item -2.21598428663405\n",
       "\\item -0.59176131515529\n",
       "\\item -1.40738847151315\n",
       "\\item -1.24286522270562\n",
       "\\item -2.88066155367556\n",
       "\\item -0.935359583857401\n",
       "\\item -1.71026547617727\n",
       "\\item -3.24855569338836\n",
       "\\item -0.828382351488839\n",
       "\\item -1.43233263053351\n",
       "\\item -3.55455303306486\n",
       "\\item -2.49400136207598\n",
       "\\item -2.84744995802484\n",
       "\\item -0.418715311312181\n",
       "\\item -1.51631996206424\n",
       "\\item -1.70645734259305\n",
       "\\item -1.57708065824697\n",
       "\\item -2.34056318383328\n",
       "\\item -0.473277934208752\n",
       "\\item -3.01930242147011\n",
       "\\item -2.33119712031931\n",
       "\\item -3.0267604565632\n",
       "\\item -2.08447354745424\n",
       "\\item -3.18272049074801\n",
       "\\item -1.30971696017852\n",
       "\\item -1.55618286639301\n",
       "\\item 0.135446253360376\n",
       "\\item -0.996859222320937\n",
       "\\item -0.943030401729926\n",
       "\\item -1.14312031209976\n",
       "\\item -3.0877502645042\n",
       "\\item -3.03815796150733\n",
       "\\item -1.37135758454906\n",
       "\\item -0.774244701348581\n",
       "\\item -2.21718853172239\n",
       "\\item -1.9677180307291\n",
       "\\item -0.782720950417818\n",
       "\\item -1.84973301035143\n",
       "\\item -1.7993466243161\n",
       "\\item -1.9968428854799\n",
       "\\item -1.82134259971495\n",
       "\\item -2.09146678017893\n",
       "\\item -4.14018533503481\n",
       "\\item -2.3160626388897\n",
       "\\item -0.95642915804362\n",
       "\\item -2.00592938290698\n",
       "\\item -3.03628716595091\n",
       "\\item -2.37480137839559\n",
       "\\item -2.01587566751066\n",
       "\\item -2.59921867507758\n",
       "\\item -2.77386976669675\n",
       "\\item -0.367766378106579\n",
       "\\item -1.13220852583541\n",
       "\\item -1.66628925400515\n",
       "\\item -1.20296145682258\n",
       "\\item -0.356692899985538\n",
       "\\item -3.43570030298202\n",
       "\\item -1.5670507084626\n",
       "\\item -0.604519671818584\n",
       "\\item -1.77029904899039\n",
       "\\item -3.36131111081958\n",
       "\\item -0.485549793370423\n",
       "\\item -1.52922027117148\n",
       "\\item -2.19150174766176\n",
       "\\item -4.85006340385311\n",
       "\\item -1.61483313538666\n",
       "\\item -3.77158383401712\n",
       "\\item -3.33268395162845\n",
       "\\item -0.404673809148193\n",
       "\\item -3.62149577402996\n",
       "\\item -1.87495513934115\n",
       "\\item -3.14281614995265\n",
       "\\item -2.19586385068899\n",
       "\\item -2.06774294095782\n",
       "\\item -2.67302242544956\n",
       "\\item -0.442268974153144\n",
       "\\item -1.84591952699283\n",
       "\\item -1.91040107896489\n",
       "\\item -0.103792537632215\n",
       "\\item -1.19435336921602\n",
       "\\item -0.635863405590011\n",
       "\\item -0.753263444395737\n",
       "\\item -1.06243710608482\n",
       "\\item -3.52648400290274\n",
       "\\item -0.55231634855242\n",
       "\\item -3.39215611653681\n",
       "\\item -1.17454147254453\n",
       "\\item -0.569619084304356\n",
       "\\item -2.80084218656175\n",
       "\\item -2.97261042626828\n",
       "\\item -1.31743963461678\n",
       "\\item -1.59816847136932\n",
       "\\item -2.26889421643507\n",
       "\\item -2.07515215783477\n",
       "\\item -2.7195373132675\n",
       "\\item -1.72469361798697\n",
       "\\item -1.59825622781175\n",
       "\\item -1.96728270058156\n",
       "\\item -2.85733646601777\n",
       "\\item -1.95419420107522\n",
       "\\item -2.36146869518695\n",
       "\\item -0.90689415568944\n",
       "\\item -1.64195807067335\n",
       "\\item -3.92387812433621\n",
       "\\item -3.08298004837049\n",
       "\\item -2.77683998661386\n",
       "\\item -0.214724764636665\n",
       "\\item -4.37273433635698\n",
       "\\item -0.590435301476175\n",
       "\\item -1.87928761364146\n",
       "\\item -1.08206197002068\n",
       "\\item -1.35327246183591\n",
       "\\item -0.5497522944469\n",
       "\\item -2.24794551467452\n",
       "\\item -1.78286271494367\n",
       "\\item -1.84753247789401\n",
       "\\item -2.08082813984176\n",
       "\\item -0.55202126297711\n",
       "\\item -1.91191154320924\n",
       "\\item -3.22891327271643\n",
       "\\item -1.84351506736691\n",
       "\\item -3.9606250247524\n",
       "\\item -1.03167347384576\n",
       "\\item -0.951384996128967\n",
       "\\item -0.281240179495393\n",
       "\\item -1.97926517230794\n",
       "\\item -2.59114878873893\n",
       "\\item -1.41359792432874\n",
       "\\item -3.11901976959623\n",
       "\\item -2.62922434336667\n",
       "\\item -2.00254695543659\n",
       "\\item -1.83132319532203\n",
       "\\item -2.1542548898165\n",
       "\\item -3.85537051544875\n",
       "\\item -2.55329933338975\n",
       "\\item -2.00288726035658\n",
       "\\item -0.862721110967437\n",
       "\\item -0.796861555318108\n",
       "\\item -0.762980446041342\n",
       "\\item -1.13744117670635\n",
       "\\item -3.39881022140313\n",
       "\\item -1.39659825267317\n",
       "\\item -0.754183864001978\n",
       "\\item -1.9934507671091\n",
       "\\item -1.62752581648098\n",
       "\\item -1.30031574882477\n",
       "\\item -3.21725825430684\n",
       "\\item -3.14095060304154\n",
       "\\item -1.19740860146233\n",
       "\\item -2.28265510392851\n",
       "\\item -1.87747401146326\n",
       "\\item -2.36419837150616\n",
       "\\item -2.36672917722078\n",
       "\\item -1.25290335978624\n",
       "\\item -1.92415686104046\n",
       "\\item -2.16583438703305\n",
       "\\item -0.678473602519959\n",
       "\\item -2.96602137565726\n",
       "\\item -1.93309692149312\n",
       "\\item -2.05546768793946\n",
       "\\item -0.631543104447218\n",
       "\\item -2.8593201653533\n",
       "\\item -1.13066364940679\n",
       "\\item -0.276208595258747\n",
       "\\item -3.75235085917105\n",
       "\\item -1.56550693300529\n",
       "\\item -3.50739300998108\n",
       "\\item -1.97096558952256\n",
       "\\item -0.546169736391817\n",
       "\\item -2.5463979821681\n",
       "\\item -1.16296755757492\n",
       "\\item -2.80206974644792\n",
       "\\item -1.10306725364744\n",
       "\\item -4.63060692558213\n",
       "\\item -3.07950266784941\n",
       "\\item -1.85629414766272\n",
       "\\item -2.48165592398967\n",
       "\\item -1.00763123560824\n",
       "\\item -2.0805551183789\n",
       "\\item -0.716005616089171\n",
       "\\item -2.03937970537778\n",
       "\\item -3.0469788876467\n",
       "\\item -0.942321938226363\n",
       "\\item -3.19148039596691\n",
       "\\item -1.77237062805135\n",
       "\\item -1.41362604812394\n",
       "\\item -1.03081847507369\n",
       "\\item -2.63624359119415\n",
       "\\item -1.72471287996264\n",
       "\\item -1.49722130215753\n",
       "\\item -1.43689096650614\n",
       "\\item -1.4993913962535\n",
       "\\item -2.43369942788978\n",
       "\\item -2.73384184836754\n",
       "\\item -3.34832876182047\n",
       "\\item -2.56211768026851\n",
       "\\item -2.28157448480008\n",
       "\\item -2.66239610643385\n",
       "\\item -2.25916697315833\n",
       "\\item -3.45501558519142\n",
       "\\item -1.24835430574027\n",
       "\\item -3.4713077698279\n",
       "\\item -3.38405271582748\n",
       "\\item -0.470525649400968\n",
       "\\item -0.699816770289766\n",
       "\\item -1.32082842347646\n",
       "\\item -2.85665599072884\n",
       "\\item -2.88083167283131\n",
       "\\item -0.483793681263481\n",
       "\\item -1.67318916278519\n",
       "\\item -3.4035736547911\n",
       "\\item -1.56546855179563\n",
       "\\item -0.945312634898469\n",
       "\\item -1.55714334613871\n",
       "\\item -3.11118456140004\n",
       "\\item -1.32100133807667\n",
       "\\item -3.2489328596669\n",
       "\\item -1.09111288877745\n",
       "\\item -2.60639381099139\n",
       "\\item -2.10060127998127\n",
       "\\item -2.12527933957475\n",
       "\\item -0.791540275626305\n",
       "\\item -1.70923693309756\n",
       "\\item -1.84298270372951\n",
       "\\item -3.0208677174261\n",
       "\\item -1.29226255661222\n",
       "\\item -1.6505582892916\n",
       "\\item -1.36445510360984\n",
       "\\item -4.01309578081374\n",
       "\\item -1.47758196701353\n",
       "\\item -0.52463380355739\n",
       "\\item -1.71702706957304\n",
       "\\item -2.29810558777804\n",
       "\\item -2.42755355547595\n",
       "\\item -1.0990026425376\n",
       "\\item -2.38830434757405\n",
       "\\item -4.33733889151657\n",
       "\\item -2.23878213770826\n",
       "\\item -2.0531249145129\n",
       "\\item -0.439430907818267\n",
       "\\item -0.802886648332796\n",
       "\\item -3.07487258416154\n",
       "\\item -0.954038358223862\n",
       "\\item -1.70462227341649\n",
       "\\item -1.10891439843887\n",
       "\\item -2.24175629158529\n",
       "\\item -4.29122955370418\n",
       "\\item -0.240663505973907\n",
       "\\item -2.99720869127293\n",
       "\\item -1.4778713596604\n",
       "\\item -2.50552394362198\n",
       "\\item -0.616615381768375\n",
       "\\item -3.18378458220657\n",
       "\\item -0.53458706502335\n",
       "\\item -0.672453079493116\n",
       "\\item -1.9836303534629\n",
       "\\item -2.17615583810446\n",
       "\\item -3.09731881106613\n",
       "\\item -2.99102202903222\n",
       "\\item -2.77180992972319\n",
       "\\item -1.20961511120213\n",
       "\\item -2.93167684958281\n",
       "\\item -1.88800830676949\n",
       "\\item -3.32666162517217\n",
       "\\item -0.777900906113297\n",
       "\\item -1.06189552919422\n",
       "\\item -3.56781101250875\n",
       "\\item -1.01555636585508\n",
       "\\item -2.30341873304862\n",
       "\\item -1.49199696623849\n",
       "\\item -3.76646006110876\n",
       "\\item -0.435570000775236\n",
       "\\item -2.2228826193999\n",
       "\\item 0.037559886265408\n",
       "\\item -1.0076399276789\n",
       "\\item -2.02146527252005\n",
       "\\item -0.442012585511985\n",
       "\\item -2.58184374349354\n",
       "\\item -2.88498236637212\n",
       "\\item -3.61172758163876\n",
       "\\item -2.27585294945207\n",
       "\\item 0.089413522307368\n",
       "\\item -2.25452580593003\n",
       "\\item -1.11249870580966\n",
       "\\item -0.7049557601455\n",
       "\\item -0.916936197591678\n",
       "\\item -3.07491182047634\n",
       "\\item -1.03649535899363\n",
       "\\item -1.74097969990739\n",
       "\\item -3.6615757962828\n",
       "\\item -3.79119134705387\n",
       "\\item -0.817590242169628\n",
       "\\item -0.449938706219954\n",
       "\\item -3.8805482643372\n",
       "\\item -2.26034759819079\n",
       "\\item -1.77209459425467\n",
       "\\item -0.95023578999658\n",
       "\\item -1.62482797202453\n",
       "\\item -1.69098198263881\n",
       "\\item -1.34931011500875\n",
       "\\item -1.38956632831478\n",
       "\\item -1.77905274057576\n",
       "\\item -2.73294282520067\n",
       "\\item -2.54314034871219\n",
       "\\item -2.00616390861898\n",
       "\\item -3.08464506486881\n",
       "\\item -0.541448759572355\n",
       "\\item -1.61780799824594\n",
       "\\item -0.457365582627074\n",
       "\\item -2.28286040678024\n",
       "\\item 0.253216999225421\n",
       "\\item -2.81051394513903\n",
       "\\item -1.5571835863814\n",
       "\\item -0.598156108810093\n",
       "\\item -3.04625215385392\n",
       "\\item -1.33974404514394\n",
       "\\item -3.58943214014928\n",
       "\\item -1.88405450133498\n",
       "\\item -1.65631425781977\n",
       "\\item -0.984637589588433\n",
       "\\item -1.66599434208114\n",
       "\\item -2.39081853931578\n",
       "\\item -0.873365681115798\n",
       "\\item -1.60774230807126\n",
       "\\item -1.34258362301673\n",
       "\\item -3.35501942877051\n",
       "\\item -0.93121160278535\n",
       "\\item -3.97329214442795\n",
       "\\item -3.10438360796266\n",
       "\\item -0.983550920599623\n",
       "\\item -2.10507901912779\n",
       "\\item -0.510327092759024\n",
       "\\item -2.90293907061478\n",
       "\\item -0.86640654692339\n",
       "\\item -2.00507186259272\n",
       "\\item -3.06343432067399\n",
       "\\item -1.20234043620373\n",
       "\\item -0.435823452881801\n",
       "\\item -3.09096442424532\n",
       "\\item -1.83482621310625\n",
       "\\item -2.06812592543299\n",
       "\\item -2.20816341786545\n",
       "\\item -3.52863329836381\n",
       "\\item -2.69264328391278\n",
       "\\item -1.72831808316742\n",
       "\\item -2.53988764722382\n",
       "\\item -2.848953396144\n",
       "\\item -0.962325835268475\n",
       "\\item -0.162690332978188\n",
       "\\item -1.34772098263451\n",
       "\\item -1.22802178758679\n",
       "\\item -2.12792626826741\n",
       "\\item -2.72678645856219\n",
       "\\item -3.61031672442778\n",
       "\\item -3.54443562632725\n",
       "\\item -1.31865280426423\n",
       "\\item -2.52108881706398\n",
       "\\item -1.91653475008929\n",
       "\\item -1.91572474291279\n",
       "\\item -1.08243594578929\n",
       "\\item -4.17373593173196\n",
       "\\item -3.45009124029024\n",
       "\\item -0.80830970619237\n",
       "\\item -3.59327503356851\n",
       "\\item -1.86694748001208\n",
       "\\item -1.39524817216043\n",
       "\\item -2.81655739041398\n",
       "\\item -0.898586380394352\n",
       "\\item -1.84616143158141\n",
       "\\item -0.100540970245127\n",
       "\\item -1.92239844000902\n",
       "\\item -1.47641247759008\n",
       "\\item -1.04157096940883\n",
       "\\item -1.43501377910437\n",
       "\\item -2.60204039655501\n",
       "\\item -0.74892538330073\n",
       "\\item -1.60982262717605\n",
       "\\item -3.2950112623146\n",
       "\\item -2.74750290275901\n",
       "\\item -0.717947398200386\n",
       "\\item -2.26047095199546\n",
       "\\item -2.15770912647962\n",
       "\\item -0.9128259206378\n",
       "\\item -2.77052623135179\n",
       "\\item -1.05920159386657\n",
       "\\item -2.58465043260493\n",
       "\\item -2.03864868356591\n",
       "\\item -3.33089365653604\n",
       "\\item -1.08499490666503\n",
       "\\item -2.03725146673254\n",
       "\\item -0.966097655232631\n",
       "\\item -3.44771769645414\n",
       "\\item -2.49010216006488\n",
       "\\item -0.0752199735637785\n",
       "\\item -3.94446488600974\n",
       "\\item -3.11481778183132\n",
       "\\item -3.03913376271556\n",
       "\\item 0.347003113231872\n",
       "\\item -2.83817926665658\n",
       "\\item -1.84439173851752\n",
       "\\item -2.80396971292558\n",
       "\\item -3.11854407898788\n",
       "\\item -1.85864372014762\n",
       "\\item -2.34493862000779\n",
       "\\item -2.2297107738345\n",
       "\\item -0.345868228802281\n",
       "\\item -2.19393336507302\n",
       "\\item -2.3420733816039\n",
       "\\item -3.01384653822235\n",
       "\\item -2.16854186803312\n",
       "\\item -1.10661648364872\n",
       "\\item -2.91618006657046\n",
       "\\item -3.06890673345054\n",
       "\\item -1.91355542590768\n",
       "\\item -1.00915272271728\n",
       "\\item -2.2211096879007\n",
       "\\item -2.78679831436779\n",
       "\\item -2.87603703677465\n",
       "\\item -3.05614520841252\n",
       "\\item -3.32933284776654\n",
       "\\item -3.2085215148865\n",
       "\\item -0.567056280318631\n",
       "\\item -3.07897358262484\n",
       "\\item -3.71811775981975\n",
       "\\item -0.81784211025514\n",
       "\\item -1.29796441577055\n",
       "\\item -1.75723168844211\n",
       "\\item -0.177095124999007\n",
       "\\item -1.90447426870336\n",
       "\\item -2.91496663695909\n",
       "\\item -3.04647713576044\n",
       "\\item -2.73288048098647\n",
       "\\item -1.29094410729941\n",
       "\\item -0.786678979932537\n",
       "\\item -2.47787269953154\n",
       "\\item -2.46893069165381\n",
       "\\item -0.976396642363891\n",
       "\\item -3.30991698987559\n",
       "\\item -1.75787265353381\n",
       "\\item -2.51162583362431\n",
       "\\item -3.04887376690132\n",
       "\\item -2.71233824436298\n",
       "\\item -2.22466522294194\n",
       "\\item -0.611406503177661\n",
       "\\item -2.01473905952305\n",
       "\\item -3.34467663471326\n",
       "\\item -1.61393282911007\n",
       "\\item -2.41365606835878\n",
       "\\item -2.2122083136479\n",
       "\\item -3.20218355746569\n",
       "\\item -3.31340217161532\n",
       "\\item -2.38324619816194\n",
       "\\item -1.73181685631219\n",
       "\\item -2.78972597057144\n",
       "\\item -1.16064507875825\n",
       "\\item -2.71135755854457\n",
       "\\item -2.20617253876461\n",
       "\\item -0.38013312991434\n",
       "\\item -0.660961514695853\n",
       "\\item -2.76782850733854\n",
       "\\item -0.187270134739082\n",
       "\\item -2.43989703759953\n",
       "\\item -3.36886001526383\n",
       "\\item -2.70376051718103\n",
       "\\item -2.43513232971285\n",
       "\\item -2.14073258137062\n",
       "\\item -2.03793829927255\n",
       "\\item -3.03681239564149\n",
       "\\item -0.57513845511749\n",
       "\\item -2.37318144779529\n",
       "\\item -1.20911566015446\n",
       "\\item -0.819154445587718\n",
       "\\item -0.707913528078251\n",
       "\\item -3.37412200962246\n",
       "\\item -1.22395002507248\n",
       "\\item -1.50733089273444\n",
       "\\item -1.89873353257839\n",
       "\\item -1.41565256549259\n",
       "\\item -3.44310193482896\n",
       "\\item -2.64176996644666\n",
       "\\item -0.837784686750562\n",
       "\\item -2.28287994726203\n",
       "\\item -1.23872899251343\n",
       "\\item -2.50929662519217\n",
       "\\item -3.37744083240951\n",
       "\\item -1.10120335060154\n",
       "\\item -1.50640228905999\n",
       "\\item -1.78467960682518\n",
       "\\item -0.508456284709012\n",
       "\\item -1.16248781156039\n",
       "\\item -3.15113012409763\n",
       "\\item -3.17619386882067\n",
       "\\item -2.21652010740437\n",
       "\\item -2.99553964487588\n",
       "\\item -0.5088194711901\n",
       "\\item -0.565699789515691\n",
       "\\item -3.15107805271266\n",
       "\\item -3.02741973913847\n",
       "\\item -2.28045642324772\n",
       "\\item -2.86616349381227\n",
       "\\item -1.02939229296648\n",
       "\\item -2.55363709315239\n",
       "\\item -1.97751278728361\n",
       "\\item -3.32932338501636\n",
       "\\item -0.877024953612258\n",
       "\\item -2.53236355846663\n",
       "\\item -2.70471028050439\n",
       "\\item -1.70550360244266\n",
       "\\item -0.440095390171073\n",
       "\\item -1.85930942527626\n",
       "\\item -1.82191438226034\n",
       "\\item -1.63558831798418\n",
       "\\item -0.877651842773835\n",
       "\\item -0.738517005887266\n",
       "\\item -0.331842393508974\n",
       "\\item -0.218377956080732\n",
       "\\item -1.1489489110123\n",
       "\\item 0.416726848304951\n",
       "\\item -1.16291877037075\n",
       "\\item -0.493891389586418\n",
       "\\item -2.13896949760113\n",
       "\\item -2.28575027833438\n",
       "\\item -0.869630580857156\n",
       "\\item -0.167496953199446\n",
       "\\item -1.39848880483514\n",
       "\\item -1.9085144576845\n",
       "\\item -3.52541946413539\n",
       "\\item -2.16423770380093\n",
       "\\item -1.96512474872349\n",
       "\\item -2.13198710403899\n",
       "\\item -1.76282258248068\n",
       "\\item -1.24976321682814\n",
       "\\item -1.60418036720636\n",
       "\\item -2.57696104777402\n",
       "\\item -1.90557749452124\n",
       "\\item -2.05957990548373\n",
       "\\item -1.73301474155728\n",
       "\\item -1.1795982615585\n",
       "\\item -3.04058825758204\n",
       "\\item -1.81782852789751\n",
       "\\item -2.32330218722927\n",
       "\\item -1.66080860042354\n",
       "\\item -1.00723721583358\n",
       "\\item -1.18321112013656\n",
       "\\item -1.62634352974943\n",
       "\\item -1.42606848219275\n",
       "\\item -1.55057413562479\n",
       "\\item -2.81944155833213\n",
       "\\item -2.44642928960674\n",
       "\\item -0.750518991081352\n",
       "\\item -1.25995442988535\n",
       "\\item -1.62647676501844\n",
       "\\item -2.6833635308646\n",
       "\\item -1.06831614617186\n",
       "\\item -2.44222644325335\n",
       "\\item -3.59657459958853\n",
       "\\item -2.53428195707541\n",
       "\\item -2.91368163423196\n",
       "\\item -2.00267609219469\n",
       "\\item -1.49676479922151\n",
       "\\item -1.0821784557191\n",
       "\\item -4.20592564912606\n",
       "\\item -2.91018777637392\n",
       "\\item -1.89901564186419\n",
       "\\item -2.02377348888885\n",
       "\\item -2.13396145691508\n",
       "\\item -3.07301593409331\n",
       "\\item -3.27415374984469\n",
       "\\item -2.139492273252\n",
       "\\item -2.75776975874216\n",
       "\\item -3.37173719616403\n",
       "\\item -1.47417125179202\n",
       "\\item -2.41641053319783\n",
       "\\item -1.49004462817299\n",
       "\\item -2.1990822087676\n",
       "\\item -1.96049635682812\n",
       "\\item -3.0495987163707\n",
       "\\end{enumerate*}\n"
      ],
      "text/markdown": [
       "1. -0.98952312005037\n",
       "2. -3.21597165528109\n",
       "3. -3.17026084743465\n",
       "4. -2.27659543224983\n",
       "5. -2.50608921438053\n",
       "6. -3.01128698980627\n",
       "7. -0.699737378522514\n",
       "8. -3.64297231607172\n",
       "9. -1.92778817774545\n",
       "10. -2.50433016809716\n",
       "11. -2.04662749586725\n",
       "12. -2.01811194957747\n",
       "13. -2.88807730965104\n",
       "14. -1.33679270218641\n",
       "15. -0.0452056375120463\n",
       "16. -2.33082685955212\n",
       "17. -2.06330714436639\n",
       "18. -1.12921980278266\n",
       "19. -2.28485459571431\n",
       "20. -3.33926359476178\n",
       "21. -1.95298880815486\n",
       "22. -1.48080134763815\n",
       "23. -1.95475414454706\n",
       "24. -2.27452273742138\n",
       "25. -2.4644252277697\n",
       "26. -2.12112848660364\n",
       "27. -1.72876427685841\n",
       "28. -1.41195557903109\n",
       "29. -3.41790068571392\n",
       "30. -2.18750875702544\n",
       "31. -1.88841541718459\n",
       "32. -2.69578403595693\n",
       "33. -2.37039523898854\n",
       "34. -0.883036142061325\n",
       "35. -2.58502335682854\n",
       "36. -1.29905270437397\n",
       "37. -2.25764619535558\n",
       "38. -3.76030399496514\n",
       "39. -3.20936635929399\n",
       "40. -3.47854033398288\n",
       "41. 0.0191221971142133\n",
       "42. -1.8987046816549\n",
       "43. -1.3962297407579\n",
       "44. -1.94502264669163\n",
       "45. -3.33871828221774\n",
       "46. -0.749210779804766\n",
       "47. -3.18459236579686\n",
       "48. -2.13624205450651\n",
       "49. -1.43068787408954\n",
       "50. -2.29144235030894\n",
       "51. -0.468954799014386\n",
       "52. -0.734479104853502\n",
       "53. -2.17600538729403\n",
       "54. -1.78842947135587\n",
       "55. -1.91356424893171\n",
       "56. -1.61870830048307\n",
       "57. -0.852275434640657\n",
       "58. -2.14864140895208\n",
       "59. -2.30449545592087\n",
       "60. -3.01355156688308\n",
       "61. -2.63794993285425\n",
       "62. -1.96388881460165\n",
       "63. -1.5033868522143\n",
       "64. -4.02334631287953\n",
       "65. -0.741233773895752\n",
       "66. -3.20369950280196\n",
       "67. -2.5773894610259\n",
       "68. -2.90619032035203\n",
       "69. -3.66253436253807\n",
       "70. -3.85248644988573\n",
       "71. -0.962001778671698\n",
       "72. -2.34560442726246\n",
       "73. -2.61370154761319\n",
       "74. -0.63127769908091\n",
       "75. -0.763407032404764\n",
       "76. -2.12408810477391\n",
       "77. -1.76955718797569\n",
       "78. -0.941248214248794\n",
       "79. -0.730260874704276\n",
       "80. -0.936863713339061\n",
       "81. -2.36405721014118\n",
       "82. -3.22389954356454\n",
       "83. -1.06767112480592\n",
       "84. -2.42632524890519\n",
       "85. -1.31173480573528\n",
       "86. -0.701211311449826\n",
       "87. -2.35390374129815\n",
       "88. -0.805851844364011\n",
       "89. -3.27138297884358\n",
       "90. -1.95065662000445\n",
       "91. -0.766929050384078\n",
       "92. -0.899069226528505\n",
       "93. -1.58209653182394\n",
       "94. -1.29351949320494\n",
       "95. -1.56195253061179\n",
       "96. -1.82461626532597\n",
       "97. -2.63402263581856\n",
       "98. -0.486005154387723\n",
       "99. -2.10325063881771\n",
       "100. -1.12052421607649\n",
       "101. -2.82292780969334\n",
       "102. -0.328813264097244\n",
       "103. -3.03699890143187\n",
       "104. -1.12432359202293\n",
       "105. -1.3749038824254\n",
       "106. -2.43551471742862\n",
       "107. -3.59654439072155\n",
       "108. -0.828208892289734\n",
       "109. -1.54453572912943\n",
       "110. -1.30232707148085\n",
       "111. -0.830793892628223\n",
       "112. -3.34279076052049\n",
       "113. -3.52802086757884\n",
       "114. -1.91198869531857\n",
       "115. -1.20429234423257\n",
       "116. -1.2314144347935\n",
       "117. -0.541924151915985\n",
       "118. -1.1907459593998\n",
       "119. -1.80061593177485\n",
       "120. -3.09052989517858\n",
       "121. -2.18043575252459\n",
       "122. -1.40183642305406\n",
       "123. -2.20115548679222\n",
       "124. -2.18150416723125\n",
       "125. -1.35206211772649\n",
       "126. -1.24193257502168\n",
       "127. -1.0470884678826\n",
       "128. -3.31502583329757\n",
       "129. -0.838322011325693\n",
       "130. -4.10312676739555\n",
       "131. -1.37959852785135\n",
       "132. -1.05265864043875\n",
       "133. -1.62112605477502\n",
       "134. -1.50735026281481\n",
       "135. -1.20479453828918\n",
       "136. -1.55610756921125\n",
       "137. -0.430693754505336\n",
       "138. -1.62856632046281\n",
       "139. -3.66427793909434\n",
       "140. -2.66261976667632\n",
       "141. -2.51625265744902\n",
       "142. -1.75546615856786\n",
       "143. -1.97836672496955\n",
       "144. -2.05909773406839\n",
       "145. -2.18858017183816\n",
       "146. -2.02382689300045\n",
       "147. -1.61380017450359\n",
       "148. -3.69587266993247\n",
       "149. -2.14591072176566\n",
       "150. -0.940234320395696\n",
       "151. -2.14073926852876\n",
       "152. -2.64729367227628\n",
       "153. -2.27425226058729\n",
       "154. -2.6304506416253\n",
       "155. -0.871970147937631\n",
       "156. -0.788344180709964\n",
       "157. -1.4893599058364\n",
       "158. -1.12596940937001\n",
       "159. -0.657426164557811\n",
       "160. -2.22025740915758\n",
       "161. -1.92944033490442\n",
       "162. -3.15071693598945\n",
       "163. -1.03741308602776\n",
       "164. -0.855137307423953\n",
       "165. -0.612776197470179\n",
       "166. -2.0780486300678\n",
       "167. -2.42741148584058\n",
       "168. -0.606770619538068\n",
       "169. -0.787267458683999\n",
       "170. -1.38939419936519\n",
       "171. -1.72300982801346\n",
       "172. -3.34191302853636\n",
       "173. -2.09710873859942\n",
       "174. -2.45604347658131\n",
       "175. -2.11341942928876\n",
       "176. -0.960588213752967\n",
       "177. -2.35889780975308\n",
       "178. -0.984623433825672\n",
       "179. -0.615925449346296\n",
       "180. -1.41027648183197\n",
       "181. -0.211514779308579\n",
       "182. -0.566671927631254\n",
       "183. -3.63744840722258\n",
       "184. -2.98997233008649\n",
       "185. -1.96524894702197\n",
       "186. -0.887188964148493\n",
       "187. -0.846225880344377\n",
       "188. -0.837887129164492\n",
       "189. -2.28620232066222\n",
       "190. -0.467114886633134\n",
       "191. -1.01569527161127\n",
       "192. -2.16449274530966\n",
       "193. -1.16830824851594\n",
       "194. -0.257762697431498\n",
       "195. -1.58690980458131\n",
       "196. -1.44770307508234\n",
       "197. -1.22660443833012\n",
       "198. -2.1905508860788\n",
       "199. -3.41757540645048\n",
       "200. -3.1701857866057\n",
       "201. -3.37179279274389\n",
       "202. -2.25581847111154\n",
       "203. -0.00722452688438097\n",
       "204. -1.29109975620728\n",
       "205. -2.08785656358205\n",
       "206. -0.904376374159317\n",
       "207. -0.784349735481359\n",
       "208. -3.03894346607894\n",
       "209. -1.1688428175591\n",
       "210. -1.79997478830533\n",
       "211. -1.4325116487292\n",
       "212. 0.209193933627433\n",
       "213. -3.15874238797528\n",
       "214. -1.55130211703625\n",
       "215. -0.771998939362294\n",
       "216. -2.25235026403023\n",
       "217. -4.09496026487929\n",
       "218. -2.16199289993116\n",
       "219. -0.884586803615922\n",
       "220. -1.09835732417477\n",
       "221. -1.83540089912359\n",
       "222. -0.975157893124075\n",
       "223. -1.88438349672377\n",
       "224. -0.5423216130935\n",
       "225. -3.61157294198561\n",
       "226. -0.859491807946471\n",
       "227. -0.376338540310569\n",
       "228. -1.81239736197645\n",
       "229. -1.38288347118965\n",
       "230. -2.34438939418157\n",
       "231. -0.304621657720905\n",
       "232. -1.42739451419333\n",
       "233. -0.550623851834133\n",
       "234. -2.55788666107381\n",
       "235. -0.614384612672009\n",
       "236. -1.83063296380656\n",
       "237. -2.06912608333858\n",
       "238. -1.33794611139546\n",
       "239. -1.46014788744678\n",
       "240. -1.37078142821182\n",
       "241. -2.75724060190872\n",
       "242. -2.41698412227955\n",
       "243. -1.21915965184334\n",
       "244. -0.927331694615423\n",
       "245. -3.47520440262118\n",
       "246. -1.73426672147073\n",
       "247. -1.43893767959803\n",
       "248. -1.63505343807894\n",
       "249. -2.59540769572283\n",
       "250. -3.31056633884356\n",
       "251. -2.69139785368522\n",
       "252. -1.25746571156231\n",
       "253. -3.75536516489514\n",
       "254. -1.9043503071277\n",
       "255. -0.869185847624816\n",
       "256. -1.24430429225636\n",
       "257. -1.80097705120226\n",
       "258. 0.0113180494285569\n",
       "259. -1.87004221331108\n",
       "260. -2.5613270093952\n",
       "261. -2.97317812239695\n",
       "262. -2.40727795938838\n",
       "263. -4.17826607477545\n",
       "264. -3.72745037430837\n",
       "265. -2.44444317973315\n",
       "266. -3.1950970767376\n",
       "267. -0.740169658944841\n",
       "268. -0.227738749060699\n",
       "269. -0.6831730990418\n",
       "270. -1.24518611765467\n",
       "271. -2.94664216533367\n",
       "272. -1.89029378061179\n",
       "273. -1.04139781215418\n",
       "274. -1.26676602923014\n",
       "275. -1.2242587247253\n",
       "276. -2.92548785142678\n",
       "277. -0.420981733749788\n",
       "278. -4.04882787762837\n",
       "279. -0.833685556055447\n",
       "280. -1.29241640041353\n",
       "281. -0.639525108199563\n",
       "282. -2.14678621425829\n",
       "283. -1.79440659851994\n",
       "284. -2.69566899094837\n",
       "285. -3.39128268273942\n",
       "286. -1.77038290208995\n",
       "287. -1.32350356128018\n",
       "288. -1.321889725667\n",
       "289. -3.16628088672632\n",
       "290. -1.57952248649625\n",
       "291. -0.549391429757515\n",
       "292. -0.468650487261965\n",
       "293. -3.51946277420612\n",
       "294. -2.10731264428725\n",
       "295. -1.50026576470183\n",
       "296. -1.5450881893732\n",
       "297. -1.09678750671589\n",
       "298. -3.79393855153952\n",
       "299. -2.53098970669207\n",
       "300. -1.85339554205734\n",
       "301. -0.338839042030108\n",
       "302. -1.80678558491164\n",
       "303. -0.449018407836338\n",
       "304. -1.49590655811388\n",
       "305. -0.49027898768581\n",
       "306. -4.83455505977943\n",
       "307. -2.6185682154092\n",
       "308. -2.1297405770651\n",
       "309. -0.967760292655874\n",
       "310. -1.54619411239066\n",
       "311. -1.43531651481467\n",
       "312. -1.05111829911339\n",
       "313. -2.3233277011758\n",
       "314. -3.63110633476596\n",
       "315. -2.93697999044751\n",
       "316. -3.4123571049529\n",
       "317. -1.01070093475747\n",
       "318. -2.46001185577784\n",
       "319. -2.03706701568473\n",
       "320. -3.00863900685426\n",
       "321. -0.546593138582359\n",
       "322. -2.14086575888562\n",
       "323. -1.03090754035054\n",
       "324. -1.57187679196724\n",
       "325. -3.29025172595939\n",
       "326. -4.07084906702686\n",
       "327. -1.52660769655603\n",
       "328. -2.56558325839417\n",
       "329. -3.23051087059368\n",
       "330. -1.22936082201325\n",
       "331. -2.45172761118521\n",
       "332. -4.74504397967648\n",
       "333. -1.46228647713155\n",
       "334. -3.58891079941395\n",
       "335. -3.3282778004349\n",
       "336. -1.83004851509288\n",
       "337. -2.32494000812816\n",
       "338. -2.84785386874793\n",
       "339. -2.3211018534163\n",
       "340. -2.28303126431936\n",
       "341. -3.39279864513861\n",
       "342. -2.2726555235734\n",
       "343. -1.66735345016169\n",
       "344. -1.75660279487655\n",
       "345. -3.00514888480549\n",
       "346. -1.7285442076416\n",
       "347. -0.977269235565071\n",
       "348. -1.8042801175354\n",
       "349. -1.68581880789523\n",
       "350. -1.11574923467299\n",
       "351. -3.53194787931414\n",
       "352. -2.52695385695122\n",
       "353. -2.78435453605221\n",
       "354. -2.68922420831493\n",
       "355. -2.32689103720966\n",
       "356. -1.93708385840823\n",
       "357. -1.01928036678503\n",
       "358. -3.00566704932787\n",
       "359. -3.25059482276228\n",
       "360. -3.17674190728072\n",
       "361. -2.55372042561258\n",
       "362. -1.96276323859931\n",
       "363. -2.60100506852444\n",
       "364. -2.62136172481642\n",
       "365. -1.61298663931095\n",
       "366. -0.530087480611029\n",
       "367. -3.50740493527494\n",
       "368. -0.30237388289495\n",
       "369. -1.26896899530951\n",
       "370. -2.06517930173382\n",
       "371. -2.75648181643886\n",
       "372. -3.39310968755229\n",
       "373. -1.82670391904661\n",
       "374. -1.06956648168264\n",
       "375. -3.1735135788308\n",
       "376. -2.7856147103248\n",
       "377. -1.1159631109781\n",
       "378. -0.732300391365668\n",
       "379. -1.24565217825668\n",
       "380. -2.33101702454503\n",
       "381. -0.586857780272217\n",
       "382. -2.47846192462697\n",
       "383. -3.94171362334772\n",
       "384. -1.51151282266097\n",
       "385. -2.92519721556749\n",
       "386. -1.43195426211681\n",
       "387. -2.31836236252196\n",
       "388. -3.76656936023954\n",
       "389. -0.817319911691937\n",
       "390. -2.76196638470878\n",
       "391. -2.29428497445685\n",
       "392. -1.73633737481914\n",
       "393. -3.0769395858937\n",
       "394. -1.79780045920691\n",
       "395. -0.810565409265906\n",
       "396. 0.0188913728192782\n",
       "397. -3.20580538336577\n",
       "398. -0.518801149375267\n",
       "399. -0.699949847258561\n",
       "400. -0.64799718061424\n",
       "401. -2.08000129374514\n",
       "402. -0.816082387938379\n",
       "403. -2.56026859416912\n",
       "404. -2.35530937205689\n",
       "405. -4.27599381884402\n",
       "406. -2.75926998915239\n",
       "407. -0.905633510061456\n",
       "408. 0.171010096923666\n",
       "409. -1.72142239010957\n",
       "410. -1.20414999549709\n",
       "411. -0.257121415757682\n",
       "412. -0.60144167476554\n",
       "413. 0.383783631683168\n",
       "414. -2.55521838715475\n",
       "415. -1.7818928432032\n",
       "416. -1.9624293710677\n",
       "417. -3.92723114709438\n",
       "418. -2.10608134913899\n",
       "419. -0.454485991985685\n",
       "420. -2.51132956695856\n",
       "421. -2.3578292037073\n",
       "422. -0.986905354210034\n",
       "423. -1.1358173846633\n",
       "424. -2.21598428663405\n",
       "425. -0.59176131515529\n",
       "426. -1.40738847151315\n",
       "427. -1.24286522270562\n",
       "428. -2.88066155367556\n",
       "429. -0.935359583857401\n",
       "430. -1.71026547617727\n",
       "431. -3.24855569338836\n",
       "432. -0.828382351488839\n",
       "433. -1.43233263053351\n",
       "434. -3.55455303306486\n",
       "435. -2.49400136207598\n",
       "436. -2.84744995802484\n",
       "437. -0.418715311312181\n",
       "438. -1.51631996206424\n",
       "439. -1.70645734259305\n",
       "440. -1.57708065824697\n",
       "441. -2.34056318383328\n",
       "442. -0.473277934208752\n",
       "443. -3.01930242147011\n",
       "444. -2.33119712031931\n",
       "445. -3.0267604565632\n",
       "446. -2.08447354745424\n",
       "447. -3.18272049074801\n",
       "448. -1.30971696017852\n",
       "449. -1.55618286639301\n",
       "450. 0.135446253360376\n",
       "451. -0.996859222320937\n",
       "452. -0.943030401729926\n",
       "453. -1.14312031209976\n",
       "454. -3.0877502645042\n",
       "455. -3.03815796150733\n",
       "456. -1.37135758454906\n",
       "457. -0.774244701348581\n",
       "458. -2.21718853172239\n",
       "459. -1.9677180307291\n",
       "460. -0.782720950417818\n",
       "461. -1.84973301035143\n",
       "462. -1.7993466243161\n",
       "463. -1.9968428854799\n",
       "464. -1.82134259971495\n",
       "465. -2.09146678017893\n",
       "466. -4.14018533503481\n",
       "467. -2.3160626388897\n",
       "468. -0.95642915804362\n",
       "469. -2.00592938290698\n",
       "470. -3.03628716595091\n",
       "471. -2.37480137839559\n",
       "472. -2.01587566751066\n",
       "473. -2.59921867507758\n",
       "474. -2.77386976669675\n",
       "475. -0.367766378106579\n",
       "476. -1.13220852583541\n",
       "477. -1.66628925400515\n",
       "478. -1.20296145682258\n",
       "479. -0.356692899985538\n",
       "480. -3.43570030298202\n",
       "481. -1.5670507084626\n",
       "482. -0.604519671818584\n",
       "483. -1.77029904899039\n",
       "484. -3.36131111081958\n",
       "485. -0.485549793370423\n",
       "486. -1.52922027117148\n",
       "487. -2.19150174766176\n",
       "488. -4.85006340385311\n",
       "489. -1.61483313538666\n",
       "490. -3.77158383401712\n",
       "491. -3.33268395162845\n",
       "492. -0.404673809148193\n",
       "493. -3.62149577402996\n",
       "494. -1.87495513934115\n",
       "495. -3.14281614995265\n",
       "496. -2.19586385068899\n",
       "497. -2.06774294095782\n",
       "498. -2.67302242544956\n",
       "499. -0.442268974153144\n",
       "500. -1.84591952699283\n",
       "501. -1.91040107896489\n",
       "502. -0.103792537632215\n",
       "503. -1.19435336921602\n",
       "504. -0.635863405590011\n",
       "505. -0.753263444395737\n",
       "506. -1.06243710608482\n",
       "507. -3.52648400290274\n",
       "508. -0.55231634855242\n",
       "509. -3.39215611653681\n",
       "510. -1.17454147254453\n",
       "511. -0.569619084304356\n",
       "512. -2.80084218656175\n",
       "513. -2.97261042626828\n",
       "514. -1.31743963461678\n",
       "515. -1.59816847136932\n",
       "516. -2.26889421643507\n",
       "517. -2.07515215783477\n",
       "518. -2.7195373132675\n",
       "519. -1.72469361798697\n",
       "520. -1.59825622781175\n",
       "521. -1.96728270058156\n",
       "522. -2.85733646601777\n",
       "523. -1.95419420107522\n",
       "524. -2.36146869518695\n",
       "525. -0.90689415568944\n",
       "526. -1.64195807067335\n",
       "527. -3.92387812433621\n",
       "528. -3.08298004837049\n",
       "529. -2.77683998661386\n",
       "530. -0.214724764636665\n",
       "531. -4.37273433635698\n",
       "532. -0.590435301476175\n",
       "533. -1.87928761364146\n",
       "534. -1.08206197002068\n",
       "535. -1.35327246183591\n",
       "536. -0.5497522944469\n",
       "537. -2.24794551467452\n",
       "538. -1.78286271494367\n",
       "539. -1.84753247789401\n",
       "540. -2.08082813984176\n",
       "541. -0.55202126297711\n",
       "542. -1.91191154320924\n",
       "543. -3.22891327271643\n",
       "544. -1.84351506736691\n",
       "545. -3.9606250247524\n",
       "546. -1.03167347384576\n",
       "547. -0.951384996128967\n",
       "548. -0.281240179495393\n",
       "549. -1.97926517230794\n",
       "550. -2.59114878873893\n",
       "551. -1.41359792432874\n",
       "552. -3.11901976959623\n",
       "553. -2.62922434336667\n",
       "554. -2.00254695543659\n",
       "555. -1.83132319532203\n",
       "556. -2.1542548898165\n",
       "557. -3.85537051544875\n",
       "558. -2.55329933338975\n",
       "559. -2.00288726035658\n",
       "560. -0.862721110967437\n",
       "561. -0.796861555318108\n",
       "562. -0.762980446041342\n",
       "563. -1.13744117670635\n",
       "564. -3.39881022140313\n",
       "565. -1.39659825267317\n",
       "566. -0.754183864001978\n",
       "567. -1.9934507671091\n",
       "568. -1.62752581648098\n",
       "569. -1.30031574882477\n",
       "570. -3.21725825430684\n",
       "571. -3.14095060304154\n",
       "572. -1.19740860146233\n",
       "573. -2.28265510392851\n",
       "574. -1.87747401146326\n",
       "575. -2.36419837150616\n",
       "576. -2.36672917722078\n",
       "577. -1.25290335978624\n",
       "578. -1.92415686104046\n",
       "579. -2.16583438703305\n",
       "580. -0.678473602519959\n",
       "581. -2.96602137565726\n",
       "582. -1.93309692149312\n",
       "583. -2.05546768793946\n",
       "584. -0.631543104447218\n",
       "585. -2.8593201653533\n",
       "586. -1.13066364940679\n",
       "587. -0.276208595258747\n",
       "588. -3.75235085917105\n",
       "589. -1.56550693300529\n",
       "590. -3.50739300998108\n",
       "591. -1.97096558952256\n",
       "592. -0.546169736391817\n",
       "593. -2.5463979821681\n",
       "594. -1.16296755757492\n",
       "595. -2.80206974644792\n",
       "596. -1.10306725364744\n",
       "597. -4.63060692558213\n",
       "598. -3.07950266784941\n",
       "599. -1.85629414766272\n",
       "600. -2.48165592398967\n",
       "601. -1.00763123560824\n",
       "602. -2.0805551183789\n",
       "603. -0.716005616089171\n",
       "604. -2.03937970537778\n",
       "605. -3.0469788876467\n",
       "606. -0.942321938226363\n",
       "607. -3.19148039596691\n",
       "608. -1.77237062805135\n",
       "609. -1.41362604812394\n",
       "610. -1.03081847507369\n",
       "611. -2.63624359119415\n",
       "612. -1.72471287996264\n",
       "613. -1.49722130215753\n",
       "614. -1.43689096650614\n",
       "615. -1.4993913962535\n",
       "616. -2.43369942788978\n",
       "617. -2.73384184836754\n",
       "618. -3.34832876182047\n",
       "619. -2.56211768026851\n",
       "620. -2.28157448480008\n",
       "621. -2.66239610643385\n",
       "622. -2.25916697315833\n",
       "623. -3.45501558519142\n",
       "624. -1.24835430574027\n",
       "625. -3.4713077698279\n",
       "626. -3.38405271582748\n",
       "627. -0.470525649400968\n",
       "628. -0.699816770289766\n",
       "629. -1.32082842347646\n",
       "630. -2.85665599072884\n",
       "631. -2.88083167283131\n",
       "632. -0.483793681263481\n",
       "633. -1.67318916278519\n",
       "634. -3.4035736547911\n",
       "635. -1.56546855179563\n",
       "636. -0.945312634898469\n",
       "637. -1.55714334613871\n",
       "638. -3.11118456140004\n",
       "639. -1.32100133807667\n",
       "640. -3.2489328596669\n",
       "641. -1.09111288877745\n",
       "642. -2.60639381099139\n",
       "643. -2.10060127998127\n",
       "644. -2.12527933957475\n",
       "645. -0.791540275626305\n",
       "646. -1.70923693309756\n",
       "647. -1.84298270372951\n",
       "648. -3.0208677174261\n",
       "649. -1.29226255661222\n",
       "650. -1.6505582892916\n",
       "651. -1.36445510360984\n",
       "652. -4.01309578081374\n",
       "653. -1.47758196701353\n",
       "654. -0.52463380355739\n",
       "655. -1.71702706957304\n",
       "656. -2.29810558777804\n",
       "657. -2.42755355547595\n",
       "658. -1.0990026425376\n",
       "659. -2.38830434757405\n",
       "660. -4.33733889151657\n",
       "661. -2.23878213770826\n",
       "662. -2.0531249145129\n",
       "663. -0.439430907818267\n",
       "664. -0.802886648332796\n",
       "665. -3.07487258416154\n",
       "666. -0.954038358223862\n",
       "667. -1.70462227341649\n",
       "668. -1.10891439843887\n",
       "669. -2.24175629158529\n",
       "670. -4.29122955370418\n",
       "671. -0.240663505973907\n",
       "672. -2.99720869127293\n",
       "673. -1.4778713596604\n",
       "674. -2.50552394362198\n",
       "675. -0.616615381768375\n",
       "676. -3.18378458220657\n",
       "677. -0.53458706502335\n",
       "678. -0.672453079493116\n",
       "679. -1.9836303534629\n",
       "680. -2.17615583810446\n",
       "681. -3.09731881106613\n",
       "682. -2.99102202903222\n",
       "683. -2.77180992972319\n",
       "684. -1.20961511120213\n",
       "685. -2.93167684958281\n",
       "686. -1.88800830676949\n",
       "687. -3.32666162517217\n",
       "688. -0.777900906113297\n",
       "689. -1.06189552919422\n",
       "690. -3.56781101250875\n",
       "691. -1.01555636585508\n",
       "692. -2.30341873304862\n",
       "693. -1.49199696623849\n",
       "694. -3.76646006110876\n",
       "695. -0.435570000775236\n",
       "696. -2.2228826193999\n",
       "697. 0.037559886265408\n",
       "698. -1.0076399276789\n",
       "699. -2.02146527252005\n",
       "700. -0.442012585511985\n",
       "701. -2.58184374349354\n",
       "702. -2.88498236637212\n",
       "703. -3.61172758163876\n",
       "704. -2.27585294945207\n",
       "705. 0.089413522307368\n",
       "706. -2.25452580593003\n",
       "707. -1.11249870580966\n",
       "708. -0.7049557601455\n",
       "709. -0.916936197591678\n",
       "710. -3.07491182047634\n",
       "711. -1.03649535899363\n",
       "712. -1.74097969990739\n",
       "713. -3.6615757962828\n",
       "714. -3.79119134705387\n",
       "715. -0.817590242169628\n",
       "716. -0.449938706219954\n",
       "717. -3.8805482643372\n",
       "718. -2.26034759819079\n",
       "719. -1.77209459425467\n",
       "720. -0.95023578999658\n",
       "721. -1.62482797202453\n",
       "722. -1.69098198263881\n",
       "723. -1.34931011500875\n",
       "724. -1.38956632831478\n",
       "725. -1.77905274057576\n",
       "726. -2.73294282520067\n",
       "727. -2.54314034871219\n",
       "728. -2.00616390861898\n",
       "729. -3.08464506486881\n",
       "730. -0.541448759572355\n",
       "731. -1.61780799824594\n",
       "732. -0.457365582627074\n",
       "733. -2.28286040678024\n",
       "734. 0.253216999225421\n",
       "735. -2.81051394513903\n",
       "736. -1.5571835863814\n",
       "737. -0.598156108810093\n",
       "738. -3.04625215385392\n",
       "739. -1.33974404514394\n",
       "740. -3.58943214014928\n",
       "741. -1.88405450133498\n",
       "742. -1.65631425781977\n",
       "743. -0.984637589588433\n",
       "744. -1.66599434208114\n",
       "745. -2.39081853931578\n",
       "746. -0.873365681115798\n",
       "747. -1.60774230807126\n",
       "748. -1.34258362301673\n",
       "749. -3.35501942877051\n",
       "750. -0.93121160278535\n",
       "751. -3.97329214442795\n",
       "752. -3.10438360796266\n",
       "753. -0.983550920599623\n",
       "754. -2.10507901912779\n",
       "755. -0.510327092759024\n",
       "756. -2.90293907061478\n",
       "757. -0.86640654692339\n",
       "758. -2.00507186259272\n",
       "759. -3.06343432067399\n",
       "760. -1.20234043620373\n",
       "761. -0.435823452881801\n",
       "762. -3.09096442424532\n",
       "763. -1.83482621310625\n",
       "764. -2.06812592543299\n",
       "765. -2.20816341786545\n",
       "766. -3.52863329836381\n",
       "767. -2.69264328391278\n",
       "768. -1.72831808316742\n",
       "769. -2.53988764722382\n",
       "770. -2.848953396144\n",
       "771. -0.962325835268475\n",
       "772. -0.162690332978188\n",
       "773. -1.34772098263451\n",
       "774. -1.22802178758679\n",
       "775. -2.12792626826741\n",
       "776. -2.72678645856219\n",
       "777. -3.61031672442778\n",
       "778. -3.54443562632725\n",
       "779. -1.31865280426423\n",
       "780. -2.52108881706398\n",
       "781. -1.91653475008929\n",
       "782. -1.91572474291279\n",
       "783. -1.08243594578929\n",
       "784. -4.17373593173196\n",
       "785. -3.45009124029024\n",
       "786. -0.80830970619237\n",
       "787. -3.59327503356851\n",
       "788. -1.86694748001208\n",
       "789. -1.39524817216043\n",
       "790. -2.81655739041398\n",
       "791. -0.898586380394352\n",
       "792. -1.84616143158141\n",
       "793. -0.100540970245127\n",
       "794. -1.92239844000902\n",
       "795. -1.47641247759008\n",
       "796. -1.04157096940883\n",
       "797. -1.43501377910437\n",
       "798. -2.60204039655501\n",
       "799. -0.74892538330073\n",
       "800. -1.60982262717605\n",
       "801. -3.2950112623146\n",
       "802. -2.74750290275901\n",
       "803. -0.717947398200386\n",
       "804. -2.26047095199546\n",
       "805. -2.15770912647962\n",
       "806. -0.9128259206378\n",
       "807. -2.77052623135179\n",
       "808. -1.05920159386657\n",
       "809. -2.58465043260493\n",
       "810. -2.03864868356591\n",
       "811. -3.33089365653604\n",
       "812. -1.08499490666503\n",
       "813. -2.03725146673254\n",
       "814. -0.966097655232631\n",
       "815. -3.44771769645414\n",
       "816. -2.49010216006488\n",
       "817. -0.0752199735637785\n",
       "818. -3.94446488600974\n",
       "819. -3.11481778183132\n",
       "820. -3.03913376271556\n",
       "821. 0.347003113231872\n",
       "822. -2.83817926665658\n",
       "823. -1.84439173851752\n",
       "824. -2.80396971292558\n",
       "825. -3.11854407898788\n",
       "826. -1.85864372014762\n",
       "827. -2.34493862000779\n",
       "828. -2.2297107738345\n",
       "829. -0.345868228802281\n",
       "830. -2.19393336507302\n",
       "831. -2.3420733816039\n",
       "832. -3.01384653822235\n",
       "833. -2.16854186803312\n",
       "834. -1.10661648364872\n",
       "835. -2.91618006657046\n",
       "836. -3.06890673345054\n",
       "837. -1.91355542590768\n",
       "838. -1.00915272271728\n",
       "839. -2.2211096879007\n",
       "840. -2.78679831436779\n",
       "841. -2.87603703677465\n",
       "842. -3.05614520841252\n",
       "843. -3.32933284776654\n",
       "844. -3.2085215148865\n",
       "845. -0.567056280318631\n",
       "846. -3.07897358262484\n",
       "847. -3.71811775981975\n",
       "848. -0.81784211025514\n",
       "849. -1.29796441577055\n",
       "850. -1.75723168844211\n",
       "851. -0.177095124999007\n",
       "852. -1.90447426870336\n",
       "853. -2.91496663695909\n",
       "854. -3.04647713576044\n",
       "855. -2.73288048098647\n",
       "856. -1.29094410729941\n",
       "857. -0.786678979932537\n",
       "858. -2.47787269953154\n",
       "859. -2.46893069165381\n",
       "860. -0.976396642363891\n",
       "861. -3.30991698987559\n",
       "862. -1.75787265353381\n",
       "863. -2.51162583362431\n",
       "864. -3.04887376690132\n",
       "865. -2.71233824436298\n",
       "866. -2.22466522294194\n",
       "867. -0.611406503177661\n",
       "868. -2.01473905952305\n",
       "869. -3.34467663471326\n",
       "870. -1.61393282911007\n",
       "871. -2.41365606835878\n",
       "872. -2.2122083136479\n",
       "873. -3.20218355746569\n",
       "874. -3.31340217161532\n",
       "875. -2.38324619816194\n",
       "876. -1.73181685631219\n",
       "877. -2.78972597057144\n",
       "878. -1.16064507875825\n",
       "879. -2.71135755854457\n",
       "880. -2.20617253876461\n",
       "881. -0.38013312991434\n",
       "882. -0.660961514695853\n",
       "883. -2.76782850733854\n",
       "884. -0.187270134739082\n",
       "885. -2.43989703759953\n",
       "886. -3.36886001526383\n",
       "887. -2.70376051718103\n",
       "888. -2.43513232971285\n",
       "889. -2.14073258137062\n",
       "890. -2.03793829927255\n",
       "891. -3.03681239564149\n",
       "892. -0.57513845511749\n",
       "893. -2.37318144779529\n",
       "894. -1.20911566015446\n",
       "895. -0.819154445587718\n",
       "896. -0.707913528078251\n",
       "897. -3.37412200962246\n",
       "898. -1.22395002507248\n",
       "899. -1.50733089273444\n",
       "900. -1.89873353257839\n",
       "901. -1.41565256549259\n",
       "902. -3.44310193482896\n",
       "903. -2.64176996644666\n",
       "904. -0.837784686750562\n",
       "905. -2.28287994726203\n",
       "906. -1.23872899251343\n",
       "907. -2.50929662519217\n",
       "908. -3.37744083240951\n",
       "909. -1.10120335060154\n",
       "910. -1.50640228905999\n",
       "911. -1.78467960682518\n",
       "912. -0.508456284709012\n",
       "913. -1.16248781156039\n",
       "914. -3.15113012409763\n",
       "915. -3.17619386882067\n",
       "916. -2.21652010740437\n",
       "917. -2.99553964487588\n",
       "918. -0.5088194711901\n",
       "919. -0.565699789515691\n",
       "920. -3.15107805271266\n",
       "921. -3.02741973913847\n",
       "922. -2.28045642324772\n",
       "923. -2.86616349381227\n",
       "924. -1.02939229296648\n",
       "925. -2.55363709315239\n",
       "926. -1.97751278728361\n",
       "927. -3.32932338501636\n",
       "928. -0.877024953612258\n",
       "929. -2.53236355846663\n",
       "930. -2.70471028050439\n",
       "931. -1.70550360244266\n",
       "932. -0.440095390171073\n",
       "933. -1.85930942527626\n",
       "934. -1.82191438226034\n",
       "935. -1.63558831798418\n",
       "936. -0.877651842773835\n",
       "937. -0.738517005887266\n",
       "938. -0.331842393508974\n",
       "939. -0.218377956080732\n",
       "940. -1.1489489110123\n",
       "941. 0.416726848304951\n",
       "942. -1.16291877037075\n",
       "943. -0.493891389586418\n",
       "944. -2.13896949760113\n",
       "945. -2.28575027833438\n",
       "946. -0.869630580857156\n",
       "947. -0.167496953199446\n",
       "948. -1.39848880483514\n",
       "949. -1.9085144576845\n",
       "950. -3.52541946413539\n",
       "951. -2.16423770380093\n",
       "952. -1.96512474872349\n",
       "953. -2.13198710403899\n",
       "954. -1.76282258248068\n",
       "955. -1.24976321682814\n",
       "956. -1.60418036720636\n",
       "957. -2.57696104777402\n",
       "958. -1.90557749452124\n",
       "959. -2.05957990548373\n",
       "960. -1.73301474155728\n",
       "961. -1.1795982615585\n",
       "962. -3.04058825758204\n",
       "963. -1.81782852789751\n",
       "964. -2.32330218722927\n",
       "965. -1.66080860042354\n",
       "966. -1.00723721583358\n",
       "967. -1.18321112013656\n",
       "968. -1.62634352974943\n",
       "969. -1.42606848219275\n",
       "970. -1.55057413562479\n",
       "971. -2.81944155833213\n",
       "972. -2.44642928960674\n",
       "973. -0.750518991081352\n",
       "974. -1.25995442988535\n",
       "975. -1.62647676501844\n",
       "976. -2.6833635308646\n",
       "977. -1.06831614617186\n",
       "978. -2.44222644325335\n",
       "979. -3.59657459958853\n",
       "980. -2.53428195707541\n",
       "981. -2.91368163423196\n",
       "982. -2.00267609219469\n",
       "983. -1.49676479922151\n",
       "984. -1.0821784557191\n",
       "985. -4.20592564912606\n",
       "986. -2.91018777637392\n",
       "987. -1.89901564186419\n",
       "988. -2.02377348888885\n",
       "989. -2.13396145691508\n",
       "990. -3.07301593409331\n",
       "991. -3.27415374984469\n",
       "992. -2.139492273252\n",
       "993. -2.75776975874216\n",
       "994. -3.37173719616403\n",
       "995. -1.47417125179202\n",
       "996. -2.41641053319783\n",
       "997. -1.49004462817299\n",
       "998. -2.1990822087676\n",
       "999. -1.96049635682812\n",
       "1000. -3.0495987163707\n",
       "\n",
       "\n"
      ],
      "text/plain": [
       "   [1] -0.989523120 -3.215971655 -3.170260847 -2.276595432 -2.506089214\n",
       "   [6] -3.011286990 -0.699737379 -3.642972316 -1.927788178 -2.504330168\n",
       "  [11] -2.046627496 -2.018111950 -2.888077310 -1.336792702 -0.045205638\n",
       "  [16] -2.330826860 -2.063307144 -1.129219803 -2.284854596 -3.339263595\n",
       "  [21] -1.952988808 -1.480801348 -1.954754145 -2.274522737 -2.464425228\n",
       "  [26] -2.121128487 -1.728764277 -1.411955579 -3.417900686 -2.187508757\n",
       "  [31] -1.888415417 -2.695784036 -2.370395239 -0.883036142 -2.585023357\n",
       "  [36] -1.299052704 -2.257646195 -3.760303995 -3.209366359 -3.478540334\n",
       "  [41]  0.019122197 -1.898704682 -1.396229741 -1.945022647 -3.338718282\n",
       "  [46] -0.749210780 -3.184592366 -2.136242055 -1.430687874 -2.291442350\n",
       "  [51] -0.468954799 -0.734479105 -2.176005387 -1.788429471 -1.913564249\n",
       "  [56] -1.618708300 -0.852275435 -2.148641409 -2.304495456 -3.013551567\n",
       "  [61] -2.637949933 -1.963888815 -1.503386852 -4.023346313 -0.741233774\n",
       "  [66] -3.203699503 -2.577389461 -2.906190320 -3.662534363 -3.852486450\n",
       "  [71] -0.962001779 -2.345604427 -2.613701548 -0.631277699 -0.763407032\n",
       "  [76] -2.124088105 -1.769557188 -0.941248214 -0.730260875 -0.936863713\n",
       "  [81] -2.364057210 -3.223899544 -1.067671125 -2.426325249 -1.311734806\n",
       "  [86] -0.701211311 -2.353903741 -0.805851844 -3.271382979 -1.950656620\n",
       "  [91] -0.766929050 -0.899069227 -1.582096532 -1.293519493 -1.561952531\n",
       "  [96] -1.824616265 -2.634022636 -0.486005154 -2.103250639 -1.120524216\n",
       " [101] -2.822927810 -0.328813264 -3.036998901 -1.124323592 -1.374903882\n",
       " [106] -2.435514717 -3.596544391 -0.828208892 -1.544535729 -1.302327071\n",
       " [111] -0.830793893 -3.342790761 -3.528020868 -1.911988695 -1.204292344\n",
       " [116] -1.231414435 -0.541924152 -1.190745959 -1.800615932 -3.090529895\n",
       " [121] -2.180435753 -1.401836423 -2.201155487 -2.181504167 -1.352062118\n",
       " [126] -1.241932575 -1.047088468 -3.315025833 -0.838322011 -4.103126767\n",
       " [131] -1.379598528 -1.052658640 -1.621126055 -1.507350263 -1.204794538\n",
       " [136] -1.556107569 -0.430693755 -1.628566320 -3.664277939 -2.662619767\n",
       " [141] -2.516252657 -1.755466159 -1.978366725 -2.059097734 -2.188580172\n",
       " [146] -2.023826893 -1.613800175 -3.695872670 -2.145910722 -0.940234320\n",
       " [151] -2.140739269 -2.647293672 -2.274252261 -2.630450642 -0.871970148\n",
       " [156] -0.788344181 -1.489359906 -1.125969409 -0.657426165 -2.220257409\n",
       " [161] -1.929440335 -3.150716936 -1.037413086 -0.855137307 -0.612776197\n",
       " [166] -2.078048630 -2.427411486 -0.606770620 -0.787267459 -1.389394199\n",
       " [171] -1.723009828 -3.341913029 -2.097108739 -2.456043477 -2.113419429\n",
       " [176] -0.960588214 -2.358897810 -0.984623434 -0.615925449 -1.410276482\n",
       " [181] -0.211514779 -0.566671928 -3.637448407 -2.989972330 -1.965248947\n",
       " [186] -0.887188964 -0.846225880 -0.837887129 -2.286202321 -0.467114887\n",
       " [191] -1.015695272 -2.164492745 -1.168308249 -0.257762697 -1.586909805\n",
       " [196] -1.447703075 -1.226604438 -2.190550886 -3.417575406 -3.170185787\n",
       " [201] -3.371792793 -2.255818471 -0.007224527 -1.291099756 -2.087856564\n",
       " [206] -0.904376374 -0.784349735 -3.038943466 -1.168842818 -1.799974788\n",
       " [211] -1.432511649  0.209193934 -3.158742388 -1.551302117 -0.771998939\n",
       " [216] -2.252350264 -4.094960265 -2.161992900 -0.884586804 -1.098357324\n",
       " [221] -1.835400899 -0.975157893 -1.884383497 -0.542321613 -3.611572942\n",
       " [226] -0.859491808 -0.376338540 -1.812397362 -1.382883471 -2.344389394\n",
       " [231] -0.304621658 -1.427394514 -0.550623852 -2.557886661 -0.614384613\n",
       " [236] -1.830632964 -2.069126083 -1.337946111 -1.460147887 -1.370781428\n",
       " [241] -2.757240602 -2.416984122 -1.219159652 -0.927331695 -3.475204403\n",
       " [246] -1.734266721 -1.438937680 -1.635053438 -2.595407696 -3.310566339\n",
       " [251] -2.691397854 -1.257465712 -3.755365165 -1.904350307 -0.869185848\n",
       " [256] -1.244304292 -1.800977051  0.011318049 -1.870042213 -2.561327009\n",
       " [261] -2.973178122 -2.407277959 -4.178266075 -3.727450374 -2.444443180\n",
       " [266] -3.195097077 -0.740169659 -0.227738749 -0.683173099 -1.245186118\n",
       " [271] -2.946642165 -1.890293781 -1.041397812 -1.266766029 -1.224258725\n",
       " [276] -2.925487851 -0.420981734 -4.048827878 -0.833685556 -1.292416400\n",
       " [281] -0.639525108 -2.146786214 -1.794406599 -2.695668991 -3.391282683\n",
       " [286] -1.770382902 -1.323503561 -1.321889726 -3.166280887 -1.579522486\n",
       " [291] -0.549391430 -0.468650487 -3.519462774 -2.107312644 -1.500265765\n",
       " [296] -1.545088189 -1.096787507 -3.793938552 -2.530989707 -1.853395542\n",
       " [301] -0.338839042 -1.806785585 -0.449018408 -1.495906558 -0.490278988\n",
       " [306] -4.834555060 -2.618568215 -2.129740577 -0.967760293 -1.546194112\n",
       " [311] -1.435316515 -1.051118299 -2.323327701 -3.631106335 -2.936979990\n",
       " [316] -3.412357105 -1.010700935 -2.460011856 -2.037067016 -3.008639007\n",
       " [321] -0.546593139 -2.140865759 -1.030907540 -1.571876792 -3.290251726\n",
       " [326] -4.070849067 -1.526607697 -2.565583258 -3.230510871 -1.229360822\n",
       " [331] -2.451727611 -4.745043980 -1.462286477 -3.588910799 -3.328277800\n",
       " [336] -1.830048515 -2.324940008 -2.847853869 -2.321101853 -2.283031264\n",
       " [341] -3.392798645 -2.272655524 -1.667353450 -1.756602795 -3.005148885\n",
       " [346] -1.728544208 -0.977269236 -1.804280118 -1.685818808 -1.115749235\n",
       " [351] -3.531947879 -2.526953857 -2.784354536 -2.689224208 -2.326891037\n",
       " [356] -1.937083858 -1.019280367 -3.005667049 -3.250594823 -3.176741907\n",
       " [361] -2.553720426 -1.962763239 -2.601005069 -2.621361725 -1.612986639\n",
       " [366] -0.530087481 -3.507404935 -0.302373883 -1.268968995 -2.065179302\n",
       " [371] -2.756481816 -3.393109688 -1.826703919 -1.069566482 -3.173513579\n",
       " [376] -2.785614710 -1.115963111 -0.732300391 -1.245652178 -2.331017025\n",
       " [381] -0.586857780 -2.478461925 -3.941713623 -1.511512823 -2.925197216\n",
       " [386] -1.431954262 -2.318362363 -3.766569360 -0.817319912 -2.761966385\n",
       " [391] -2.294284974 -1.736337375 -3.076939586 -1.797800459 -0.810565409\n",
       " [396]  0.018891373 -3.205805383 -0.518801149 -0.699949847 -0.647997181\n",
       " [401] -2.080001294 -0.816082388 -2.560268594 -2.355309372 -4.275993819\n",
       " [406] -2.759269989 -0.905633510  0.171010097 -1.721422390 -1.204149995\n",
       " [411] -0.257121416 -0.601441675  0.383783632 -2.555218387 -1.781892843\n",
       " [416] -1.962429371 -3.927231147 -2.106081349 -0.454485992 -2.511329567\n",
       " [421] -2.357829204 -0.986905354 -1.135817385 -2.215984287 -0.591761315\n",
       " [426] -1.407388472 -1.242865223 -2.880661554 -0.935359584 -1.710265476\n",
       " [431] -3.248555693 -0.828382351 -1.432332631 -3.554553033 -2.494001362\n",
       " [436] -2.847449958 -0.418715311 -1.516319962 -1.706457343 -1.577080658\n",
       " [441] -2.340563184 -0.473277934 -3.019302421 -2.331197120 -3.026760457\n",
       " [446] -2.084473547 -3.182720491 -1.309716960 -1.556182866  0.135446253\n",
       " [451] -0.996859222 -0.943030402 -1.143120312 -3.087750265 -3.038157962\n",
       " [456] -1.371357585 -0.774244701 -2.217188532 -1.967718031 -0.782720950\n",
       " [461] -1.849733010 -1.799346624 -1.996842885 -1.821342600 -2.091466780\n",
       " [466] -4.140185335 -2.316062639 -0.956429158 -2.005929383 -3.036287166\n",
       " [471] -2.374801378 -2.015875668 -2.599218675 -2.773869767 -0.367766378\n",
       " [476] -1.132208526 -1.666289254 -1.202961457 -0.356692900 -3.435700303\n",
       " [481] -1.567050708 -0.604519672 -1.770299049 -3.361311111 -0.485549793\n",
       " [486] -1.529220271 -2.191501748 -4.850063404 -1.614833135 -3.771583834\n",
       " [491] -3.332683952 -0.404673809 -3.621495774 -1.874955139 -3.142816150\n",
       " [496] -2.195863851 -2.067742941 -2.673022425 -0.442268974 -1.845919527\n",
       " [501] -1.910401079 -0.103792538 -1.194353369 -0.635863406 -0.753263444\n",
       " [506] -1.062437106 -3.526484003 -0.552316349 -3.392156117 -1.174541473\n",
       " [511] -0.569619084 -2.800842187 -2.972610426 -1.317439635 -1.598168471\n",
       " [516] -2.268894216 -2.075152158 -2.719537313 -1.724693618 -1.598256228\n",
       " [521] -1.967282701 -2.857336466 -1.954194201 -2.361468695 -0.906894156\n",
       " [526] -1.641958071 -3.923878124 -3.082980048 -2.776839987 -0.214724765\n",
       " [531] -4.372734336 -0.590435301 -1.879287614 -1.082061970 -1.353272462\n",
       " [536] -0.549752294 -2.247945515 -1.782862715 -1.847532478 -2.080828140\n",
       " [541] -0.552021263 -1.911911543 -3.228913273 -1.843515067 -3.960625025\n",
       " [546] -1.031673474 -0.951384996 -0.281240179 -1.979265172 -2.591148789\n",
       " [551] -1.413597924 -3.119019770 -2.629224343 -2.002546955 -1.831323195\n",
       " [556] -2.154254890 -3.855370515 -2.553299333 -2.002887260 -0.862721111\n",
       " [561] -0.796861555 -0.762980446 -1.137441177 -3.398810221 -1.396598253\n",
       " [566] -0.754183864 -1.993450767 -1.627525816 -1.300315749 -3.217258254\n",
       " [571] -3.140950603 -1.197408601 -2.282655104 -1.877474011 -2.364198372\n",
       " [576] -2.366729177 -1.252903360 -1.924156861 -2.165834387 -0.678473603\n",
       " [581] -2.966021376 -1.933096921 -2.055467688 -0.631543104 -2.859320165\n",
       " [586] -1.130663649 -0.276208595 -3.752350859 -1.565506933 -3.507393010\n",
       " [591] -1.970965590 -0.546169736 -2.546397982 -1.162967558 -2.802069746\n",
       " [596] -1.103067254 -4.630606926 -3.079502668 -1.856294148 -2.481655924\n",
       " [601] -1.007631236 -2.080555118 -0.716005616 -2.039379705 -3.046978888\n",
       " [606] -0.942321938 -3.191480396 -1.772370628 -1.413626048 -1.030818475\n",
       " [611] -2.636243591 -1.724712880 -1.497221302 -1.436890967 -1.499391396\n",
       " [616] -2.433699428 -2.733841848 -3.348328762 -2.562117680 -2.281574485\n",
       " [621] -2.662396106 -2.259166973 -3.455015585 -1.248354306 -3.471307770\n",
       " [626] -3.384052716 -0.470525649 -0.699816770 -1.320828423 -2.856655991\n",
       " [631] -2.880831673 -0.483793681 -1.673189163 -3.403573655 -1.565468552\n",
       " [636] -0.945312635 -1.557143346 -3.111184561 -1.321001338 -3.248932860\n",
       " [641] -1.091112889 -2.606393811 -2.100601280 -2.125279340 -0.791540276\n",
       " [646] -1.709236933 -1.842982704 -3.020867717 -1.292262557 -1.650558289\n",
       " [651] -1.364455104 -4.013095781 -1.477581967 -0.524633804 -1.717027070\n",
       " [656] -2.298105588 -2.427553555 -1.099002643 -2.388304348 -4.337338892\n",
       " [661] -2.238782138 -2.053124915 -0.439430908 -0.802886648 -3.074872584\n",
       " [666] -0.954038358 -1.704622273 -1.108914398 -2.241756292 -4.291229554\n",
       " [671] -0.240663506 -2.997208691 -1.477871360 -2.505523944 -0.616615382\n",
       " [676] -3.183784582 -0.534587065 -0.672453079 -1.983630353 -2.176155838\n",
       " [681] -3.097318811 -2.991022029 -2.771809930 -1.209615111 -2.931676850\n",
       " [686] -1.888008307 -3.326661625 -0.777900906 -1.061895529 -3.567811013\n",
       " [691] -1.015556366 -2.303418733 -1.491996966 -3.766460061 -0.435570001\n",
       " [696] -2.222882619  0.037559886 -1.007639928 -2.021465273 -0.442012586\n",
       " [701] -2.581843743 -2.884982366 -3.611727582 -2.275852949  0.089413522\n",
       " [706] -2.254525806 -1.112498706 -0.704955760 -0.916936198 -3.074911820\n",
       " [711] -1.036495359 -1.740979700 -3.661575796 -3.791191347 -0.817590242\n",
       " [716] -0.449938706 -3.880548264 -2.260347598 -1.772094594 -0.950235790\n",
       " [721] -1.624827972 -1.690981983 -1.349310115 -1.389566328 -1.779052741\n",
       " [726] -2.732942825 -2.543140349 -2.006163909 -3.084645065 -0.541448760\n",
       " [731] -1.617807998 -0.457365583 -2.282860407  0.253216999 -2.810513945\n",
       " [736] -1.557183586 -0.598156109 -3.046252154 -1.339744045 -3.589432140\n",
       " [741] -1.884054501 -1.656314258 -0.984637590 -1.665994342 -2.390818539\n",
       " [746] -0.873365681 -1.607742308 -1.342583623 -3.355019429 -0.931211603\n",
       " [751] -3.973292144 -3.104383608 -0.983550921 -2.105079019 -0.510327093\n",
       " [756] -2.902939071 -0.866406547 -2.005071863 -3.063434321 -1.202340436\n",
       " [761] -0.435823453 -3.090964424 -1.834826213 -2.068125925 -2.208163418\n",
       " [766] -3.528633298 -2.692643284 -1.728318083 -2.539887647 -2.848953396\n",
       " [771] -0.962325835 -0.162690333 -1.347720983 -1.228021788 -2.127926268\n",
       " [776] -2.726786459 -3.610316724 -3.544435626 -1.318652804 -2.521088817\n",
       " [781] -1.916534750 -1.915724743 -1.082435946 -4.173735932 -3.450091240\n",
       " [786] -0.808309706 -3.593275034 -1.866947480 -1.395248172 -2.816557390\n",
       " [791] -0.898586380 -1.846161432 -0.100540970 -1.922398440 -1.476412478\n",
       " [796] -1.041570969 -1.435013779 -2.602040397 -0.748925383 -1.609822627\n",
       " [801] -3.295011262 -2.747502903 -0.717947398 -2.260470952 -2.157709126\n",
       " [806] -0.912825921 -2.770526231 -1.059201594 -2.584650433 -2.038648684\n",
       " [811] -3.330893657 -1.084994907 -2.037251467 -0.966097655 -3.447717696\n",
       " [816] -2.490102160 -0.075219974 -3.944464886 -3.114817782 -3.039133763\n",
       " [821]  0.347003113 -2.838179267 -1.844391739 -2.803969713 -3.118544079\n",
       " [826] -1.858643720 -2.344938620 -2.229710774 -0.345868229 -2.193933365\n",
       " [831] -2.342073382 -3.013846538 -2.168541868 -1.106616484 -2.916180067\n",
       " [836] -3.068906733 -1.913555426 -1.009152723 -2.221109688 -2.786798314\n",
       " [841] -2.876037037 -3.056145208 -3.329332848 -3.208521515 -0.567056280\n",
       " [846] -3.078973583 -3.718117760 -0.817842110 -1.297964416 -1.757231688\n",
       " [851] -0.177095125 -1.904474269 -2.914966637 -3.046477136 -2.732880481\n",
       " [856] -1.290944107 -0.786678980 -2.477872700 -2.468930692 -0.976396642\n",
       " [861] -3.309916990 -1.757872654 -2.511625834 -3.048873767 -2.712338244\n",
       " [866] -2.224665223 -0.611406503 -2.014739060 -3.344676635 -1.613932829\n",
       " [871] -2.413656068 -2.212208314 -3.202183557 -3.313402172 -2.383246198\n",
       " [876] -1.731816856 -2.789725971 -1.160645079 -2.711357559 -2.206172539\n",
       " [881] -0.380133130 -0.660961515 -2.767828507 -0.187270135 -2.439897038\n",
       " [886] -3.368860015 -2.703760517 -2.435132330 -2.140732581 -2.037938299\n",
       " [891] -3.036812396 -0.575138455 -2.373181448 -1.209115660 -0.819154446\n",
       " [896] -0.707913528 -3.374122010 -1.223950025 -1.507330893 -1.898733533\n",
       " [901] -1.415652565 -3.443101935 -2.641769966 -0.837784687 -2.282879947\n",
       " [906] -1.238728993 -2.509296625 -3.377440832 -1.101203351 -1.506402289\n",
       " [911] -1.784679607 -0.508456285 -1.162487812 -3.151130124 -3.176193869\n",
       " [916] -2.216520107 -2.995539645 -0.508819471 -0.565699790 -3.151078053\n",
       " [921] -3.027419739 -2.280456423 -2.866163494 -1.029392293 -2.553637093\n",
       " [926] -1.977512787 -3.329323385 -0.877024954 -2.532363558 -2.704710281\n",
       " [931] -1.705503602 -0.440095390 -1.859309425 -1.821914382 -1.635588318\n",
       " [936] -0.877651843 -0.738517006 -0.331842394 -0.218377956 -1.148948911\n",
       " [941]  0.416726848 -1.162918770 -0.493891390 -2.138969498 -2.285750278\n",
       " [946] -0.869630581 -0.167496953 -1.398488805 -1.908514458 -3.525419464\n",
       " [951] -2.164237704 -1.965124749 -2.131987104 -1.762822582 -1.249763217\n",
       " [956] -1.604180367 -2.576961048 -1.905577495 -2.059579905 -1.733014742\n",
       " [961] -1.179598262 -3.040588258 -1.817828528 -2.323302187 -1.660808600\n",
       " [966] -1.007237216 -1.183211120 -1.626343530 -1.426068482 -1.550574136\n",
       " [971] -2.819441558 -2.446429290 -0.750518991 -1.259954430 -1.626476765\n",
       " [976] -2.683363531 -1.068316146 -2.442226443 -3.596574600 -2.534281957\n",
       " [981] -2.913681634 -2.002676092 -1.496764799 -1.082178456 -4.205925649\n",
       " [986] -2.910187776 -1.899015642 -2.023773489 -2.133961457 -3.073015934\n",
       " [991] -3.274153750 -2.139492273 -2.757769759 -3.371737196 -1.474171252\n",
       " [996] -2.416410533 -1.490044628 -2.199082209 -1.960496357 -3.049598716"
      ]
     },
     "metadata": {},
     "output_type": "display_data"
    }
   ],
   "source": [
    "t_boot_MSSubClass <- results$t[,'MSSubClass']/se_MSSubClass\n",
    "t_boot_MSSubClass"
   ]
  },
  {
   "cell_type": "code",
   "execution_count": 73,
   "metadata": {
    "collapsed": false
   },
   "outputs": [
    {
     "name": "stderr",
     "output_type": "stream",
     "text": [
      "`stat_bin()` using `bins = 30`. Pick better value with `binwidth`.\n"
     ]
    },
    {
     "data": {},
     "metadata": {},
     "output_type": "display_data"
    },
    {
     "data": {
      "image/png": "[encoded data removed]",
      "text/plain": [
       "plot without title"
      ]
     },
     "metadata": {},
     "output_type": "display_data"
    }
   ],
   "source": [
    "qplot(t_boot_MSSubClass)"
   ]
  },
  {
   "cell_type": "code",
   "execution_count": 77,
   "metadata": {
    "collapsed": false
   },
   "outputs": [
    {
     "data": {
      "text/html": [
       "0.012"
      ],
      "text/latex": [
       "0.012"
      ],
      "text/markdown": [
       "0.012"
      ],
      "text/plain": [
       "[1] 0.012"
      ]
     },
     "metadata": {},
     "output_type": "display_data"
    }
   ],
   "source": [
    "sum(t_boot_MSSubClass>0)/1000 # dengan alpha 5%, terbukti bahwa hubungan nilainya negatif"
   ]
  },
  {
   "cell_type": "code",
   "execution_count": 80,
   "metadata": {
    "collapsed": true
   },
   "outputs": [],
   "source": [
    "t_H0_MSSubClass <- (t_boot_MSSubClass - mean(t_boot_MSSubClass))/sd(t_boot_MSSubClass)"
   ]
  },
  {
   "cell_type": "code",
   "execution_count": 81,
   "metadata": {
    "collapsed": false
   },
   "outputs": [
    {
     "name": "stderr",
     "output_type": "stream",
     "text": [
      "`stat_bin()` using `bins = 30`. Pick better value with `binwidth`.\n"
     ]
    },
    {
     "data": {},
     "metadata": {},
     "output_type": "display_data"
    },
    {
     "data": {
      "image/png": "[encoded data removed]",
      "text/plain": [
       "plot without title"
      ]
     },
     "metadata": {},
     "output_type": "display_data"
    }
   ],
   "source": [
    "qplot(t_H0_MSSubClass)"
   ]
  },
  {
   "cell_type": "code",
   "execution_count": 82,
   "metadata": {
    "collapsed": true
   },
   "outputs": [],
   "source": [
    "t.stat <- results$t0['MSSubClass'] / se_MSSubClass"
   ]
  },
  {
   "cell_type": "code",
   "execution_count": 83,
   "metadata": {
    "collapsed": false
   },
   "outputs": [
    {
     "data": {
      "text/html": [
       "<strong>MSSubClass:</strong> -2.21820991111697"
      ],
      "text/latex": [
       "\\textbf{MSSubClass:} -2.21820991111697"
      ],
      "text/markdown": [
       "**MSSubClass:** -2.21820991111697"
      ],
      "text/plain": [
       "MSSubClass \n",
       "  -2.21821 "
      ]
     },
     "metadata": {},
     "output_type": "display_data"
    }
   ],
   "source": [
    "t.stat"
   ]
  },
  {
   "cell_type": "code",
   "execution_count": 86,
   "metadata": {
    "collapsed": false
   },
   "outputs": [
    {
     "name": "stderr",
     "output_type": "stream",
     "text": [
      "`stat_bin()` using `bins = 30`. Pick better value with `binwidth`.\n"
     ]
    },
    {
     "data": {},
     "metadata": {},
     "output_type": "display_data"
    },
    {
     "data": {
      "image/png": "[encoded data removed]",
      "text/plain": [
       "plot without title"
      ]
     },
     "metadata": {},
     "output_type": "display_data"
    }
   ],
   "source": [
    "qplot(t_H0_MSSubClass)+geom_vline(xintercept = t.stat, color='red')"
   ]
  },
  {
   "cell_type": "code",
   "execution_count": 92,
   "metadata": {
    "collapsed": false
   },
   "outputs": [
    {
     "data": {
      "text/html": [
       "0.011"
      ],
      "text/latex": [
       "0.011"
      ],
      "text/markdown": [
       "0.011"
      ],
      "text/plain": [
       "[1] 0.011"
      ]
     },
     "metadata": {},
     "output_type": "display_data"
    }
   ],
   "source": [
    "p2 <- sum(t_H0_MSSubClass < t.stat)/1000\n",
    "p2"
   ]
  },
  {
   "cell_type": "code",
   "execution_count": 89,
   "metadata": {
    "collapsed": false
   },
   "outputs": [
    {
     "name": "stderr",
     "output_type": "stream",
     "text": [
      "`stat_bin()` using `bins = 30`. Pick better value with `binwidth`.\n"
     ]
    },
    {
     "data": {},
     "metadata": {},
     "output_type": "display_data"
    },
    {
     "data": {
      "image/png": "[encoded data removed]",
      "text/plain": [
       "plot without title"
      ]
     },
     "metadata": {},
     "output_type": "display_data"
    }
   ],
   "source": [
    "qplot(t_H0_MSSubClass)+geom_hline(yintercept = 30, color='red')"
   ]
  },
  {
   "cell_type": "code",
   "execution_count": null,
   "metadata": {
    "collapsed": true
   },
   "outputs": [],
   "source": []
  },
  {
   "cell_type": "code",
   "execution_count": 37,
   "metadata": {
    "collapsed": false,
    "scrolled": true
   },
   "outputs": [
    {
     "data": {
      "text/html": [
       "<dl class=dl-horizontal>\n",
       "\t<dt>5%</dt>\n",
       "\t\t<dd>-211.7192594899</dd>\n",
       "\t<dt>95%</dt>\n",
       "\t\t<dd>-60.5999944144329</dd>\n",
       "</dl>\n"
      ],
      "text/latex": [
       "\\begin{description*}\n",
       "\\item[5\\textbackslash{}\\%] -211.7192594899\n",
       "\\item[95\\textbackslash{}\\%] -60.5999944144329\n",
       "\\end{description*}\n"
      ],
      "text/markdown": [
       "5%\n",
       ":   -211.719259489995%\n",
       ":   -60.5999944144329\n",
       "\n"
      ],
      "text/plain": [
       "        5%        95% \n",
       "-211.71926  -60.59999 "
      ]
     },
     "metadata": {},
     "output_type": "display_data"
    }
   ],
   "source": [
    "quantile(results$t[, \"MSSubClass\"], probs = c(0.05, 0.95))"
   ]
  },
  {
   "cell_type": "code",
   "execution_count": null,
   "metadata": {
    "collapsed": true
   },
   "outputs": [],
   "source": []
  },
  {
   "cell_type": "code",
   "execution_count": null,
   "metadata": {
    "collapsed": true
   },
   "outputs": [],
   "source": []
  },
  {
   "cell_type": "code",
   "execution_count": 38,
   "metadata": {
    "collapsed": false
   },
   "outputs": [
    {
     "data": {
      "text/html": [
       "<dl class=dl-horizontal>\n",
       "\t<dt>5%</dt>\n",
       "\t\t<dd>0.0323153290653054</dd>\n",
       "\t<dt>95%</dt>\n",
       "\t\t<dd>35.3480718172919</dd>\n",
       "</dl>\n"
      ],
      "text/latex": [
       "\\begin{description*}\n",
       "\\item[5\\textbackslash{}\\%] 0.0323153290653054\n",
       "\\item[95\\textbackslash{}\\%] 35.3480718172919\n",
       "\\end{description*}\n"
      ],
      "text/markdown": [
       "5%\n",
       ":   0.032315329065305495%\n",
       ":   35.3480718172919\n",
       "\n"
      ],
      "text/plain": [
       "         5%         95% \n",
       " 0.03231533 35.34807182 "
      ]
     },
     "metadata": {},
     "output_type": "display_data"
    }
   ],
   "source": [
    "quantile(results$t[, \"TotalBsmtSF\"], probs = c(0.05, 0.95))"
   ]
  },
  {
   "cell_type": "code",
   "execution_count": 44,
   "metadata": {
    "collapsed": false
   },
   "outputs": [
    {
     "data": {
      "text/plain": [
       "BOOTSTRAP CONFIDENCE INTERVAL CALCULATIONS\n",
       "Based on 1000 bootstrap replicates\n",
       "\n",
       "CALL : \n",
       "boot.ci(boot.out = results, conf = 0.95, type = \"perc\", index = 10)\n",
       "\n",
       "Intervals : \n",
       "Level     Percentile     \n",
       "95%   (-3.43, 37.41 )  \n",
       "Calculations and Intervals on Original Scale"
      ]
     },
     "metadata": {},
     "output_type": "display_data"
    }
   ],
   "source": [
    "boot.ci(results, type=\"perc\", conf=0.95, index = 10)"
   ]
  },
  {
   "cell_type": "code",
   "execution_count": 41,
   "metadata": {
    "collapsed": true
   },
   "outputs": [],
   "source": [
    "?boot.ci"
   ]
  },
  {
   "cell_type": "markdown",
   "metadata": {},
   "source": [
    "### Cross Validation"
   ]
  },
  {
   "cell_type": "code",
   "execution_count": 93,
   "metadata": {
    "collapsed": true
   },
   "outputs": [],
   "source": [
    "?cv.glm"
   ]
  },
  {
   "cell_type": "code",
   "execution_count": 94,
   "metadata": {
    "collapsed": false
   },
   "outputs": [
    {
     "data": {
      "text/html": [
       "0.0272255427135635"
      ],
      "text/latex": [
       "0.0272255427135635"
      ],
      "text/markdown": [
       "0.0272255427135635"
      ],
      "text/plain": [
       "[1] 0.02722554"
      ]
     },
     "metadata": {},
     "output_type": "display_data"
    }
   ],
   "source": [
    "housing.glm <- glm(SalePrice ~ ., data = data_housing)\n",
    "(cv.err <- cv.glm(data_housing, housing.glm, K = 10)$delta[1])"
   ]
  },
  {
   "cell_type": "code",
   "execution_count": 95,
   "metadata": {
    "collapsed": true
   },
   "outputs": [],
   "source": [
    "housing.glm <- glm(SalePrice ~ ., data = data_housing)"
   ]
  },
  {
   "cell_type": "code",
   "execution_count": 96,
   "metadata": {
    "collapsed": false
   },
   "outputs": [
    {
     "data": {
      "text/html": [
       "0.0272498802563348"
      ],
      "text/latex": [
       "0.0272498802563348"
      ],
      "text/markdown": [
       "0.0272498802563348"
      ],
      "text/plain": [
       "[1] 0.02724988"
      ]
     },
     "metadata": {},
     "output_type": "display_data"
    }
   ],
   "source": [
    "(cv.err <- cv.glm(data_housing, housing.glm, K = 10)$delta[1])"
   ]
  },
  {
   "cell_type": "code",
   "execution_count": 97,
   "metadata": {
    "collapsed": true
   },
   "outputs": [],
   "source": [
    "housing_glm <- glm(log(SalePrice) ~ ., data = data_housing)"
   ]
  },
  {
   "cell_type": "code",
   "execution_count": 102,
   "metadata": {
    "collapsed": false
   },
   "outputs": [
    {
     "data": {
      "text/html": [
       "0.000192603671852791"
      ],
      "text/latex": [
       "0.000192603671852791"
      ],
      "text/markdown": [
       "0.000192603671852791"
      ],
      "text/plain": [
       "[1] 0.0001926037"
      ]
     },
     "metadata": {},
     "output_type": "display_data"
    }
   ],
   "source": [
    "(cv.err <- cv.glm(data_housing, housing_glm, K = 10)$delta[1])"
   ]
  },
  {
   "cell_type": "code",
   "execution_count": null,
   "metadata": {
    "collapsed": true
   },
   "outputs": [],
   "source": []
  },
  {
   "cell_type": "code",
   "execution_count": 1,
   "metadata": {
    "collapsed": false
   },
   "outputs": [
    {
     "name": "stdout",
     "output_type": "stream",
     "text": [
      "package 'leaps' successfully unpacked and MD5 sums checked\n",
      "\n",
      "The downloaded binary packages are in\n",
      "\tC:\\Users\\Public\\Documents\\Wondershare\\CreatorTemp\\Rtmp4QjIvS\\downloaded_packages\n"
     ]
    }
   ],
   "source": [
    "install.packages('leaps', repos='http://cran.us.r-project.org')"
   ]
  },
  {
   "cell_type": "code",
   "execution_count": null,
   "metadata": {
    "collapsed": true
   },
   "outputs": [],
   "source": []
  },
  {
   "cell_type": "code",
   "execution_count": null,
   "metadata": {
    "collapsed": true
   },
   "outputs": [],
   "source": []
  },
  {
   "cell_type": "code",
   "execution_count": null,
   "metadata": {
    "collapsed": true
   },
   "outputs": [],
   "source": []
  },
  {
   "cell_type": "markdown",
   "metadata": {},
   "source": [
    "### Variable Selection"
   ]
  },
  {
   "cell_type": "code",
   "execution_count": 89,
   "metadata": {
    "collapsed": true
   },
   "outputs": [],
   "source": [
    "library(leaps)\n",
    "## conda install r-leaps"
   ]
  },
  {
   "cell_type": "markdown",
   "metadata": {},
   "source": [
    "* Best Subset"
   ]
  },
  {
   "cell_type": "code",
   "execution_count": 138,
   "metadata": {
    "collapsed": true
   },
   "outputs": [],
   "source": [
    "help(regsubsets)"
   ]
  },
  {
   "cell_type": "code",
   "execution_count": 131,
   "metadata": {
    "collapsed": true
   },
   "outputs": [],
   "source": [
    "regfit.full = regsubsets(SalePrice ~ ., data = data_housing, nvmax =25)\n",
    "regfit.summary <- summary(regfit.full)"
   ]
  },
  {
   "cell_type": "code",
   "execution_count": 136,
   "metadata": {
    "collapsed": false,
    "scrolled": true
   },
   "outputs": [
    {
     "data": {
      "text/html": [
       "<table>\n",
       "<tbody>\n",
       "\t<tr><td> 1       </td><td>0.6256519</td></tr>\n",
       "\t<tr><td> 2       </td><td>0.7141732</td></tr>\n",
       "\t<tr><td> 3       </td><td>0.7420670</td></tr>\n",
       "\t<tr><td> 4       </td><td>0.7578568</td></tr>\n",
       "\t<tr><td> 5       </td><td>0.7668618</td></tr>\n",
       "\t<tr><td> 6       </td><td>0.7742486</td></tr>\n",
       "\t<tr><td> 7       </td><td>0.7805154</td></tr>\n",
       "\t<tr><td> 8       </td><td>0.7858391</td></tr>\n",
       "\t<tr><td> 9       </td><td>0.7903055</td></tr>\n",
       "\t<tr><td>10       </td><td>0.7942472</td></tr>\n",
       "\t<tr><td>11       </td><td>0.7963112</td></tr>\n",
       "\t<tr><td>12       </td><td>0.7981000</td></tr>\n",
       "\t<tr><td>13       </td><td>0.7998721</td></tr>\n",
       "\t<tr><td>14       </td><td>0.8007283</td></tr>\n",
       "\t<tr><td>15       </td><td>0.8014689</td></tr>\n",
       "\t<tr><td>16       </td><td>0.8017113</td></tr>\n",
       "\t<tr><td>17       </td><td>0.8018767</td></tr>\n",
       "\t<tr><td>18       </td><td>0.8020609</td></tr>\n",
       "\t<tr><td>19       </td><td>0.8021641</td></tr>\n",
       "\t<tr><td>20       </td><td>0.8022594</td></tr>\n",
       "\t<tr><td>21       </td><td>0.8023455</td></tr>\n",
       "\t<tr><td>22       </td><td>0.8024073</td></tr>\n",
       "\t<tr><td>23       </td><td>0.8024152</td></tr>\n",
       "\t<tr><td>24       </td><td>0.8024155</td></tr>\n",
       "</tbody>\n",
       "</table>\n"
      ],
      "text/latex": [
       "\\begin{tabular}{ll}\n",
       "\t  1        & 0.6256519\\\\\n",
       "\t  2        & 0.7141732\\\\\n",
       "\t  3        & 0.7420670\\\\\n",
       "\t  4        & 0.7578568\\\\\n",
       "\t  5        & 0.7668618\\\\\n",
       "\t  6        & 0.7742486\\\\\n",
       "\t  7        & 0.7805154\\\\\n",
       "\t  8        & 0.7858391\\\\\n",
       "\t  9        & 0.7903055\\\\\n",
       "\t 10        & 0.7942472\\\\\n",
       "\t 11        & 0.7963112\\\\\n",
       "\t 12        & 0.7981000\\\\\n",
       "\t 13        & 0.7998721\\\\\n",
       "\t 14        & 0.8007283\\\\\n",
       "\t 15        & 0.8014689\\\\\n",
       "\t 16        & 0.8017113\\\\\n",
       "\t 17        & 0.8018767\\\\\n",
       "\t 18        & 0.8020609\\\\\n",
       "\t 19        & 0.8021641\\\\\n",
       "\t 20        & 0.8022594\\\\\n",
       "\t 21        & 0.8023455\\\\\n",
       "\t 22        & 0.8024073\\\\\n",
       "\t 23        & 0.8024152\\\\\n",
       "\t 24        & 0.8024155\\\\\n",
       "\\end{tabular}\n"
      ],
      "text/markdown": [
       "\n",
       "|  1        | 0.6256519 | \n",
       "|  2        | 0.7141732 | \n",
       "|  3        | 0.7420670 | \n",
       "|  4        | 0.7578568 | \n",
       "|  5        | 0.7668618 | \n",
       "|  6        | 0.7742486 | \n",
       "|  7        | 0.7805154 | \n",
       "|  8        | 0.7858391 | \n",
       "|  9        | 0.7903055 | \n",
       "| 10        | 0.7942472 | \n",
       "| 11        | 0.7963112 | \n",
       "| 12        | 0.7981000 | \n",
       "| 13        | 0.7998721 | \n",
       "| 14        | 0.8007283 | \n",
       "| 15        | 0.8014689 | \n",
       "| 16        | 0.8017113 | \n",
       "| 17        | 0.8018767 | \n",
       "| 18        | 0.8020609 | \n",
       "| 19        | 0.8021641 | \n",
       "| 20        | 0.8022594 | \n",
       "| 21        | 0.8023455 | \n",
       "| 22        | 0.8024073 | \n",
       "| 23        | 0.8024152 | \n",
       "| 24        | 0.8024155 | \n",
       "\n",
       "\n"
      ],
      "text/plain": [
       "      [,1] [,2]     \n",
       " [1,]  1   0.6256519\n",
       " [2,]  2   0.7141732\n",
       " [3,]  3   0.7420670\n",
       " [4,]  4   0.7578568\n",
       " [5,]  5   0.7668618\n",
       " [6,]  6   0.7742486\n",
       " [7,]  7   0.7805154\n",
       " [8,]  8   0.7858391\n",
       " [9,]  9   0.7903055\n",
       "[10,] 10   0.7942472\n",
       "[11,] 11   0.7963112\n",
       "[12,] 12   0.7981000\n",
       "[13,] 13   0.7998721\n",
       "[14,] 14   0.8007283\n",
       "[15,] 15   0.8014689\n",
       "[16,] 16   0.8017113\n",
       "[17,] 17   0.8018767\n",
       "[18,] 18   0.8020609\n",
       "[19,] 19   0.8021641\n",
       "[20,] 20   0.8022594\n",
       "[21,] 21   0.8023455\n",
       "[22,] 22   0.8024073\n",
       "[23,] 23   0.8024152\n",
       "[24,] 24   0.8024155"
      ]
     },
     "metadata": {},
     "output_type": "display_data"
    }
   ],
   "source": [
    "cbind(seq(1:24), regfit.summary$rsq)"
   ]
  },
  {
   "cell_type": "code",
   "execution_count": 134,
   "metadata": {
    "collapsed": false,
    "scrolled": true
   },
   "outputs": [
    {
     "data": {
      "text/html": [
       "<table>\n",
       "<tbody>\n",
       "\t<tr><td> 1       </td><td>0.6253951</td></tr>\n",
       "\t<tr><td> 2       </td><td>0.7137809</td></tr>\n",
       "\t<tr><td> 3       </td><td>0.7415355</td></tr>\n",
       "\t<tr><td> 4       </td><td>0.7571912</td></tr>\n",
       "\t<tr><td> 5       </td><td>0.7660601</td></tr>\n",
       "\t<tr><td> 6       </td><td>0.7733164</td></tr>\n",
       "\t<tr><td> 7       </td><td>0.7794573</td></tr>\n",
       "\t<tr><td> 8       </td><td>0.7846584</td></tr>\n",
       "\t<tr><td> 9       </td><td>0.7890039</td></tr>\n",
       "\t<tr><td>10       </td><td>0.7928272</td></tr>\n",
       "\t<tr><td>11       </td><td>0.7947639</td></tr>\n",
       "\t<tr><td>12       </td><td>0.7964256</td></tr>\n",
       "\t<tr><td>13       </td><td>0.7980729</td></tr>\n",
       "\t<tr><td>14       </td><td>0.7987977</td></tr>\n",
       "\t<tr><td>15       </td><td>0.7994065</td></tr>\n",
       "\t<tr><td>16       </td><td>0.7995127</td></tr>\n",
       "\t<tr><td>17       </td><td>0.7995410</td></tr>\n",
       "\t<tr><td>18       </td><td>0.7995884</td></tr>\n",
       "\t<tr><td>19       </td><td>0.7995538</td></tr>\n",
       "\t<tr><td>20       </td><td>0.7995111</td></tr>\n",
       "\t<tr><td>21       </td><td>0.7994590</td></tr>\n",
       "\t<tr><td>22       </td><td>0.7993823</td></tr>\n",
       "\t<tr><td>23       </td><td>0.7992506</td></tr>\n",
       "\t<tr><td>24       </td><td>0.7991109</td></tr>\n",
       "</tbody>\n",
       "</table>\n"
      ],
      "text/latex": [
       "\\begin{tabular}{ll}\n",
       "\t  1        & 0.6253951\\\\\n",
       "\t  2        & 0.7137809\\\\\n",
       "\t  3        & 0.7415355\\\\\n",
       "\t  4        & 0.7571912\\\\\n",
       "\t  5        & 0.7660601\\\\\n",
       "\t  6        & 0.7733164\\\\\n",
       "\t  7        & 0.7794573\\\\\n",
       "\t  8        & 0.7846584\\\\\n",
       "\t  9        & 0.7890039\\\\\n",
       "\t 10        & 0.7928272\\\\\n",
       "\t 11        & 0.7947639\\\\\n",
       "\t 12        & 0.7964256\\\\\n",
       "\t 13        & 0.7980729\\\\\n",
       "\t 14        & 0.7987977\\\\\n",
       "\t 15        & 0.7994065\\\\\n",
       "\t 16        & 0.7995127\\\\\n",
       "\t 17        & 0.7995410\\\\\n",
       "\t 18        & 0.7995884\\\\\n",
       "\t 19        & 0.7995538\\\\\n",
       "\t 20        & 0.7995111\\\\\n",
       "\t 21        & 0.7994590\\\\\n",
       "\t 22        & 0.7993823\\\\\n",
       "\t 23        & 0.7992506\\\\\n",
       "\t 24        & 0.7991109\\\\\n",
       "\\end{tabular}\n"
      ],
      "text/markdown": [
       "\n",
       "|  1        | 0.6253951 | \n",
       "|  2        | 0.7137809 | \n",
       "|  3        | 0.7415355 | \n",
       "|  4        | 0.7571912 | \n",
       "|  5        | 0.7660601 | \n",
       "|  6        | 0.7733164 | \n",
       "|  7        | 0.7794573 | \n",
       "|  8        | 0.7846584 | \n",
       "|  9        | 0.7890039 | \n",
       "| 10        | 0.7928272 | \n",
       "| 11        | 0.7947639 | \n",
       "| 12        | 0.7964256 | \n",
       "| 13        | 0.7980729 | \n",
       "| 14        | 0.7987977 | \n",
       "| 15        | 0.7994065 | \n",
       "| 16        | 0.7995127 | \n",
       "| 17        | 0.7995410 | \n",
       "| 18        | 0.7995884 | \n",
       "| 19        | 0.7995538 | \n",
       "| 20        | 0.7995111 | \n",
       "| 21        | 0.7994590 | \n",
       "| 22        | 0.7993823 | \n",
       "| 23        | 0.7992506 | \n",
       "| 24        | 0.7991109 | \n",
       "\n",
       "\n"
      ],
      "text/plain": [
       "      [,1] [,2]     \n",
       " [1,]  1   0.6253951\n",
       " [2,]  2   0.7137809\n",
       " [3,]  3   0.7415355\n",
       " [4,]  4   0.7571912\n",
       " [5,]  5   0.7660601\n",
       " [6,]  6   0.7733164\n",
       " [7,]  7   0.7794573\n",
       " [8,]  8   0.7846584\n",
       " [9,]  9   0.7890039\n",
       "[10,] 10   0.7928272\n",
       "[11,] 11   0.7947639\n",
       "[12,] 12   0.7964256\n",
       "[13,] 13   0.7980729\n",
       "[14,] 14   0.7987977\n",
       "[15,] 15   0.7994065\n",
       "[16,] 16   0.7995127\n",
       "[17,] 17   0.7995410\n",
       "[18,] 18   0.7995884\n",
       "[19,] 19   0.7995538\n",
       "[20,] 20   0.7995111\n",
       "[21,] 21   0.7994590\n",
       "[22,] 22   0.7993823\n",
       "[23,] 23   0.7992506\n",
       "[24,] 24   0.7991109"
      ]
     },
     "metadata": {},
     "output_type": "display_data"
    }
   ],
   "source": [
    "cbind(seq(1:24), regfit.summary$adjr2)"
   ]
  },
  {
   "cell_type": "code",
   "execution_count": 112,
   "metadata": {
    "collapsed": false,
    "scrolled": true
   },
   "outputs": [
    {
     "data": {
      "text/html": [
       "<table>\n",
       "<tbody>\n",
       "\t<tr><td> 1        </td><td>1262.78369</td></tr>\n",
       "\t<tr><td> 2        </td><td> 621.87848</td></tr>\n",
       "\t<tr><td> 3        </td><td> 421.29418</td></tr>\n",
       "\t<tr><td> 4        </td><td> 308.61684</td></tr>\n",
       "\t<tr><td> 5        </td><td> 245.21618</td></tr>\n",
       "\t<tr><td> 6        </td><td> 193.56810</td></tr>\n",
       "\t<tr><td> 7        </td><td> 150.05418</td></tr>\n",
       "\t<tr><td> 8        </td><td> 113.38952</td></tr>\n",
       "\t<tr><td> 9        </td><td>  82.95174</td></tr>\n",
       "\t<tr><td>10        </td><td>  56.32414</td></tr>\n",
       "\t<tr><td>11        </td><td>  43.33362</td></tr>\n",
       "\t<tr><td>12        </td><td>  32.34231</td></tr>\n",
       "\t<tr><td>13        </td><td>  21.47171</td></tr>\n",
       "\t<tr><td>14        </td><td>  17.25329</td></tr>\n",
       "\t<tr><td>15        </td><td>  13.87520</td></tr>\n",
       "\t<tr><td>16        </td><td>  14.11418</td></tr>\n",
       "\t<tr><td>17        </td><td>  14.91297</td></tr>\n",
       "\t<tr><td>18        </td><td>  15.57534</td></tr>\n",
       "\t<tr><td>19        </td><td>  16.82574</td></tr>\n",
       "\t<tr><td>20        </td><td>  18.13372</td></tr>\n",
       "\t<tr><td>21        </td><td>  19.50822</td></tr>\n",
       "\t<tr><td>22        </td><td>  21.05928</td></tr>\n",
       "\t<tr><td>23        </td><td>  23.00204</td></tr>\n",
       "\t<tr><td>24        </td><td>  25.00000</td></tr>\n",
       "</tbody>\n",
       "</table>\n"
      ],
      "text/latex": [
       "\\begin{tabular}{ll}\n",
       "\t  1         & 1262.78369\\\\\n",
       "\t  2         &  621.87848\\\\\n",
       "\t  3         &  421.29418\\\\\n",
       "\t  4         &  308.61684\\\\\n",
       "\t  5         &  245.21618\\\\\n",
       "\t  6         &  193.56810\\\\\n",
       "\t  7         &  150.05418\\\\\n",
       "\t  8         &  113.38952\\\\\n",
       "\t  9         &   82.95174\\\\\n",
       "\t 10         &   56.32414\\\\\n",
       "\t 11         &   43.33362\\\\\n",
       "\t 12         &   32.34231\\\\\n",
       "\t 13         &   21.47171\\\\\n",
       "\t 14         &   17.25329\\\\\n",
       "\t 15         &   13.87520\\\\\n",
       "\t 16         &   14.11418\\\\\n",
       "\t 17         &   14.91297\\\\\n",
       "\t 18         &   15.57534\\\\\n",
       "\t 19         &   16.82574\\\\\n",
       "\t 20         &   18.13372\\\\\n",
       "\t 21         &   19.50822\\\\\n",
       "\t 22         &   21.05928\\\\\n",
       "\t 23         &   23.00204\\\\\n",
       "\t 24         &   25.00000\\\\\n",
       "\\end{tabular}\n"
      ],
      "text/markdown": [
       "\n",
       "|  1         | 1262.78369 | \n",
       "|  2         |  621.87848 | \n",
       "|  3         |  421.29418 | \n",
       "|  4         |  308.61684 | \n",
       "|  5         |  245.21618 | \n",
       "|  6         |  193.56810 | \n",
       "|  7         |  150.05418 | \n",
       "|  8         |  113.38952 | \n",
       "|  9         |   82.95174 | \n",
       "| 10         |   56.32414 | \n",
       "| 11         |   43.33362 | \n",
       "| 12         |   32.34231 | \n",
       "| 13         |   21.47171 | \n",
       "| 14         |   17.25329 | \n",
       "| 15         |   13.87520 | \n",
       "| 16         |   14.11418 | \n",
       "| 17         |   14.91297 | \n",
       "| 18         |   15.57534 | \n",
       "| 19         |   16.82574 | \n",
       "| 20         |   18.13372 | \n",
       "| 21         |   19.50822 | \n",
       "| 22         |   21.05928 | \n",
       "| 23         |   23.00204 | \n",
       "| 24         |   25.00000 | \n",
       "\n",
       "\n"
      ],
      "text/plain": [
       "      [,1] [,2]      \n",
       " [1,]  1   1262.78369\n",
       " [2,]  2    621.87848\n",
       " [3,]  3    421.29418\n",
       " [4,]  4    308.61684\n",
       " [5,]  5    245.21618\n",
       " [6,]  6    193.56810\n",
       " [7,]  7    150.05418\n",
       " [8,]  8    113.38952\n",
       " [9,]  9     82.95174\n",
       "[10,] 10     56.32414\n",
       "[11,] 11     43.33362\n",
       "[12,] 12     32.34231\n",
       "[13,] 13     21.47171\n",
       "[14,] 14     17.25329\n",
       "[15,] 15     13.87520\n",
       "[16,] 16     14.11418\n",
       "[17,] 17     14.91297\n",
       "[18,] 18     15.57534\n",
       "[19,] 19     16.82574\n",
       "[20,] 20     18.13372\n",
       "[21,] 21     19.50822\n",
       "[22,] 22     21.05928\n",
       "[23,] 23     23.00204\n",
       "[24,] 24     25.00000"
      ]
     },
     "metadata": {},
     "output_type": "display_data"
    }
   ],
   "source": [
    "cbind(seq(1:24), regfit.summary$cp)"
   ]
  },
  {
   "cell_type": "code",
   "execution_count": 111,
   "metadata": {
    "collapsed": false,
    "scrolled": true
   },
   "outputs": [
    {
     "data": {
      "text/html": [
       "<table>\n",
       "<tbody>\n",
       "\t<tr><td> 1       </td><td>-1419.979</td></tr>\n",
       "\t<tr><td> 2       </td><td>-1806.601</td></tr>\n",
       "\t<tr><td> 3       </td><td>-1949.236</td></tr>\n",
       "\t<tr><td> 4       </td><td>-2034.179</td></tr>\n",
       "\t<tr><td> 5       </td><td>-2082.224</td></tr>\n",
       "\t<tr><td> 6       </td><td>-2121.945</td></tr>\n",
       "\t<tr><td> 7       </td><td>-2155.761</td></tr>\n",
       "\t<tr><td> 8       </td><td>-2184.325</td></tr>\n",
       "\t<tr><td> 9       </td><td>-2207.809</td></tr>\n",
       "\t<tr><td>10       </td><td>-2228.228</td></tr>\n",
       "\t<tr><td>11       </td><td>-2235.662</td></tr>\n",
       "\t<tr><td>12       </td><td>-2241.254</td></tr>\n",
       "\t<tr><td>13       </td><td>-2246.840</td></tr>\n",
       "\t<tr><td>14       </td><td>-2245.813</td></tr>\n",
       "\t<tr><td>15       </td><td>-2243.962</td></tr>\n",
       "\t<tr><td>16       </td><td>-2238.461</td></tr>\n",
       "\t<tr><td>17       </td><td>-2232.393</td></tr>\n",
       "\t<tr><td>18       </td><td>-2226.464</td></tr>\n",
       "\t<tr><td>19       </td><td>-2219.940</td></tr>\n",
       "\t<tr><td>20       </td><td>-2213.357</td></tr>\n",
       "\t<tr><td>21       </td><td>-2206.707</td></tr>\n",
       "\t<tr><td>22       </td><td>-2199.877</td></tr>\n",
       "\t<tr><td>23       </td><td>-2192.649</td></tr>\n",
       "\t<tr><td>24       </td><td>-2185.365</td></tr>\n",
       "</tbody>\n",
       "</table>\n"
      ],
      "text/latex": [
       "\\begin{tabular}{ll}\n",
       "\t  1        & -1419.979\\\\\n",
       "\t  2        & -1806.601\\\\\n",
       "\t  3        & -1949.236\\\\\n",
       "\t  4        & -2034.179\\\\\n",
       "\t  5        & -2082.224\\\\\n",
       "\t  6        & -2121.945\\\\\n",
       "\t  7        & -2155.761\\\\\n",
       "\t  8        & -2184.325\\\\\n",
       "\t  9        & -2207.809\\\\\n",
       "\t 10        & -2228.228\\\\\n",
       "\t 11        & -2235.662\\\\\n",
       "\t 12        & -2241.254\\\\\n",
       "\t 13        & -2246.840\\\\\n",
       "\t 14        & -2245.813\\\\\n",
       "\t 15        & -2243.962\\\\\n",
       "\t 16        & -2238.461\\\\\n",
       "\t 17        & -2232.393\\\\\n",
       "\t 18        & -2226.464\\\\\n",
       "\t 19        & -2219.940\\\\\n",
       "\t 20        & -2213.357\\\\\n",
       "\t 21        & -2206.707\\\\\n",
       "\t 22        & -2199.877\\\\\n",
       "\t 23        & -2192.649\\\\\n",
       "\t 24        & -2185.365\\\\\n",
       "\\end{tabular}\n"
      ],
      "text/markdown": [
       "\n",
       "|  1        | -1419.979 | \n",
       "|  2        | -1806.601 | \n",
       "|  3        | -1949.236 | \n",
       "|  4        | -2034.179 | \n",
       "|  5        | -2082.224 | \n",
       "|  6        | -2121.945 | \n",
       "|  7        | -2155.761 | \n",
       "|  8        | -2184.325 | \n",
       "|  9        | -2207.809 | \n",
       "| 10        | -2228.228 | \n",
       "| 11        | -2235.662 | \n",
       "| 12        | -2241.254 | \n",
       "| 13        | -2246.840 | \n",
       "| 14        | -2245.813 | \n",
       "| 15        | -2243.962 | \n",
       "| 16        | -2238.461 | \n",
       "| 17        | -2232.393 | \n",
       "| 18        | -2226.464 | \n",
       "| 19        | -2219.940 | \n",
       "| 20        | -2213.357 | \n",
       "| 21        | -2206.707 | \n",
       "| 22        | -2199.877 | \n",
       "| 23        | -2192.649 | \n",
       "| 24        | -2185.365 | \n",
       "\n",
       "\n"
      ],
      "text/plain": [
       "      [,1] [,2]     \n",
       " [1,]  1   -1419.979\n",
       " [2,]  2   -1806.601\n",
       " [3,]  3   -1949.236\n",
       " [4,]  4   -2034.179\n",
       " [5,]  5   -2082.224\n",
       " [6,]  6   -2121.945\n",
       " [7,]  7   -2155.761\n",
       " [8,]  8   -2184.325\n",
       " [9,]  9   -2207.809\n",
       "[10,] 10   -2228.228\n",
       "[11,] 11   -2235.662\n",
       "[12,] 12   -2241.254\n",
       "[13,] 13   -2246.840\n",
       "[14,] 14   -2245.813\n",
       "[15,] 15   -2243.962\n",
       "[16,] 16   -2238.461\n",
       "[17,] 17   -2232.393\n",
       "[18,] 18   -2226.464\n",
       "[19,] 19   -2219.940\n",
       "[20,] 20   -2213.357\n",
       "[21,] 21   -2206.707\n",
       "[22,] 22   -2199.877\n",
       "[23,] 23   -2192.649\n",
       "[24,] 24   -2185.365"
      ]
     },
     "metadata": {},
     "output_type": "display_data"
    }
   ],
   "source": [
    "cbind(seq(1:24), regfit.summary$bic)"
   ]
  },
  {
   "cell_type": "code",
   "execution_count": null,
   "metadata": {
    "collapsed": true
   },
   "outputs": [],
   "source": []
  },
  {
   "cell_type": "markdown",
   "metadata": {},
   "source": [
    "* Forward Selection"
   ]
  },
  {
   "cell_type": "code",
   "execution_count": 127,
   "metadata": {
    "collapsed": true
   },
   "outputs": [],
   "source": [
    "regfit.fwd = regsubsets(SalePrice ~ ., data = data_housing, method = \"forward\", nvmax =26)\n",
    "regfitfwd.summary <- summary(regfit.fwd)"
   ]
  },
  {
   "cell_type": "code",
   "execution_count": 129,
   "metadata": {
    "collapsed": false
   },
   "outputs": [
    {
     "data": {
      "text/plain": [
       "Subset selection object\n",
       "Call: regsubsets.formula(SalePrice ~ ., data = data_housing, method = \"forward\", \n",
       "    nvmax = 26)\n",
       "24 Variables  (and intercept)\n",
       "              Forced in Forced out\n",
       "MSSubClass        FALSE      FALSE\n",
       "LotFrontage       FALSE      FALSE\n",
       "LotArea           FALSE      FALSE\n",
       "OverallQual       FALSE      FALSE\n",
       "OverallCond       FALSE      FALSE\n",
       "YearBuilt         FALSE      FALSE\n",
       "YearRemodAdd      FALSE      FALSE\n",
       "MasVnrArea        FALSE      FALSE\n",
       "TotalBsmtSF       FALSE      FALSE\n",
       "X1stFlrSF         FALSE      FALSE\n",
       "X2ndFlrSF         FALSE      FALSE\n",
       "GrLivArea         FALSE      FALSE\n",
       "BedroomAbvGr      FALSE      FALSE\n",
       "KitchenAbvGr      FALSE      FALSE\n",
       "TotRmsAbvGrd      FALSE      FALSE\n",
       "GarageArea        FALSE      FALSE\n",
       "WoodDeckSF        FALSE      FALSE\n",
       "OpenPorchSF       FALSE      FALSE\n",
       "EnclosedPorch     FALSE      FALSE\n",
       "X3SsnPorch        FALSE      FALSE\n",
       "ScreenPorch       FALSE      FALSE\n",
       "PoolArea          FALSE      FALSE\n",
       "MoSold            FALSE      FALSE\n",
       "YrSold            FALSE      FALSE\n",
       "1 subsets of each size up to 24\n",
       "Selection Algorithm: forward\n",
       "          MSSubClass LotFrontage LotArea OverallQual OverallCond YearBuilt\n",
       "1  ( 1 )  \" \"        \" \"         \" \"     \"*\"         \" \"         \" \"      \n",
       "2  ( 1 )  \" \"        \" \"         \" \"     \"*\"         \" \"         \" \"      \n",
       "3  ( 1 )  \" \"        \" \"         \" \"     \"*\"         \" \"         \" \"      \n",
       "4  ( 1 )  \" \"        \" \"         \" \"     \"*\"         \" \"         \"*\"      \n",
       "5  ( 1 )  \" \"        \" \"         \" \"     \"*\"         \" \"         \"*\"      \n",
       "6  ( 1 )  \" \"        \" \"         \" \"     \"*\"         \"*\"         \"*\"      \n",
       "7  ( 1 )  \"*\"        \" \"         \" \"     \"*\"         \"*\"         \"*\"      \n",
       "8  ( 1 )  \"*\"        \" \"         \" \"     \"*\"         \"*\"         \"*\"      \n",
       "9  ( 1 )  \"*\"        \" \"         \"*\"     \"*\"         \"*\"         \"*\"      \n",
       "10  ( 1 ) \"*\"        \" \"         \"*\"     \"*\"         \"*\"         \"*\"      \n",
       "11  ( 1 ) \"*\"        \" \"         \"*\"     \"*\"         \"*\"         \"*\"      \n",
       "12  ( 1 ) \"*\"        \" \"         \"*\"     \"*\"         \"*\"         \"*\"      \n",
       "13  ( 1 ) \"*\"        \" \"         \"*\"     \"*\"         \"*\"         \"*\"      \n",
       "14  ( 1 ) \"*\"        \" \"         \"*\"     \"*\"         \"*\"         \"*\"      \n",
       "15  ( 1 ) \"*\"        \" \"         \"*\"     \"*\"         \"*\"         \"*\"      \n",
       "16  ( 1 ) \"*\"        \" \"         \"*\"     \"*\"         \"*\"         \"*\"      \n",
       "17  ( 1 ) \"*\"        \" \"         \"*\"     \"*\"         \"*\"         \"*\"      \n",
       "18  ( 1 ) \"*\"        \" \"         \"*\"     \"*\"         \"*\"         \"*\"      \n",
       "19  ( 1 ) \"*\"        \"*\"         \"*\"     \"*\"         \"*\"         \"*\"      \n",
       "20  ( 1 ) \"*\"        \"*\"         \"*\"     \"*\"         \"*\"         \"*\"      \n",
       "21  ( 1 ) \"*\"        \"*\"         \"*\"     \"*\"         \"*\"         \"*\"      \n",
       "22  ( 1 ) \"*\"        \"*\"         \"*\"     \"*\"         \"*\"         \"*\"      \n",
       "23  ( 1 ) \"*\"        \"*\"         \"*\"     \"*\"         \"*\"         \"*\"      \n",
       "24  ( 1 ) \"*\"        \"*\"         \"*\"     \"*\"         \"*\"         \"*\"      \n",
       "          YearRemodAdd MasVnrArea TotalBsmtSF X1stFlrSF X2ndFlrSF GrLivArea\n",
       "1  ( 1 )  \" \"          \" \"        \" \"         \" \"       \" \"       \" \"      \n",
       "2  ( 1 )  \" \"          \" \"        \" \"         \" \"       \" \"       \"*\"      \n",
       "3  ( 1 )  \" \"          \" \"        \"*\"         \" \"       \" \"       \"*\"      \n",
       "4  ( 1 )  \" \"          \" \"        \"*\"         \" \"       \" \"       \"*\"      \n",
       "5  ( 1 )  \" \"          \" \"        \"*\"         \" \"       \" \"       \"*\"      \n",
       "6  ( 1 )  \" \"          \" \"        \"*\"         \" \"       \" \"       \"*\"      \n",
       "7  ( 1 )  \" \"          \" \"        \"*\"         \" \"       \" \"       \"*\"      \n",
       "8  ( 1 )  \" \"          \" \"        \"*\"         \" \"       \" \"       \"*\"      \n",
       "9  ( 1 )  \" \"          \" \"        \"*\"         \" \"       \" \"       \"*\"      \n",
       "10  ( 1 ) \" \"          \"*\"        \"*\"         \" \"       \" \"       \"*\"      \n",
       "11  ( 1 ) \" \"          \"*\"        \"*\"         \" \"       \" \"       \"*\"      \n",
       "12  ( 1 ) \" \"          \"*\"        \"*\"         \" \"       \" \"       \"*\"      \n",
       "13  ( 1 ) \" \"          \"*\"        \"*\"         \" \"       \" \"       \"*\"      \n",
       "14  ( 1 ) \"*\"          \"*\"        \"*\"         \" \"       \" \"       \"*\"      \n",
       "15  ( 1 ) \"*\"          \"*\"        \"*\"         \" \"       \" \"       \"*\"      \n",
       "16  ( 1 ) \"*\"          \"*\"        \"*\"         \" \"       \" \"       \"*\"      \n",
       "17  ( 1 ) \"*\"          \"*\"        \"*\"         \"*\"       \" \"       \"*\"      \n",
       "18  ( 1 ) \"*\"          \"*\"        \"*\"         \"*\"       \"*\"       \"*\"      \n",
       "19  ( 1 ) \"*\"          \"*\"        \"*\"         \"*\"       \"*\"       \"*\"      \n",
       "20  ( 1 ) \"*\"          \"*\"        \"*\"         \"*\"       \"*\"       \"*\"      \n",
       "21  ( 1 ) \"*\"          \"*\"        \"*\"         \"*\"       \"*\"       \"*\"      \n",
       "22  ( 1 ) \"*\"          \"*\"        \"*\"         \"*\"       \"*\"       \"*\"      \n",
       "23  ( 1 ) \"*\"          \"*\"        \"*\"         \"*\"       \"*\"       \"*\"      \n",
       "24  ( 1 ) \"*\"          \"*\"        \"*\"         \"*\"       \"*\"       \"*\"      \n",
       "          BedroomAbvGr KitchenAbvGr TotRmsAbvGrd GarageArea WoodDeckSF\n",
       "1  ( 1 )  \" \"          \" \"          \" \"          \" \"        \" \"       \n",
       "2  ( 1 )  \" \"          \" \"          \" \"          \" \"        \" \"       \n",
       "3  ( 1 )  \" \"          \" \"          \" \"          \" \"        \" \"       \n",
       "4  ( 1 )  \" \"          \" \"          \" \"          \" \"        \" \"       \n",
       "5  ( 1 )  \" \"          \" \"          \" \"          \"*\"        \" \"       \n",
       "6  ( 1 )  \" \"          \" \"          \" \"          \"*\"        \" \"       \n",
       "7  ( 1 )  \" \"          \" \"          \" \"          \"*\"        \" \"       \n",
       "8  ( 1 )  \"*\"          \" \"          \" \"          \"*\"        \" \"       \n",
       "9  ( 1 )  \"*\"          \" \"          \" \"          \"*\"        \" \"       \n",
       "10  ( 1 ) \"*\"          \" \"          \" \"          \"*\"        \" \"       \n",
       "11  ( 1 ) \"*\"          \" \"          \" \"          \"*\"        \"*\"       \n",
       "12  ( 1 ) \"*\"          \" \"          \"*\"          \"*\"        \"*\"       \n",
       "13  ( 1 ) \"*\"          \" \"          \"*\"          \"*\"        \"*\"       \n",
       "14  ( 1 ) \"*\"          \" \"          \"*\"          \"*\"        \"*\"       \n",
       "15  ( 1 ) \"*\"          \"*\"          \"*\"          \"*\"        \"*\"       \n",
       "16  ( 1 ) \"*\"          \"*\"          \"*\"          \"*\"        \"*\"       \n",
       "17  ( 1 ) \"*\"          \"*\"          \"*\"          \"*\"        \"*\"       \n",
       "18  ( 1 ) \"*\"          \"*\"          \"*\"          \"*\"        \"*\"       \n",
       "19  ( 1 ) \"*\"          \"*\"          \"*\"          \"*\"        \"*\"       \n",
       "20  ( 1 ) \"*\"          \"*\"          \"*\"          \"*\"        \"*\"       \n",
       "21  ( 1 ) \"*\"          \"*\"          \"*\"          \"*\"        \"*\"       \n",
       "22  ( 1 ) \"*\"          \"*\"          \"*\"          \"*\"        \"*\"       \n",
       "23  ( 1 ) \"*\"          \"*\"          \"*\"          \"*\"        \"*\"       \n",
       "24  ( 1 ) \"*\"          \"*\"          \"*\"          \"*\"        \"*\"       \n",
       "          OpenPorchSF EnclosedPorch X3SsnPorch ScreenPorch PoolArea MoSold\n",
       "1  ( 1 )  \" \"         \" \"           \" \"        \" \"         \" \"      \" \"   \n",
       "2  ( 1 )  \" \"         \" \"           \" \"        \" \"         \" \"      \" \"   \n",
       "3  ( 1 )  \" \"         \" \"           \" \"        \" \"         \" \"      \" \"   \n",
       "4  ( 1 )  \" \"         \" \"           \" \"        \" \"         \" \"      \" \"   \n",
       "5  ( 1 )  \" \"         \" \"           \" \"        \" \"         \" \"      \" \"   \n",
       "6  ( 1 )  \" \"         \" \"           \" \"        \" \"         \" \"      \" \"   \n",
       "7  ( 1 )  \" \"         \" \"           \" \"        \" \"         \" \"      \" \"   \n",
       "8  ( 1 )  \" \"         \" \"           \" \"        \" \"         \" \"      \" \"   \n",
       "9  ( 1 )  \" \"         \" \"           \" \"        \" \"         \" \"      \" \"   \n",
       "10  ( 1 ) \" \"         \" \"           \" \"        \" \"         \" \"      \" \"   \n",
       "11  ( 1 ) \" \"         \" \"           \" \"        \" \"         \" \"      \" \"   \n",
       "12  ( 1 ) \" \"         \" \"           \" \"        \" \"         \" \"      \" \"   \n",
       "13  ( 1 ) \" \"         \" \"           \" \"        \"*\"         \" \"      \" \"   \n",
       "14  ( 1 ) \" \"         \" \"           \" \"        \"*\"         \" \"      \" \"   \n",
       "15  ( 1 ) \" \"         \" \"           \" \"        \"*\"         \" \"      \" \"   \n",
       "16  ( 1 ) \" \"         \" \"           \" \"        \"*\"         \"*\"      \" \"   \n",
       "17  ( 1 ) \" \"         \" \"           \" \"        \"*\"         \"*\"      \" \"   \n",
       "18  ( 1 ) \" \"         \" \"           \" \"        \"*\"         \"*\"      \" \"   \n",
       "19  ( 1 ) \" \"         \" \"           \" \"        \"*\"         \"*\"      \" \"   \n",
       "20  ( 1 ) \" \"         \"*\"           \" \"        \"*\"         \"*\"      \" \"   \n",
       "21  ( 1 ) \" \"         \"*\"           \" \"        \"*\"         \"*\"      \" \"   \n",
       "22  ( 1 ) \" \"         \"*\"           \"*\"        \"*\"         \"*\"      \" \"   \n",
       "23  ( 1 ) \"*\"         \"*\"           \"*\"        \"*\"         \"*\"      \" \"   \n",
       "24  ( 1 ) \"*\"         \"*\"           \"*\"        \"*\"         \"*\"      \"*\"   \n",
       "          YrSold\n",
       "1  ( 1 )  \" \"   \n",
       "2  ( 1 )  \" \"   \n",
       "3  ( 1 )  \" \"   \n",
       "4  ( 1 )  \" \"   \n",
       "5  ( 1 )  \" \"   \n",
       "6  ( 1 )  \" \"   \n",
       "7  ( 1 )  \" \"   \n",
       "8  ( 1 )  \" \"   \n",
       "9  ( 1 )  \" \"   \n",
       "10  ( 1 ) \" \"   \n",
       "11  ( 1 ) \" \"   \n",
       "12  ( 1 ) \" \"   \n",
       "13  ( 1 ) \" \"   \n",
       "14  ( 1 ) \" \"   \n",
       "15  ( 1 ) \" \"   \n",
       "16  ( 1 ) \" \"   \n",
       "17  ( 1 ) \" \"   \n",
       "18  ( 1 ) \" \"   \n",
       "19  ( 1 ) \" \"   \n",
       "20  ( 1 ) \" \"   \n",
       "21  ( 1 ) \"*\"   \n",
       "22  ( 1 ) \"*\"   \n",
       "23  ( 1 ) \"*\"   \n",
       "24  ( 1 ) \"*\"   "
      ]
     },
     "metadata": {},
     "output_type": "display_data"
    }
   ],
   "source": [
    "summary(regfit.fwd)"
   ]
  },
  {
   "cell_type": "markdown",
   "metadata": {},
   "source": [
    "* Backward Selection"
   ]
  },
  {
   "cell_type": "code",
   "execution_count": 137,
   "metadata": {
    "collapsed": true
   },
   "outputs": [],
   "source": [
    "regfit.bcd = regsubsets(SalePrice ~ ., data = data_housing, method = \"backward\", nvmax =26)\n",
    "regfitbcd.summary <- summary(regfit.bcd)"
   ]
  },
  {
   "cell_type": "code",
   "execution_count": 139,
   "metadata": {
    "collapsed": false
   },
   "outputs": [
    {
     "data": {
      "text/plain": [
       "Subset selection object\n",
       "Call: regsubsets.formula(SalePrice ~ ., data = data_housing, method = \"backward\", \n",
       "    nvmax = 26)\n",
       "24 Variables  (and intercept)\n",
       "              Forced in Forced out\n",
       "MSSubClass        FALSE      FALSE\n",
       "LotFrontage       FALSE      FALSE\n",
       "LotArea           FALSE      FALSE\n",
       "OverallQual       FALSE      FALSE\n",
       "OverallCond       FALSE      FALSE\n",
       "YearBuilt         FALSE      FALSE\n",
       "YearRemodAdd      FALSE      FALSE\n",
       "MasVnrArea        FALSE      FALSE\n",
       "TotalBsmtSF       FALSE      FALSE\n",
       "X1stFlrSF         FALSE      FALSE\n",
       "X2ndFlrSF         FALSE      FALSE\n",
       "GrLivArea         FALSE      FALSE\n",
       "BedroomAbvGr      FALSE      FALSE\n",
       "KitchenAbvGr      FALSE      FALSE\n",
       "TotRmsAbvGrd      FALSE      FALSE\n",
       "GarageArea        FALSE      FALSE\n",
       "WoodDeckSF        FALSE      FALSE\n",
       "OpenPorchSF       FALSE      FALSE\n",
       "EnclosedPorch     FALSE      FALSE\n",
       "X3SsnPorch        FALSE      FALSE\n",
       "ScreenPorch       FALSE      FALSE\n",
       "PoolArea          FALSE      FALSE\n",
       "MoSold            FALSE      FALSE\n",
       "YrSold            FALSE      FALSE\n",
       "1 subsets of each size up to 24\n",
       "Selection Algorithm: backward\n",
       "          MSSubClass LotFrontage LotArea OverallQual OverallCond YearBuilt\n",
       "1  ( 1 )  \" \"        \" \"         \" \"     \"*\"         \" \"         \" \"      \n",
       "2  ( 1 )  \" \"        \" \"         \" \"     \"*\"         \" \"         \" \"      \n",
       "3  ( 1 )  \" \"        \" \"         \" \"     \"*\"         \" \"         \" \"      \n",
       "4  ( 1 )  \" \"        \" \"         \" \"     \"*\"         \" \"         \"*\"      \n",
       "5  ( 1 )  \"*\"        \" \"         \" \"     \"*\"         \" \"         \"*\"      \n",
       "6  ( 1 )  \"*\"        \" \"         \" \"     \"*\"         \" \"         \"*\"      \n",
       "7  ( 1 )  \"*\"        \" \"         \" \"     \"*\"         \"*\"         \"*\"      \n",
       "8  ( 1 )  \"*\"        \" \"         \" \"     \"*\"         \"*\"         \"*\"      \n",
       "9  ( 1 )  \"*\"        \" \"         \"*\"     \"*\"         \"*\"         \"*\"      \n",
       "10  ( 1 ) \"*\"        \" \"         \"*\"     \"*\"         \"*\"         \"*\"      \n",
       "11  ( 1 ) \"*\"        \" \"         \"*\"     \"*\"         \"*\"         \"*\"      \n",
       "12  ( 1 ) \"*\"        \" \"         \"*\"     \"*\"         \"*\"         \"*\"      \n",
       "13  ( 1 ) \"*\"        \" \"         \"*\"     \"*\"         \"*\"         \"*\"      \n",
       "14  ( 1 ) \"*\"        \" \"         \"*\"     \"*\"         \"*\"         \"*\"      \n",
       "15  ( 1 ) \"*\"        \" \"         \"*\"     \"*\"         \"*\"         \"*\"      \n",
       "16  ( 1 ) \"*\"        \" \"         \"*\"     \"*\"         \"*\"         \"*\"      \n",
       "17  ( 1 ) \"*\"        \" \"         \"*\"     \"*\"         \"*\"         \"*\"      \n",
       "18  ( 1 ) \"*\"        \" \"         \"*\"     \"*\"         \"*\"         \"*\"      \n",
       "19  ( 1 ) \"*\"        \"*\"         \"*\"     \"*\"         \"*\"         \"*\"      \n",
       "20  ( 1 ) \"*\"        \"*\"         \"*\"     \"*\"         \"*\"         \"*\"      \n",
       "21  ( 1 ) \"*\"        \"*\"         \"*\"     \"*\"         \"*\"         \"*\"      \n",
       "22  ( 1 ) \"*\"        \"*\"         \"*\"     \"*\"         \"*\"         \"*\"      \n",
       "23  ( 1 ) \"*\"        \"*\"         \"*\"     \"*\"         \"*\"         \"*\"      \n",
       "24  ( 1 ) \"*\"        \"*\"         \"*\"     \"*\"         \"*\"         \"*\"      \n",
       "          YearRemodAdd MasVnrArea TotalBsmtSF X1stFlrSF X2ndFlrSF GrLivArea\n",
       "1  ( 1 )  \" \"          \" \"        \" \"         \" \"       \" \"       \" \"      \n",
       "2  ( 1 )  \" \"          \" \"        \" \"         \"*\"       \" \"       \" \"      \n",
       "3  ( 1 )  \" \"          \" \"        \" \"         \"*\"       \"*\"       \" \"      \n",
       "4  ( 1 )  \" \"          \" \"        \" \"         \"*\"       \"*\"       \" \"      \n",
       "5  ( 1 )  \" \"          \" \"        \" \"         \"*\"       \"*\"       \" \"      \n",
       "6  ( 1 )  \" \"          \" \"        \" \"         \"*\"       \"*\"       \" \"      \n",
       "7  ( 1 )  \" \"          \" \"        \" \"         \"*\"       \"*\"       \" \"      \n",
       "8  ( 1 )  \" \"          \"*\"        \" \"         \"*\"       \"*\"       \" \"      \n",
       "9  ( 1 )  \" \"          \"*\"        \" \"         \"*\"       \"*\"       \" \"      \n",
       "10  ( 1 ) \" \"          \"*\"        \" \"         \"*\"       \"*\"       \" \"      \n",
       "11  ( 1 ) \" \"          \"*\"        \" \"         \"*\"       \"*\"       \" \"      \n",
       "12  ( 1 ) \" \"          \"*\"        \" \"         \"*\"       \"*\"       \" \"      \n",
       "13  ( 1 ) \" \"          \"*\"        \"*\"         \"*\"       \"*\"       \" \"      \n",
       "14  ( 1 ) \" \"          \"*\"        \"*\"         \"*\"       \"*\"       \" \"      \n",
       "15  ( 1 ) \" \"          \"*\"        \"*\"         \"*\"       \"*\"       \" \"      \n",
       "16  ( 1 ) \"*\"          \"*\"        \"*\"         \"*\"       \"*\"       \" \"      \n",
       "17  ( 1 ) \"*\"          \"*\"        \"*\"         \"*\"       \"*\"       \"*\"      \n",
       "18  ( 1 ) \"*\"          \"*\"        \"*\"         \"*\"       \"*\"       \"*\"      \n",
       "19  ( 1 ) \"*\"          \"*\"        \"*\"         \"*\"       \"*\"       \"*\"      \n",
       "20  ( 1 ) \"*\"          \"*\"        \"*\"         \"*\"       \"*\"       \"*\"      \n",
       "21  ( 1 ) \"*\"          \"*\"        \"*\"         \"*\"       \"*\"       \"*\"      \n",
       "22  ( 1 ) \"*\"          \"*\"        \"*\"         \"*\"       \"*\"       \"*\"      \n",
       "23  ( 1 ) \"*\"          \"*\"        \"*\"         \"*\"       \"*\"       \"*\"      \n",
       "24  ( 1 ) \"*\"          \"*\"        \"*\"         \"*\"       \"*\"       \"*\"      \n",
       "          BedroomAbvGr KitchenAbvGr TotRmsAbvGrd GarageArea WoodDeckSF\n",
       "1  ( 1 )  \" \"          \" \"          \" \"          \" \"        \" \"       \n",
       "2  ( 1 )  \" \"          \" \"          \" \"          \" \"        \" \"       \n",
       "3  ( 1 )  \" \"          \" \"          \" \"          \" \"        \" \"       \n",
       "4  ( 1 )  \" \"          \" \"          \" \"          \" \"        \" \"       \n",
       "5  ( 1 )  \" \"          \" \"          \" \"          \" \"        \" \"       \n",
       "6  ( 1 )  \"*\"          \" \"          \" \"          \" \"        \" \"       \n",
       "7  ( 1 )  \"*\"          \" \"          \" \"          \" \"        \" \"       \n",
       "8  ( 1 )  \"*\"          \" \"          \" \"          \" \"        \" \"       \n",
       "9  ( 1 )  \"*\"          \" \"          \" \"          \" \"        \" \"       \n",
       "10  ( 1 ) \"*\"          \" \"          \" \"          \"*\"        \" \"       \n",
       "11  ( 1 ) \"*\"          \" \"          \" \"          \"*\"        \"*\"       \n",
       "12  ( 1 ) \"*\"          \" \"          \"*\"          \"*\"        \"*\"       \n",
       "13  ( 1 ) \"*\"          \" \"          \"*\"          \"*\"        \"*\"       \n",
       "14  ( 1 ) \"*\"          \" \"          \"*\"          \"*\"        \"*\"       \n",
       "15  ( 1 ) \"*\"          \"*\"          \"*\"          \"*\"        \"*\"       \n",
       "16  ( 1 ) \"*\"          \"*\"          \"*\"          \"*\"        \"*\"       \n",
       "17  ( 1 ) \"*\"          \"*\"          \"*\"          \"*\"        \"*\"       \n",
       "18  ( 1 ) \"*\"          \"*\"          \"*\"          \"*\"        \"*\"       \n",
       "19  ( 1 ) \"*\"          \"*\"          \"*\"          \"*\"        \"*\"       \n",
       "20  ( 1 ) \"*\"          \"*\"          \"*\"          \"*\"        \"*\"       \n",
       "21  ( 1 ) \"*\"          \"*\"          \"*\"          \"*\"        \"*\"       \n",
       "22  ( 1 ) \"*\"          \"*\"          \"*\"          \"*\"        \"*\"       \n",
       "23  ( 1 ) \"*\"          \"*\"          \"*\"          \"*\"        \"*\"       \n",
       "24  ( 1 ) \"*\"          \"*\"          \"*\"          \"*\"        \"*\"       \n",
       "          OpenPorchSF EnclosedPorch X3SsnPorch ScreenPorch PoolArea MoSold\n",
       "1  ( 1 )  \" \"         \" \"           \" \"        \" \"         \" \"      \" \"   \n",
       "2  ( 1 )  \" \"         \" \"           \" \"        \" \"         \" \"      \" \"   \n",
       "3  ( 1 )  \" \"         \" \"           \" \"        \" \"         \" \"      \" \"   \n",
       "4  ( 1 )  \" \"         \" \"           \" \"        \" \"         \" \"      \" \"   \n",
       "5  ( 1 )  \" \"         \" \"           \" \"        \" \"         \" \"      \" \"   \n",
       "6  ( 1 )  \" \"         \" \"           \" \"        \" \"         \" \"      \" \"   \n",
       "7  ( 1 )  \" \"         \" \"           \" \"        \" \"         \" \"      \" \"   \n",
       "8  ( 1 )  \" \"         \" \"           \" \"        \" \"         \" \"      \" \"   \n",
       "9  ( 1 )  \" \"         \" \"           \" \"        \" \"         \" \"      \" \"   \n",
       "10  ( 1 ) \" \"         \" \"           \" \"        \" \"         \" \"      \" \"   \n",
       "11  ( 1 ) \" \"         \" \"           \" \"        \" \"         \" \"      \" \"   \n",
       "12  ( 1 ) \" \"         \" \"           \" \"        \" \"         \" \"      \" \"   \n",
       "13  ( 1 ) \" \"         \" \"           \" \"        \" \"         \" \"      \" \"   \n",
       "14  ( 1 ) \" \"         \" \"           \" \"        \"*\"         \" \"      \" \"   \n",
       "15  ( 1 ) \" \"         \" \"           \" \"        \"*\"         \" \"      \" \"   \n",
       "16  ( 1 ) \" \"         \" \"           \" \"        \"*\"         \" \"      \" \"   \n",
       "17  ( 1 ) \" \"         \" \"           \" \"        \"*\"         \" \"      \" \"   \n",
       "18  ( 1 ) \" \"         \" \"           \" \"        \"*\"         \"*\"      \" \"   \n",
       "19  ( 1 ) \" \"         \" \"           \" \"        \"*\"         \"*\"      \" \"   \n",
       "20  ( 1 ) \" \"         \"*\"           \" \"        \"*\"         \"*\"      \" \"   \n",
       "21  ( 1 ) \" \"         \"*\"           \" \"        \"*\"         \"*\"      \" \"   \n",
       "22  ( 1 ) \" \"         \"*\"           \"*\"        \"*\"         \"*\"      \" \"   \n",
       "23  ( 1 ) \"*\"         \"*\"           \"*\"        \"*\"         \"*\"      \" \"   \n",
       "24  ( 1 ) \"*\"         \"*\"           \"*\"        \"*\"         \"*\"      \"*\"   \n",
       "          YrSold\n",
       "1  ( 1 )  \" \"   \n",
       "2  ( 1 )  \" \"   \n",
       "3  ( 1 )  \" \"   \n",
       "4  ( 1 )  \" \"   \n",
       "5  ( 1 )  \" \"   \n",
       "6  ( 1 )  \" \"   \n",
       "7  ( 1 )  \" \"   \n",
       "8  ( 1 )  \" \"   \n",
       "9  ( 1 )  \" \"   \n",
       "10  ( 1 ) \" \"   \n",
       "11  ( 1 ) \" \"   \n",
       "12  ( 1 ) \" \"   \n",
       "13  ( 1 ) \" \"   \n",
       "14  ( 1 ) \" \"   \n",
       "15  ( 1 ) \" \"   \n",
       "16  ( 1 ) \" \"   \n",
       "17  ( 1 ) \" \"   \n",
       "18  ( 1 ) \" \"   \n",
       "19  ( 1 ) \" \"   \n",
       "20  ( 1 ) \" \"   \n",
       "21  ( 1 ) \"*\"   \n",
       "22  ( 1 ) \"*\"   \n",
       "23  ( 1 ) \"*\"   \n",
       "24  ( 1 ) \"*\"   "
      ]
     },
     "metadata": {},
     "output_type": "display_data"
    }
   ],
   "source": [
    "summary(regfit.bcd)"
   ]
  },
  {
   "cell_type": "markdown",
   "metadata": {},
   "source": [
    "* Validation Set Evaluation"
   ]
  },
  {
   "cell_type": "code",
   "execution_count": 140,
   "metadata": {
    "collapsed": true
   },
   "outputs": [],
   "source": [
    "set.seed(1)"
   ]
  },
  {
   "cell_type": "code",
   "execution_count": 144,
   "metadata": {
    "collapsed": true
   },
   "outputs": [],
   "source": [
    "train = sample(c(TRUE, FALSE), nrow(data_housing), rep = TRUE)\n",
    "test = (!train)"
   ]
  },
  {
   "cell_type": "code",
   "execution_count": 156,
   "metadata": {
    "collapsed": true
   },
   "outputs": [],
   "source": [
    "regfit.best = regsubsets(SalePrice ~ ., data = data_housing[train,], nvmax =24)"
   ]
  },
  {
   "cell_type": "code",
   "execution_count": 157,
   "metadata": {
    "collapsed": true
   },
   "outputs": [],
   "source": [
    "test.mat = model.matrix (SalePrice ~ ., data = data_housing[test ,])"
   ]
  },
  {
   "cell_type": "code",
   "execution_count": 164,
   "metadata": {
    "collapsed": true
   },
   "outputs": [],
   "source": [
    "val.error = rep(NA, 24)\n",
    "for(i in 1:24){\n",
    "    coefi = coef(regfit.best, id = i)\n",
    "    pred = test.mat[, names(coefi)] %*% coefi\n",
    "    val.error[i] = mean((data_housing$SalePrice[test] - pred)^2)\n",
    "}"
   ]
  },
  {
   "cell_type": "code",
   "execution_count": 166,
   "metadata": {
    "collapsed": false
   },
   "outputs": [
    {
     "data": {
      "text/html": [
       "19"
      ],
      "text/latex": [
       "19"
      ],
      "text/markdown": [
       "19"
      ],
      "text/plain": [
       "[1] 19"
      ]
     },
     "metadata": {},
     "output_type": "display_data"
    }
   ],
   "source": [
    "which.min(val.error)"
   ]
  },
  {
   "cell_type": "code",
   "execution_count": 167,
   "metadata": {
    "collapsed": false
   },
   "outputs": [
    {
     "data": {
      "text/html": [
       "<dl class=dl-horizontal>\n",
       "\t<dt>(Intercept)</dt>\n",
       "\t\t<dd>1472086.78367041</dd>\n",
       "\t<dt>MSSubClass</dt>\n",
       "\t\t<dd>-201.745577800891</dd>\n",
       "\t<dt>LotFrontage</dt>\n",
       "\t\t<dd>-275.613239706248</dd>\n",
       "\t<dt>LotArea</dt>\n",
       "\t\t<dd>0.257089021845358</dd>\n",
       "\t<dt>OverallQual</dt>\n",
       "\t\t<dd>19434.8329926106</dd>\n",
       "\t<dt>OverallCond</dt>\n",
       "\t\t<dd>5356.13917705164</dd>\n",
       "\t<dt>YearBuilt</dt>\n",
       "\t\t<dd>374.360482572197</dd>\n",
       "\t<dt>YearRemodAdd</dt>\n",
       "\t\t<dd>92.8785114691687</dd>\n",
       "\t<dt>MasVnrArea</dt>\n",
       "\t\t<dd>32.5188378363275</dd>\n",
       "\t<dt>TotalBsmtSF</dt>\n",
       "\t\t<dd>7.31085764653411</dd>\n",
       "\t<dt>X1stFlrSF</dt>\n",
       "\t\t<dd>57.4738880393721</dd>\n",
       "\t<dt>X2ndFlrSF</dt>\n",
       "\t\t<dd>46.1956656245355</dd>\n",
       "\t<dt>BedroomAbvGr</dt>\n",
       "\t\t<dd>-9427.44888970023</dd>\n",
       "\t<dt>KitchenAbvGr</dt>\n",
       "\t\t<dd>-15506.2295968522</dd>\n",
       "\t<dt>TotRmsAbvGrd</dt>\n",
       "\t\t<dd>6323.56464904784</dd>\n",
       "\t<dt>GarageArea</dt>\n",
       "\t\t<dd>41.8386030676066</dd>\n",
       "\t<dt>WoodDeckSF</dt>\n",
       "\t\t<dd>29.3613996815713</dd>\n",
       "\t<dt>OpenPorchSF</dt>\n",
       "\t\t<dd>-25.273762752838</dd>\n",
       "\t<dt>ScreenPorch</dt>\n",
       "\t\t<dd>88.8002011686489</dd>\n",
       "\t<dt>YrSold</dt>\n",
       "\t\t<dd>-1219.32487757469</dd>\n",
       "</dl>\n"
      ],
      "text/latex": [
       "\\begin{description*}\n",
       "\\item[(Intercept)] 1472086.78367041\n",
       "\\item[MSSubClass] -201.745577800891\n",
       "\\item[LotFrontage] -275.613239706248\n",
       "\\item[LotArea] 0.257089021845358\n",
       "\\item[OverallQual] 19434.8329926106\n",
       "\\item[OverallCond] 5356.13917705164\n",
       "\\item[YearBuilt] 374.360482572197\n",
       "\\item[YearRemodAdd] 92.8785114691687\n",
       "\\item[MasVnrArea] 32.5188378363275\n",
       "\\item[TotalBsmtSF] 7.31085764653411\n",
       "\\item[X1stFlrSF] 57.4738880393721\n",
       "\\item[X2ndFlrSF] 46.1956656245355\n",
       "\\item[BedroomAbvGr] -9427.44888970023\n",
       "\\item[KitchenAbvGr] -15506.2295968522\n",
       "\\item[TotRmsAbvGrd] 6323.56464904784\n",
       "\\item[GarageArea] 41.8386030676066\n",
       "\\item[WoodDeckSF] 29.3613996815713\n",
       "\\item[OpenPorchSF] -25.273762752838\n",
       "\\item[ScreenPorch] 88.8002011686489\n",
       "\\item[YrSold] -1219.32487757469\n",
       "\\end{description*}\n"
      ],
      "text/markdown": [
       "(Intercept)\n",
       ":   1472086.78367041MSSubClass\n",
       ":   -201.745577800891LotFrontage\n",
       ":   -275.613239706248LotArea\n",
       ":   0.257089021845358OverallQual\n",
       ":   19434.8329926106OverallCond\n",
       ":   5356.13917705164YearBuilt\n",
       ":   374.360482572197YearRemodAdd\n",
       ":   92.8785114691687MasVnrArea\n",
       ":   32.5188378363275TotalBsmtSF\n",
       ":   7.31085764653411X1stFlrSF\n",
       ":   57.4738880393721X2ndFlrSF\n",
       ":   46.1956656245355BedroomAbvGr\n",
       ":   -9427.44888970023KitchenAbvGr\n",
       ":   -15506.2295968522TotRmsAbvGrd\n",
       ":   6323.56464904784GarageArea\n",
       ":   41.8386030676066WoodDeckSF\n",
       ":   29.3613996815713OpenPorchSF\n",
       ":   -25.273762752838ScreenPorch\n",
       ":   88.8002011686489YrSold\n",
       ":   -1219.32487757469\n",
       "\n"
      ],
      "text/plain": [
       "  (Intercept)    MSSubClass   LotFrontage       LotArea   OverallQual \n",
       " 1.472087e+06 -2.017456e+02 -2.756132e+02  2.570890e-01  1.943483e+04 \n",
       "  OverallCond     YearBuilt  YearRemodAdd    MasVnrArea   TotalBsmtSF \n",
       " 5.356139e+03  3.743605e+02  9.287851e+01  3.251884e+01  7.310858e+00 \n",
       "    X1stFlrSF     X2ndFlrSF  BedroomAbvGr  KitchenAbvGr  TotRmsAbvGrd \n",
       " 5.747389e+01  4.619567e+01 -9.427449e+03 -1.550623e+04  6.323565e+03 \n",
       "   GarageArea    WoodDeckSF   OpenPorchSF   ScreenPorch        YrSold \n",
       " 4.183860e+01  2.936140e+01 -2.527376e+01  8.880020e+01 -1.219325e+03 "
      ]
     },
     "metadata": {},
     "output_type": "display_data"
    }
   ],
   "source": [
    "coef(regfit.best, 19)"
   ]
  },
  {
   "cell_type": "markdown",
   "metadata": {},
   "source": [
    "* k-fold Cross Validation"
   ]
  },
  {
   "cell_type": "code",
   "execution_count": null,
   "metadata": {
    "collapsed": true
   },
   "outputs": [],
   "source": []
  },
  {
   "cell_type": "code",
   "execution_count": 173,
   "metadata": {
    "collapsed": true
   },
   "outputs": [],
   "source": [
    "predict.regsubset = function(object, newdata, id){\n",
    "    form = as.formula(object$call[[2]])\n",
    "    mat = model.matrix(form, newdata)\n",
    "    coefi = coef(object, id = id)\n",
    "    xvar = names(coefi)\n",
    "    mat[, xvar] %*% coefi\n",
    "}"
   ]
  },
  {
   "cell_type": "code",
   "execution_count": 169,
   "metadata": {
    "collapsed": true
   },
   "outputs": [],
   "source": [
    "k = 10\n",
    "set.seed(10)\n",
    "folds = sample(1:k, nrow(data_housing), replace = TRUE)\n",
    "cv.error = matrix(NA, k, 24, dimnames = list(NULL, paste (1:24)))"
   ]
  },
  {
   "cell_type": "code",
   "execution_count": 177,
   "metadata": {
    "collapsed": true
   },
   "outputs": [],
   "source": [
    "for(j in 1:k){\n",
    "    regfit.best = regsubsets(SalePrice ~ ., data = data_housing[folds != j,], \n",
    "                             nvmax =24)\n",
    "    for (i in 1:24){\n",
    "        pred = predict.regsubset(regfit.best, data_housing[folds == j,], id = i)\n",
    "        cv.error[j, i] = mean((data_housing$SalePrice[folds == j] - pred)^2)\n",
    "    }\n",
    "}"
   ]
  },
  {
   "cell_type": "code",
   "execution_count": null,
   "metadata": {
    "collapsed": true
   },
   "outputs": [],
   "source": []
  },
  {
   "cell_type": "code",
   "execution_count": 178,
   "metadata": {
    "collapsed": false
   },
   "outputs": [
    {
     "data": {
      "text/html": [
       "<table>\n",
       "<thead><tr><th scope=col>1</th><th scope=col>2</th><th scope=col>3</th><th scope=col>4</th><th scope=col>5</th><th scope=col>6</th><th scope=col>7</th><th scope=col>8</th><th scope=col>9</th><th scope=col>10</th><th scope=col>⋯</th><th scope=col>15</th><th scope=col>16</th><th scope=col>17</th><th scope=col>18</th><th scope=col>19</th><th scope=col>20</th><th scope=col>21</th><th scope=col>22</th><th scope=col>23</th><th scope=col>24</th></tr></thead>\n",
       "<tbody>\n",
       "\t<tr><td>2332458090</td><td>1799598146</td><td>1403941261</td><td>1510858606</td><td>1337088943</td><td>1297074251</td><td>1274630778</td><td>1266491173</td><td>1193118661</td><td>1100997482</td><td>⋯         </td><td>1072042462</td><td>1079684542</td><td>1080221734</td><td>1075179969</td><td>1075658827</td><td>1075988311</td><td>1075633744</td><td>1078505159</td><td>1082858710</td><td>1082847895</td></tr>\n",
       "\t<tr><td>2199365420</td><td>1549194739</td><td>1393681811</td><td>1297054646</td><td>1242581120</td><td>1191767407</td><td>1112081197</td><td>1101220030</td><td>1058555259</td><td>1013753351</td><td>⋯         </td><td> 950973150</td><td> 957810224</td><td> 970364109</td><td> 965711633</td><td> 968624805</td><td> 965664587</td><td> 974855696</td><td> 975093471</td><td> 978339862</td><td> 975254365</td></tr>\n",
       "\t<tr><td>3155200387</td><td>3110878790</td><td>3887873270</td><td>3811964597</td><td>3711948214</td><td>3678382685</td><td>3808014950</td><td>3657643297</td><td>3635307426</td><td>4203676032</td><td>⋯         </td><td>4435449380</td><td>4407267590</td><td>4314370123</td><td>4319557747</td><td>4300016369</td><td>4304653361</td><td>4310066220</td><td>4306733461</td><td>4309137010</td><td>4310377301</td></tr>\n",
       "\t<tr><td>2409878406</td><td>1653612768</td><td>1540430556</td><td>1334936556</td><td>1325587916</td><td>1228307263</td><td>1209399527</td><td>1178019225</td><td>1045914215</td><td> 946349554</td><td>⋯         </td><td> 944949976</td><td> 960873855</td><td> 975121412</td><td> 970395982</td><td> 972614491</td><td> 975238090</td><td> 974454744</td><td> 969612855</td><td> 970527706</td><td> 970517699</td></tr>\n",
       "\t<tr><td>3102326741</td><td>1972092302</td><td>1694098352</td><td>1700303722</td><td>1603825907</td><td>1586111348</td><td>1565913832</td><td>1540925160</td><td>1462519242</td><td>1417246380</td><td>⋯         </td><td>1876842684</td><td>1889279901</td><td>1902423268</td><td>1906288302</td><td>1915005235</td><td>1922028784</td><td>1924617837</td><td>1915451581</td><td>1919034324</td><td>1923862285</td></tr>\n",
       "\t<tr><td>1557207885</td><td>1260670030</td><td>1127397042</td><td>1046299153</td><td> 987905313</td><td> 955459105</td><td> 947083093</td><td> 929590903</td><td> 919364253</td><td> 862982010</td><td>⋯         </td><td> 868736829</td><td> 876673928</td><td> 879078570</td><td> 879384900</td><td> 879991988</td><td> 882639812</td><td> 874563639</td><td> 872154416</td><td> 873350347</td><td> 874381514</td></tr>\n",
       "\t<tr><td>2888317863</td><td>1768374072</td><td>1558849430</td><td>1691110742</td><td>1671441414</td><td>1537501519</td><td>1505520569</td><td>1396221918</td><td>1378620134</td><td>1291349564</td><td>⋯         </td><td>1313662123</td><td>1287977320</td><td>1321377540</td><td>1328677554</td><td>1339833537</td><td>1338047242</td><td>1344324689</td><td>1341180266</td><td>1335788035</td><td>1336884279</td></tr>\n",
       "\t<tr><td>1906639842</td><td>1466599878</td><td>1406796176</td><td>1190798406</td><td>1122041895</td><td>1151036118</td><td>1164486805</td><td>1101782475</td><td>1020639542</td><td> 944095716</td><td>⋯         </td><td> 899625503</td><td> 912911728</td><td> 913316469</td><td> 917670761</td><td> 914632584</td><td> 919181391</td><td> 919049316</td><td> 918988676</td><td> 919063548</td><td> 919217864</td></tr>\n",
       "\t<tr><td>1938083706</td><td>1327242231</td><td>1111119075</td><td>1064447541</td><td>1079063110</td><td>1050086422</td><td>1006626082</td><td> 930151893</td><td> 894766487</td><td> 830853030</td><td>⋯         </td><td> 790247612</td><td> 788313307</td><td> 787061823</td><td> 780409237</td><td> 780000956</td><td> 780281337</td><td> 782186272</td><td> 779298764</td><td> 781171323</td><td> 778216404</td></tr>\n",
       "\t<tr><td>2189168567</td><td>2240652049</td><td>2144550957</td><td>1935601957</td><td>1884401421</td><td>1882927498</td><td>1897518981</td><td>1840780981</td><td>1833033055</td><td>1738248391</td><td>⋯         </td><td>1637167217</td><td>1653710645</td><td>1660681940</td><td>1674579946</td><td>1674901988</td><td>1674022944</td><td>1670981641</td><td>1669777087</td><td>1672472771</td><td>1673140906</td></tr>\n",
       "</tbody>\n",
       "</table>\n"
      ],
      "text/latex": [
       "\\begin{tabular}{llllllllllllllllllllllll}\n",
       " 1 & 2 & 3 & 4 & 5 & 6 & 7 & 8 & 9 & 10 & ⋯ & 15 & 16 & 17 & 18 & 19 & 20 & 21 & 22 & 23 & 24\\\\\n",
       "\\hline\n",
       "\t 2332458090 & 1799598146 & 1403941261 & 1510858606 & 1337088943 & 1297074251 & 1274630778 & 1266491173 & 1193118661 & 1100997482 & ⋯          & 1072042462 & 1079684542 & 1080221734 & 1075179969 & 1075658827 & 1075988311 & 1075633744 & 1078505159 & 1082858710 & 1082847895\\\\\n",
       "\t 2199365420 & 1549194739 & 1393681811 & 1297054646 & 1242581120 & 1191767407 & 1112081197 & 1101220030 & 1058555259 & 1013753351 & ⋯          &  950973150 &  957810224 &  970364109 &  965711633 &  968624805 &  965664587 &  974855696 &  975093471 &  978339862 &  975254365\\\\\n",
       "\t 3155200387 & 3110878790 & 3887873270 & 3811964597 & 3711948214 & 3678382685 & 3808014950 & 3657643297 & 3635307426 & 4203676032 & ⋯          & 4435449380 & 4407267590 & 4314370123 & 4319557747 & 4300016369 & 4304653361 & 4310066220 & 4306733461 & 4309137010 & 4310377301\\\\\n",
       "\t 2409878406 & 1653612768 & 1540430556 & 1334936556 & 1325587916 & 1228307263 & 1209399527 & 1178019225 & 1045914215 &  946349554 & ⋯          &  944949976 &  960873855 &  975121412 &  970395982 &  972614491 &  975238090 &  974454744 &  969612855 &  970527706 &  970517699\\\\\n",
       "\t 3102326741 & 1972092302 & 1694098352 & 1700303722 & 1603825907 & 1586111348 & 1565913832 & 1540925160 & 1462519242 & 1417246380 & ⋯          & 1876842684 & 1889279901 & 1902423268 & 1906288302 & 1915005235 & 1922028784 & 1924617837 & 1915451581 & 1919034324 & 1923862285\\\\\n",
       "\t 1557207885 & 1260670030 & 1127397042 & 1046299153 &  987905313 &  955459105 &  947083093 &  929590903 &  919364253 &  862982010 & ⋯          &  868736829 &  876673928 &  879078570 &  879384900 &  879991988 &  882639812 &  874563639 &  872154416 &  873350347 &  874381514\\\\\n",
       "\t 2888317863 & 1768374072 & 1558849430 & 1691110742 & 1671441414 & 1537501519 & 1505520569 & 1396221918 & 1378620134 & 1291349564 & ⋯          & 1313662123 & 1287977320 & 1321377540 & 1328677554 & 1339833537 & 1338047242 & 1344324689 & 1341180266 & 1335788035 & 1336884279\\\\\n",
       "\t 1906639842 & 1466599878 & 1406796176 & 1190798406 & 1122041895 & 1151036118 & 1164486805 & 1101782475 & 1020639542 &  944095716 & ⋯          &  899625503 &  912911728 &  913316469 &  917670761 &  914632584 &  919181391 &  919049316 &  918988676 &  919063548 &  919217864\\\\\n",
       "\t 1938083706 & 1327242231 & 1111119075 & 1064447541 & 1079063110 & 1050086422 & 1006626082 &  930151893 &  894766487 &  830853030 & ⋯          &  790247612 &  788313307 &  787061823 &  780409237 &  780000956 &  780281337 &  782186272 &  779298764 &  781171323 &  778216404\\\\\n",
       "\t 2189168567 & 2240652049 & 2144550957 & 1935601957 & 1884401421 & 1882927498 & 1897518981 & 1840780981 & 1833033055 & 1738248391 & ⋯          & 1637167217 & 1653710645 & 1660681940 & 1674579946 & 1674901988 & 1674022944 & 1670981641 & 1669777087 & 1672472771 & 1673140906\\\\\n",
       "\\end{tabular}\n"
      ],
      "text/markdown": [
       "\n",
       "1 | 2 | 3 | 4 | 5 | 6 | 7 | 8 | 9 | 10 | ⋯ | 15 | 16 | 17 | 18 | 19 | 20 | 21 | 22 | 23 | 24 | \n",
       "|---|---|---|---|---|---|---|---|---|---|\n",
       "| 2332458090 | 1799598146 | 1403941261 | 1510858606 | 1337088943 | 1297074251 | 1274630778 | 1266491173 | 1193118661 | 1100997482 | ⋯          | 1072042462 | 1079684542 | 1080221734 | 1075179969 | 1075658827 | 1075988311 | 1075633744 | 1078505159 | 1082858710 | 1082847895 | \n",
       "| 2199365420 | 1549194739 | 1393681811 | 1297054646 | 1242581120 | 1191767407 | 1112081197 | 1101220030 | 1058555259 | 1013753351 | ⋯          |  950973150 |  957810224 |  970364109 |  965711633 |  968624805 |  965664587 |  974855696 |  975093471 |  978339862 |  975254365 | \n",
       "| 3155200387 | 3110878790 | 3887873270 | 3811964597 | 3711948214 | 3678382685 | 3808014950 | 3657643297 | 3635307426 | 4203676032 | ⋯          | 4435449380 | 4407267590 | 4314370123 | 4319557747 | 4300016369 | 4304653361 | 4310066220 | 4306733461 | 4309137010 | 4310377301 | \n",
       "| 2409878406 | 1653612768 | 1540430556 | 1334936556 | 1325587916 | 1228307263 | 1209399527 | 1178019225 | 1045914215 |  946349554 | ⋯          |  944949976 |  960873855 |  975121412 |  970395982 |  972614491 |  975238090 |  974454744 |  969612855 |  970527706 |  970517699 | \n",
       "| 3102326741 | 1972092302 | 1694098352 | 1700303722 | 1603825907 | 1586111348 | 1565913832 | 1540925160 | 1462519242 | 1417246380 | ⋯          | 1876842684 | 1889279901 | 1902423268 | 1906288302 | 1915005235 | 1922028784 | 1924617837 | 1915451581 | 1919034324 | 1923862285 | \n",
       "| 1557207885 | 1260670030 | 1127397042 | 1046299153 |  987905313 |  955459105 |  947083093 |  929590903 |  919364253 |  862982010 | ⋯          |  868736829 |  876673928 |  879078570 |  879384900 |  879991988 |  882639812 |  874563639 |  872154416 |  873350347 |  874381514 | \n",
       "| 2888317863 | 1768374072 | 1558849430 | 1691110742 | 1671441414 | 1537501519 | 1505520569 | 1396221918 | 1378620134 | 1291349564 | ⋯          | 1313662123 | 1287977320 | 1321377540 | 1328677554 | 1339833537 | 1338047242 | 1344324689 | 1341180266 | 1335788035 | 1336884279 | \n",
       "| 1906639842 | 1466599878 | 1406796176 | 1190798406 | 1122041895 | 1151036118 | 1164486805 | 1101782475 | 1020639542 |  944095716 | ⋯          |  899625503 |  912911728 |  913316469 |  917670761 |  914632584 |  919181391 |  919049316 |  918988676 |  919063548 |  919217864 | \n",
       "| 1938083706 | 1327242231 | 1111119075 | 1064447541 | 1079063110 | 1050086422 | 1006626082 |  930151893 |  894766487 |  830853030 | ⋯          |  790247612 |  788313307 |  787061823 |  780409237 |  780000956 |  780281337 |  782186272 |  779298764 |  781171323 |  778216404 | \n",
       "| 2189168567 | 2240652049 | 2144550957 | 1935601957 | 1884401421 | 1882927498 | 1897518981 | 1840780981 | 1833033055 | 1738248391 | ⋯          | 1637167217 | 1653710645 | 1660681940 | 1674579946 | 1674901988 | 1674022944 | 1670981641 | 1669777087 | 1672472771 | 1673140906 | \n",
       "\n",
       "\n"
      ],
      "text/plain": [
       "      1          2          3          4          5          6         \n",
       " [1,] 2332458090 1799598146 1403941261 1510858606 1337088943 1297074251\n",
       " [2,] 2199365420 1549194739 1393681811 1297054646 1242581120 1191767407\n",
       " [3,] 3155200387 3110878790 3887873270 3811964597 3711948214 3678382685\n",
       " [4,] 2409878406 1653612768 1540430556 1334936556 1325587916 1228307263\n",
       " [5,] 3102326741 1972092302 1694098352 1700303722 1603825907 1586111348\n",
       " [6,] 1557207885 1260670030 1127397042 1046299153  987905313  955459105\n",
       " [7,] 2888317863 1768374072 1558849430 1691110742 1671441414 1537501519\n",
       " [8,] 1906639842 1466599878 1406796176 1190798406 1122041895 1151036118\n",
       " [9,] 1938083706 1327242231 1111119075 1064447541 1079063110 1050086422\n",
       "[10,] 2189168567 2240652049 2144550957 1935601957 1884401421 1882927498\n",
       "      7          8          9          10         ⋯ 15         16        \n",
       " [1,] 1274630778 1266491173 1193118661 1100997482 ⋯ 1072042462 1079684542\n",
       " [2,] 1112081197 1101220030 1058555259 1013753351 ⋯  950973150  957810224\n",
       " [3,] 3808014950 3657643297 3635307426 4203676032 ⋯ 4435449380 4407267590\n",
       " [4,] 1209399527 1178019225 1045914215  946349554 ⋯  944949976  960873855\n",
       " [5,] 1565913832 1540925160 1462519242 1417246380 ⋯ 1876842684 1889279901\n",
       " [6,]  947083093  929590903  919364253  862982010 ⋯  868736829  876673928\n",
       " [7,] 1505520569 1396221918 1378620134 1291349564 ⋯ 1313662123 1287977320\n",
       " [8,] 1164486805 1101782475 1020639542  944095716 ⋯  899625503  912911728\n",
       " [9,] 1006626082  930151893  894766487  830853030 ⋯  790247612  788313307\n",
       "[10,] 1897518981 1840780981 1833033055 1738248391 ⋯ 1637167217 1653710645\n",
       "      17         18         19         20         21         22        \n",
       " [1,] 1080221734 1075179969 1075658827 1075988311 1075633744 1078505159\n",
       " [2,]  970364109  965711633  968624805  965664587  974855696  975093471\n",
       " [3,] 4314370123 4319557747 4300016369 4304653361 4310066220 4306733461\n",
       " [4,]  975121412  970395982  972614491  975238090  974454744  969612855\n",
       " [5,] 1902423268 1906288302 1915005235 1922028784 1924617837 1915451581\n",
       " [6,]  879078570  879384900  879991988  882639812  874563639  872154416\n",
       " [7,] 1321377540 1328677554 1339833537 1338047242 1344324689 1341180266\n",
       " [8,]  913316469  917670761  914632584  919181391  919049316  918988676\n",
       " [9,]  787061823  780409237  780000956  780281337  782186272  779298764\n",
       "[10,] 1660681940 1674579946 1674901988 1674022944 1670981641 1669777087\n",
       "      23         24        \n",
       " [1,] 1082858710 1082847895\n",
       " [2,]  978339862  975254365\n",
       " [3,] 4309137010 4310377301\n",
       " [4,]  970527706  970517699\n",
       " [5,] 1919034324 1923862285\n",
       " [6,]  873350347  874381514\n",
       " [7,] 1335788035 1336884279\n",
       " [8,]  919063548  919217864\n",
       " [9,]  781171323  778216404\n",
       "[10,] 1672472771 1673140906"
      ]
     },
     "metadata": {},
     "output_type": "display_data"
    }
   ],
   "source": [
    "cv.error"
   ]
  },
  {
   "cell_type": "code",
   "execution_count": 180,
   "metadata": {
    "collapsed": false
   },
   "outputs": [
    {
     "data": {
      "text/html": [
       "<strong>10:</strong> 10"
      ],
      "text/latex": [
       "\\textbf{10:} 10"
      ],
      "text/markdown": [
       "**10:** 10"
      ],
      "text/plain": [
       "10 \n",
       "10 "
      ]
     },
     "metadata": {},
     "output_type": "display_data"
    }
   ],
   "source": [
    "which.min(colMeans(cv.error))"
   ]
  },
  {
   "cell_type": "code",
   "execution_count": 182,
   "metadata": {
    "collapsed": false
   },
   "outputs": [
    {
     "data": {
      "text/html": [
       "<ol class=list-inline>\n",
       "\t<li>'(Intercept)'</li>\n",
       "\t<li>'MSSubClass'</li>\n",
       "\t<li>'LotArea'</li>\n",
       "\t<li>'OverallQual'</li>\n",
       "\t<li>'OverallCond'</li>\n",
       "\t<li>'YearBuilt'</li>\n",
       "\t<li>'MasVnrArea'</li>\n",
       "\t<li>'TotalBsmtSF'</li>\n",
       "\t<li>'GrLivArea'</li>\n",
       "\t<li>'BedroomAbvGr'</li>\n",
       "\t<li>'GarageArea'</li>\n",
       "</ol>\n"
      ],
      "text/latex": [
       "\\begin{enumerate*}\n",
       "\\item '(Intercept)'\n",
       "\\item 'MSSubClass'\n",
       "\\item 'LotArea'\n",
       "\\item 'OverallQual'\n",
       "\\item 'OverallCond'\n",
       "\\item 'YearBuilt'\n",
       "\\item 'MasVnrArea'\n",
       "\\item 'TotalBsmtSF'\n",
       "\\item 'GrLivArea'\n",
       "\\item 'BedroomAbvGr'\n",
       "\\item 'GarageArea'\n",
       "\\end{enumerate*}\n"
      ],
      "text/markdown": [
       "1. '(Intercept)'\n",
       "2. 'MSSubClass'\n",
       "3. 'LotArea'\n",
       "4. 'OverallQual'\n",
       "5. 'OverallCond'\n",
       "6. 'YearBuilt'\n",
       "7. 'MasVnrArea'\n",
       "8. 'TotalBsmtSF'\n",
       "9. 'GrLivArea'\n",
       "10. 'BedroomAbvGr'\n",
       "11. 'GarageArea'\n",
       "\n",
       "\n"
      ],
      "text/plain": [
       " [1] \"(Intercept)\"  \"MSSubClass\"   \"LotArea\"      \"OverallQual\"  \"OverallCond\" \n",
       " [6] \"YearBuilt\"    \"MasVnrArea\"   \"TotalBsmtSF\"  \"GrLivArea\"    \"BedroomAbvGr\"\n",
       "[11] \"GarageArea\"  "
      ]
     },
     "metadata": {},
     "output_type": "display_data"
    }
   ],
   "source": [
    "names(coef(regfit.best, 10))"
   ]
  },
  {
   "cell_type": "code",
   "execution_count": null,
   "metadata": {
    "collapsed": true
   },
   "outputs": [],
   "source": []
  },
  {
   "cell_type": "code",
   "execution_count": null,
   "metadata": {
    "collapsed": true
   },
   "outputs": [],
   "source": []
  },
  {
   "cell_type": "markdown",
   "metadata": {},
   "source": [
    "### Lasso Regression"
   ]
  },
  {
   "cell_type": "code",
   "execution_count": 107,
   "metadata": {
    "collapsed": false
   },
   "outputs": [
    {
     "name": "stderr",
     "output_type": "stream",
     "text": [
      "Loading required package: Matrix\n",
      "Loading required package: foreach\n",
      "Loaded glmnet 2.0-5\n",
      "\n"
     ]
    }
   ],
   "source": [
    "library(glmnet)"
   ]
  },
  {
   "cell_type": "code",
   "execution_count": 108,
   "metadata": {
    "collapsed": true
   },
   "outputs": [],
   "source": [
    "x = model.matrix(SalePrice ~ ., data_housing)[, -1]\n",
    "y = data_housing$SalePrice"
   ]
  },
  {
   "cell_type": "code",
   "execution_count": 115,
   "metadata": {
    "collapsed": true
   },
   "outputs": [],
   "source": [
    "grid = c(10000, 3000, 1000, 300, 100, 30, 10, 3, 1, 0.3, 0.1,0.03,0.01,0.003,0.001,0.0003,0.0001)\n",
    "lasso.mod = glmnet(x, y, alpha = 1, lambda = grid, standardize = TRUE) # LASSO alpha 1, RIDGE alpha 0\n",
    "# lakukan terlebih dahulu standardize"
   ]
  },
  {
   "cell_type": "code",
   "execution_count": 116,
   "metadata": {
    "collapsed": false
   },
   "outputs": [
    {
     "data": {
      "text/plain": [
       "\n",
       "Call:  glmnet(x = x, y = y, alpha = 1, lambda = grid, standardize = TRUE) \n",
       "\n",
       "      Df   %Dev Lambda\n",
       " [1,]  0 0.0000  1e+04\n",
       " [2,]  0 0.0000  3e+03\n",
       " [3,]  0 0.0000  1e+03\n",
       " [4,]  0 0.0000  3e+02\n",
       " [5,]  0 0.0000  1e+02\n",
       " [6,]  0 0.0000  3e+01\n",
       " [7,]  0 0.0000  1e+01\n",
       " [8,]  0 0.0000  3e+00\n",
       " [9,]  0 0.0000  1e+00\n",
       "[10,]  1 0.1034  3e-01\n",
       "[11,]  5 0.6934  1e-01\n",
       "[12,] 10 0.8134  3e-02\n",
       "[13,] 15 0.8451  1e-02\n",
       "[14,] 18 0.8511  3e-03\n",
       "[15,] 23 0.8519  1e-03\n",
       "[16,] 24 0.8521  3e-04\n",
       "[17,] 24 0.8522  1e-04"
      ]
     },
     "metadata": {},
     "output_type": "display_data"
    }
   ],
   "source": [
    "lasso.mod"
   ]
  },
  {
   "cell_type": "markdown",
   "metadata": {},
   "source": [
    "* Validation Set"
   ]
  },
  {
   "cell_type": "code",
   "execution_count": 117,
   "metadata": {
    "collapsed": true
   },
   "outputs": [],
   "source": [
    "train = sample(c(TRUE, FALSE), nrow(data_housing), rep = TRUE)\n",
    "test = (!train)"
   ]
  },
  {
   "cell_type": "code",
   "execution_count": 118,
   "metadata": {
    "collapsed": true
   },
   "outputs": [],
   "source": [
    "y.test = y[test]"
   ]
  },
  {
   "cell_type": "code",
   "execution_count": 125,
   "metadata": {
    "collapsed": true
   },
   "outputs": [],
   "source": [
    "grid = c(10000, 3000, 1000, 300, 100, 30, 10, 3, 1, 0.3, 0.1,0.03,0.01,0.003,0.001,0.0003,0.0001)\n",
    "lasso.mod = glmnet(x[train, ], y[train], alpha = 1, lambda = grid, standardize = TRUE)"
   ]
  },
  {
   "cell_type": "code",
   "execution_count": 126,
   "metadata": {
    "collapsed": true
   },
   "outputs": [],
   "source": [
    "lasso.score <- rep(NA, length(grid))\n",
    "for (i in 1:length(grid)){\n",
    "    lasso.pred = predict(lasso.mod, s = grid[i], newx = x[test, ])\n",
    "    lasso.score[i] = mean((lasso.pred - y.test)^2)\n",
    "}"
   ]
  },
  {
   "cell_type": "markdown",
   "metadata": {},
   "source": [
    "* K-Fold Cross Validation"
   ]
  },
  {
   "cell_type": "code",
   "execution_count": 127,
   "metadata": {
    "collapsed": true
   },
   "outputs": [],
   "source": [
    "set.seed(1)\n",
    "lasso.cv = cv.glmnet(x, y, alpha = 1, lambda = grid, standardize = TRUE)\n",
    "bestlam = lasso.cv$lambda.min"
   ]
  },
  {
   "cell_type": "code",
   "execution_count": 134,
   "metadata": {
    "collapsed": false
   },
   "outputs": [
    {
     "data": {
      "text/html": [
       "<ol class=list-inline>\n",
       "\t<li>10000</li>\n",
       "\t<li>3000</li>\n",
       "\t<li>1000</li>\n",
       "\t<li>300</li>\n",
       "\t<li>100</li>\n",
       "\t<li>30</li>\n",
       "\t<li>10</li>\n",
       "\t<li>3</li>\n",
       "\t<li>1</li>\n",
       "\t<li>0.3</li>\n",
       "\t<li>0.1</li>\n",
       "\t<li>0.03</li>\n",
       "\t<li>0.01</li>\n",
       "\t<li>0.003</li>\n",
       "\t<li>0.001</li>\n",
       "\t<li>3e-04</li>\n",
       "\t<li>1e-04</li>\n",
       "</ol>\n"
      ],
      "text/latex": [
       "\\begin{enumerate*}\n",
       "\\item 10000\n",
       "\\item 3000\n",
       "\\item 1000\n",
       "\\item 300\n",
       "\\item 100\n",
       "\\item 30\n",
       "\\item 10\n",
       "\\item 3\n",
       "\\item 1\n",
       "\\item 0.3\n",
       "\\item 0.1\n",
       "\\item 0.03\n",
       "\\item 0.01\n",
       "\\item 0.003\n",
       "\\item 0.001\n",
       "\\item 3e-04\n",
       "\\item 1e-04\n",
       "\\end{enumerate*}\n"
      ],
      "text/markdown": [
       "1. 10000\n",
       "2. 3000\n",
       "3. 1000\n",
       "4. 300\n",
       "5. 100\n",
       "6. 30\n",
       "7. 10\n",
       "8. 3\n",
       "9. 1\n",
       "10. 0.3\n",
       "11. 0.1\n",
       "12. 0.03\n",
       "13. 0.01\n",
       "14. 0.003\n",
       "15. 0.001\n",
       "16. 3e-04\n",
       "17. 1e-04\n",
       "\n",
       "\n"
      ],
      "text/plain": [
       " [1] 1e+04 3e+03 1e+03 3e+02 1e+02 3e+01 1e+01 3e+00 1e+00 3e-01 1e-01 3e-02\n",
       "[13] 1e-02 3e-03 1e-03 3e-04 1e-04"
      ]
     },
     "metadata": {},
     "output_type": "display_data"
    }
   ],
   "source": [
    "lasso.cv$lambda"
   ]
  },
  {
   "cell_type": "code",
   "execution_count": 133,
   "metadata": {
    "collapsed": false
   },
   "outputs": [
    {
     "data": {
      "text/html": [
       "<ol class=list-inline>\n",
       "\t<li>0.15955038480816</li>\n",
       "\t<li>0.15955038480816</li>\n",
       "\t<li>0.15955038480816</li>\n",
       "\t<li>0.15955038480816</li>\n",
       "\t<li>0.15955038480816</li>\n",
       "\t<li>0.15955038480816</li>\n",
       "\t<li>0.15955038480816</li>\n",
       "\t<li>0.15955038480816</li>\n",
       "\t<li>0.15955038480816</li>\n",
       "\t<li>0.143293003968448</li>\n",
       "\t<li>0.0499315186654654</li>\n",
       "\t<li>0.0313153159210733</li>\n",
       "\t<li>0.0271868622349028</li>\n",
       "\t<li>0.0269636135981849</li>\n",
       "\t<li>0.0272316567603859</li>\n",
       "\t<li>0.0274278728690021</li>\n",
       "\t<li>0.0274776356632355</li>\n",
       "</ol>\n"
      ],
      "text/latex": [
       "\\begin{enumerate*}\n",
       "\\item 0.15955038480816\n",
       "\\item 0.15955038480816\n",
       "\\item 0.15955038480816\n",
       "\\item 0.15955038480816\n",
       "\\item 0.15955038480816\n",
       "\\item 0.15955038480816\n",
       "\\item 0.15955038480816\n",
       "\\item 0.15955038480816\n",
       "\\item 0.15955038480816\n",
       "\\item 0.143293003968448\n",
       "\\item 0.0499315186654654\n",
       "\\item 0.0313153159210733\n",
       "\\item 0.0271868622349028\n",
       "\\item 0.0269636135981849\n",
       "\\item 0.0272316567603859\n",
       "\\item 0.0274278728690021\n",
       "\\item 0.0274776356632355\n",
       "\\end{enumerate*}\n"
      ],
      "text/markdown": [
       "1. 0.15955038480816\n",
       "2. 0.15955038480816\n",
       "3. 0.15955038480816\n",
       "4. 0.15955038480816\n",
       "5. 0.15955038480816\n",
       "6. 0.15955038480816\n",
       "7. 0.15955038480816\n",
       "8. 0.15955038480816\n",
       "9. 0.15955038480816\n",
       "10. 0.143293003968448\n",
       "11. 0.0499315186654654\n",
       "12. 0.0313153159210733\n",
       "13. 0.0271868622349028\n",
       "14. 0.0269636135981849\n",
       "15. 0.0272316567603859\n",
       "16. 0.0274278728690021\n",
       "17. 0.0274776356632355\n",
       "\n",
       "\n"
      ],
      "text/plain": [
       " [1] 0.15955038 0.15955038 0.15955038 0.15955038 0.15955038 0.15955038\n",
       " [7] 0.15955038 0.15955038 0.15955038 0.14329300 0.04993152 0.03131532\n",
       "[13] 0.02718686 0.02696361 0.02723166 0.02742787 0.02747764"
      ]
     },
     "metadata": {},
     "output_type": "display_data"
    }
   ],
   "source": [
    "lasso.cv$cvm"
   ]
  },
  {
   "cell_type": "code",
   "execution_count": 128,
   "metadata": {
    "collapsed": false
   },
   "outputs": [
    {
     "data": {
      "text/html": [
       "0.003"
      ],
      "text/latex": [
       "0.003"
      ],
      "text/markdown": [
       "0.003"
      ],
      "text/plain": [
       "[1] 0.003"
      ]
     },
     "metadata": {},
     "output_type": "display_data"
    }
   ],
   "source": [
    "bestlam"
   ]
  },
  {
   "cell_type": "code",
   "execution_count": 129,
   "metadata": {
    "collapsed": true
   },
   "outputs": [],
   "source": [
    "lasso.best = glmnet(x, y, alpha = 1, lambda = bestlam, standardize = TRUE)"
   ]
  },
  {
   "cell_type": "code",
   "execution_count": 131,
   "metadata": {
    "collapsed": true
   },
   "outputs": [],
   "source": [
    "?glmnet"
   ]
  },
  {
   "cell_type": "code",
   "execution_count": 130,
   "metadata": {
    "collapsed": false
   },
   "outputs": [
    {
     "data": {
      "text/plain": [
       "24 x 1 sparse Matrix of class \"dgCMatrix\"\n",
       "                         s0\n",
       "MSSubClass    -4.021396e-04\n",
       "LotFrontage    .           \n",
       "LotArea        2.554528e-06\n",
       "OverallQual    9.182485e-02\n",
       "OverallCond    4.553402e-02\n",
       "YearBuilt      3.303338e-03\n",
       "YearRemodAdd   1.060495e-03\n",
       "MasVnrArea     .           \n",
       "TotalBsmtSF    6.669000e-05\n",
       "X1stFlrSF      4.180493e-05\n",
       "X2ndFlrSF      .           \n",
       "GrLivArea      2.105542e-04\n",
       "BedroomAbvGr   .           \n",
       "KitchenAbvGr  -5.175899e-02\n",
       "TotRmsAbvGrd   1.149013e-02\n",
       "GarageArea     2.129409e-04\n",
       "WoodDeckSF     1.585702e-04\n",
       "OpenPorchSF    .           \n",
       "EnclosedPorch  8.745766e-05\n",
       "X3SsnPorch     1.328557e-04\n",
       "ScreenPorch    3.991919e-04\n",
       "PoolArea      -2.996309e-04\n",
       "MoSold         .           \n",
       "YrSold        -3.410569e-03"
      ]
     },
     "metadata": {},
     "output_type": "display_data"
    }
   ],
   "source": [
    "lasso.best$beta"
   ]
  },
  {
   "cell_type": "code",
   "execution_count": 132,
   "metadata": {
    "collapsed": false
   },
   "outputs": [
    {
     "data": {
      "text/html": [
       "<strong>s0:</strong> 8.85506823665475"
      ],
      "text/latex": [
       "\\textbf{s0:} 8.85506823665475"
      ],
      "text/markdown": [
       "**s0:** 8.85506823665475"
      ],
      "text/plain": [
       "      s0 \n",
       "8.855068 "
      ]
     },
     "metadata": {},
     "output_type": "display_data"
    }
   ],
   "source": [
    "lasso.best$a0"
   ]
  },
  {
   "cell_type": "code",
   "execution_count": null,
   "metadata": {
    "collapsed": true
   },
   "outputs": [],
   "source": []
  }
 ],
 "metadata": {
  "kernelspec": {
   "display_name": "R",
   "language": "R",
   "name": "ir"
  },
  "language_info": {
   "codemirror_mode": "r",
   "file_extension": ".r",
   "mimetype": "text/x-r-source",
   "name": "R",
   "pygments_lexer": "r",
   "version": "3.3.2"
  }
 },
 "nbformat": 4,
 "nbformat_minor": 2
}
